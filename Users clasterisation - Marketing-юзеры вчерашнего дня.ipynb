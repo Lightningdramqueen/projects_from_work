{
 "cells": [
  {
   "cell_type": "code",
   "execution_count": 1,
   "metadata": {},
   "outputs": [],
   "source": [
    "import numpy as np\n",
    "import seaborn as sns\n",
    "import matplotlib.pyplot as plt\n",
    "sns.set_style(\"darkgrid\")\n",
    "sns.set(rc={'figure.figsize':(12,7)})"
   ]
  },
  {
   "cell_type": "code",
   "execution_count": 13,
   "metadata": {},
   "outputs": [
    {
     "data": {
      "text/html": [
       "<style>.container { width:85% !important; }</style>"
      ],
      "text/plain": [
       "<IPython.core.display.HTML object>"
      ]
     },
     "metadata": {},
     "output_type": "display_data"
    }
   ],
   "source": [
    "import sqlalchemy\n",
    "import pandas as pd\n",
    "import os\n",
    "import datetime\n",
    "from tqdm.notebook import tqdm as tqdm_notebook\n",
    "#import mmh3\n",
    "import seaborn as sns\n",
    "\n",
    "from sqlalchemy import create_engine\n",
    "\n",
    "from google.cloud import bigquery\n",
    "from google.oauth2 import service_account\n",
    "import pandas_gbq\n",
    "\n",
    "from clickhouse_sqlalchemy import make_session\n",
    "from urllib.parse import quote\n",
    "\n",
    "from IPython.core.display import display, HTML\n",
    "display(HTML(\"<style>.container { width:85% !important; }</style>\"))"
   ]
  },
  {
   "cell_type": "code",
   "execution_count": 14,
   "metadata": {},
   "outputs": [],
   "source": [
    "def get_gbq_data(query):\n",
    "    project = 'lentochka-9bb50' \n",
    "    credentials_bq = service_account.Credentials.from_service_account_file('lentochka.json', scopes=[\"https://www.googleapis.com/auth/cloud-platform\"],)\n",
    "    pandas_gbq.context.credentials = credentials_bq\n",
    "    pandas_gbq.context.project = project\n",
    "    gbq_data = pandas_gbq.read_gbq(query, progress_bar_type=True)\n",
    "    return gbq_data"
   ]
  },
  {
   "cell_type": "code",
   "execution_count": 15,
   "metadata": {},
   "outputs": [],
   "source": []
  },
  {
   "cell_type": "code",
   "execution_count": 16,
   "metadata": {},
   "outputs": [],
   "source": []
  },
  {
   "cell_type": "code",
   "execution_count": 3,
   "metadata": {},
   "outputs": [],
   "source": [
    "password = 'dimVuidBun1onCub'\n",
    "login = 'a.al.kosheleva'\n",
    "\n",
    "def postre_auth(login, password):\n",
    "    postgresql_config = {\n",
    "    'postgresql_prefix' : 'postgresql'\n",
    "    , 'postgresql_host'   : '10.3.26.92' \n",
    "    , 'postgresql_user'   : f'{login}'\n",
    "    , 'postgresql_pass'   : f'{password}'\n",
    "    , 'postgresql_port'   : '5432'\n",
    "    , 'postgresql_db'     : 'dwh'    \n",
    "    }\n",
    "\n",
    "    postgresql_connection_string  = \"{prefix}://{user}:{passw}@{host}:{port}/{db}\".format(\n",
    "    prefix  =   postgresql_config['postgresql_prefix']    , host  =   postgresql_config['postgresql_host']\n",
    "    , user  =   postgresql_config['postgresql_user']      , passw =   postgresql_config['postgresql_pass']\n",
    "    , port  =   postgresql_config['postgresql_port']      , db    =   postgresql_config['postgresql_db']\n",
    "    )\n",
    "    postgresql_engine = sqlalchemy.create_engine(postgresql_connection_string)\n",
    "    postgresql_conn   = postgresql_engine.connect()\n",
    "    return postgresql_engine, postgresql_conn\n",
    "\n",
    "postrgre_engine, postrge_conn = postre_auth(login, password)"
   ]
  },
  {
   "cell_type": "code",
   "execution_count": 238,
   "metadata": {},
   "outputs": [],
   "source": [
    "sql = '''SELECT distinct user_id \n",
    "FROM `lentochka-9bb50.reports.user_metrics_new` \n",
    "WHERE event_date = \"2023-04-12\" and any_active > 0\n",
    "and user_id is not null and user_id != 'null'\n",
    "'''\n",
    "buyers = get_gbq_data(sql)"
   ]
  },
  {
   "cell_type": "code",
   "execution_count": 239,
   "metadata": {},
   "outputs": [],
   "source": [
    "buyers_list = tuple(buyers.user_id.to_list())"
   ]
  },
  {
   "cell_type": "code",
   "execution_count": 240,
   "metadata": {},
   "outputs": [],
   "source": [
    "old_users = f'''\n",
    "select distinct buyer_id\n",
    "from dwh_datamart.retention\n",
    "where date(first_order) <= date(date('2023-04-14') - INTERVAL '90 day')\n",
    "and buyer_id IN {buyers_list}\n",
    "'''"
   ]
  },
  {
   "cell_type": "code",
   "execution_count": 241,
   "metadata": {},
   "outputs": [],
   "source": [
    "old_users_list = pd.read_sql(old_users, postrge_conn)"
   ]
  },
  {
   "cell_type": "code",
   "execution_count": 242,
   "metadata": {},
   "outputs": [],
   "source": [
    "buyers_list_fin = old_users_list.buyer_id.to_list()"
   ]
  },
  {
   "cell_type": "code",
   "execution_count": null,
   "metadata": {},
   "outputs": [],
   "source": []
  },
  {
   "cell_type": "code",
   "execution_count": 243,
   "metadata": {},
   "outputs": [],
   "source": [
    "#выгрузка текущая - для людей, зашедших 18 апреля\n",
    "financial_data = f'''\n",
    "with\n",
    "orders AS (\n",
    "select distinct buyer_id, pav_order_id, order_type, bill_amount\n",
    "from dwh_datamart.ops_metrics\n",
    "where date(created) between '2023-01-13' AND '2023-04-13'\n",
    "and flag_cancel = 0 and order_source IN ('iOS', 'Android')\n",
    "),\n",
    "\n",
    "pcodes AS (\n",
    "select distinct pav_order_id, action_id\n",
    "from dwh_stage.utk_sess_utk_promocode_buyer_using\n",
    "where date(created) between '2023-01-13' AND '2023-04-13'\n",
    "),\n",
    "\n",
    "orders_with_pcodes AS (\n",
    "select buyer_id, o.pav_order_id, bill_amount,\n",
    "       case when action_id is null then  0 else 1 end as pcode,\n",
    "       case when order_type = 'Быстро' then 1 else 0 end as is_express\n",
    "from orders o left join pcodes p on o.pav_order_id = p.pav_order_id\n",
    ")\n",
    "\n",
    "select buyer_id,\n",
    "sum(bill_amount)/count(distinct pav_order_id) as avg_check,\n",
    "sum(bill_amount) as revenue,\n",
    "count(distinct pav_order_id) as frequency, round(sum(pcode)*1.00/count(distinct pav_order_id),2) as pcode_orders_percent,\n",
    "round(sum(is_express)*1.00/count(distinct pav_order_id),2) as express_orders_percent\n",
    "from orders_with_pcodes\n",
    "group by 1;\n",
    "'''"
   ]
  },
  {
   "cell_type": "code",
   "execution_count": 244,
   "metadata": {},
   "outputs": [],
   "source": [
    "#выгрузка делалась 31 марта 2023 - нужно ставить в  orders >= date(date(now()) - INTERVAL '3 month')\n",
    "categories_data = f'''\n",
    "with cats AS (\n",
    "select\n",
    "  substr(mat.material,13,18)  original_id,\n",
    "  wgh._0rpa_wgh2___t          cat_name\n",
    "from dwh_stage.hadoop_bi0_pmaterial mat\n",
    "inner join dwh_stage.hadoop_bic_rpa_wgh wgh\n",
    "on mat.rpa_wgh4 = wgh._0rpa_wgh4\n",
    "where rpa_wgh2 != '99'\n",
    "and wgh._0rpa_wgh2___t != 'Резервная группа'\n",
    "group by 1,2),\n",
    "\n",
    "orders AS (\n",
    "select distinct buyer_id, pav_order_id\n",
    "from dwh_datamart.ops_metrics\n",
    "where date(created) between '2023-01-13' AND '2023-04-13'\n",
    "and flag_cancel = 0 and order_source IN ('iOS', 'Android')\n",
    "),\n",
    "\n",
    "t1 as (\n",
    "select\n",
    "  buyer_id,\n",
    "  cat_name,\n",
    "  count_courier*zit.denominator/zit.numerator as number,\n",
    "  sum(count_courier*zit.denominator/zit.numerator) over (partition by buyer_id) as count_items_total\n",
    "from orders z\n",
    "inner join dwh_stage.utk_sess_zakaz_items zit\n",
    "on zit.pav_order_id = z.pav_order_id\n",
    "left join cats c on zit.original_id = c.original_id\n",
    ")\n",
    "\n",
    "select buyer_id, cat_name, sum(number)*1.00/max(count_items_total) percent_cat\n",
    "from t1\n",
    "where count_items_total > 0\n",
    "group by 1,2\n",
    "'''"
   ]
  },
  {
   "cell_type": "code",
   "execution_count": 245,
   "metadata": {},
   "outputs": [],
   "source": [
    "financial_df = pd.read_sql(financial_data, postrge_conn)"
   ]
  },
  {
   "cell_type": "code",
   "execution_count": 246,
   "metadata": {},
   "outputs": [
    {
     "data": {
      "text/html": [
       "<div>\n",
       "<style scoped>\n",
       "    .dataframe tbody tr th:only-of-type {\n",
       "        vertical-align: middle;\n",
       "    }\n",
       "\n",
       "    .dataframe tbody tr th {\n",
       "        vertical-align: top;\n",
       "    }\n",
       "\n",
       "    .dataframe thead th {\n",
       "        text-align: right;\n",
       "    }\n",
       "</style>\n",
       "<table border=\"1\" class=\"dataframe\">\n",
       "  <thead>\n",
       "    <tr style=\"text-align: right;\">\n",
       "      <th></th>\n",
       "      <th>buyer_id</th>\n",
       "      <th>avg_check</th>\n",
       "      <th>revenue</th>\n",
       "      <th>frequency</th>\n",
       "      <th>pcode_orders_percent</th>\n",
       "      <th>express_orders_percent</th>\n",
       "    </tr>\n",
       "  </thead>\n",
       "  <tbody>\n",
       "    <tr>\n",
       "      <th>0</th>\n",
       "      <td>94025409</td>\n",
       "      <td>3232.310000</td>\n",
       "      <td>3232.31</td>\n",
       "      <td>1</td>\n",
       "      <td>1.0</td>\n",
       "      <td>0.00</td>\n",
       "    </tr>\n",
       "    <tr>\n",
       "      <th>1</th>\n",
       "      <td>94115028</td>\n",
       "      <td>2646.743333</td>\n",
       "      <td>7940.23</td>\n",
       "      <td>3</td>\n",
       "      <td>0.0</td>\n",
       "      <td>0.33</td>\n",
       "    </tr>\n",
       "    <tr>\n",
       "      <th>2</th>\n",
       "      <td>94578440</td>\n",
       "      <td>2262.170000</td>\n",
       "      <td>6786.51</td>\n",
       "      <td>3</td>\n",
       "      <td>1.0</td>\n",
       "      <td>0.00</td>\n",
       "    </tr>\n",
       "    <tr>\n",
       "      <th>3</th>\n",
       "      <td>94578442</td>\n",
       "      <td>2080.885000</td>\n",
       "      <td>4161.77</td>\n",
       "      <td>2</td>\n",
       "      <td>1.0</td>\n",
       "      <td>0.00</td>\n",
       "    </tr>\n",
       "    <tr>\n",
       "      <th>4</th>\n",
       "      <td>94578475</td>\n",
       "      <td>3286.768000</td>\n",
       "      <td>65735.36</td>\n",
       "      <td>20</td>\n",
       "      <td>1.0</td>\n",
       "      <td>0.20</td>\n",
       "    </tr>\n",
       "    <tr>\n",
       "      <th>...</th>\n",
       "      <td>...</td>\n",
       "      <td>...</td>\n",
       "      <td>...</td>\n",
       "      <td>...</td>\n",
       "      <td>...</td>\n",
       "      <td>...</td>\n",
       "    </tr>\n",
       "    <tr>\n",
       "      <th>712241</th>\n",
       "      <td>105195615</td>\n",
       "      <td>1739.340000</td>\n",
       "      <td>1739.34</td>\n",
       "      <td>1</td>\n",
       "      <td>1.0</td>\n",
       "      <td>0.00</td>\n",
       "    </tr>\n",
       "    <tr>\n",
       "      <th>712242</th>\n",
       "      <td>105195636</td>\n",
       "      <td>1261.440000</td>\n",
       "      <td>1261.44</td>\n",
       "      <td>1</td>\n",
       "      <td>1.0</td>\n",
       "      <td>0.00</td>\n",
       "    </tr>\n",
       "    <tr>\n",
       "      <th>712243</th>\n",
       "      <td>105195671</td>\n",
       "      <td>1385.320000</td>\n",
       "      <td>1385.32</td>\n",
       "      <td>1</td>\n",
       "      <td>1.0</td>\n",
       "      <td>0.00</td>\n",
       "    </tr>\n",
       "    <tr>\n",
       "      <th>712244</th>\n",
       "      <td>105195703</td>\n",
       "      <td>1057.280000</td>\n",
       "      <td>1057.28</td>\n",
       "      <td>1</td>\n",
       "      <td>1.0</td>\n",
       "      <td>0.00</td>\n",
       "    </tr>\n",
       "    <tr>\n",
       "      <th>712245</th>\n",
       "      <td>105195725</td>\n",
       "      <td>968.270000</td>\n",
       "      <td>968.27</td>\n",
       "      <td>1</td>\n",
       "      <td>1.0</td>\n",
       "      <td>0.00</td>\n",
       "    </tr>\n",
       "  </tbody>\n",
       "</table>\n",
       "<p>712246 rows × 6 columns</p>\n",
       "</div>"
      ],
      "text/plain": [
       "         buyer_id    avg_check   revenue  frequency  pcode_orders_percent  \\\n",
       "0        94025409  3232.310000   3232.31          1                   1.0   \n",
       "1        94115028  2646.743333   7940.23          3                   0.0   \n",
       "2        94578440  2262.170000   6786.51          3                   1.0   \n",
       "3        94578442  2080.885000   4161.77          2                   1.0   \n",
       "4        94578475  3286.768000  65735.36         20                   1.0   \n",
       "...           ...          ...       ...        ...                   ...   \n",
       "712241  105195615  1739.340000   1739.34          1                   1.0   \n",
       "712242  105195636  1261.440000   1261.44          1                   1.0   \n",
       "712243  105195671  1385.320000   1385.32          1                   1.0   \n",
       "712244  105195703  1057.280000   1057.28          1                   1.0   \n",
       "712245  105195725   968.270000    968.27          1                   1.0   \n",
       "\n",
       "        express_orders_percent  \n",
       "0                         0.00  \n",
       "1                         0.33  \n",
       "2                         0.00  \n",
       "3                         0.00  \n",
       "4                         0.20  \n",
       "...                        ...  \n",
       "712241                    0.00  \n",
       "712242                    0.00  \n",
       "712243                    0.00  \n",
       "712244                    0.00  \n",
       "712245                    0.00  \n",
       "\n",
       "[712246 rows x 6 columns]"
      ]
     },
     "execution_count": 246,
     "metadata": {},
     "output_type": "execute_result"
    }
   ],
   "source": [
    "financial_df"
   ]
  },
  {
   "cell_type": "code",
   "execution_count": null,
   "metadata": {},
   "outputs": [],
   "source": [
    "categories_df = pd.read_sql(categories_data, postrge_conn)"
   ]
  },
  {
   "cell_type": "code",
   "execution_count": null,
   "metadata": {},
   "outputs": [],
   "source": [
    "categories_df"
   ]
  },
  {
   "cell_type": "code",
   "execution_count": null,
   "metadata": {},
   "outputs": [],
   "source": [
    "financial_df = pd.DataFrame(financial_df.query(\"buyer_id == @buyers_list_fin\"))"
   ]
  },
  {
   "cell_type": "code",
   "execution_count": null,
   "metadata": {},
   "outputs": [],
   "source": [
    "categories_df = pd.DataFrame(categories_df.query(\"buyer_id == @buyers_list_fin\"))"
   ]
  },
  {
   "cell_type": "code",
   "execution_count": null,
   "metadata": {},
   "outputs": [],
   "source": [
    "categories_df_pivot = pd.pivot_table(categories_df, values='percent_cat', index=['buyer_id'],\n",
    "                    columns=['cat_name'], aggfunc=np.sum).reset_index()"
   ]
  },
  {
   "cell_type": "code",
   "execution_count": null,
   "metadata": {},
   "outputs": [],
   "source": [
    "categories_df_pivot"
   ]
  },
  {
   "cell_type": "code",
   "execution_count": null,
   "metadata": {},
   "outputs": [],
   "source": [
    "categories_df_pivot.buyer_id.nunique()"
   ]
  },
  {
   "cell_type": "code",
   "execution_count": null,
   "metadata": {},
   "outputs": [],
   "source": [
    "financial_df.buyer_id.nunique()"
   ]
  },
  {
   "cell_type": "code",
   "execution_count": null,
   "metadata": {},
   "outputs": [],
   "source": [
    "final_df = categories_df_pivot.merge(financial_df, on = 'buyer_id', how = 'inner')"
   ]
  },
  {
   "cell_type": "code",
   "execution_count": null,
   "metadata": {},
   "outputs": [],
   "source": [
    "final_df = final_df.fillna(0)"
   ]
  },
  {
   "cell_type": "code",
   "execution_count": null,
   "metadata": {},
   "outputs": [],
   "source": [
    "final_df_sample = final_df.sample(n=30000, random_state=1)"
   ]
  },
  {
   "cell_type": "code",
   "execution_count": null,
   "metadata": {},
   "outputs": [],
   "source": [
    "final_df_sample.reset_index(drop= True , inplace= True )"
   ]
  },
  {
   "cell_type": "code",
   "execution_count": null,
   "metadata": {},
   "outputs": [],
   "source": [
    "#final_df_sample.to_excel('final_df_sample.xlsx')"
   ]
  },
  {
   "cell_type": "code",
   "execution_count": null,
   "metadata": {},
   "outputs": [],
   "source": [
    "column_headers = list(final_df_sample.columns.values)"
   ]
  },
  {
   "cell_type": "code",
   "execution_count": null,
   "metadata": {},
   "outputs": [],
   "source": [
    "column_headers"
   ]
  },
  {
   "cell_type": "code",
   "execution_count": null,
   "metadata": {},
   "outputs": [],
   "source": [
    "# преобразуем датафрейм для кластеризации (убираем тяжелые хвосты в метриках)\n",
    "def get_log_df(data):\n",
    "    def log_transform(v): \n",
    "        res = np.log(v+1)\n",
    "        return res\n",
    "    \n",
    "    data_tmp = data.copy()\n",
    "    for el in ['Автотовары',\n",
    " 'Аксессуары и галантерея',\n",
    " 'Аудио, видео, цифровая техника и аксессу',\n",
    " 'Багаж',\n",
    " 'Бакалея',\n",
    " 'Безалкогольные напитки',\n",
    " 'Бытовая техника',\n",
    " 'Бытовая химия, хозяйственные товары',\n",
    " 'Вино',\n",
    " 'Гигиенические средства',\n",
    " 'Деликатесы из рыбы и морепродуктов',\n",
    " 'Детская гигиена',\n",
    " 'Детская одежда, обувь и постельные прин',\n",
    " 'Детское питание',\n",
    " 'Женская и мужская одежда',\n",
    " 'Женское и мужское нижнее белье',\n",
    " 'Живые горшечные цветы, срезка',\n",
    " 'Закуски к аперитивам',\n",
    " 'Замороженная рыба',\n",
    " 'Игрушки',\n",
    " 'Канцелярия и печатная продукция',\n",
    " 'Консервы',\n",
    " 'Косметика и аксессуары',\n",
    " 'Кофе, какао, чай',\n",
    " 'Кулинария собственного производства',\n",
    " 'Майонезы, Закуски, Готовые Блюда охл',\n",
    " 'Масложировая продукция',\n",
    " 'Молочные продукты д/детского питания',\n",
    " 'Морепродукты глубокой заморозки',\n",
    " 'Мясо глубокой заморозки',\n",
    " 'Мясо охлажденное',\n",
    " 'Не шоколадные кондитерские изделия',\n",
    " 'Овощи',\n",
    " 'Одежда и товары для новорождённых',\n",
    " 'Охлажденная и переработанная рыбная прод',\n",
    " 'П\\\\ф и другие продукты глубокой заморзк',\n",
    " 'Пекарня промышленное производство',\n",
    " 'Пекарня собственное производство',\n",
    " 'Пиво и слабоалкогольные напитки',\n",
    " 'Посуда столовая, товары для дома',\n",
    " 'Продукты мясной переработки',\n",
    " 'Профессиональные Товары для животных',\n",
    " 'Птица глубокой заморозки',\n",
    " 'Птица охлажденная',\n",
    " 'Современная молочная продукция',\n",
    " 'Спорт, туризм',\n",
    " 'Средства персонального ухода',\n",
    " 'Сыры',\n",
    " 'Табачные изделия',\n",
    " 'Текстиль для дома',\n",
    " 'Товары для акции лояльности КС',\n",
    " 'Товары для животных',\n",
    " 'Товары для приготовления',\n",
    " 'Товары для сада',\n",
    " 'Товары для уборки и хранения',\n",
    " 'Товары сделай сам (DIY)',\n",
    " 'Традиционная молочная продукция',\n",
    " 'Фрукты',\n",
    " 'Функциональное питание',\n",
    " 'Шоколадные кондитерские изделия',\n",
    " 'Электротовары',\n",
    " 'Яйцо']:\n",
    "        data_tmp[el] = data_tmp[el].apply(lambda x: log_transform(x))\n",
    "    return data_tmp[['Автотовары',\n",
    " 'Аксессуары и галантерея',\n",
    " 'Аудио, видео, цифровая техника и аксессу',\n",
    " 'Багаж',\n",
    " 'Бакалея',\n",
    " 'Безалкогольные напитки',\n",
    " 'Бытовая техника',\n",
    " 'Бытовая химия, хозяйственные товары',\n",
    " 'Вино',\n",
    " 'Гигиенические средства',\n",
    " 'Деликатесы из рыбы и морепродуктов',\n",
    " 'Детская гигиена',\n",
    " 'Детская одежда, обувь и постельные прин',\n",
    " 'Детское питание',\n",
    " 'Женская и мужская одежда',\n",
    " 'Женское и мужское нижнее белье',\n",
    " 'Живые горшечные цветы, срезка',\n",
    " 'Закуски к аперитивам',\n",
    " 'Замороженная рыба',\n",
    " 'Игрушки',\n",
    " 'Канцелярия и печатная продукция',\n",
    " 'Консервы',\n",
    " 'Косметика и аксессуары',\n",
    " 'Кофе, какао, чай',\n",
    " 'Кулинария собственного производства',\n",
    " 'Майонезы, Закуски, Готовые Блюда охл',\n",
    " 'Масложировая продукция',\n",
    " 'Молочные продукты д/детского питания',\n",
    " 'Морепродукты глубокой заморозки',\n",
    " 'Мясо глубокой заморозки',\n",
    " 'Мясо охлажденное',\n",
    " 'Не шоколадные кондитерские изделия',\n",
    " 'Овощи',\n",
    " 'Одежда и товары для новорождённых',\n",
    " 'Охлажденная и переработанная рыбная прод',\n",
    " 'П\\\\ф и другие продукты глубокой заморзк',\n",
    " 'Пекарня промышленное производство',\n",
    " 'Пекарня собственное производство',\n",
    " 'Пиво и слабоалкогольные напитки',\n",
    " 'Посуда столовая, товары для дома',\n",
    " 'Продукты мясной переработки',\n",
    " 'Профессиональные Товары для животных',\n",
    " 'Птица глубокой заморозки',\n",
    " 'Птица охлажденная',\n",
    " 'Современная молочная продукция',\n",
    " 'Спорт, туризм',\n",
    " 'Средства персонального ухода',\n",
    " 'Сыры',\n",
    " 'Табачные изделия',\n",
    " 'Текстиль для дома',\n",
    " 'Товары для акции лояльности КС',\n",
    " 'Товары для животных',\n",
    " 'Товары для приготовления',\n",
    " 'Товары для сада',\n",
    " 'Товары для уборки и хранения',\n",
    " 'Товары сделай сам (DIY)',\n",
    " 'Традиционная молочная продукция',\n",
    " 'Фрукты',\n",
    " 'Функциональное питание',\n",
    " 'Шоколадные кондитерские изделия',\n",
    " 'Электротовары',\n",
    " 'Яйцо']]"
   ]
  },
  {
   "cell_type": "code",
   "execution_count": null,
   "metadata": {},
   "outputs": [],
   "source": [
    "df_log = get_log_df(final_df_sample.copy())"
   ]
  },
  {
   "cell_type": "code",
   "execution_count": null,
   "metadata": {},
   "outputs": [],
   "source": [
    "df_log.head()"
   ]
  },
  {
   "cell_type": "code",
   "execution_count": null,
   "metadata": {},
   "outputs": [],
   "source": []
  },
  {
   "cell_type": "markdown",
   "metadata": {},
   "source": [
    "Мин-макс шкалирование"
   ]
  },
  {
   "cell_type": "code",
   "execution_count": null,
   "metadata": {},
   "outputs": [],
   "source": [
    "from sklearn.preprocessing import MinMaxScaler"
   ]
  },
  {
   "cell_type": "code",
   "execution_count": null,
   "metadata": {},
   "outputs": [],
   "source": [
    "#нормализуем данные, приведем к одной шкале\n",
    "df_log_sc = MinMaxScaler().fit_transform(df_log)"
   ]
  },
  {
   "cell_type": "code",
   "execution_count": null,
   "metadata": {},
   "outputs": [],
   "source": [
    "df_log_sc.shape"
   ]
  },
  {
   "cell_type": "code",
   "execution_count": null,
   "metadata": {},
   "outputs": [],
   "source": [
    "df_log_sc_clmns = pd.DataFrame(df_log_sc)"
   ]
  },
  {
   "cell_type": "code",
   "execution_count": null,
   "metadata": {},
   "outputs": [],
   "source": [
    "df_log_sc_clmns.columns = df_log.columns"
   ]
  },
  {
   "cell_type": "code",
   "execution_count": null,
   "metadata": {},
   "outputs": [],
   "source": []
  },
  {
   "cell_type": "markdown",
   "metadata": {},
   "source": [
    "Сохраняем tSNE отображение"
   ]
  },
  {
   "cell_type": "code",
   "execution_count": null,
   "metadata": {},
   "outputs": [],
   "source": [
    "from scipy.cluster.hierarchy import fcluster, linkage\n",
    "from sklearn.manifold import TSNE"
   ]
  },
  {
   "cell_type": "code",
   "execution_count": null,
   "metadata": {},
   "outputs": [],
   "source": [
    "tsne_representation = TSNE(n_components=2, random_state=321).fit_transform(df_log_sc)"
   ]
  },
  {
   "cell_type": "code",
   "execution_count": null,
   "metadata": {},
   "outputs": [],
   "source": [
    "from sklearn.neighbors import NearestNeighbors\n",
    "from sklearn.cluster import DBSCAN\n",
    "from sklearn.metrics import silhouette_score"
   ]
  },
  {
   "cell_type": "code",
   "execution_count": null,
   "metadata": {},
   "outputs": [],
   "source": [
    "distance_matrix = linkage(tsne_representation, method = 'ward', metric = 'euclidean')"
   ]
  },
  {
   "cell_type": "code",
   "execution_count": null,
   "metadata": {},
   "outputs": [],
   "source": [
    "from scipy.cluster.hierarchy import dendrogram"
   ]
  },
  {
   "cell_type": "code",
   "execution_count": null,
   "metadata": {},
   "outputs": [],
   "source": [
    "dn = dendrogram(\n",
    "        distance_matrix,\n",
    "        leaf_rotation=90.,\n",
    "        leaf_font_size=8.,\n",
    "        truncate_mode='level',\n",
    "        p=16,\n",
    "        color_threshold=100,\n",
    "        no_labels=True\n",
    "    )"
   ]
  },
  {
   "cell_type": "code",
   "execution_count": null,
   "metadata": {},
   "outputs": [],
   "source": [
    "#итого было выбрано взять 10 кластеров, далее будет график и подсчет средних значений\n",
    "cl_tsne_labels_final = pd.Series(fcluster(distance_matrix, 10, criterion='maxclust'))"
   ]
  },
  {
   "cell_type": "code",
   "execution_count": null,
   "metadata": {},
   "outputs": [],
   "source": [
    "cl_tsne_labels_final_agg = cl_tsne_labels_final"
   ]
  },
  {
   "cell_type": "code",
   "execution_count": null,
   "metadata": {},
   "outputs": [],
   "source": [
    "clusters_df = pd.DataFrame({\n",
    "    'cl_tsne_labels_final':cl_tsne_labels_final,\n",
    "    'cl_tsne_labels_final_agg':cl_tsne_labels_final,\n",
    "    'x':tsne_representation[:,0],\n",
    "    'y':tsne_representation[:,1]\n",
    "}\n",
    ")"
   ]
  },
  {
   "cell_type": "code",
   "execution_count": null,
   "metadata": {},
   "outputs": [],
   "source": [
    "import matplotlib.cm as cm\n",
    "def get_clusters_image(l):\n",
    "    clusters_df = pd.DataFrame({\n",
    "        'cl_tsne_labels_final_agg':l,\n",
    "        'x':tsne_representation[:,0],\n",
    "        'y':tsne_representation[:,1]\n",
    "    }\n",
    "    )\n",
    "    colors = cm.rainbow(np.linspace(0,1,len(set(l))))\n",
    "    for y, c in zip(set(l), colors):\n",
    "        plt.scatter(tsne_representation[pd.Series(l).values==y, 0], \n",
    "                    tsne_representation[pd.Series(l).values==y, 1], c=c, alpha=0.3, label=str(y))\n",
    "    return plt.legend()"
   ]
  },
  {
   "cell_type": "code",
   "execution_count": null,
   "metadata": {},
   "outputs": [],
   "source": [
    "get_clusters_image(cl_tsne_labels_final_agg)"
   ]
  },
  {
   "cell_type": "code",
   "execution_count": null,
   "metadata": {},
   "outputs": [],
   "source": [
    "final_df_sample[\"labels_10\"] = cl_tsne_labels_final_agg"
   ]
  },
  {
   "cell_type": "code",
   "execution_count": null,
   "metadata": {},
   "outputs": [],
   "source": [
    "final_df_sample"
   ]
  },
  {
   "cell_type": "code",
   "execution_count": null,
   "metadata": {},
   "outputs": [],
   "source": []
  },
  {
   "cell_type": "code",
   "execution_count": null,
   "metadata": {},
   "outputs": [],
   "source": [
    "df_vis = final_df_sample[['Автотовары',\n",
    " 'Аксессуары и галантерея',\n",
    " 'Аудио, видео, цифровая техника и аксессу',\n",
    " 'Багаж',\n",
    " 'Бакалея',\n",
    " 'Безалкогольные напитки',\n",
    " 'Бытовая техника',\n",
    " 'Бытовая химия, хозяйственные товары',\n",
    " 'Вино',\n",
    " 'Гигиенические средства',\n",
    " 'Деликатесы из рыбы и морепродуктов',\n",
    " 'Детская гигиена',\n",
    " 'Детская одежда, обувь и постельные прин',\n",
    " 'Детское питание',\n",
    " 'Женская и мужская одежда',\n",
    " 'Женское и мужское нижнее белье',\n",
    " 'Живые горшечные цветы, срезка',\n",
    " 'Закуски к аперитивам',\n",
    " 'Замороженная рыба',\n",
    " 'Игрушки',\n",
    " 'Канцелярия и печатная продукция',\n",
    " 'Консервы',\n",
    " 'Косметика и аксессуары',\n",
    " 'Кофе, какао, чай',\n",
    " 'Кулинария собственного производства',\n",
    " 'Майонезы, Закуски, Готовые Блюда охл',\n",
    " 'Масложировая продукция',\n",
    " 'Молочные продукты д/детского питания',\n",
    " 'Морепродукты глубокой заморозки',\n",
    " 'Мясо глубокой заморозки',\n",
    " 'Мясо охлажденное',\n",
    " 'Не шоколадные кондитерские изделия',\n",
    " 'Овощи',\n",
    " 'Одежда и товары для новорождённых',\n",
    " 'Охлажденная и переработанная рыбная прод',\n",
    " 'П\\\\ф и другие продукты глубокой заморзк',\n",
    " 'Пекарня промышленное производство',\n",
    " 'Пекарня собственное производство',\n",
    " 'Пиво и слабоалкогольные напитки',\n",
    " 'Посуда столовая, товары для дома',\n",
    " 'Продукты мясной переработки',\n",
    " 'Профессиональные Товары для животных',\n",
    " 'Птица глубокой заморозки',\n",
    " 'Птица охлажденная',\n",
    " 'Современная молочная продукция',\n",
    " 'Спорт, туризм',\n",
    " 'Средства персонального ухода',\n",
    " 'Сыры',\n",
    " 'Табачные изделия',\n",
    " 'Текстиль для дома',\n",
    " 'Товары для акции лояльности КС',\n",
    " 'Товары для животных',\n",
    " 'Товары для приготовления',\n",
    " 'Товары для сада',\n",
    " 'Товары для уборки и хранения',\n",
    " 'Товары сделай сам (DIY)',\n",
    " 'Традиционная молочная продукция',\n",
    " 'Фрукты',\n",
    " 'Функциональное питание',\n",
    " 'Шоколадные кондитерские изделия',\n",
    " 'Электротовары',\n",
    " 'Яйцо',\n",
    " 'avg_check',\n",
    " 'revenue',\n",
    " 'frequency',\n",
    " 'pcode_orders_percent',\n",
    " 'express_orders_percent',\n",
    " 'labels_10']].copy()"
   ]
  },
  {
   "cell_type": "code",
   "execution_count": null,
   "metadata": {},
   "outputs": [],
   "source": [
    "df_vis_pivot = df_vis.pivot_table(index='labels_10', aggfunc='mean').transpose().reset_index()"
   ]
  },
  {
   "cell_type": "code",
   "execution_count": null,
   "metadata": {},
   "outputs": [],
   "source": [
    "df_vis_pivot.to_excel('clasters_14_apr.xlsx')"
   ]
  },
  {
   "cell_type": "code",
   "execution_count": null,
   "metadata": {},
   "outputs": [],
   "source": [
    "final_df_sample.groupby('labels_10')['buyer_id'].nunique()"
   ]
  },
  {
   "cell_type": "code",
   "execution_count": 52,
   "metadata": {},
   "outputs": [],
   "source": [
    "age_and_sex = '''\n",
    "select o.buyer_id, extract('year' from date(now())) - extract('year' from date(bdate)) as age, \n",
    "       case when sex = 1 then 0 \n",
    "            else 1 end as sex\n",
    "from dwh_datamart.ops_metrics o left join dwh_stage.utk_sess_session_bonus p\n",
    "on o.buyer_id = p.buyer_id\n",
    "where date between '2022-03-26' and '2023-03-26'\n",
    "and flag_cancel = 0\n",
    "and order_source IN ('iOS', 'Android')\n",
    "and sex != 0\n",
    "and bdate is not null\n",
    "group by 1,2,3\n",
    "'''"
   ]
  },
  {
   "cell_type": "code",
   "execution_count": 53,
   "metadata": {},
   "outputs": [],
   "source": [
    "demographics = pd.read_sql(age_and_sex, postrge_conn)"
   ]
  },
  {
   "cell_type": "code",
   "execution_count": 54,
   "metadata": {},
   "outputs": [
    {
     "data": {
      "text/html": [
       "<div>\n",
       "<style scoped>\n",
       "    .dataframe tbody tr th:only-of-type {\n",
       "        vertical-align: middle;\n",
       "    }\n",
       "\n",
       "    .dataframe tbody tr th {\n",
       "        vertical-align: top;\n",
       "    }\n",
       "\n",
       "    .dataframe thead th {\n",
       "        text-align: right;\n",
       "    }\n",
       "</style>\n",
       "<table border=\"1\" class=\"dataframe\">\n",
       "  <thead>\n",
       "    <tr style=\"text-align: right;\">\n",
       "      <th></th>\n",
       "      <th>buyer_id</th>\n",
       "      <th>age</th>\n",
       "      <th>sex</th>\n",
       "    </tr>\n",
       "  </thead>\n",
       "  <tbody>\n",
       "    <tr>\n",
       "      <th>0</th>\n",
       "      <td>94025409</td>\n",
       "      <td>36.0</td>\n",
       "      <td>0</td>\n",
       "    </tr>\n",
       "    <tr>\n",
       "      <th>1</th>\n",
       "      <td>94205486</td>\n",
       "      <td>31.0</td>\n",
       "      <td>1</td>\n",
       "    </tr>\n",
       "    <tr>\n",
       "      <th>2</th>\n",
       "      <td>94578440</td>\n",
       "      <td>25.0</td>\n",
       "      <td>0</td>\n",
       "    </tr>\n",
       "    <tr>\n",
       "      <th>3</th>\n",
       "      <td>94578442</td>\n",
       "      <td>38.0</td>\n",
       "      <td>0</td>\n",
       "    </tr>\n",
       "    <tr>\n",
       "      <th>4</th>\n",
       "      <td>94578489</td>\n",
       "      <td>34.0</td>\n",
       "      <td>1</td>\n",
       "    </tr>\n",
       "    <tr>\n",
       "      <th>...</th>\n",
       "      <td>...</td>\n",
       "      <td>...</td>\n",
       "      <td>...</td>\n",
       "    </tr>\n",
       "    <tr>\n",
       "      <th>287902</th>\n",
       "      <td>104938305</td>\n",
       "      <td>47.0</td>\n",
       "      <td>0</td>\n",
       "    </tr>\n",
       "    <tr>\n",
       "      <th>287903</th>\n",
       "      <td>104938505</td>\n",
       "      <td>26.0</td>\n",
       "      <td>1</td>\n",
       "    </tr>\n",
       "    <tr>\n",
       "      <th>287904</th>\n",
       "      <td>104938671</td>\n",
       "      <td>52.0</td>\n",
       "      <td>1</td>\n",
       "    </tr>\n",
       "    <tr>\n",
       "      <th>287905</th>\n",
       "      <td>104938714</td>\n",
       "      <td>61.0</td>\n",
       "      <td>0</td>\n",
       "    </tr>\n",
       "    <tr>\n",
       "      <th>287906</th>\n",
       "      <td>104939199</td>\n",
       "      <td>33.0</td>\n",
       "      <td>0</td>\n",
       "    </tr>\n",
       "  </tbody>\n",
       "</table>\n",
       "<p>287907 rows × 3 columns</p>\n",
       "</div>"
      ],
      "text/plain": [
       "         buyer_id   age  sex\n",
       "0        94025409  36.0    0\n",
       "1        94205486  31.0    1\n",
       "2        94578440  25.0    0\n",
       "3        94578442  38.0    0\n",
       "4        94578489  34.0    1\n",
       "...           ...   ...  ...\n",
       "287902  104938305  47.0    0\n",
       "287903  104938505  26.0    1\n",
       "287904  104938671  52.0    1\n",
       "287905  104938714  61.0    0\n",
       "287906  104939199  33.0    0\n",
       "\n",
       "[287907 rows x 3 columns]"
      ]
     },
     "execution_count": 54,
     "metadata": {},
     "output_type": "execute_result"
    }
   ],
   "source": [
    "demographics"
   ]
  },
  {
   "cell_type": "code",
   "execution_count": 55,
   "metadata": {},
   "outputs": [],
   "source": [
    "additional = final_df_sample.merge(demographics, on = 'buyer_id', how = 'inner')"
   ]
  },
  {
   "cell_type": "code",
   "execution_count": 56,
   "metadata": {},
   "outputs": [
    {
     "data": {
      "text/html": [
       "<div>\n",
       "<style scoped>\n",
       "    .dataframe tbody tr th:only-of-type {\n",
       "        vertical-align: middle;\n",
       "    }\n",
       "\n",
       "    .dataframe tbody tr th {\n",
       "        vertical-align: top;\n",
       "    }\n",
       "\n",
       "    .dataframe thead th {\n",
       "        text-align: right;\n",
       "    }\n",
       "</style>\n",
       "<table border=\"1\" class=\"dataframe\">\n",
       "  <thead>\n",
       "    <tr style=\"text-align: right;\">\n",
       "      <th></th>\n",
       "      <th>buyer_id</th>\n",
       "      <th>Автотовары</th>\n",
       "      <th>Аксессуары и галантерея</th>\n",
       "      <th>Аудио, видео, цифровая техника и аксессу</th>\n",
       "      <th>Багаж</th>\n",
       "      <th>Бакалея</th>\n",
       "      <th>Безалкогольные напитки</th>\n",
       "      <th>Бытовая техника</th>\n",
       "      <th>Бытовая химия, хозяйственные товары</th>\n",
       "      <th>Вино</th>\n",
       "      <th>...</th>\n",
       "      <th>Электротовары</th>\n",
       "      <th>Яйцо</th>\n",
       "      <th>avg_check</th>\n",
       "      <th>revenue</th>\n",
       "      <th>frequency</th>\n",
       "      <th>pcode_orders_percent</th>\n",
       "      <th>express_orders_percent</th>\n",
       "      <th>labels_10</th>\n",
       "      <th>age</th>\n",
       "      <th>sex</th>\n",
       "    </tr>\n",
       "  </thead>\n",
       "  <tbody>\n",
       "    <tr>\n",
       "      <th>0</th>\n",
       "      <td>103330000</td>\n",
       "      <td>0.0</td>\n",
       "      <td>0.0</td>\n",
       "      <td>0.0</td>\n",
       "      <td>0.0</td>\n",
       "      <td>0.000000</td>\n",
       "      <td>0.000000</td>\n",
       "      <td>0.0</td>\n",
       "      <td>0.000000</td>\n",
       "      <td>0.0</td>\n",
       "      <td>...</td>\n",
       "      <td>0.0</td>\n",
       "      <td>0.024718</td>\n",
       "      <td>3376.030000</td>\n",
       "      <td>3376.03</td>\n",
       "      <td>1</td>\n",
       "      <td>1.00</td>\n",
       "      <td>0.00</td>\n",
       "      <td>1</td>\n",
       "      <td>42.0</td>\n",
       "      <td>1</td>\n",
       "    </tr>\n",
       "    <tr>\n",
       "      <th>1</th>\n",
       "      <td>96891201</td>\n",
       "      <td>0.0</td>\n",
       "      <td>0.0</td>\n",
       "      <td>0.0</td>\n",
       "      <td>0.0</td>\n",
       "      <td>0.047923</td>\n",
       "      <td>0.000000</td>\n",
       "      <td>0.0</td>\n",
       "      <td>0.019169</td>\n",
       "      <td>0.0</td>\n",
       "      <td>...</td>\n",
       "      <td>0.0</td>\n",
       "      <td>0.000000</td>\n",
       "      <td>2155.326667</td>\n",
       "      <td>6465.98</td>\n",
       "      <td>3</td>\n",
       "      <td>0.67</td>\n",
       "      <td>0.00</td>\n",
       "      <td>2</td>\n",
       "      <td>36.0</td>\n",
       "      <td>1</td>\n",
       "    </tr>\n",
       "    <tr>\n",
       "      <th>2</th>\n",
       "      <td>95223557</td>\n",
       "      <td>0.0</td>\n",
       "      <td>0.0</td>\n",
       "      <td>0.0</td>\n",
       "      <td>0.0</td>\n",
       "      <td>0.043177</td>\n",
       "      <td>0.071513</td>\n",
       "      <td>0.0</td>\n",
       "      <td>0.009445</td>\n",
       "      <td>0.0</td>\n",
       "      <td>...</td>\n",
       "      <td>0.0</td>\n",
       "      <td>0.000000</td>\n",
       "      <td>2840.911667</td>\n",
       "      <td>51136.41</td>\n",
       "      <td>18</td>\n",
       "      <td>0.56</td>\n",
       "      <td>0.00</td>\n",
       "      <td>8</td>\n",
       "      <td>34.0</td>\n",
       "      <td>1</td>\n",
       "    </tr>\n",
       "    <tr>\n",
       "      <th>3</th>\n",
       "      <td>97602945</td>\n",
       "      <td>0.0</td>\n",
       "      <td>0.0</td>\n",
       "      <td>0.0</td>\n",
       "      <td>0.0</td>\n",
       "      <td>0.053479</td>\n",
       "      <td>0.000000</td>\n",
       "      <td>0.0</td>\n",
       "      <td>0.073534</td>\n",
       "      <td>0.0</td>\n",
       "      <td>...</td>\n",
       "      <td>0.0</td>\n",
       "      <td>0.040109</td>\n",
       "      <td>6723.440000</td>\n",
       "      <td>13446.88</td>\n",
       "      <td>2</td>\n",
       "      <td>0.00</td>\n",
       "      <td>0.00</td>\n",
       "      <td>6</td>\n",
       "      <td>33.0</td>\n",
       "      <td>1</td>\n",
       "    </tr>\n",
       "    <tr>\n",
       "      <th>4</th>\n",
       "      <td>95925823</td>\n",
       "      <td>0.0</td>\n",
       "      <td>0.0</td>\n",
       "      <td>0.0</td>\n",
       "      <td>0.0</td>\n",
       "      <td>0.103793</td>\n",
       "      <td>0.065553</td>\n",
       "      <td>0.0</td>\n",
       "      <td>0.065553</td>\n",
       "      <td>0.0</td>\n",
       "      <td>...</td>\n",
       "      <td>0.0</td>\n",
       "      <td>0.010926</td>\n",
       "      <td>1644.107143</td>\n",
       "      <td>23017.50</td>\n",
       "      <td>14</td>\n",
       "      <td>0.00</td>\n",
       "      <td>0.29</td>\n",
       "      <td>7</td>\n",
       "      <td>26.0</td>\n",
       "      <td>1</td>\n",
       "    </tr>\n",
       "    <tr>\n",
       "      <th>...</th>\n",
       "      <td>...</td>\n",
       "      <td>...</td>\n",
       "      <td>...</td>\n",
       "      <td>...</td>\n",
       "      <td>...</td>\n",
       "      <td>...</td>\n",
       "      <td>...</td>\n",
       "      <td>...</td>\n",
       "      <td>...</td>\n",
       "      <td>...</td>\n",
       "      <td>...</td>\n",
       "      <td>...</td>\n",
       "      <td>...</td>\n",
       "      <td>...</td>\n",
       "      <td>...</td>\n",
       "      <td>...</td>\n",
       "      <td>...</td>\n",
       "      <td>...</td>\n",
       "      <td>...</td>\n",
       "      <td>...</td>\n",
       "      <td>...</td>\n",
       "    </tr>\n",
       "    <tr>\n",
       "      <th>9135</th>\n",
       "      <td>95030190</td>\n",
       "      <td>0.0</td>\n",
       "      <td>0.0</td>\n",
       "      <td>0.0</td>\n",
       "      <td>0.0</td>\n",
       "      <td>0.086024</td>\n",
       "      <td>0.090940</td>\n",
       "      <td>0.0</td>\n",
       "      <td>0.034410</td>\n",
       "      <td>0.0</td>\n",
       "      <td>...</td>\n",
       "      <td>0.0</td>\n",
       "      <td>0.012289</td>\n",
       "      <td>1772.547826</td>\n",
       "      <td>40768.60</td>\n",
       "      <td>23</td>\n",
       "      <td>0.26</td>\n",
       "      <td>0.00</td>\n",
       "      <td>7</td>\n",
       "      <td>33.0</td>\n",
       "      <td>1</td>\n",
       "    </tr>\n",
       "    <tr>\n",
       "      <th>9136</th>\n",
       "      <td>97124178</td>\n",
       "      <td>0.0</td>\n",
       "      <td>0.0</td>\n",
       "      <td>0.0</td>\n",
       "      <td>0.0</td>\n",
       "      <td>0.000000</td>\n",
       "      <td>0.000000</td>\n",
       "      <td>0.0</td>\n",
       "      <td>0.000000</td>\n",
       "      <td>0.0</td>\n",
       "      <td>...</td>\n",
       "      <td>0.0</td>\n",
       "      <td>0.000000</td>\n",
       "      <td>1189.640000</td>\n",
       "      <td>1189.64</td>\n",
       "      <td>1</td>\n",
       "      <td>0.00</td>\n",
       "      <td>0.00</td>\n",
       "      <td>2</td>\n",
       "      <td>31.0</td>\n",
       "      <td>1</td>\n",
       "    </tr>\n",
       "    <tr>\n",
       "      <th>9137</th>\n",
       "      <td>96719933</td>\n",
       "      <td>0.0</td>\n",
       "      <td>0.0</td>\n",
       "      <td>0.0</td>\n",
       "      <td>0.0</td>\n",
       "      <td>0.054801</td>\n",
       "      <td>0.024749</td>\n",
       "      <td>0.0</td>\n",
       "      <td>0.019445</td>\n",
       "      <td>0.0</td>\n",
       "      <td>...</td>\n",
       "      <td>0.0</td>\n",
       "      <td>0.010607</td>\n",
       "      <td>2068.651905</td>\n",
       "      <td>43441.69</td>\n",
       "      <td>21</td>\n",
       "      <td>0.43</td>\n",
       "      <td>0.00</td>\n",
       "      <td>2</td>\n",
       "      <td>30.0</td>\n",
       "      <td>1</td>\n",
       "    </tr>\n",
       "    <tr>\n",
       "      <th>9138</th>\n",
       "      <td>96270167</td>\n",
       "      <td>0.0</td>\n",
       "      <td>0.0</td>\n",
       "      <td>0.0</td>\n",
       "      <td>0.0</td>\n",
       "      <td>0.028060</td>\n",
       "      <td>0.016034</td>\n",
       "      <td>0.0</td>\n",
       "      <td>0.124267</td>\n",
       "      <td>0.0</td>\n",
       "      <td>...</td>\n",
       "      <td>0.0</td>\n",
       "      <td>0.000000</td>\n",
       "      <td>1673.203333</td>\n",
       "      <td>15058.83</td>\n",
       "      <td>9</td>\n",
       "      <td>0.11</td>\n",
       "      <td>0.00</td>\n",
       "      <td>2</td>\n",
       "      <td>38.0</td>\n",
       "      <td>1</td>\n",
       "    </tr>\n",
       "    <tr>\n",
       "      <th>9139</th>\n",
       "      <td>94744998</td>\n",
       "      <td>0.0</td>\n",
       "      <td>0.0</td>\n",
       "      <td>0.0</td>\n",
       "      <td>0.0</td>\n",
       "      <td>0.119023</td>\n",
       "      <td>0.009919</td>\n",
       "      <td>0.0</td>\n",
       "      <td>0.009919</td>\n",
       "      <td>0.0</td>\n",
       "      <td>...</td>\n",
       "      <td>0.0</td>\n",
       "      <td>0.029756</td>\n",
       "      <td>1644.145000</td>\n",
       "      <td>6576.58</td>\n",
       "      <td>4</td>\n",
       "      <td>0.25</td>\n",
       "      <td>0.00</td>\n",
       "      <td>3</td>\n",
       "      <td>29.0</td>\n",
       "      <td>1</td>\n",
       "    </tr>\n",
       "  </tbody>\n",
       "</table>\n",
       "<p>9140 rows × 73 columns</p>\n",
       "</div>"
      ],
      "text/plain": [
       "       buyer_id  Автотовары  Аксессуары и галантерея  \\\n",
       "0     103330000         0.0                      0.0   \n",
       "1      96891201         0.0                      0.0   \n",
       "2      95223557         0.0                      0.0   \n",
       "3      97602945         0.0                      0.0   \n",
       "4      95925823         0.0                      0.0   \n",
       "...         ...         ...                      ...   \n",
       "9135   95030190         0.0                      0.0   \n",
       "9136   97124178         0.0                      0.0   \n",
       "9137   96719933         0.0                      0.0   \n",
       "9138   96270167         0.0                      0.0   \n",
       "9139   94744998         0.0                      0.0   \n",
       "\n",
       "      Аудио, видео, цифровая техника и аксессу  Багаж   Бакалея  \\\n",
       "0                                          0.0    0.0  0.000000   \n",
       "1                                          0.0    0.0  0.047923   \n",
       "2                                          0.0    0.0  0.043177   \n",
       "3                                          0.0    0.0  0.053479   \n",
       "4                                          0.0    0.0  0.103793   \n",
       "...                                        ...    ...       ...   \n",
       "9135                                       0.0    0.0  0.086024   \n",
       "9136                                       0.0    0.0  0.000000   \n",
       "9137                                       0.0    0.0  0.054801   \n",
       "9138                                       0.0    0.0  0.028060   \n",
       "9139                                       0.0    0.0  0.119023   \n",
       "\n",
       "      Безалкогольные напитки  Бытовая техника  \\\n",
       "0                   0.000000              0.0   \n",
       "1                   0.000000              0.0   \n",
       "2                   0.071513              0.0   \n",
       "3                   0.000000              0.0   \n",
       "4                   0.065553              0.0   \n",
       "...                      ...              ...   \n",
       "9135                0.090940              0.0   \n",
       "9136                0.000000              0.0   \n",
       "9137                0.024749              0.0   \n",
       "9138                0.016034              0.0   \n",
       "9139                0.009919              0.0   \n",
       "\n",
       "      Бытовая химия, хозяйственные товары  Вино  ...  Электротовары      Яйцо  \\\n",
       "0                                0.000000   0.0  ...            0.0  0.024718   \n",
       "1                                0.019169   0.0  ...            0.0  0.000000   \n",
       "2                                0.009445   0.0  ...            0.0  0.000000   \n",
       "3                                0.073534   0.0  ...            0.0  0.040109   \n",
       "4                                0.065553   0.0  ...            0.0  0.010926   \n",
       "...                                   ...   ...  ...            ...       ...   \n",
       "9135                             0.034410   0.0  ...            0.0  0.012289   \n",
       "9136                             0.000000   0.0  ...            0.0  0.000000   \n",
       "9137                             0.019445   0.0  ...            0.0  0.010607   \n",
       "9138                             0.124267   0.0  ...            0.0  0.000000   \n",
       "9139                             0.009919   0.0  ...            0.0  0.029756   \n",
       "\n",
       "        avg_check   revenue  frequency  pcode_orders_percent  \\\n",
       "0     3376.030000   3376.03          1                  1.00   \n",
       "1     2155.326667   6465.98          3                  0.67   \n",
       "2     2840.911667  51136.41         18                  0.56   \n",
       "3     6723.440000  13446.88          2                  0.00   \n",
       "4     1644.107143  23017.50         14                  0.00   \n",
       "...           ...       ...        ...                   ...   \n",
       "9135  1772.547826  40768.60         23                  0.26   \n",
       "9136  1189.640000   1189.64          1                  0.00   \n",
       "9137  2068.651905  43441.69         21                  0.43   \n",
       "9138  1673.203333  15058.83          9                  0.11   \n",
       "9139  1644.145000   6576.58          4                  0.25   \n",
       "\n",
       "      express_orders_percent  labels_10   age  sex  \n",
       "0                       0.00          1  42.0    1  \n",
       "1                       0.00          2  36.0    1  \n",
       "2                       0.00          8  34.0    1  \n",
       "3                       0.00          6  33.0    1  \n",
       "4                       0.29          7  26.0    1  \n",
       "...                      ...        ...   ...  ...  \n",
       "9135                    0.00          7  33.0    1  \n",
       "9136                    0.00          2  31.0    1  \n",
       "9137                    0.00          2  30.0    1  \n",
       "9138                    0.00          2  38.0    1  \n",
       "9139                    0.00          3  29.0    1  \n",
       "\n",
       "[9140 rows x 73 columns]"
      ]
     },
     "execution_count": 56,
     "metadata": {},
     "output_type": "execute_result"
    }
   ],
   "source": [
    "additional"
   ]
  },
  {
   "cell_type": "code",
   "execution_count": 59,
   "metadata": {},
   "outputs": [
    {
     "data": {
      "text/html": [
       "<div>\n",
       "<style scoped>\n",
       "    .dataframe tbody tr th:only-of-type {\n",
       "        vertical-align: middle;\n",
       "    }\n",
       "\n",
       "    .dataframe tbody tr th {\n",
       "        vertical-align: top;\n",
       "    }\n",
       "\n",
       "    .dataframe thead th {\n",
       "        text-align: right;\n",
       "    }\n",
       "</style>\n",
       "<table border=\"1\" class=\"dataframe\">\n",
       "  <thead>\n",
       "    <tr style=\"text-align: right;\">\n",
       "      <th>labels_10</th>\n",
       "      <th>1</th>\n",
       "      <th>2</th>\n",
       "      <th>3</th>\n",
       "      <th>4</th>\n",
       "      <th>5</th>\n",
       "      <th>6</th>\n",
       "      <th>7</th>\n",
       "      <th>8</th>\n",
       "      <th>9</th>\n",
       "      <th>10</th>\n",
       "    </tr>\n",
       "  </thead>\n",
       "  <tbody>\n",
       "    <tr>\n",
       "      <th>sex</th>\n",
       "      <td>0.819913</td>\n",
       "      <td>0.885496</td>\n",
       "      <td>0.855</td>\n",
       "      <td>0.820652</td>\n",
       "      <td>0.828092</td>\n",
       "      <td>0.823467</td>\n",
       "      <td>0.824468</td>\n",
       "      <td>0.900198</td>\n",
       "      <td>0.798137</td>\n",
       "      <td>0.777209</td>\n",
       "    </tr>\n",
       "  </tbody>\n",
       "</table>\n",
       "</div>"
      ],
      "text/plain": [
       "labels_10        1         2      3         4         5         6         7   \\\n",
       "sex        0.819913  0.885496  0.855  0.820652  0.828092  0.823467  0.824468   \n",
       "\n",
       "labels_10        8         9         10  \n",
       "sex        0.900198  0.798137  0.777209  "
      ]
     },
     "execution_count": 59,
     "metadata": {},
     "output_type": "execute_result"
    }
   ],
   "source": [
    "pd.DataFrame(additional.pivot_table(index='labels_10', aggfunc='mean'))[['sex']].transpose()"
   ]
  },
  {
   "cell_type": "code",
   "execution_count": null,
   "metadata": {},
   "outputs": [],
   "source": []
  },
  {
   "cell_type": "code",
   "execution_count": 54,
   "metadata": {},
   "outputs": [
    {
     "data": {
      "text/html": [
       "<div>\n",
       "<style scoped>\n",
       "    .dataframe tbody tr th:only-of-type {\n",
       "        vertical-align: middle;\n",
       "    }\n",
       "\n",
       "    .dataframe tbody tr th {\n",
       "        vertical-align: top;\n",
       "    }\n",
       "\n",
       "    .dataframe thead th {\n",
       "        text-align: right;\n",
       "    }\n",
       "</style>\n",
       "<table border=\"1\" class=\"dataframe\">\n",
       "  <thead>\n",
       "    <tr style=\"text-align: right;\">\n",
       "      <th></th>\n",
       "      <th>Автотовары</th>\n",
       "      <th>Аксессуары и галантерея</th>\n",
       "      <th>Аудио, видео, цифровая техника и аксессу</th>\n",
       "      <th>Багаж</th>\n",
       "      <th>Бакалея</th>\n",
       "      <th>Безалкогольные напитки</th>\n",
       "      <th>Бытовая техника</th>\n",
       "      <th>Бытовая химия, хозяйственные товары</th>\n",
       "      <th>Вино</th>\n",
       "      <th>Гигиенические средства</th>\n",
       "      <th>...</th>\n",
       "      <th>Функциональное питание</th>\n",
       "      <th>Шоколадные кондитерские изделия</th>\n",
       "      <th>Электротовары</th>\n",
       "      <th>Яйцо</th>\n",
       "      <th>avg_check</th>\n",
       "      <th>revenue</th>\n",
       "      <th>frequency</th>\n",
       "      <th>pcode_orders_percent</th>\n",
       "      <th>express_orders_percent</th>\n",
       "      <th>labels_10</th>\n",
       "    </tr>\n",
       "  </thead>\n",
       "  <tbody>\n",
       "    <tr>\n",
       "      <th>0</th>\n",
       "      <td>0.0</td>\n",
       "      <td>0.0</td>\n",
       "      <td>0.0</td>\n",
       "      <td>0.0</td>\n",
       "      <td>0.071357</td>\n",
       "      <td>0.089197</td>\n",
       "      <td>0.0</td>\n",
       "      <td>0.089197</td>\n",
       "      <td>0.0</td>\n",
       "      <td>0.071357</td>\n",
       "      <td>...</td>\n",
       "      <td>0.0</td>\n",
       "      <td>0.036678</td>\n",
       "      <td>0.0</td>\n",
       "      <td>0.017839</td>\n",
       "      <td>3899.8225</td>\n",
       "      <td>15599.29</td>\n",
       "      <td>4</td>\n",
       "      <td>0.0</td>\n",
       "      <td>0.0</td>\n",
       "      <td>1</td>\n",
       "    </tr>\n",
       "    <tr>\n",
       "      <th>1</th>\n",
       "      <td>0.0</td>\n",
       "      <td>0.0</td>\n",
       "      <td>0.0</td>\n",
       "      <td>0.0</td>\n",
       "      <td>0.085596</td>\n",
       "      <td>0.000000</td>\n",
       "      <td>0.0</td>\n",
       "      <td>0.028532</td>\n",
       "      <td>0.0</td>\n",
       "      <td>0.000000</td>\n",
       "      <td>...</td>\n",
       "      <td>0.0</td>\n",
       "      <td>0.000000</td>\n",
       "      <td>0.0</td>\n",
       "      <td>0.057064</td>\n",
       "      <td>1704.1350</td>\n",
       "      <td>3408.27</td>\n",
       "      <td>2</td>\n",
       "      <td>0.5</td>\n",
       "      <td>0.0</td>\n",
       "      <td>4</td>\n",
       "    </tr>\n",
       "  </tbody>\n",
       "</table>\n",
       "<p>2 rows × 70 columns</p>\n",
       "</div>"
      ],
      "text/plain": [
       "   Автотовары  Аксессуары и галантерея  \\\n",
       "0         0.0                      0.0   \n",
       "1         0.0                      0.0   \n",
       "\n",
       "   Аудио, видео, цифровая техника и аксессу  Багаж   Бакалея  \\\n",
       "0                                       0.0    0.0  0.071357   \n",
       "1                                       0.0    0.0  0.085596   \n",
       "\n",
       "   Безалкогольные напитки  Бытовая техника  \\\n",
       "0                0.089197              0.0   \n",
       "1                0.000000              0.0   \n",
       "\n",
       "   Бытовая химия, хозяйственные товары  Вино  Гигиенические средства  ...  \\\n",
       "0                             0.089197   0.0                0.071357  ...   \n",
       "1                             0.028532   0.0                0.000000  ...   \n",
       "\n",
       "   Функциональное питание  Шоколадные кондитерские изделия  Электротовары  \\\n",
       "0                     0.0                         0.036678            0.0   \n",
       "1                     0.0                         0.000000            0.0   \n",
       "\n",
       "       Яйцо  avg_check   revenue  frequency  pcode_orders_percent  \\\n",
       "0  0.017839  3899.8225  15599.29          4                   0.0   \n",
       "1  0.057064  1704.1350   3408.27          2                   0.5   \n",
       "\n",
       "   express_orders_percent  labels_10  \n",
       "0                     0.0          1  \n",
       "1                     0.0          4  \n",
       "\n",
       "[2 rows x 70 columns]"
      ]
     },
     "execution_count": 54,
     "metadata": {},
     "output_type": "execute_result"
    }
   ],
   "source": [
    "df_vis.head(2)"
   ]
  },
  {
   "cell_type": "code",
   "execution_count": 55,
   "metadata": {},
   "outputs": [
    {
     "name": "stdout",
     "output_type": "stream",
     "text": [
      "Детское питание\n"
     ]
    },
    {
     "data": {
      "text/plain": [
       "<AxesSubplot:xlabel='labels_10', ylabel='Детское питание'>"
      ]
     },
     "execution_count": 55,
     "metadata": {},
     "output_type": "execute_result"
    },
    {
     "data": {
      "image/png": "[encoded data removed]",
      "text/plain": [
       "<Figure size 864x504 with 1 Axes>"
      ]
     },
     "metadata": {},
     "output_type": "display_data"
    }
   ],
   "source": [
    "print(\"Детское питание\")\n",
    "sns.boxplot(x=\"labels_10\", y=\"Детское питание\", data=df_vis, showfliers = False)"
   ]
  },
  {
   "cell_type": "code",
   "execution_count": 56,
   "metadata": {},
   "outputs": [
    {
     "name": "stdout",
     "output_type": "stream",
     "text": [
      "Товары для животных\n"
     ]
    },
    {
     "data": {
      "text/plain": [
       "<AxesSubplot:xlabel='labels_10', ylabel='Товары для животных'>"
      ]
     },
     "execution_count": 56,
     "metadata": {},
     "output_type": "execute_result"
    },
    {
     "data": {
      "image/png": "[encoded data removed]",
      "text/plain": [
       "<Figure size 864x504 with 1 Axes>"
      ]
     },
     "metadata": {},
     "output_type": "display_data"
    }
   ],
   "source": [
    "print(\"Товары для животных\")\n",
    "sns.boxplot(x=\"labels_10\", y=\"Товары для животных\", data=df_vis, showfliers = False)"
   ]
  },
  {
   "cell_type": "code",
   "execution_count": 63,
   "metadata": {},
   "outputs": [
    {
     "ename": "TypeError",
     "evalue": "distplot() got an unexpected keyword argument 'y'",
     "output_type": "error",
     "traceback": [
      "\u001b[1;31m---------------------------------------------------------------------------\u001b[0m",
      "\u001b[1;31mTypeError\u001b[0m                                 Traceback (most recent call last)",
      "\u001b[1;32mC:\\Users\\AAL~1.KOS\\AppData\\Local\\Temp/ipykernel_20972/3361532603.py\u001b[0m in \u001b[0;36m<module>\u001b[1;34m\u001b[0m\n\u001b[1;32m----> 1\u001b[1;33m \u001b[0msns\u001b[0m\u001b[1;33m.\u001b[0m\u001b[0mdistplot\u001b[0m\u001b[1;33m(\u001b[0m\u001b[0my\u001b[0m\u001b[1;33m=\u001b[0m\u001b[1;34m\"Товары для животных\"\u001b[0m\u001b[1;33m,\u001b[0m \u001b[0mdata\u001b[0m\u001b[1;33m=\u001b[0m\u001b[0mdf_vis\u001b[0m\u001b[1;33m)\u001b[0m\u001b[1;33m\u001b[0m\u001b[1;33m\u001b[0m\u001b[0m\n\u001b[0m",
      "\u001b[1;31mTypeError\u001b[0m: distplot() got an unexpected keyword argument 'y'"
     ]
    }
   ],
   "source": [
    "sns.distplot(y=\"Товары для животных\", data=)"
   ]
  },
  {
   "cell_type": "code",
   "execution_count": 64,
   "metadata": {},
   "outputs": [
    {
     "data": {
      "text/plain": [
       "<seaborn.axisgrid.FacetGrid at 0x18e92efe760>"
      ]
     },
     "execution_count": 64,
     "metadata": {},
     "output_type": "execute_result"
    },
    {
     "data": {
      "image/png": "[encoded data removed]",
      "text/plain": [
       "<Figure size 360x360 with 1 Axes>"
      ]
     },
     "metadata": {},
     "output_type": "display_data"
    }
   ],
   "source": [
    "sns.displot(data=final_df_sample[final_df_sample.labels_10 == 7], x=\"Товары для животных\")"
   ]
  },
  {
   "cell_type": "code",
   "execution_count": 57,
   "metadata": {},
   "outputs": [
    {
     "name": "stdout",
     "output_type": "stream",
     "text": [
      "Овощи\n"
     ]
    },
    {
     "data": {
      "text/plain": [
       "<AxesSubplot:xlabel='labels_10', ylabel='Овощи'>"
      ]
     },
     "execution_count": 57,
     "metadata": {},
     "output_type": "execute_result"
    },
    {
     "data": {
      "image/png": "[encoded data removed]",
      "text/plain": [
       "<Figure size 864x504 with 1 Axes>"
      ]
     },
     "metadata": {},
     "output_type": "display_data"
    }
   ],
   "source": [
    "print(\"Овощи\")\n",
    "sns.boxplot(x=\"labels_10\", y=\"Овощи\", data=df_vis, showfliers = False)"
   ]
  },
  {
   "cell_type": "code",
   "execution_count": 58,
   "metadata": {},
   "outputs": [
    {
     "name": "stdout",
     "output_type": "stream",
     "text": [
      "Фрукты\n"
     ]
    },
    {
     "data": {
      "text/plain": [
       "<AxesSubplot:xlabel='labels_10', ylabel='Фрукты'>"
      ]
     },
     "execution_count": 58,
     "metadata": {},
     "output_type": "execute_result"
    },
    {
     "data": {
      "image/png": "[encoded data removed]",
      "text/plain": [
       "<Figure size 864x504 with 1 Axes>"
      ]
     },
     "metadata": {},
     "output_type": "display_data"
    }
   ],
   "source": [
    "print(\"Фрукты\")\n",
    "sns.boxplot(x=\"labels_10\", y=\"Фрукты\", data=df_vis, showfliers = False)"
   ]
  },
  {
   "cell_type": "code",
   "execution_count": null,
   "metadata": {},
   "outputs": [],
   "source": []
  }
 ],
 "metadata": {
  "kernelspec": {
   "display_name": "Python 3",
   "language": "python",
   "name": "python3"
  },
  "language_info": {
   "codemirror_mode": {
    "name": "ipython",
    "version": 3
   },
   "file_extension": ".py",
   "mimetype": "text/x-python",
   "name": "python",
   "nbconvert_exporter": "python",
   "pygments_lexer": "ipython3",
   "version": "3.6.9"
  }
 },
 "nbformat": 4,
 "nbformat_minor": 5
}
