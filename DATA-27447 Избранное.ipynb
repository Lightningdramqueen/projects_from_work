{
 "cells": [
  {
   "cell_type": "code",
   "execution_count": 1,
   "metadata": {},
   "outputs": [
    {
     "name": "stdout",
     "output_type": "stream",
     "text": [
      "Requirement already satisfied: tabulate in /opt/conda/lib/python3.9/site-packages (0.9.0)\n"
     ]
    }
   ],
   "source": [
    "import sys\n",
    "sys.path.append('/home/jovyan/modules')\n",
    "from pre import *\n",
    "from connectors import *\n",
    "pd.set_option('display.max_columns', None)\n",
    "pd.set_option('max_colwidth', 1000)\n",
    "from statsmodels.stats.power import tt_ind_solve_power \n",
    "sys.path.append('/home/jovyan/AB/Content methodology') \n",
    "from econometrics.general import *\n",
    "!pip install tabulate\n",
    "warnings.filterwarnings(\"ignore\")"
   ]
  },
  {
   "cell_type": "markdown",
   "metadata": {},
   "source": [
    "В одном из RTE-чатиков СЕО сокрушался по поводу того, что нет полки с избранными товарами.\n",
    "Гипотеза кажется сомнительной (число избранных товаров и в гросери, и в рте, очевидно, никакущее), но интересной к проработке.\n",
    "\n",
    "Что необходимо\n",
    "\n",
    "Проверить избранные блюда в контексте RTE: \n",
    "\n",
    "* проникновение избранных блюд в рте к активным RTE-пользователям за последний год\n",
    "* как много избранных блюд еще живы - являются доступными к покупке в ресторанах\n",
    "* какое-нибудь хитрое сравнение про избранные в рте и гросери (поштормим вместе с аналитиком), чтобы понять паттерны избранных в рте и гросери\n",
    "\n",
    "Если увидим, что это может быть интересным - запилим полку с избранными товарами и проведем АБ"
   ]
  },
  {
   "cell_type": "code",
   "execution_count": 2,
   "metadata": {},
   "outputs": [],
   "source": [
    "# Выберем все sku из RTE, которые были активны за последний год\n",
    "# Имена меняются, так что берем просто самую последнюю версию\n",
    "\n",
    "date_start = '2022-12-06'\n",
    " \n",
    "##  city,\n",
    "rte_active_sku = \\\n",
    "read_sql_query(f'''\n",
    "select sku\n",
    ", argMax(product_name, li_created_at)  as product_name_\n",
    ", groupUniqArray(r.name) as ret_names\n",
    "\n",
    "\n",
    "from line_items\n",
    "left join int_spree_retailers r on line_items.retailer_id = r.id\n",
    "\n",
    "where li_created_at>toDate('{date_start}')\n",
    "and master_category like '%%RTE%%'\n",
    "and r.name not in ('Test Много Лосося','OperationsTEST')\n",
    "group by sku\n",
    "''')\n"
   ]
  },
  {
   "cell_type": "code",
   "execution_count": null,
   "metadata": {},
   "outputs": [],
   "source": []
  },
  {
   "cell_type": "code",
   "execution_count": 3,
   "metadata": {},
   "outputs": [],
   "source": [
    "# Теперь выберем тех, кто заказывал в RTE за последний год\n",
    "date_start = '2022-12-06'\n",
    "\n",
    "rte_active_users = \\\n",
    "read_sql_query(f'''\n",
    "select user_id from line_items\n",
    "where li_created_at>toDate('{date_start}')\n",
    "and master_category like '%%RTE%%'\n",
    "group by user_id\n",
    "''')\n",
    "\n"
   ]
  },
  {
   "cell_type": "code",
   "execution_count": 4,
   "metadata": {},
   "outputs": [],
   "source": [
    "# И посмотрим на их избранное за последний год - среднее кол-во товаров RTE в избранном, "
   ]
  },
  {
   "cell_type": "code",
   "execution_count": 5,
   "metadata": {},
   "outputs": [],
   "source": [
    "q = f'''\n",
    "select user_id, sku from\n",
    "\"pg-prod-paas-content-favorites\".public.favorites \n",
    "where created_at > date('{date_start}')\n",
    "'''\n",
    "favorites_df = read_sql_query(q, con = 'trino')"
   ]
  },
  {
   "cell_type": "code",
   "execution_count": 6,
   "metadata": {},
   "outputs": [],
   "source": [
    "favorites_df_cut = \\\n",
    "favorites_df[favorites_df['user_id'].isin(rte_active_users.user_id)]"
   ]
  },
  {
   "cell_type": "code",
   "execution_count": 7,
   "metadata": {},
   "outputs": [],
   "source": [
    "favorites_df_cut = \\\n",
    "favorites_df_cut[favorites_df['sku'].isin(rte_active_sku.sku.astype(int))]"
   ]
  },
  {
   "cell_type": "code",
   "execution_count": 8,
   "metadata": {},
   "outputs": [
    {
     "data": {
      "text/plain": [
       "sku    2.58602\n",
       "dtype: float64"
      ]
     },
     "execution_count": 8,
     "metadata": {},
     "output_type": "execute_result"
    }
   ],
   "source": [
    "#Кто добавляет товары - сколько их ?\n",
    "favorites_df_cut.groupby('user_id').count().mean()"
   ]
  },
  {
   "cell_type": "code",
   "execution_count": 34,
   "metadata": {},
   "outputs": [
    {
     "data": {
      "text/html": [
       "<div>\n",
       "<style scoped>\n",
       "    .dataframe tbody tr th:only-of-type {\n",
       "        vertical-align: middle;\n",
       "    }\n",
       "\n",
       "    .dataframe tbody tr th {\n",
       "        vertical-align: top;\n",
       "    }\n",
       "\n",
       "    .dataframe thead th {\n",
       "        text-align: right;\n",
       "    }\n",
       "</style>\n",
       "<table border=\"1\" class=\"dataframe\">\n",
       "  <thead>\n",
       "    <tr style=\"text-align: right;\">\n",
       "      <th></th>\n",
       "      <th>sku</th>\n",
       "    </tr>\n",
       "  </thead>\n",
       "  <tbody>\n",
       "    <tr>\n",
       "      <th>count</th>\n",
       "      <td>62061.000000</td>\n",
       "    </tr>\n",
       "    <tr>\n",
       "      <th>mean</th>\n",
       "      <td>2.586020</td>\n",
       "    </tr>\n",
       "    <tr>\n",
       "      <th>std</th>\n",
       "      <td>5.415144</td>\n",
       "    </tr>\n",
       "    <tr>\n",
       "      <th>min</th>\n",
       "      <td>1.000000</td>\n",
       "    </tr>\n",
       "    <tr>\n",
       "      <th>25%</th>\n",
       "      <td>1.000000</td>\n",
       "    </tr>\n",
       "    <tr>\n",
       "      <th>50%</th>\n",
       "      <td>1.000000</td>\n",
       "    </tr>\n",
       "    <tr>\n",
       "      <th>75%</th>\n",
       "      <td>3.000000</td>\n",
       "    </tr>\n",
       "    <tr>\n",
       "      <th>max</th>\n",
       "      <td>445.000000</td>\n",
       "    </tr>\n",
       "  </tbody>\n",
       "</table>\n",
       "</div>"
      ],
      "text/plain": [
       "                sku\n",
       "count  62061.000000\n",
       "mean       2.586020\n",
       "std        5.415144\n",
       "min        1.000000\n",
       "25%        1.000000\n",
       "50%        1.000000\n",
       "75%        3.000000\n",
       "max      445.000000"
      ]
     },
     "execution_count": 34,
     "metadata": {},
     "output_type": "execute_result"
    }
   ],
   "source": [
    "favorites_df_cut.groupby('user_id').count().describe()"
   ]
  },
  {
   "cell_type": "code",
   "execution_count": null,
   "metadata": {},
   "outputs": [],
   "source": []
  },
  {
   "cell_type": "code",
   "execution_count": null,
   "metadata": {},
   "outputs": [],
   "source": []
  },
  {
   "cell_type": "code",
   "execution_count": null,
   "metadata": {},
   "outputs": [],
   "source": []
  },
  {
   "cell_type": "code",
   "execution_count": null,
   "metadata": {},
   "outputs": [],
   "source": []
  },
  {
   "cell_type": "code",
   "execution_count": null,
   "metadata": {},
   "outputs": [],
   "source": []
  },
  {
   "cell_type": "code",
   "execution_count": null,
   "metadata": {},
   "outputs": [],
   "source": []
  },
  {
   "cell_type": "code",
   "execution_count": null,
   "metadata": {},
   "outputs": [],
   "source": []
  },
  {
   "cell_type": "code",
   "execution_count": null,
   "metadata": {},
   "outputs": [],
   "source": []
  },
  {
   "cell_type": "code",
   "execution_count": 9,
   "metadata": {},
   "outputs": [
    {
     "data": {
      "text/plain": [
       "62061"
      ]
     },
     "execution_count": 9,
     "metadata": {},
     "output_type": "execute_result"
    }
   ],
   "source": [
    "favorites_df_cut.user_id.nunique()"
   ]
  },
  {
   "cell_type": "code",
   "execution_count": 10,
   "metadata": {},
   "outputs": [
    {
     "data": {
      "text/plain": [
       "(1117498, 1)"
      ]
     },
     "execution_count": 10,
     "metadata": {},
     "output_type": "execute_result"
    }
   ],
   "source": [
    "rte_active_users.shape"
   ]
  },
  {
   "cell_type": "code",
   "execution_count": 11,
   "metadata": {},
   "outputs": [
    {
     "data": {
      "text/plain": [
       "0.0555356698624964"
      ]
     },
     "execution_count": 11,
     "metadata": {},
     "output_type": "execute_result"
    }
   ],
   "source": [
    "favorites_df_cut.user_id.nunique() / rte_active_users.shape[0]"
   ]
  },
  {
   "cell_type": "code",
   "execution_count": 12,
   "metadata": {},
   "outputs": [],
   "source": [
    "# Из 1104533 пользователей только у 61425 есть избранное в RTE - около 6%"
   ]
  },
  {
   "cell_type": "code",
   "execution_count": 14,
   "metadata": {},
   "outputs": [],
   "source": [
    "# Выберем все sku из RTE, которые были активны за последний месяц\n",
    "date_start = '2023-11-06'\n",
    "\n",
    "rte_active_sku_1mnth = \\\n",
    "read_sql_query(f'''\n",
    "select sku from line_items\n",
    "where li_created_at>toDate('{date_start}')\n",
    "and master_category like '%%RTE%%'\n",
    "group by sku\n",
    "''')"
   ]
  },
  {
   "cell_type": "code",
   "execution_count": 15,
   "metadata": {},
   "outputs": [],
   "source": [
    "favorites_df_cut_1mnth = \\\n",
    "favorites_df[favorites_df['user_id'].isin(rte_active_users.user_id)]"
   ]
  },
  {
   "cell_type": "code",
   "execution_count": 16,
   "metadata": {},
   "outputs": [],
   "source": [
    "favorites_df_cut_1mnth = \\\n",
    "favorites_df_cut_1mnth[favorites_df_cut_1mnth['sku'].isin(rte_active_sku_1mnth.sku.astype(int))]"
   ]
  },
  {
   "cell_type": "code",
   "execution_count": 17,
   "metadata": {},
   "outputs": [
    {
     "data": {
      "text/plain": [
       "0.9027982877544535"
      ]
     },
     "execution_count": 17,
     "metadata": {},
     "output_type": "execute_result"
    }
   ],
   "source": [
    "favorites_df_cut_1mnth.shape[0]/favorites_df_cut.shape[0]"
   ]
  },
  {
   "cell_type": "code",
   "execution_count": null,
   "metadata": {},
   "outputs": [],
   "source": []
  },
  {
   "cell_type": "markdown",
   "metadata": {
    "tags": []
   },
   "source": [
    "# Гипотеза 0 - что вообще добавляют в избранное? Сделать разбивку по ресторанам и пользвоателя"
   ]
  },
  {
   "cell_type": "code",
   "execution_count": 18,
   "metadata": {},
   "outputs": [],
   "source": [
    "rte_active_sku.sku = \\\n",
    "rte_active_sku.sku.astype(int)"
   ]
  },
  {
   "cell_type": "code",
   "execution_count": 19,
   "metadata": {},
   "outputs": [],
   "source": [
    "favorites_df_upd = \\\n",
    "favorites_df_cut.merge(rte_active_sku)"
   ]
  },
  {
   "cell_type": "code",
   "execution_count": 20,
   "metadata": {},
   "outputs": [],
   "source": [
    "favorites_df_upd['ret_names_len'] = favorites_df_upd.ret_names.map(len)"
   ]
  },
  {
   "cell_type": "code",
   "execution_count": 21,
   "metadata": {},
   "outputs": [],
   "source": [
    "favorites_df_upd['ret_names'] = favorites_df_upd.ret_names.map(set)"
   ]
  },
  {
   "cell_type": "code",
   "execution_count": 22,
   "metadata": {},
   "outputs": [],
   "source": [
    "favorites_df_upd['ret_names_s'] = favorites_df_upd.ret_names.map(str)"
   ]
  },
  {
   "cell_type": "code",
   "execution_count": 23,
   "metadata": {},
   "outputs": [],
   "source": [
    "fav_df_cnt = \\\n",
    "favorites_df_upd.groupby(['sku','product_name_','ret_names_s']).count().reset_index()\\\n",
    "[['sku','product_name_','ret_names_s','user_id']].sort_values(by = 'user_id',ascending=False).reset_index(drop=True)"
   ]
  },
  {
   "cell_type": "code",
   "execution_count": 24,
   "metadata": {},
   "outputs": [
    {
     "data": {
      "text/plain": [
       "count    53457.000000\n",
       "mean         3.002245\n",
       "std         13.178461\n",
       "min          1.000000\n",
       "25%          1.000000\n",
       "50%          1.000000\n",
       "75%          2.000000\n",
       "max        741.000000\n",
       "Name: user_id, dtype: float64"
      ]
     },
     "execution_count": 24,
     "metadata": {},
     "output_type": "execute_result"
    }
   ],
   "source": [
    "fav_df_cnt.user_id.describe()"
   ]
  },
  {
   "cell_type": "code",
   "execution_count": 32,
   "metadata": {},
   "outputs": [
    {
     "data": {
      "text/plain": [
       "(53457, 4)"
      ]
     },
     "execution_count": 32,
     "metadata": {},
     "output_type": "execute_result"
    }
   ],
   "source": [
    "fav_df_cnt.shape"
   ]
  },
  {
   "cell_type": "code",
   "execution_count": null,
   "metadata": {},
   "outputs": [],
   "source": [
    "fav_df_cnt.groupby('ret_names_s').count().mean()\n",
    "## Наполненность "
   ]
  },
  {
   "cell_type": "code",
   "execution_count": null,
   "metadata": {},
   "outputs": [],
   "source": []
  },
  {
   "cell_type": "code",
   "execution_count": 25,
   "metadata": {},
   "outputs": [
    {
     "data": {
      "text/plain": [
       "38.0"
      ]
     },
     "execution_count": 25,
     "metadata": {},
     "output_type": "execute_result"
    }
   ],
   "source": [
    "np.quantile(fav_df_cnt.user_id,0.99)"
   ]
  },
  {
   "cell_type": "code",
   "execution_count": 31,
   "metadata": {},
   "outputs": [
    {
     "data": {
      "text/plain": [
       "(532, 4)"
      ]
     },
     "execution_count": 31,
     "metadata": {},
     "output_type": "execute_result"
    }
   ],
   "source": [
    "fav_df_cnt_huge.shape"
   ]
  },
  {
   "cell_type": "code",
   "execution_count": 30,
   "metadata": {},
   "outputs": [
    {
     "data": {
      "text/html": [
       "<div>\n",
       "<style scoped>\n",
       "    .dataframe tbody tr th:only-of-type {\n",
       "        vertical-align: middle;\n",
       "    }\n",
       "\n",
       "    .dataframe tbody tr th {\n",
       "        vertical-align: top;\n",
       "    }\n",
       "\n",
       "    .dataframe thead th {\n",
       "        text-align: right;\n",
       "    }\n",
       "</style>\n",
       "<table border=\"1\" class=\"dataframe\">\n",
       "  <thead>\n",
       "    <tr style=\"text-align: right;\">\n",
       "      <th></th>\n",
       "      <th>sku</th>\n",
       "      <th>product_name_</th>\n",
       "      <th>ret_names_s</th>\n",
       "      <th>user_id</th>\n",
       "    </tr>\n",
       "  </thead>\n",
       "  <tbody>\n",
       "    <tr>\n",
       "      <th>0</th>\n",
       "      <td>24591923</td>\n",
       "      <td>Кинг Фри большой</td>\n",
       "      <td>{'БУРГЕР КИНГ'}</td>\n",
       "      <td>741</td>\n",
       "    </tr>\n",
       "    <tr>\n",
       "      <th>1</th>\n",
       "      <td>24591903</td>\n",
       "      <td>Чизбургер</td>\n",
       "      <td>{'БУРГЕР КИНГ'}</td>\n",
       "      <td>722</td>\n",
       "    </tr>\n",
       "    <tr>\n",
       "      <th>2</th>\n",
       "      <td>25344057</td>\n",
       "      <td>Баскет Фри</td>\n",
       "      <td>{'KFC'}</td>\n",
       "      <td>603</td>\n",
       "    </tr>\n",
       "    <tr>\n",
       "      <th>3</th>\n",
       "      <td>24591922</td>\n",
       "      <td>Кинг Фри станд</td>\n",
       "      <td>{'БУРГЕР КИНГ'}</td>\n",
       "      <td>497</td>\n",
       "    </tr>\n",
       "    <tr>\n",
       "      <th>4</th>\n",
       "      <td>24591914</td>\n",
       "      <td>Чикенбургер</td>\n",
       "      <td>{'БУРГЕР КИНГ'}</td>\n",
       "      <td>471</td>\n",
       "    </tr>\n",
       "    <tr>\n",
       "      <th>5</th>\n",
       "      <td>25344145</td>\n",
       "      <td>Баскет L 24 Острых Крылышка</td>\n",
       "      <td>{'KFC'}</td>\n",
       "      <td>463</td>\n",
       "    </tr>\n",
       "    <tr>\n",
       "      <th>6</th>\n",
       "      <td>25344024</td>\n",
       "      <td>Соус Сырный</td>\n",
       "      <td>{'KFC'}</td>\n",
       "      <td>454</td>\n",
       "    </tr>\n",
       "    <tr>\n",
       "      <th>7</th>\n",
       "      <td>24591843</td>\n",
       "      <td>Воппер</td>\n",
       "      <td>{'БУРГЕР КИНГ'}</td>\n",
       "      <td>451</td>\n",
       "    </tr>\n",
       "    <tr>\n",
       "      <th>8</th>\n",
       "      <td>26449888</td>\n",
       "      <td>Биг Хит</td>\n",
       "      <td>{'Вкусно - и точка'}</td>\n",
       "      <td>365</td>\n",
       "    </tr>\n",
       "    <tr>\n",
       "      <th>9</th>\n",
       "      <td>26449782</td>\n",
       "      <td>Чикенбургер</td>\n",
       "      <td>{'Вкусно - и точка'}</td>\n",
       "      <td>362</td>\n",
       "    </tr>\n",
       "    <tr>\n",
       "      <th>10</th>\n",
       "      <td>26449833</td>\n",
       "      <td>Чизбургер</td>\n",
       "      <td>{'Вкусно - и точка'}</td>\n",
       "      <td>346</td>\n",
       "    </tr>\n",
       "    <tr>\n",
       "      <th>11</th>\n",
       "      <td>24591926</td>\n",
       "      <td>Наггетсы (12 шт.)</td>\n",
       "      <td>{'БУРГЕР КИНГ'}</td>\n",
       "      <td>343</td>\n",
       "    </tr>\n",
       "    <tr>\n",
       "      <th>12</th>\n",
       "      <td>25344152</td>\n",
       "      <td>Байтсы большие</td>\n",
       "      <td>{'KFC'}</td>\n",
       "      <td>330</td>\n",
       "    </tr>\n",
       "    <tr>\n",
       "      <th>13</th>\n",
       "      <td>24591912</td>\n",
       "      <td>Чикен Тар-Тар</td>\n",
       "      <td>{'БУРГЕР КИНГ'}</td>\n",
       "      <td>326</td>\n",
       "    </tr>\n",
       "    <tr>\n",
       "      <th>14</th>\n",
       "      <td>27470091</td>\n",
       "      <td>Смотрешка</td>\n",
       "      <td>{'ТАНУКИ'}</td>\n",
       "      <td>315</td>\n",
       "    </tr>\n",
       "    <tr>\n",
       "      <th>15</th>\n",
       "      <td>25344065</td>\n",
       "      <td>Картофель Фри Стандартный</td>\n",
       "      <td>{'KFC'}</td>\n",
       "      <td>306</td>\n",
       "    </tr>\n",
       "    <tr>\n",
       "      <th>16</th>\n",
       "      <td>25344064</td>\n",
       "      <td>Два Твистера</td>\n",
       "      <td>{'KFC'}</td>\n",
       "      <td>288</td>\n",
       "    </tr>\n",
       "    <tr>\n",
       "      <th>17</th>\n",
       "      <td>24591847</td>\n",
       "      <td>Гамбургер</td>\n",
       "      <td>{'БУРГЕР КИНГ'}</td>\n",
       "      <td>274</td>\n",
       "    </tr>\n",
       "    <tr>\n",
       "      <th>18</th>\n",
       "      <td>26996966</td>\n",
       "      <td>Терияки Байтс</td>\n",
       "      <td>{'KFC'}</td>\n",
       "      <td>273</td>\n",
       "    </tr>\n",
       "    <tr>\n",
       "      <th>19</th>\n",
       "      <td>25344035</td>\n",
       "      <td>Картофель по-деревенски</td>\n",
       "      <td>{'KFC'}</td>\n",
       "      <td>268</td>\n",
       "    </tr>\n",
       "  </tbody>\n",
       "</table>\n",
       "</div>"
      ],
      "text/plain": [
       "         sku                product_name_           ret_names_s  user_id\n",
       "0   24591923             Кинг Фри большой       {'БУРГЕР КИНГ'}      741\n",
       "1   24591903                    Чизбургер       {'БУРГЕР КИНГ'}      722\n",
       "2   25344057                   Баскет Фри               {'KFC'}      603\n",
       "3   24591922               Кинг Фри станд       {'БУРГЕР КИНГ'}      497\n",
       "4   24591914                  Чикенбургер       {'БУРГЕР КИНГ'}      471\n",
       "5   25344145  Баскет L 24 Острых Крылышка               {'KFC'}      463\n",
       "6   25344024                  Соус Сырный               {'KFC'}      454\n",
       "7   24591843                       Воппер       {'БУРГЕР КИНГ'}      451\n",
       "8   26449888                      Биг Хит  {'Вкусно - и точка'}      365\n",
       "9   26449782                  Чикенбургер  {'Вкусно - и точка'}      362\n",
       "10  26449833                    Чизбургер  {'Вкусно - и точка'}      346\n",
       "11  24591926            Наггетсы (12 шт.)       {'БУРГЕР КИНГ'}      343\n",
       "12  25344152               Байтсы большие               {'KFC'}      330\n",
       "13  24591912                Чикен Тар-Тар       {'БУРГЕР КИНГ'}      326\n",
       "14  27470091                    Смотрешка            {'ТАНУКИ'}      315\n",
       "15  25344065    Картофель Фри Стандартный               {'KFC'}      306\n",
       "16  25344064                 Два Твистера               {'KFC'}      288\n",
       "17  24591847                    Гамбургер       {'БУРГЕР КИНГ'}      274\n",
       "18  26996966                Терияки Байтс               {'KFC'}      273\n",
       "19  25344035      Картофель по-деревенски               {'KFC'}      268"
      ]
     },
     "execution_count": 30,
     "metadata": {},
     "output_type": "execute_result"
    }
   ],
   "source": [
    "fav_df_cnt_huge = \\\n",
    "fav_df_cnt[fav_df_cnt.user_id > 38]\n",
    "fav_df_cnt_huge.head(20)"
   ]
  },
  {
   "cell_type": "code",
   "execution_count": 28,
   "metadata": {},
   "outputs": [
    {
     "data": {
      "text/html": [
       "<div>\n",
       "<style scoped>\n",
       "    .dataframe tbody tr th:only-of-type {\n",
       "        vertical-align: middle;\n",
       "    }\n",
       "\n",
       "    .dataframe tbody tr th {\n",
       "        vertical-align: top;\n",
       "    }\n",
       "\n",
       "    .dataframe thead th {\n",
       "        text-align: right;\n",
       "    }\n",
       "</style>\n",
       "<table border=\"1\" class=\"dataframe\">\n",
       "  <thead>\n",
       "    <tr style=\"text-align: right;\">\n",
       "      <th></th>\n",
       "      <th>ret_names_s</th>\n",
       "      <th>sku</th>\n",
       "    </tr>\n",
       "  </thead>\n",
       "  <tbody>\n",
       "    <tr>\n",
       "      <th>0</th>\n",
       "      <td>{'БУРГЕР КИНГ'}</td>\n",
       "      <td>157</td>\n",
       "    </tr>\n",
       "    <tr>\n",
       "      <th>1</th>\n",
       "      <td>{'KFC'}</td>\n",
       "      <td>103</td>\n",
       "    </tr>\n",
       "    <tr>\n",
       "      <th>2</th>\n",
       "      <td>{'Вкусно - и точка'}</td>\n",
       "      <td>63</td>\n",
       "    </tr>\n",
       "    <tr>\n",
       "      <th>3</th>\n",
       "      <td>{'ТАНУКИ'}</td>\n",
       "      <td>53</td>\n",
       "    </tr>\n",
       "    <tr>\n",
       "      <th>4</th>\n",
       "      <td>{\"Rostic's\"}</td>\n",
       "      <td>41</td>\n",
       "    </tr>\n",
       "    <tr>\n",
       "      <th>5</th>\n",
       "      <td>{'Суши Мастер'}</td>\n",
       "      <td>22</td>\n",
       "    </tr>\n",
       "    <tr>\n",
       "      <th>6</th>\n",
       "      <td>{'МНОГО ЛОСОСЯ'}</td>\n",
       "      <td>22</td>\n",
       "    </tr>\n",
       "    <tr>\n",
       "      <th>7</th>\n",
       "      <td>{'Суши Маркет'}</td>\n",
       "      <td>13</td>\n",
       "    </tr>\n",
       "    <tr>\n",
       "      <th>8</th>\n",
       "      <td>{'Якитория'}</td>\n",
       "      <td>10</td>\n",
       "    </tr>\n",
       "    <tr>\n",
       "      <th>9</th>\n",
       "      <td>{'Best Price Pizza'}</td>\n",
       "      <td>7</td>\n",
       "    </tr>\n",
       "    <tr>\n",
       "      <th>10</th>\n",
       "      <td>{'ТЕРЕМОК'}</td>\n",
       "      <td>7</td>\n",
       "    </tr>\n",
       "    <tr>\n",
       "      <th>11</th>\n",
       "      <td>{'Мир Суши'}</td>\n",
       "      <td>5</td>\n",
       "    </tr>\n",
       "    <tr>\n",
       "      <th>12</th>\n",
       "      <td>{'Галерея Суши'}</td>\n",
       "      <td>4</td>\n",
       "    </tr>\n",
       "    <tr>\n",
       "      <th>13</th>\n",
       "      <td>{'СушиСтор'}</td>\n",
       "      <td>4</td>\n",
       "    </tr>\n",
       "    <tr>\n",
       "      <th>14</th>\n",
       "      <td>{'ТАШИР ПИЦЦА'}</td>\n",
       "      <td>4</td>\n",
       "    </tr>\n",
       "    <tr>\n",
       "      <th>15</th>\n",
       "      <td>{'Sushi Box'}</td>\n",
       "      <td>3</td>\n",
       "    </tr>\n",
       "    <tr>\n",
       "      <th>16</th>\n",
       "      <td>{'МИЛТИ'}</td>\n",
       "      <td>2</td>\n",
       "    </tr>\n",
       "    <tr>\n",
       "      <th>17</th>\n",
       "      <td>{'ПриЕм!'}</td>\n",
       "      <td>2</td>\n",
       "    </tr>\n",
       "    <tr>\n",
       "      <th>18</th>\n",
       "      <td>{'РОЛЛЫ №1'}</td>\n",
       "      <td>2</td>\n",
       "    </tr>\n",
       "    <tr>\n",
       "      <th>19</th>\n",
       "      <td>{'Grow Food'}</td>\n",
       "      <td>2</td>\n",
       "    </tr>\n",
       "    <tr>\n",
       "      <th>20</th>\n",
       "      <td>{'Твоя пицца от TanukiFamily'}</td>\n",
       "      <td>2</td>\n",
       "    </tr>\n",
       "    <tr>\n",
       "      <th>21</th>\n",
       "      <td>{'Шаверлэнд'}</td>\n",
       "      <td>2</td>\n",
       "    </tr>\n",
       "    <tr>\n",
       "      <th>22</th>\n",
       "      <td>{'SUBWAY'}</td>\n",
       "      <td>1</td>\n",
       "    </tr>\n",
       "    <tr>\n",
       "      <th>23</th>\n",
       "      <td>{'FoodBand'}</td>\n",
       "      <td>1</td>\n",
       "    </tr>\n",
       "  </tbody>\n",
       "</table>\n",
       "</div>"
      ],
      "text/plain": [
       "                       ret_names_s  sku\n",
       "0                  {'БУРГЕР КИНГ'}  157\n",
       "1                          {'KFC'}  103\n",
       "2             {'Вкусно - и точка'}   63\n",
       "3                       {'ТАНУКИ'}   53\n",
       "4                     {\"Rostic's\"}   41\n",
       "5                  {'Суши Мастер'}   22\n",
       "6                 {'МНОГО ЛОСОСЯ'}   22\n",
       "7                  {'Суши Маркет'}   13\n",
       "8                     {'Якитория'}   10\n",
       "9             {'Best Price Pizza'}    7\n",
       "10                     {'ТЕРЕМОК'}    7\n",
       "11                    {'Мир Суши'}    5\n",
       "12                {'Галерея Суши'}    4\n",
       "13                    {'СушиСтор'}    4\n",
       "14                 {'ТАШИР ПИЦЦА'}    4\n",
       "15                   {'Sushi Box'}    3\n",
       "16                       {'МИЛТИ'}    2\n",
       "17                      {'ПриЕм!'}    2\n",
       "18                    {'РОЛЛЫ №1'}    2\n",
       "19                   {'Grow Food'}    2\n",
       "20  {'Твоя пицца от TanukiFamily'}    2\n",
       "21                   {'Шаверлэнд'}    2\n",
       "22                      {'SUBWAY'}    1\n",
       "23                    {'FoodBand'}    1"
      ]
     },
     "execution_count": 28,
     "metadata": {},
     "output_type": "execute_result"
    }
   ],
   "source": [
    "fav_df_cnt_huge.groupby('ret_names_s').count()[['sku']].sort_values(by = 'sku', ascending=False).reset_index()"
   ]
  },
  {
   "cell_type": "markdown",
   "metadata": {},
   "source": [
    "## Часть 2. Полку делаем, сколько пользователей ее увидят?"
   ]
  },
  {
   "cell_type": "code",
   "execution_count": null,
   "metadata": {},
   "outputs": [],
   "source": [
    "# [минимум 2 позиции в самом любимом ритейлере], сколько на ритейлере?? Проверить чувтствительность. На цифрах ответить ок не ок \n",
    "# Так как юзер добавил в избранное, срезаем ему шаги и повышаем конверсию\n",
    "# Наша ЦА - RTE добавляют - 5%, больше 2х - 5/4% -> RTE от всех - 0.25% от всего сервиса будут видеть полку на ~1 рте ритейлере\n",
    "## а если разбить по ритейлерам?"
   ]
  },
  {
   "cell_type": "code",
   "execution_count": 45,
   "metadata": {},
   "outputs": [
    {
     "data": {
      "text/plain": [
       "count    77418.000000\n",
       "mean         2.073045\n",
       "std          2.590361\n",
       "min          1.000000\n",
       "25%          1.000000\n",
       "50%          1.000000\n",
       "75%          2.000000\n",
       "max         87.000000\n",
       "Name: sku, dtype: float64"
      ]
     },
     "execution_count": 45,
     "metadata": {},
     "output_type": "execute_result"
    }
   ],
   "source": [
    "favorites_df_upd.groupby(['ret_names_s','user_id']).count()['sku'].describe()"
   ]
  },
  {
   "cell_type": "code",
   "execution_count": null,
   "metadata": {},
   "outputs": [],
   "source": []
  },
  {
   "cell_type": "code",
   "execution_count": null,
   "metadata": {},
   "outputs": [],
   "source": []
  },
  {
   "cell_type": "code",
   "execution_count": null,
   "metadata": {},
   "outputs": [],
   "source": []
  },
  {
   "cell_type": "code",
   "execution_count": 49,
   "metadata": {},
   "outputs": [
    {
     "data": {
      "text/plain": [
       "(26509, 3)"
      ]
     },
     "execution_count": 49,
     "metadata": {},
     "output_type": "execute_result"
    }
   ],
   "source": [
    "favorites_df_upd.groupby(['ret_names_s','user_id']).count()[['sku']].reset_index().query('sku>=2').shape"
   ]
  },
  {
   "cell_type": "code",
   "execution_count": 110,
   "metadata": {},
   "outputs": [],
   "source": [
    "rte_fav_users = \\\n",
    "favorites_df_upd.groupby(['ret_names_s','user_id']).count()[['sku']].reset_index().query('sku>=2').user_id.to_list()"
   ]
  },
  {
   "cell_type": "code",
   "execution_count": 114,
   "metadata": {},
   "outputs": [
    {
     "data": {
      "text/plain": [
       "26509"
      ]
     },
     "execution_count": 114,
     "metadata": {},
     "output_type": "execute_result"
    }
   ],
   "source": [
    "len(rte_fav_users)"
   ]
  },
  {
   "cell_type": "code",
   "execution_count": 112,
   "metadata": {},
   "outputs": [],
   "source": [
    "# куда 5/26к делись?\n",
    "map_users = \\\n",
    "read_sql_query(f'''\n",
    "    select uuid, id as user_id from int_spree_users\n",
    "    where id in {tuple(rte_fav_users)}\n",
    "\n",
    "    ''')\n",
    "# Кто это?\n",
    " "
   ]
  },
  {
   "cell_type": "code",
   "execution_count": null,
   "metadata": {},
   "outputs": [],
   "source": [
    "rte_fav_users"
   ]
  },
  {
   "cell_type": "code",
   "execution_count": 115,
   "metadata": {},
   "outputs": [],
   "source": [
    "rte_fav_users_uuid =  map_users.uuid.to_list()"
   ]
  },
  {
   "cell_type": "code",
   "execution_count": 101,
   "metadata": {},
   "outputs": [],
   "source": [
    "platforms = [ \"android\",'web']\n",
    "end_date = dt.datetime(2023, 12, 9).date() \n",
    "lengths = [1,2,3]\n",
    "start_date = end_date - dt.timedelta(days = 7*max(lengths))"
   ]
  },
  {
   "cell_type": "code",
   "execution_count": 121,
   "metadata": {},
   "outputs": [
    {
     "name": "stdout",
     "output_type": "stream",
     "text": [
      "2023-11-18\n",
      "2023-11-19\n",
      "2023-11-20\n",
      "2023-11-21\n",
      "2023-11-22\n",
      "2023-11-23\n",
      "2023-11-24\n",
      "2023-11-25\n",
      "2023-11-26\n",
      "2023-11-27\n",
      "2023-11-28\n",
      "2023-11-29\n",
      "2023-11-30\n",
      "2023-12-01\n",
      "2023-12-02\n",
      "2023-12-03\n",
      "2023-12-04\n",
      "2023-12-05\n",
      "2023-12-06\n",
      "2023-12-07\n",
      "2023-12-08\n",
      "2023-12-09\n"
     ]
    }
   ],
   "source": [
    "for el in pd.date_range(start = start_date, end = end_date):\n",
    "    exp_date = el.strftime('%Y-%m-%d')\n",
    "    print(exp_date)\n",
    "    \n",
    "    try:\n",
    "        a = pd.read_feather(f'discount/{exp_date}.feather')\n",
    "    except:\n",
    "        to_exp_data = \\\n",
    "    read_sql_query(f'''\n",
    "    select product_added\n",
    "    , conversion\n",
    "    , gmv_per_user\n",
    "    , orders\n",
    "    , checkout_loaded\n",
    "    , cart_viewed\n",
    "    , anonymous_id\n",
    "    , date_msk\n",
    "    , uuid\n",
    "    , platform\n",
    "    from cdm.ab__metrics_data\n",
    "    where date_msk = toDate('{exp_date}')\n",
    "    and uuid<>''\n",
    "\n",
    "    ''')\n",
    "        to_exp_data = to_exp_data[to_exp_data['uuid'].isin(rte_fav_users_uuid)].reset_index(drop=True)\n",
    "\n",
    "        to_exp_data.to_feather(f'discount/{exp_date}.feather')\n",
    "    "
   ]
  },
  {
   "cell_type": "code",
   "execution_count": 122,
   "metadata": {},
   "outputs": [],
   "source": [
    "platforms = [ \"android\",'desktop']\n",
    "traffic_proportions = [ 1]\n",
    "thresholds = [0.05, 0.01]\n",
    "num_of_group = 2"
   ]
  },
  {
   "cell_type": "code",
   "execution_count": 123,
   "metadata": {},
   "outputs": [],
   "source": [
    "metrics = [('product_added_more_than_one','to_enum'),\n",
    "          ('conversion_first','to_enum'),\n",
    "          ('checkout_loaded','cart_viewed'),\n",
    "          ('conversion_second','to_enum')]\n",
    "\n",
    "types = ['ratio','ratio','ratio','ratio','ratio']"
   ]
  },
  {
   "cell_type": "code",
   "execution_count": 124,
   "metadata": {},
   "outputs": [
    {
     "name": "stderr",
     "output_type": "stream",
     "text": [
      "  0%|          | 0/3 [00:00<?, ?it/s]\n",
      "  0%|          | 0/2 [00:00<?, ?it/s]\u001b[A\n",
      "100%|██████████| 2/2 [00:00<00:00,  9.69it/s]\u001b[A\n",
      " 33%|███▎      | 1/3 [00:00<00:00,  3.90it/s]"
     ]
    },
    {
     "name": "stdout",
     "output_type": "stream",
     "text": [
      "4866\n",
      "4866\n",
      "4866\n",
      "4866\n",
      "4866\n",
      "4866\n",
      "4866\n",
      "4866\n",
      "4866\n",
      "4866\n",
      "366\n",
      "366\n",
      "366\n",
      "366\n",
      "366\n",
      "366\n",
      "366\n",
      "366\n",
      "366\n",
      "366\n"
     ]
    },
    {
     "name": "stderr",
     "output_type": "stream",
     "text": [
      "\n",
      "  0%|          | 0/2 [00:00<?, ?it/s]\u001b[A\n",
      "100%|██████████| 2/2 [00:00<00:00,  8.92it/s]\u001b[A\n",
      " 67%|██████▋   | 2/3 [00:00<00:00,  3.47it/s]"
     ]
    },
    {
     "name": "stdout",
     "output_type": "stream",
     "text": [
      "5528\n",
      "5528\n",
      "5528\n",
      "5528\n",
      "5528\n",
      "5528\n",
      "5528\n",
      "5528\n",
      "5528\n",
      "5528\n",
      "528\n",
      "528\n",
      "528\n",
      "528\n",
      "528\n",
      "528\n",
      "528\n",
      "528\n",
      "528\n",
      "528\n"
     ]
    },
    {
     "name": "stderr",
     "output_type": "stream",
     "text": [
      "\n",
      "  0%|          | 0/2 [00:00<?, ?it/s]\u001b[A\n",
      "100%|██████████| 2/2 [00:00<00:00,  7.85it/s]\u001b[A\n",
      "100%|██████████| 3/3 [00:00<00:00,  3.20it/s]"
     ]
    },
    {
     "name": "stdout",
     "output_type": "stream",
     "text": [
      "5890\n",
      "5890\n",
      "5890\n",
      "5890\n",
      "5890\n",
      "5890\n",
      "5890\n",
      "5890\n",
      "5890\n",
      "5890\n",
      "649\n",
      "649\n",
      "649\n",
      "649\n",
      "649\n",
      "649\n",
      "649\n",
      "649\n",
      "649\n",
      "649\n",
      "CPU times: user 975 ms, sys: 44.2 ms, total: 1.02 s\n",
      "Wall time: 940 ms\n"
     ]
    },
    {
     "name": "stderr",
     "output_type": "stream",
     "text": [
      "\n"
     ]
    }
   ],
   "source": [
    "%%time\n",
    "res = {\"platform\": [], \n",
    "       \"length\": [], \n",
    "       \"traffic_proportion\": [], \n",
    "       \"alpha\":[], \n",
    "       \"est\":[],\n",
    "       \"sd\":[],\n",
    "       \"mde_abs\": [], \n",
    "       \"mde_percent\": [],\n",
    "       \"metric\": [],\n",
    "      'nobs_per_group':[]}\n",
    "\n",
    "for l in tqdm(lengths):\n",
    "    new_start_date = end_date - dt.timedelta(days = 7*l)\n",
    "    new_df_list = []\n",
    "    for d in pd.date_range(start = new_start_date, end = end_date):\n",
    "        exp_date = d.strftime('%Y-%m-%d')\n",
    "        new_df_list.append(pd.read_feather(f'discount/{exp_date}.feather'))\n",
    "    \n",
    "    new_df = pd.concat(new_df_list)\n",
    "    \n",
    "    for platform in tqdm(platforms):\n",
    "        \n",
    "        new_df_platform = new_df[new_df['platform']==platform]\n",
    "        new_df_platform = new_df_platform.groupby(['platform','anonymous_id']).sum().reset_index()\n",
    "        \n",
    "        new_df_platform['product_added_more_than_one'] = new_df_platform['product_added']>1 \n",
    "        new_df_platform.replace({'product_added_more_than_one' : {True:1, False:0}}, inplace=True)\n",
    "\n",
    "        new_df_platform['conversion_first'] = new_df_platform['conversion']>0\n",
    "        new_df_platform.replace({'conversion_first' : {True:1, False:0}}, inplace=True)\n",
    "\n",
    "        new_df_platform['conversion_second'] = new_df_platform['conversion']>1\n",
    "        new_df_platform.replace({'conversion_second' : {True:1, False:0}}, inplace=True)\n",
    "        \n",
    "        new_df_platform['to_enum'] = 1\n",
    "        \n",
    "        for proportion in traffic_proportions:\n",
    "            df = new_df_platform.sample(frac = proportion/num_of_group)\n",
    "            for alpha in thresholds:\n",
    "                \n",
    "                for idx, m in enumerate(metrics):\n",
    "                    \n",
    "                    mde_data = calculate_metrics_mde_data(df, m, alpha, platform, num_of_group*proportion, metric_type=types[idx])\n",
    "                    \n",
    "                    res[\"platform\"].append(platform)\n",
    "                    res[\"length\"].append(l)\n",
    "                    res[\"traffic_proportion\"].append(proportion)\n",
    "                    res[\"alpha\"].append(alpha)\n",
    "                    res[\"est\"].append(mde_data[0])\n",
    "                    res[\"sd\"].append(mde_data[1])\n",
    "                    res['nobs_per_group'].append(mde_data[2])\n",
    "                    res[\"mde_percent\"].append(mde_data[3])\n",
    "                    res[\"mde_abs\"].append(mde_data[3] * mde_data[0])\n",
    "                    res[\"metric\"].append(m)\n",
    "        "
   ]
  },
  {
   "cell_type": "code",
   "execution_count": 125,
   "metadata": {},
   "outputs": [],
   "source": [
    "res_df = pd.DataFrame(res)"
   ]
  },
  {
   "cell_type": "code",
   "execution_count": 126,
   "metadata": {},
   "outputs": [],
   "source": [
    "metric_name_dict = {('product_added_more_than_one', 'to_enum'):[\"Конверсия из захода в добавление товара\",'target'],\n",
    "                   ('conversion_first', 'to_enum'):[\"Конверсия из захода в оформление заказа\",\"target\"],\n",
    "                   ('conversion_second', 'to_enum'):[\"Конверсия из захода в повторный заказ\",\"info\"]\n",
    "                   }"
   ]
  },
  {
   "cell_type": "code",
   "execution_count": 127,
   "metadata": {},
   "outputs": [],
   "source": [
    "names=[]\n",
    "types=[]\n",
    "for i in res_df.iterrows():\n",
    "    names.append(metric_name_dict[i[1].metric][0])\n",
    "    types.append(metric_name_dict[i[1].metric][1])\n",
    "\n",
    "res_df['name'] = names\n",
    "res_df['type'] = types "
   ]
  },
  {
   "cell_type": "code",
   "execution_count": 128,
   "metadata": {},
   "outputs": [],
   "source": [
    "res_df = res_df.query('(type==\"target\" and alpha==0.05) or (type==\"info\" and alpha==0.01)').reset_index(drop=True)"
   ]
  },
  {
   "cell_type": "code",
   "execution_count": 136,
   "metadata": {},
   "outputs": [],
   "source": [
    "beauty_res_df = res_df.copy()"
   ]
  },
  {
   "cell_type": "code",
   "execution_count": 137,
   "metadata": {},
   "outputs": [],
   "source": [
    "prc_metrics = ['Конверсия из захода в добавление товара','Конверсия из захода в оформление заказа'\\\n",
    "               ,'Конверсия из корзины в чекаут','Конверсия из захода в повторный заказ']"
   ]
  },
  {
   "cell_type": "code",
   "execution_count": 138,
   "metadata": {},
   "outputs": [],
   "source": [
    "beauty_res_df['est'] = beauty_res_df.apply(\\\n",
    "                lambda x: str(int(x.est*100))+\"%\" if x.name in prc_metrics else round(x.est,2) , axis = 1)"
   ]
  },
  {
   "cell_type": "code",
   "execution_count": 139,
   "metadata": {},
   "outputs": [],
   "source": [
    "beauty_res_df['mde_percent'] = beauty_res_df.apply(\\\n",
    "                lambda x: str(round(x.mde_percent*100,1))+\"%\"  , axis = 1)"
   ]
  },
  {
   "cell_type": "code",
   "execution_count": 140,
   "metadata": {},
   "outputs": [
    {
     "data": {
      "text/plain": [
       "(30, 12)"
      ]
     },
     "execution_count": 140,
     "metadata": {},
     "output_type": "execute_result"
    }
   ],
   "source": [
    "beauty_res_df.shape"
   ]
  },
  {
   "cell_type": "code",
   "execution_count": 144,
   "metadata": {},
   "outputs": [
    {
     "name": "stdout",
     "output_type": "stream",
     "text": [
      "|   length | platform   | name                                    |   traffic_proportion |   est |       sd |   nobs_per_group | mde_percent   |\n",
      "|---------:|:-----------|:----------------------------------------|---------------------:|------:|---------:|-----------------:|:--------------|\n",
      "|        1 | android    | Конверсия из захода в добавление товара |                    1 |  0.65 | 0.477462 |             4866 | 4.2%          |\n",
      "|        1 | android    | Конверсия из захода в оформление заказа |                    1 |  0.57 | 0.49482  |             4866 | 4.9%          |\n",
      "|        2 | android    | Конверсия из захода в добавление товара |                    1 |  0.72 | 0.448698 |             5528 | 3.3%          |\n",
      "|        2 | android    | Конверсия из захода в оформление заказа |                    1 |  0.67 | 0.471724 |             5528 | 3.8%          |\n",
      "|        3 | android    | Конверсия из захода в добавление товара |                    1 |  0.75 | 0.432213 |             5890 | 3.0%          |\n",
      "|        3 | android    | Конверсия из захода в оформление заказа |                    1 |  0.7  | 0.460126 |             5890 | 3.4%          |\n"
     ]
    }
   ],
   "source": [
    "# target\n",
    "print(\n",
    "    beauty_res_df[beauty_res_df['type']=='target']\\\n",
    "    [beauty_res_df['platform']=='android']\\\n",
    "[['length','platform','name','traffic_proportion','est','sd','nobs_per_group','mde_percent']]\\\n",
    "    [beauty_res_df['name'].isin(['Конверсия из захода в добавление товара','Конверсия из захода в оформление заказа'])]\n",
    "    .sort_values(by = ['length','platform','traffic_proportion','name'])\n",
    "    .to_markdown(index=False)\n",
    ")"
   ]
  },
  {
   "cell_type": "code",
   "execution_count": 148,
   "metadata": {},
   "outputs": [
    {
     "data": {
      "text/html": [
       "<div>\n",
       "<style scoped>\n",
       "    .dataframe tbody tr th:only-of-type {\n",
       "        vertical-align: middle;\n",
       "    }\n",
       "\n",
       "    .dataframe tbody tr th {\n",
       "        vertical-align: top;\n",
       "    }\n",
       "\n",
       "    .dataframe thead th {\n",
       "        text-align: right;\n",
       "    }\n",
       "</style>\n",
       "<table border=\"1\" class=\"dataframe\">\n",
       "  <thead>\n",
       "    <tr style=\"text-align: right;\">\n",
       "      <th></th>\n",
       "      <th>length</th>\n",
       "      <th>platform</th>\n",
       "      <th>name</th>\n",
       "      <th>traffic_proportion</th>\n",
       "      <th>est</th>\n",
       "      <th>sd</th>\n",
       "      <th>nobs_per_group</th>\n",
       "      <th>mde_percent</th>\n",
       "    </tr>\n",
       "  </thead>\n",
       "  <tbody>\n",
       "    <tr>\n",
       "      <th>0</th>\n",
       "      <td>1</td>\n",
       "      <td>android</td>\n",
       "      <td>Конверсия из захода в добавление товара</td>\n",
       "      <td>1</td>\n",
       "      <td>0.65</td>\n",
       "      <td>0.477462</td>\n",
       "      <td>4866</td>\n",
       "      <td>4.2%</td>\n",
       "    </tr>\n",
       "    <tr>\n",
       "      <th>1</th>\n",
       "      <td>1</td>\n",
       "      <td>android</td>\n",
       "      <td>Конверсия из захода в оформление заказа</td>\n",
       "      <td>1</td>\n",
       "      <td>0.57</td>\n",
       "      <td>0.494820</td>\n",
       "      <td>4866</td>\n",
       "      <td>4.9%</td>\n",
       "    </tr>\n",
       "    <tr>\n",
       "      <th>2</th>\n",
       "      <td>2</td>\n",
       "      <td>android</td>\n",
       "      <td>Конверсия из захода в добавление товара</td>\n",
       "      <td>1</td>\n",
       "      <td>0.72</td>\n",
       "      <td>0.448698</td>\n",
       "      <td>5528</td>\n",
       "      <td>3.3%</td>\n",
       "    </tr>\n",
       "    <tr>\n",
       "      <th>3</th>\n",
       "      <td>2</td>\n",
       "      <td>android</td>\n",
       "      <td>Конверсия из захода в оформление заказа</td>\n",
       "      <td>1</td>\n",
       "      <td>0.67</td>\n",
       "      <td>0.471724</td>\n",
       "      <td>5528</td>\n",
       "      <td>3.8%</td>\n",
       "    </tr>\n",
       "    <tr>\n",
       "      <th>4</th>\n",
       "      <td>3</td>\n",
       "      <td>android</td>\n",
       "      <td>Конверсия из захода в добавление товара</td>\n",
       "      <td>1</td>\n",
       "      <td>0.75</td>\n",
       "      <td>0.432213</td>\n",
       "      <td>5890</td>\n",
       "      <td>3.0%</td>\n",
       "    </tr>\n",
       "    <tr>\n",
       "      <th>5</th>\n",
       "      <td>3</td>\n",
       "      <td>android</td>\n",
       "      <td>Конверсия из захода в оформление заказа</td>\n",
       "      <td>1</td>\n",
       "      <td>0.70</td>\n",
       "      <td>0.460126</td>\n",
       "      <td>5890</td>\n",
       "      <td>3.4%</td>\n",
       "    </tr>\n",
       "  </tbody>\n",
       "</table>\n",
       "</div>"
      ],
      "text/plain": [
       "   length platform                                     name  \\\n",
       "0       1  android  Конверсия из захода в добавление товара   \n",
       "1       1  android  Конверсия из захода в оформление заказа   \n",
       "2       2  android  Конверсия из захода в добавление товара   \n",
       "3       2  android  Конверсия из захода в оформление заказа   \n",
       "4       3  android  Конверсия из захода в добавление товара   \n",
       "5       3  android  Конверсия из захода в оформление заказа   \n",
       "\n",
       "   traffic_proportion   est        sd  nobs_per_group mde_percent  \n",
       "0                   1  0.65  0.477462            4866        4.2%  \n",
       "1                   1  0.57  0.494820            4866        4.9%  \n",
       "2                   1  0.72  0.448698            5528        3.3%  \n",
       "3                   1  0.67  0.471724            5528        3.8%  \n",
       "4                   1  0.75  0.432213            5890        3.0%  \n",
       "5                   1  0.70  0.460126            5890        3.4%  "
      ]
     },
     "execution_count": 148,
     "metadata": {},
     "output_type": "execute_result"
    }
   ],
   "source": [
    "beauty_res_df[beauty_res_df['type']=='target']\\\n",
    "[beauty_res_df['platform']=='android']\\\n",
    "[['length','platform','name','traffic_proportion','est','sd','nobs_per_group','mde_percent']]\\\n",
    "[beauty_res_df['name'].isin(['Конверсия из захода в добавление товара','Конверсия из захода в оформление заказа'])]\\\n",
    ".sort_values(by = ['length','platform','traffic_proportion','name']).reset_index(drop=True)"
   ]
  },
  {
   "cell_type": "code",
   "execution_count": null,
   "metadata": {},
   "outputs": [],
   "source": []
  },
  {
   "cell_type": "code",
   "execution_count": null,
   "metadata": {},
   "outputs": [],
   "source": []
  },
  {
   "cell_type": "markdown",
   "metadata": {
    "tags": []
   },
   "source": [
    "# Гипотеза 1 - в избранное добавляют то, что часто недоступно"
   ]
  },
  {
   "cell_type": "code",
   "execution_count": null,
   "metadata": {},
   "outputs": [],
   "source": []
  },
  {
   "cell_type": "code",
   "execution_count": 29,
   "metadata": {},
   "outputs": [
    {
     "data": {
      "text/html": [
       "<div>\n",
       "<style scoped>\n",
       "    .dataframe tbody tr th:only-of-type {\n",
       "        vertical-align: middle;\n",
       "    }\n",
       "\n",
       "    .dataframe tbody tr th {\n",
       "        vertical-align: top;\n",
       "    }\n",
       "\n",
       "    .dataframe thead th {\n",
       "        text-align: right;\n",
       "    }\n",
       "</style>\n",
       "<table border=\"1\" class=\"dataframe\">\n",
       "  <thead>\n",
       "    <tr style=\"text-align: right;\">\n",
       "      <th></th>\n",
       "      <th>user_id</th>\n",
       "      <th>sku</th>\n",
       "    </tr>\n",
       "  </thead>\n",
       "  <tbody>\n",
       "    <tr>\n",
       "      <th>11551</th>\n",
       "      <td>19072885</td>\n",
       "      <td>21972843</td>\n",
       "    </tr>\n",
       "    <tr>\n",
       "      <th>20650</th>\n",
       "      <td>9681446</td>\n",
       "      <td>22941002</td>\n",
       "    </tr>\n",
       "    <tr>\n",
       "      <th>29723</th>\n",
       "      <td>11888247</td>\n",
       "      <td>26253298</td>\n",
       "    </tr>\n",
       "    <tr>\n",
       "      <th>30172</th>\n",
       "      <td>19038649</td>\n",
       "      <td>23233521</td>\n",
       "    </tr>\n",
       "    <tr>\n",
       "      <th>30173</th>\n",
       "      <td>19038649</td>\n",
       "      <td>23233519</td>\n",
       "    </tr>\n",
       "    <tr>\n",
       "      <th>...</th>\n",
       "      <td>...</td>\n",
       "      <td>...</td>\n",
       "    </tr>\n",
       "    <tr>\n",
       "      <th>20350573</th>\n",
       "      <td>17840394</td>\n",
       "      <td>25344145</td>\n",
       "    </tr>\n",
       "    <tr>\n",
       "      <th>20350575</th>\n",
       "      <td>17840394</td>\n",
       "      <td>25344024</td>\n",
       "    </tr>\n",
       "    <tr>\n",
       "      <th>20350576</th>\n",
       "      <td>17840394</td>\n",
       "      <td>25344164</td>\n",
       "    </tr>\n",
       "    <tr>\n",
       "      <th>20350578</th>\n",
       "      <td>17840394</td>\n",
       "      <td>25344175</td>\n",
       "    </tr>\n",
       "    <tr>\n",
       "      <th>20363698</th>\n",
       "      <td>25336978</td>\n",
       "      <td>26314238</td>\n",
       "    </tr>\n",
       "  </tbody>\n",
       "</table>\n",
       "<p>160491 rows × 2 columns</p>\n",
       "</div>"
      ],
      "text/plain": [
       "           user_id       sku\n",
       "11551     19072885  21972843\n",
       "20650      9681446  22941002\n",
       "29723     11888247  26253298\n",
       "30172     19038649  23233521\n",
       "30173     19038649  23233519\n",
       "...            ...       ...\n",
       "20350573  17840394  25344145\n",
       "20350575  17840394  25344024\n",
       "20350576  17840394  25344164\n",
       "20350578  17840394  25344175\n",
       "20363698  25336978  26314238\n",
       "\n",
       "[160491 rows x 2 columns]"
      ]
     },
     "execution_count": 29,
     "metadata": {},
     "output_type": "execute_result"
    }
   ],
   "source": [
    "favorites_df_cut"
   ]
  },
  {
   "cell_type": "code",
   "execution_count": null,
   "metadata": {},
   "outputs": [],
   "source": []
  },
  {
   "cell_type": "code",
   "execution_count": null,
   "metadata": {},
   "outputs": [],
   "source": []
  },
  {
   "cell_type": "code",
   "execution_count": null,
   "metadata": {},
   "outputs": [],
   "source": []
  },
  {
   "cell_type": "code",
   "execution_count": null,
   "metadata": {},
   "outputs": [],
   "source": []
  },
  {
   "cell_type": "markdown",
   "metadata": {
    "tags": []
   },
   "source": [
    "# Гипотеза 2 - в избранное добавляют то, что часто заказывали и удобно составлять корзину из избранного"
   ]
  },
  {
   "cell_type": "code",
   "execution_count": null,
   "metadata": {},
   "outputs": [],
   "source": []
  },
  {
   "cell_type": "code",
   "execution_count": null,
   "metadata": {},
   "outputs": [],
   "source": []
  },
  {
   "cell_type": "code",
   "execution_count": null,
   "metadata": {},
   "outputs": [],
   "source": []
  },
  {
   "cell_type": "code",
   "execution_count": null,
   "metadata": {},
   "outputs": [],
   "source": []
  }
 ],
 "metadata": {
  "kernelspec": {
   "display_name": "Python 3 (ipykernel)",
   "language": "python",
   "name": "python3"
  },
  "language_info": {
   "codemirror_mode": {
    "name": "ipython",
    "version": 3
   },
   "file_extension": ".py",
   "mimetype": "text/x-python",
   "name": "python",
   "nbconvert_exporter": "python",
   "pygments_lexer": "ipython3",
   "version": "3.9.6"
  }
 },
 "nbformat": 4,
 "nbformat_minor": 4
}
