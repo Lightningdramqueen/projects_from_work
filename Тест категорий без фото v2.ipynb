{
 "cells": [
  {
   "cell_type": "code",
   "execution_count": null,
   "id": "e863d55e",
   "metadata": {},
   "outputs": [],
   "source": []
  },
  {
   "cell_type": "code",
   "execution_count": 1,
   "id": "0ee4ce7f",
   "metadata": {},
   "outputs": [
    {
     "data": {
      "text/html": [
       "<style>.container { width:95% !important; }</style>"
      ],
      "text/plain": [
       "<IPython.core.display.HTML object>"
      ]
     },
     "metadata": {},
     "output_type": "display_data"
    }
   ],
   "source": [
    "from IPython.core.display import display, HTML\n",
    "display(HTML(\"<style>.container { width:95% !important; }</style>\"))\n",
    "\n",
    "import plotly.express as px\n",
    "import matplotlib.pyplot as plt\n",
    "%matplotlib inline\n",
    "import sqlalchemy\n",
    "import pandas as pd\n",
    "import numpy as np\n",
    "import random\n",
    "import statsmodels.api as sm\n",
    "from sklearn.metrics import mean_squared_error\n",
    "\n",
    "import seaborn as sns\n",
    "\n",
    "from sklearn.preprocessing import StandardScaler"
   ]
  },
  {
   "cell_type": "code",
   "execution_count": 2,
   "id": "e1be8ce5",
   "metadata": {},
   "outputs": [],
   "source": [
    "password = 'dimVuidBun1onCub'\n",
    "login = 'a.al.kosheleva'\n",
    "\n",
    "def postre_auth(login, password):\n",
    "    postgresql_config = {\n",
    "    'postgresql_prefix' : 'postgresql'\n",
    "    , 'postgresql_host'   : '10.3.26.92' \n",
    "    , 'postgresql_user'   : f'{login}'\n",
    "    , 'postgresql_pass'   : f'{password}'\n",
    "    , 'postgresql_port'   : '5432'\n",
    "    , 'postgresql_db'     : 'dwh'    \n",
    "    }\n",
    "\n",
    "    postgresql_connection_string  = \"{prefix}://{user}:{passw}@{host}:{port}/{db}\".format(\n",
    "    prefix  =   postgresql_config['postgresql_prefix']    , host  =   postgresql_config['postgresql_host']\n",
    "    , user  =   postgresql_config['postgresql_user']      , passw =   postgresql_config['postgresql_pass']\n",
    "    , port  =   postgresql_config['postgresql_port']      , db    =   postgresql_config['postgresql_db']\n",
    "    )\n",
    "    postgresql_engine = sqlalchemy.create_engine(postgresql_connection_string)\n",
    "    postgresql_conn   = postgresql_engine.connect()\n",
    "    return postgresql_engine, postgresql_conn\n",
    "\n",
    "postrgre_engine, postrge_conn = postre_auth(login, password)"
   ]
  },
  {
   "cell_type": "code",
   "execution_count": 3,
   "id": "0d65fb84",
   "metadata": {},
   "outputs": [],
   "source": [
    "#запрос для выгрузки продаж в категории Чай-кофе-какао за 3 месяца\n",
    "sql = '''\n",
    "with skus AS (\n",
    "select\n",
    "  distinct substr(mat.material,13,18)  original_id\n",
    "from dwh_stage.hadoop_bi0_pmaterial mat\n",
    "inner join dwh_stage.hadoop_bic_rpa_wgh wgh\n",
    "on mat.rpa_wgh4 = wgh._0rpa_wgh4\n",
    "where rpa_wgh2 != '99'\n",
    "and wgh._0rpa_wgh2___t != 'Резервная группа'\n",
    "and wgh._0rpa_wgh2___t = 'Кофе, какао, чай'\n",
    "),\n",
    "\n",
    "orders AS (\n",
    "select distinct buyer_id, pav_order_id, date(created) as date\n",
    "from dwh_datamart.ops_metrics\n",
    "where date(created) between '2023-01-01' AND '2023-04-19'\n",
    "and flag_cancel = 0 and order_source IN ('iOS', 'Android')\n",
    "and retail_brand = 'lo'\n",
    "),\n",
    "\n",
    "t1 as (\n",
    "select\n",
    "  date, zit.original_id,\n",
    "  sum(zit.count_courier*zit.denominator/zit.numerator) as revenue\n",
    "from orders z\n",
    "inner join dwh_stage.utk_sess_zakaz_items zit\n",
    "on zit.pav_order_id = z.pav_order_id\n",
    "where zit.original_id IN (select * from skus)\n",
    "group by 1,2\n",
    ")\n",
    "\n",
    "select *, sum(revenue) over(partition by original_id) as total_sku_revenue\n",
    "from t1\n",
    "'''"
   ]
  },
  {
   "cell_type": "code",
   "execution_count": 86,
   "id": "62c33928",
   "metadata": {},
   "outputs": [],
   "source": [
    "all_cats = pd.read_excel('C:/Users/a.al.kosheleva/analytics/kosheleva_a/all_cats.xlsx')"
   ]
  },
  {
   "cell_type": "code",
   "execution_count": 87,
   "id": "0111caef",
   "metadata": {},
   "outputs": [
    {
     "data": {
      "text/plain": [
       "(68311, 5)"
      ]
     },
     "execution_count": 87,
     "metadata": {},
     "output_type": "execute_result"
    }
   ],
   "source": [
    "all_cats.shape"
   ]
  },
  {
   "cell_type": "code",
   "execution_count": 88,
   "id": "8768deec",
   "metadata": {},
   "outputs": [
    {
     "data": {
      "text/html": [
       "<div>\n",
       "<style scoped>\n",
       "    .dataframe tbody tr th:only-of-type {\n",
       "        vertical-align: middle;\n",
       "    }\n",
       "\n",
       "    .dataframe tbody tr th {\n",
       "        vertical-align: top;\n",
       "    }\n",
       "\n",
       "    .dataframe thead th {\n",
       "        text-align: right;\n",
       "    }\n",
       "</style>\n",
       "<table border=\"1\" class=\"dataframe\">\n",
       "  <thead>\n",
       "    <tr style=\"text-align: right;\">\n",
       "      <th></th>\n",
       "      <th>Unnamed: 0</th>\n",
       "      <th>date</th>\n",
       "      <th>original_id</th>\n",
       "      <th>revenue</th>\n",
       "      <th>total_sku_revenue</th>\n",
       "    </tr>\n",
       "  </thead>\n",
       "  <tbody>\n",
       "    <tr>\n",
       "      <th>0</th>\n",
       "      <td>0</td>\n",
       "      <td>2023-01-22</td>\n",
       "      <td>729</td>\n",
       "      <td>1.0</td>\n",
       "      <td>1</td>\n",
       "    </tr>\n",
       "    <tr>\n",
       "      <th>1</th>\n",
       "      <td>1</td>\n",
       "      <td>2023-01-06</td>\n",
       "      <td>744</td>\n",
       "      <td>4.0</td>\n",
       "      <td>298</td>\n",
       "    </tr>\n",
       "    <tr>\n",
       "      <th>2</th>\n",
       "      <td>2</td>\n",
       "      <td>2023-03-04</td>\n",
       "      <td>744</td>\n",
       "      <td>3.0</td>\n",
       "      <td>298</td>\n",
       "    </tr>\n",
       "    <tr>\n",
       "      <th>3</th>\n",
       "      <td>3</td>\n",
       "      <td>2023-02-08</td>\n",
       "      <td>744</td>\n",
       "      <td>6.0</td>\n",
       "      <td>298</td>\n",
       "    </tr>\n",
       "    <tr>\n",
       "      <th>4</th>\n",
       "      <td>4</td>\n",
       "      <td>2023-02-21</td>\n",
       "      <td>744</td>\n",
       "      <td>1.0</td>\n",
       "      <td>298</td>\n",
       "    </tr>\n",
       "  </tbody>\n",
       "</table>\n",
       "</div>"
      ],
      "text/plain": [
       "   Unnamed: 0       date  original_id  revenue  total_sku_revenue\n",
       "0           0 2023-01-22          729      1.0                  1\n",
       "1           1 2023-01-06          744      4.0                298\n",
       "2           2 2023-03-04          744      3.0                298\n",
       "3           3 2023-02-08          744      6.0                298\n",
       "4           4 2023-02-21          744      1.0                298"
      ]
     },
     "execution_count": 88,
     "metadata": {},
     "output_type": "execute_result"
    }
   ],
   "source": [
    "all_cats.head()"
   ]
  },
  {
   "cell_type": "code",
   "execution_count": 89,
   "id": "855723e4",
   "metadata": {},
   "outputs": [
    {
     "ename": "NameError",
     "evalue": "name 'sql' is not defined",
     "output_type": "error",
     "traceback": [
      "\u001b[1;31m---------------------------------------------------------------------------\u001b[0m",
      "\u001b[1;31mNameError\u001b[0m                                 Traceback (most recent call last)",
      "\u001b[1;32mC:\\Users\\AAL~1.KOS\\AppData\\Local\\Temp/ipykernel_2272/4079017928.py\u001b[0m in \u001b[0;36m<module>\u001b[1;34m\u001b[0m\n\u001b[1;32m----> 1\u001b[1;33m \u001b[0mall_cats\u001b[0m \u001b[1;33m=\u001b[0m \u001b[0mpd\u001b[0m\u001b[1;33m.\u001b[0m\u001b[0mread_sql\u001b[0m\u001b[1;33m(\u001b[0m\u001b[0msql\u001b[0m\u001b[1;33m,\u001b[0m \u001b[0mpostrge_conn\u001b[0m\u001b[1;33m)\u001b[0m\u001b[1;33m\u001b[0m\u001b[1;33m\u001b[0m\u001b[0m\n\u001b[0m",
      "\u001b[1;31mNameError\u001b[0m: name 'sql' is not defined"
     ]
    }
   ],
   "source": [
    "all_cats = pd.read_sql(sql, postrge_conn)"
   ]
  },
  {
   "cell_type": "code",
   "execution_count": 90,
   "id": "1b1b89c5",
   "metadata": {},
   "outputs": [],
   "source": [
    "all_cats['date'] = pd.to_datetime(all_cats['date'])"
   ]
  },
  {
   "cell_type": "code",
   "execution_count": 91,
   "id": "b0411898",
   "metadata": {},
   "outputs": [],
   "source": [
    "#выделяем пилот и предпилот\n",
    "df_prepilot = all_cats.loc[(all_cats['date'] <= '2023-04-10')].copy()\n",
    "df_pilot = all_cats.loc[all_cats['date'] > '2023-04-10'].copy()"
   ]
  },
  {
   "cell_type": "code",
   "execution_count": 92,
   "id": "23328160",
   "metadata": {},
   "outputs": [],
   "source": [
    "df_sku_sales = df_prepilot.pivot_table(index = 'original_id', aggfunc = {'revenue':'sum'}).reset_index()"
   ]
  },
  {
   "cell_type": "code",
   "execution_count": 93,
   "id": "628e667d",
   "metadata": {},
   "outputs": [],
   "source": [
    "list_sku = df_sku_sales.loc[(df_sku_sales['revenue']>= df_sku_sales['revenue'].quantile(0.2))&(df_sku_sales['revenue']<= df_sku_sales['revenue'].quantile(0.5))]['original_id'].tolist()"
   ]
  },
  {
   "cell_type": "code",
   "execution_count": 94,
   "id": "78e1c890",
   "metadata": {},
   "outputs": [
    {
     "data": {
      "text/plain": [
       "467"
      ]
     },
     "execution_count": 94,
     "metadata": {},
     "output_type": "execute_result"
    }
   ],
   "source": [
    "len(list_sku)"
   ]
  },
  {
   "cell_type": "code",
   "execution_count": 95,
   "id": "4b60e4be",
   "metadata": {},
   "outputs": [],
   "source": [
    "df_prepilot = df_prepilot.loc[df_prepilot['original_id'].isin(list_sku)].reset_index().drop(columns=['Unnamed: 0', 'index']).copy()"
   ]
  },
  {
   "cell_type": "code",
   "execution_count": 96,
   "id": "3fb53ee0",
   "metadata": {},
   "outputs": [],
   "source": [
    "df_pilot = df_pilot.loc[df_pilot['original_id'].isin(list_sku)].reset_index().drop(columns=['Unnamed: 0', 'index']).copy()"
   ]
  },
  {
   "cell_type": "code",
   "execution_count": 97,
   "id": "9d235d8b",
   "metadata": {},
   "outputs": [
    {
     "data": {
      "text/html": [
       "<div>\n",
       "<style scoped>\n",
       "    .dataframe tbody tr th:only-of-type {\n",
       "        vertical-align: middle;\n",
       "    }\n",
       "\n",
       "    .dataframe tbody tr th {\n",
       "        vertical-align: top;\n",
       "    }\n",
       "\n",
       "    .dataframe thead th {\n",
       "        text-align: right;\n",
       "    }\n",
       "</style>\n",
       "<table border=\"1\" class=\"dataframe\">\n",
       "  <thead>\n",
       "    <tr style=\"text-align: right;\">\n",
       "      <th></th>\n",
       "      <th>date</th>\n",
       "      <th>original_id</th>\n",
       "      <th>revenue</th>\n",
       "      <th>total_sku_revenue</th>\n",
       "    </tr>\n",
       "  </thead>\n",
       "  <tbody>\n",
       "    <tr>\n",
       "      <th>0</th>\n",
       "      <td>2023-02-15</td>\n",
       "      <td>14135</td>\n",
       "      <td>1.0</td>\n",
       "      <td>6</td>\n",
       "    </tr>\n",
       "    <tr>\n",
       "      <th>1</th>\n",
       "      <td>2023-01-07</td>\n",
       "      <td>14135</td>\n",
       "      <td>0.0</td>\n",
       "      <td>6</td>\n",
       "    </tr>\n",
       "    <tr>\n",
       "      <th>2</th>\n",
       "      <td>2023-01-31</td>\n",
       "      <td>14135</td>\n",
       "      <td>1.0</td>\n",
       "      <td>6</td>\n",
       "    </tr>\n",
       "    <tr>\n",
       "      <th>3</th>\n",
       "      <td>2023-01-28</td>\n",
       "      <td>14135</td>\n",
       "      <td>1.0</td>\n",
       "      <td>6</td>\n",
       "    </tr>\n",
       "    <tr>\n",
       "      <th>4</th>\n",
       "      <td>2023-01-01</td>\n",
       "      <td>14135</td>\n",
       "      <td>0.0</td>\n",
       "      <td>6</td>\n",
       "    </tr>\n",
       "  </tbody>\n",
       "</table>\n",
       "</div>"
      ],
      "text/plain": [
       "        date  original_id  revenue  total_sku_revenue\n",
       "0 2023-02-15        14135      1.0                  6\n",
       "1 2023-01-07        14135      0.0                  6\n",
       "2 2023-01-31        14135      1.0                  6\n",
       "3 2023-01-28        14135      1.0                  6\n",
       "4 2023-01-01        14135      0.0                  6"
      ]
     },
     "execution_count": 97,
     "metadata": {},
     "output_type": "execute_result"
    }
   ],
   "source": [
    "df_prepilot.head()"
   ]
  },
  {
   "cell_type": "code",
   "execution_count": 98,
   "id": "a71847c3",
   "metadata": {},
   "outputs": [
    {
     "data": {
      "text/html": [
       "<div>\n",
       "<style scoped>\n",
       "    .dataframe tbody tr th:only-of-type {\n",
       "        vertical-align: middle;\n",
       "    }\n",
       "\n",
       "    .dataframe tbody tr th {\n",
       "        vertical-align: top;\n",
       "    }\n",
       "\n",
       "    .dataframe thead th {\n",
       "        text-align: right;\n",
       "    }\n",
       "</style>\n",
       "<table border=\"1\" class=\"dataframe\">\n",
       "  <thead>\n",
       "    <tr style=\"text-align: right;\">\n",
       "      <th></th>\n",
       "      <th>date</th>\n",
       "      <th>original_id</th>\n",
       "      <th>revenue</th>\n",
       "      <th>total_sku_revenue</th>\n",
       "    </tr>\n",
       "  </thead>\n",
       "  <tbody>\n",
       "    <tr>\n",
       "      <th>0</th>\n",
       "      <td>2023-04-16</td>\n",
       "      <td>30618</td>\n",
       "      <td>3.0</td>\n",
       "      <td>77</td>\n",
       "    </tr>\n",
       "    <tr>\n",
       "      <th>1</th>\n",
       "      <td>2023-04-15</td>\n",
       "      <td>30618</td>\n",
       "      <td>1.0</td>\n",
       "      <td>77</td>\n",
       "    </tr>\n",
       "    <tr>\n",
       "      <th>2</th>\n",
       "      <td>2023-04-17</td>\n",
       "      <td>30618</td>\n",
       "      <td>3.0</td>\n",
       "      <td>77</td>\n",
       "    </tr>\n",
       "    <tr>\n",
       "      <th>3</th>\n",
       "      <td>2023-04-19</td>\n",
       "      <td>30618</td>\n",
       "      <td>3.0</td>\n",
       "      <td>77</td>\n",
       "    </tr>\n",
       "    <tr>\n",
       "      <th>4</th>\n",
       "      <td>2023-04-14</td>\n",
       "      <td>30618</td>\n",
       "      <td>5.0</td>\n",
       "      <td>77</td>\n",
       "    </tr>\n",
       "  </tbody>\n",
       "</table>\n",
       "</div>"
      ],
      "text/plain": [
       "        date  original_id  revenue  total_sku_revenue\n",
       "0 2023-04-16        30618      3.0                 77\n",
       "1 2023-04-15        30618      1.0                 77\n",
       "2 2023-04-17        30618      3.0                 77\n",
       "3 2023-04-19        30618      3.0                 77\n",
       "4 2023-04-14        30618      5.0                 77"
      ]
     },
     "execution_count": 98,
     "metadata": {},
     "output_type": "execute_result"
    }
   ],
   "source": [
    "df_pilot.head()"
   ]
  },
  {
   "cell_type": "code",
   "execution_count": 99,
   "id": "e9da72dd",
   "metadata": {},
   "outputs": [],
   "source": [
    "from sklearn.metrics import mean_squared_error#(y_true, y_pred"
   ]
  },
  {
   "cell_type": "code",
   "execution_count": 100,
   "id": "7d468aab",
   "metadata": {},
   "outputs": [],
   "source": [
    "from IPython.display import clear_output"
   ]
  },
  {
   "cell_type": "code",
   "execution_count": 113,
   "id": "0a4fa64a",
   "metadata": {},
   "outputs": [],
   "source": [
    "#функция для подбора лучших теста и контроля\n",
    "def best_sample(df, l_sku, n_inter, n_sku):\n",
    "    iterations = n_inter #число итераций\n",
    "    var = 100000000000\n",
    "    \n",
    "    sample_test_final = []\n",
    "    sample_control_final = []\n",
    "    best_iter = 0\n",
    "\n",
    "    for i in range(iterations):\n",
    "        print(i, end = ' ')\n",
    "        clear_output(wait=True)\n",
    "        df_split = pd.DataFrame({\n",
    "            'sku':random.sample(list_sku, n_sku),\n",
    "            'ab_group':np.random.randint(0,2,n_sku)\n",
    "        })\n",
    "        sample_try_test = df_split.query('ab_group==1')['sku'].tolist() #рандомный тест\n",
    "        sample_try_control = df_split.query('ab_group==0')['sku'].tolist()#рандомный контроль\n",
    "        \n",
    "        #собираем агрегаты по датам с суммой продаж в штуках\n",
    "        test_group_check = df.loc[df['original_id'].isin(sample_try_test)] \\\n",
    "            .groupby('date') \\\n",
    "            .agg({'revenue':'sum'}).reset_index()\n",
    "        \n",
    "        control_group_check = df.loc[df['original_id'].isin(sample_try_control)] \\\n",
    "            .groupby('date') \\\n",
    "            .agg({'revenue':'sum'}).reset_index()\n",
    "        \n",
    "        df_for_diff = test_group_check.merge(control_group_check, how = 'left', on = 'date')#джойн\n",
    "        print(df_for_diff.revenue_x, ' ', df_for_diff.revenue_y)\n",
    "        #new_var = mean_squared_error(df_for_diff.revenue_x, df_for_diff.revenue_y)**(1/2)\n",
    "        new_var = np.std(df_for_diff.revenue_x - df_for_diff.revenue_y)\n",
    "        if new_var < var:#сохраняем лучший сплит\n",
    "            var = new_var\n",
    "            sample_test_final = sample_try_test\n",
    "            sample_control_final = sample_try_control\n",
    "            best_iter = i\n",
    "        \n",
    "    return sample_try_test, sample_try_control, best_iter"
   ]
  },
  {
   "cell_type": "code",
   "execution_count": 114,
   "id": "c4d9539f",
   "metadata": {},
   "outputs": [
    {
     "name": "stdout",
     "output_type": "stream",
     "text": [
      "0     22.0\n",
      "1     25.0\n",
      "2     14.0\n",
      "3     17.0\n",
      "4     34.0\n",
      "      ... \n",
      "95    11.0\n",
      "96    12.0\n",
      "97    25.0\n",
      "98    16.0\n",
      "99    10.0\n",
      "Name: revenue_x, Length: 100, dtype: float64   0      6.0\n",
      "1     11.0\n",
      "2     16.0\n",
      "3      4.0\n",
      "4     13.0\n",
      "      ... \n",
      "95     3.0\n",
      "96    10.0\n",
      "97     8.0\n",
      "98    16.0\n",
      "99    15.0\n",
      "Name: revenue_y, Length: 100, dtype: float64\n"
     ]
    }
   ],
   "source": [
    "result = best_sample(df_prepilot, list_sku, 5000, 110)"
   ]
  },
  {
   "cell_type": "code",
   "execution_count": 106,
   "id": "9947ca71",
   "metadata": {},
   "outputs": [
    {
     "data": {
      "text/plain": [
       "2289"
      ]
     },
     "execution_count": 106,
     "metadata": {},
     "output_type": "execute_result"
    }
   ],
   "source": [
    "result[2]"
   ]
  },
  {
   "cell_type": "code",
   "execution_count": null,
   "id": "819da5f5",
   "metadata": {},
   "outputs": [],
   "source": [
    "#забираем тест и контроль из функции\n",
    "final_test = result[0]\n",
    "final_control = result[1]\n",
    "\n",
    "test_and_control = final_test + final_control"
   ]
  },
  {
   "cell_type": "code",
   "execution_count": null,
   "id": "1ba9ae74",
   "metadata": {},
   "outputs": [],
   "source": [
    "#фильтруем наши исходные датафреймы по скю для теста и контроля, присваиваем группы\n",
    "all_cats_final = pd.DataFrame(all_cats.query('original_id == @test_and_control')).copy()\n",
    "df_prepilot_final = pd.DataFrame(df_prepilot.query('original_id == @test_and_control')).copy()\n",
    "df_pilot_final = pd.DataFrame(df_pilot.query('original_id == @test_and_control')).copy()\n",
    "\n",
    "all_cats_final['groups'] = all_cats_final.original_id.apply(lambda x: 'test' if x in final_test else 'control')\n",
    "df_prepilot_final['groups'] = df_prepilot_final.original_id.apply(lambda x: 'test' if x in final_test else 'control')\n",
    "df_pilot_final['groups'] = df_pilot_final.original_id.apply(lambda x: 'test' if x in final_test else 'control')"
   ]
  },
  {
   "cell_type": "code",
   "execution_count": null,
   "id": "a04e9cd7",
   "metadata": {},
   "outputs": [],
   "source": [
    "#датафрейм для визуализации\n",
    "vis_groups = all_cats_final.groupby(['groups', 'date']).agg({'revenue':'sum'}).rename(columns = {'revenue':'revenue_sum'}).reset_index()"
   ]
  },
  {
   "cell_type": "code",
   "execution_count": null,
   "id": "e5ed6290",
   "metadata": {},
   "outputs": [],
   "source": [
    "sc = StandardScaler()"
   ]
  },
  {
   "cell_type": "code",
   "execution_count": null,
   "id": "4b8c316e",
   "metadata": {},
   "outputs": [],
   "source": [
    "#стандартизируем метрики для визуализации\n",
    "vis_groups_test = vis_groups.loc[vis_groups['groups'] == 'test']\n",
    "vis_groups_control = vis_groups.loc[vis_groups['groups'] == 'control']\n",
    "\n",
    "vis_groups_test['rev_standart'] = sc.fit_transform(vis_groups_test[['revenue_sum']])\n",
    "vis_groups_control['rev_standart'] = sc.fit_transform(vis_groups_control[['revenue_sum']])    \n",
    "\n",
    "vis_final = pd.concat([vis_groups_test, vis_groups_control])"
   ]
  },
  {
   "cell_type": "code",
   "execution_count": null,
   "id": "8255cb60",
   "metadata": {},
   "outputs": [],
   "source": [
    "f = plt.figure(figsize=(19, 6))\n",
    "sns.lineplot(data=vis_final, x=\"date\", y=\"rev_standart\", hue = 'groups', ci=None)"
   ]
  },
  {
   "cell_type": "code",
   "execution_count": null,
   "id": "8bf4af1b",
   "metadata": {},
   "outputs": [],
   "source": []
  },
  {
   "cell_type": "code",
   "execution_count": null,
   "id": "a67c6c5c",
   "metadata": {},
   "outputs": [],
   "source": [
    "#готовим данные для моделирования по продажам в штуках на наших группах\n",
    "mtr = 'revenue'\n",
    "corr_lim = 0, # лимит корреляции\n",
    "\n",
    "sigma = 1.5\n",
    "y_train = df_prepilot_final.loc[\n",
    "    df_prepilot_final['groups'] == 'test'\n",
    "].pivot_table(index='date', aggfunc={mtr:'sum'})[[mtr]].values\n",
    "X_train = df_prepilot_final.loc[\n",
    "    df_prepilot_final['groups'] == 'control'\n",
    "].pivot_table(index='date', aggfunc={mtr:'sum'}).reset_index()[[mtr]].values\n",
    "X_train = sm.add_constant(X_train)\n",
    "    \n",
    "y_test = df_pilot_final.loc[\n",
    "    df_pilot_final['groups'] == 'test'\n",
    "].pivot_table(index='date', aggfunc={mtr:'sum'})[[mtr]].values\n",
    "X_test = df_pilot_final.loc[\n",
    "    df_pilot_final['groups'] == 'control'\n",
    "].pivot_table(index='date', aggfunc={mtr:'sum'}).reset_index()[[mtr]].values\n",
    "X_test = sm.add_constant(X_test)\n",
    "    \n",
    "# обучаем модель\n",
    "model = sm.OLS(y_train, X_train)\n",
    "results = model.fit()"
   ]
  },
  {
   "cell_type": "code",
   "execution_count": null,
   "id": "970df8ba",
   "metadata": {},
   "outputs": [],
   "source": [
    "    # оцениваем точность модели\n",
    "    float_rsquared = round(results.rsquared, 4)\n",
    "    series_predictions = pd.Series(results.predict(X_test))\n",
    "    series_facts = pd.Series([i[0] for i in y_test])\n",
    "    series_prepilot_predictions = pd.Series(results.predict())\n",
    "    series_prepilot_facts = pd.Series([i[0] for i in y_train])\n",
    "    rmse = mean_squared_error(series_predictions, series_facts)**(1/2)\n",
    "    rmse_prec = round(rmse / series_predictions.mean(), 4)\n",
    "    print(f'R-squared: {float_rsquared}, holdout {sigma} rmse (%): {sigma * rmse_prec}')\n",
    "\n",
    "    # визуализация точности прогнозирования\n",
    "    t_prepilot = [i + 1 for i in range(len(series_prepilot_predictions))]\n",
    "    t_pilot = [i + 1 for i in range(max(t_prepilot), max(t_prepilot) + len(series_predictions))]\n",
    "    df_pilot_pred = pd.DataFrame({\n",
    "        'data_type':'forecast',\n",
    "        'period_type':'pilot',\n",
    "        'values':series_predictions,\n",
    "        'ci_low':series_predictions - rmse * sigma,\n",
    "        'ci_up':series_predictions + rmse * sigma,\n",
    "        't':t_pilot\n",
    "    })\n",
    "    df_pilot_fact = pd.DataFrame({\n",
    "        'data_type':'fact',\n",
    "        'period_type':'pilot',\n",
    "        'values':series_facts,\n",
    "        'ci_low':series_predictions - rmse * sigma,\n",
    "        'ci_up':series_predictions + rmse * sigma,\n",
    "        't':t_pilot\n",
    "    })\n",
    "    df_prepilot_pred = pd.DataFrame({\n",
    "        'data_type':'forecast',\n",
    "        'period_type':'prepilot',\n",
    "        'values':series_prepilot_predictions,\n",
    "        'ci_low':series_prepilot_predictions - rmse * sigma,\n",
    "        'ci_up':series_prepilot_predictions + rmse * sigma,\n",
    "        't':t_prepilot\n",
    "    })\n",
    "    df_prepilot_fact = pd.DataFrame({\n",
    "        'data_type':'fact',\n",
    "        'period_type':'prepilot',\n",
    "        'values':series_prepilot_facts,\n",
    "        'ci_low':series_prepilot_predictions - rmse * sigma,\n",
    "        'ci_up':series_prepilot_predictions + rmse * sigma,\n",
    "        't':t_prepilot\n",
    "    })\n",
    "    df_results = pd.concat([df_prepilot_fact, df_prepilot_pred, df_pilot_fact, df_pilot_pred])\n",
    "    fig = px.line(\n",
    "        df_results, \n",
    "        x=\"t\", \n",
    "        y=['ci_low', \"values\", 'ci_up'], \n",
    "        color='data_type',\n",
    "        color_discrete_sequence=[\"blue\", \"orange\"]\n",
    "    )\n",
    "    fig.add_vline(\n",
    "        x=min(t_pilot), \n",
    "        line_width=2, \n",
    "        line_dash=\"dash\", \n",
    "        line_color=\"black\", \n",
    "        opacity=0.7,\n",
    "        annotation_text=\"A/A period start\", \n",
    "        annotation_position=\"top left\"\n",
    "    )\n",
    "    fig.show()"
   ]
  },
  {
   "cell_type": "code",
   "execution_count": null,
   "id": "50644c14",
   "metadata": {},
   "outputs": [],
   "source": []
  },
  {
   "cell_type": "code",
   "execution_count": null,
   "id": "151d919e",
   "metadata": {},
   "outputs": [],
   "source": []
  },
  {
   "cell_type": "code",
   "execution_count": null,
   "id": "55c532e4",
   "metadata": {},
   "outputs": [],
   "source": []
  }
 ],
 "metadata": {
  "kernelspec": {
   "display_name": "Python 3 (ipykernel)",
   "language": "python",
   "name": "python3"
  },
  "language_info": {
   "codemirror_mode": {
    "name": "ipython",
    "version": 3
   },
   "file_extension": ".py",
   "mimetype": "text/x-python",
   "name": "python",
   "nbconvert_exporter": "python",
   "pygments_lexer": "ipython3",
   "version": "3.9.7"
  }
 },
 "nbformat": 4,
 "nbformat_minor": 5
}
