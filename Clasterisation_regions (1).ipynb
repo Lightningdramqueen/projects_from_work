{
 "cells": [
  {
   "cell_type": "code",
   "execution_count": 1,
   "id": "ff2cd876",
   "metadata": {},
   "outputs": [],
   "source": [
    "import numpy as np\n",
    "import seaborn as sns\n",
    "import matplotlib.pyplot as plt\n",
    "sns.set_style(\"darkgrid\")\n",
    "sns.set(rc={'figure.figsize':(12,7)})"
   ]
  },
  {
   "cell_type": "code",
   "execution_count": 3,
   "id": "ba1d2366",
   "metadata": {},
   "outputs": [],
   "source": [
    "clasterisation_regions = pd.read_excel('C:/Users/a.al.kosheleva/analytics/kosheleva_a/files/clasterisation_regions.xlsx') "
   ]
  },
  {
   "cell_type": "code",
   "execution_count": 4,
   "id": "2e99baab",
   "metadata": {},
   "outputs": [
    {
     "data": {
      "text/html": [
       "<style>.container { width:85% !important; }</style>"
      ],
      "text/plain": [
       "<IPython.core.display.HTML object>"
      ]
     },
     "metadata": {},
     "output_type": "display_data"
    }
   ],
   "source": [
    "import pandas as pd\n",
    "import os\n",
    "import datetime\n",
    "from tqdm.notebook import tqdm as tqdm_notebook\n",
    "#import mmh3\n",
    "import seaborn as sns\n",
    "\n",
    "from sqlalchemy import create_engine\n",
    "\n",
    "from clickhouse_sqlalchemy import make_session\n",
    "from urllib.parse import quote\n",
    "\n",
    "from IPython.core.display import display, HTML\n",
    "display(HTML(\"<style>.container { width:85% !important; }</style>\"))"
   ]
  },
  {
   "cell_type": "code",
   "execution_count": 5,
   "id": "ed436936",
   "metadata": {},
   "outputs": [
    {
     "data": {
      "text/plain": [
       "city                                 object\n",
       "avg_check_e_commerce                float64\n",
       "e_com_share_value_percent           float64\n",
       "avg_check_lenta_online              float64\n",
       "brand_share_value_percent           float64\n",
       "nps_lenta_online                    float64\n",
       "brand_share_region_yandex_search    float64\n",
       "affinity_index_lo                   float64\n",
       "affinity_index_delivery             float64\n",
       "spontaneous_knowledge               float64\n",
       "suggested_knowledge                 float64\n",
       "orders_12_months                    float64\n",
       "orders_last_month                   float64\n",
       "top_of_mind                         float64\n",
       "buyers_lenta_online                   int64\n",
       "dtype: object"
      ]
     },
     "execution_count": 5,
     "metadata": {},
     "output_type": "execute_result"
    }
   ],
   "source": [
    "clasterisation_regions.dtypes"
   ]
  },
  {
   "cell_type": "code",
   "execution_count": 6,
   "id": "a7e78434",
   "metadata": {},
   "outputs": [
    {
     "data": {
      "text/html": [
       "<div>\n",
       "<style scoped>\n",
       "    .dataframe tbody tr th:only-of-type {\n",
       "        vertical-align: middle;\n",
       "    }\n",
       "\n",
       "    .dataframe tbody tr th {\n",
       "        vertical-align: top;\n",
       "    }\n",
       "\n",
       "    .dataframe thead th {\n",
       "        text-align: right;\n",
       "    }\n",
       "</style>\n",
       "<table border=\"1\" class=\"dataframe\">\n",
       "  <thead>\n",
       "    <tr style=\"text-align: right;\">\n",
       "      <th></th>\n",
       "      <th>city</th>\n",
       "      <th>avg_check_e_commerce</th>\n",
       "      <th>e_com_share_value_percent</th>\n",
       "      <th>avg_check_lenta_online</th>\n",
       "      <th>brand_share_value_percent</th>\n",
       "      <th>nps_lenta_online</th>\n",
       "      <th>brand_share_region_yandex_search</th>\n",
       "      <th>affinity_index_lo</th>\n",
       "      <th>affinity_index_delivery</th>\n",
       "      <th>spontaneous_knowledge</th>\n",
       "      <th>suggested_knowledge</th>\n",
       "      <th>orders_12_months</th>\n",
       "      <th>orders_last_month</th>\n",
       "      <th>top_of_mind</th>\n",
       "      <th>buyers_lenta_online</th>\n",
       "    </tr>\n",
       "  </thead>\n",
       "  <tbody>\n",
       "    <tr>\n",
       "      <th>0</th>\n",
       "      <td>Альметьевск</td>\n",
       "      <td>922.75</td>\n",
       "      <td>1.53</td>\n",
       "      <td>1932.32</td>\n",
       "      <td>0.32</td>\n",
       "      <td>62.16</td>\n",
       "      <td>4.0</td>\n",
       "      <td>97.0</td>\n",
       "      <td>49.0</td>\n",
       "      <td>7.0</td>\n",
       "      <td>25.5</td>\n",
       "      <td>0.0</td>\n",
       "      <td>0.0</td>\n",
       "      <td>7.0</td>\n",
       "      <td>3453</td>\n",
       "    </tr>\n",
       "    <tr>\n",
       "      <th>1</th>\n",
       "      <td>Армавир</td>\n",
       "      <td>1378.42</td>\n",
       "      <td>0.92</td>\n",
       "      <td>2023.66</td>\n",
       "      <td>0.35</td>\n",
       "      <td>61.11</td>\n",
       "      <td>6.0</td>\n",
       "      <td>357.0</td>\n",
       "      <td>57.0</td>\n",
       "      <td>17.0</td>\n",
       "      <td>51.2</td>\n",
       "      <td>28.4</td>\n",
       "      <td>11.1</td>\n",
       "      <td>10.1</td>\n",
       "      <td>2408</td>\n",
       "    </tr>\n",
       "    <tr>\n",
       "      <th>2</th>\n",
       "      <td>Архангельск</td>\n",
       "      <td>1267.77</td>\n",
       "      <td>0.73</td>\n",
       "      <td>2205.76</td>\n",
       "      <td>0.18</td>\n",
       "      <td>58.41</td>\n",
       "      <td>8.0</td>\n",
       "      <td>134.0</td>\n",
       "      <td>211.0</td>\n",
       "      <td>32.8</td>\n",
       "      <td>49.9</td>\n",
       "      <td>6.7</td>\n",
       "      <td>3.5</td>\n",
       "      <td>14.8</td>\n",
       "      <td>5791</td>\n",
       "    </tr>\n",
       "    <tr>\n",
       "      <th>3</th>\n",
       "      <td>Астрахань</td>\n",
       "      <td>1366.53</td>\n",
       "      <td>2.36</td>\n",
       "      <td>2237.17</td>\n",
       "      <td>0.23</td>\n",
       "      <td>49.07</td>\n",
       "      <td>4.0</td>\n",
       "      <td>80.0</td>\n",
       "      <td>52.0</td>\n",
       "      <td>25.2</td>\n",
       "      <td>60.2</td>\n",
       "      <td>21.9</td>\n",
       "      <td>9.7</td>\n",
       "      <td>14.1</td>\n",
       "      <td>6439</td>\n",
       "    </tr>\n",
       "    <tr>\n",
       "      <th>4</th>\n",
       "      <td>Балаково</td>\n",
       "      <td>1406.01</td>\n",
       "      <td>0.67</td>\n",
       "      <td>1920.83</td>\n",
       "      <td>0.29</td>\n",
       "      <td>49.37</td>\n",
       "      <td>8.0</td>\n",
       "      <td>96.0</td>\n",
       "      <td>76.0</td>\n",
       "      <td>33.7</td>\n",
       "      <td>50.3</td>\n",
       "      <td>32.7</td>\n",
       "      <td>5.0</td>\n",
       "      <td>22.4</td>\n",
       "      <td>2731</td>\n",
       "    </tr>\n",
       "  </tbody>\n",
       "</table>\n",
       "</div>"
      ],
      "text/plain": [
       "          city  avg_check_e_commerce  e_com_share_value_percent  \\\n",
       "0  Альметьевск                922.75                       1.53   \n",
       "1      Армавир               1378.42                       0.92   \n",
       "2  Архангельск               1267.77                       0.73   \n",
       "3    Астрахань               1366.53                       2.36   \n",
       "4     Балаково               1406.01                       0.67   \n",
       "\n",
       "   avg_check_lenta_online  brand_share_value_percent  nps_lenta_online  \\\n",
       "0                 1932.32                       0.32             62.16   \n",
       "1                 2023.66                       0.35             61.11   \n",
       "2                 2205.76                       0.18             58.41   \n",
       "3                 2237.17                       0.23             49.07   \n",
       "4                 1920.83                       0.29             49.37   \n",
       "\n",
       "   brand_share_region_yandex_search  affinity_index_lo  \\\n",
       "0                               4.0               97.0   \n",
       "1                               6.0              357.0   \n",
       "2                               8.0              134.0   \n",
       "3                               4.0               80.0   \n",
       "4                               8.0               96.0   \n",
       "\n",
       "   affinity_index_delivery  spontaneous_knowledge  suggested_knowledge  \\\n",
       "0                     49.0                    7.0                 25.5   \n",
       "1                     57.0                   17.0                 51.2   \n",
       "2                    211.0                   32.8                 49.9   \n",
       "3                     52.0                   25.2                 60.2   \n",
       "4                     76.0                   33.7                 50.3   \n",
       "\n",
       "   orders_12_months  orders_last_month  top_of_mind  buyers_lenta_online  \n",
       "0               0.0                0.0          7.0                 3453  \n",
       "1              28.4               11.1         10.1                 2408  \n",
       "2               6.7                3.5         14.8                 5791  \n",
       "3              21.9                9.7         14.1                 6439  \n",
       "4              32.7                5.0         22.4                 2731  "
      ]
     },
     "execution_count": 6,
     "metadata": {},
     "output_type": "execute_result"
    }
   ],
   "source": [
    "clasterisation_regions.head()"
   ]
  },
  {
   "cell_type": "code",
   "execution_count": 7,
   "id": "e3332e00",
   "metadata": {},
   "outputs": [
    {
     "name": "stderr",
     "output_type": "stream",
     "text": [
      "C:\\Users\\a.al.kosheleva\\Anaconda3\\lib\\site-packages\\seaborn\\distributions.py:2619: FutureWarning: `distplot` is a deprecated function and will be removed in a future version. Please adapt your code to use either `displot` (a figure-level function with similar flexibility) or `histplot` (an axes-level function for histograms).\n",
      "  warnings.warn(msg, FutureWarning)\n"
     ]
    },
    {
     "data": {
      "image/png": "[encoded data removed]",
      "text/plain": [
       "<Figure size 864x504 with 1 Axes>"
      ]
     },
     "metadata": {},
     "output_type": "display_data"
    }
   ],
   "source": [
    "ax = sns.distplot(clasterisation_regions.avg_check_e_commerce)"
   ]
  },
  {
   "cell_type": "code",
   "execution_count": 8,
   "id": "22968a2e",
   "metadata": {},
   "outputs": [
    {
     "name": "stderr",
     "output_type": "stream",
     "text": [
      "C:\\Users\\a.al.kosheleva\\Anaconda3\\lib\\site-packages\\seaborn\\distributions.py:2619: FutureWarning: `distplot` is a deprecated function and will be removed in a future version. Please adapt your code to use either `displot` (a figure-level function with similar flexibility) or `histplot` (an axes-level function for histograms).\n",
      "  warnings.warn(msg, FutureWarning)\n"
     ]
    },
    {
     "data": {
      "image/png": "[encoded data removed]",
      "text/plain": [
       "<Figure size 864x504 with 1 Axes>"
      ]
     },
     "metadata": {},
     "output_type": "display_data"
    }
   ],
   "source": [
    "ax = sns.distplot(clasterisation_regions.e_com_share_value_percent)"
   ]
  },
  {
   "cell_type": "code",
   "execution_count": 9,
   "id": "61ca2cc5",
   "metadata": {},
   "outputs": [
    {
     "name": "stderr",
     "output_type": "stream",
     "text": [
      "C:\\Users\\a.al.kosheleva\\Anaconda3\\lib\\site-packages\\seaborn\\distributions.py:2619: FutureWarning: `distplot` is a deprecated function and will be removed in a future version. Please adapt your code to use either `displot` (a figure-level function with similar flexibility) or `histplot` (an axes-level function for histograms).\n",
      "  warnings.warn(msg, FutureWarning)\n"
     ]
    },
    {
     "data": {
      "image/png": "[encoded data removed]",
      "text/plain": [
       "<Figure size 864x504 with 1 Axes>"
      ]
     },
     "metadata": {},
     "output_type": "display_data"
    }
   ],
   "source": [
    "ax = sns.distplot(clasterisation_regions.avg_check_lenta_online)"
   ]
  },
  {
   "cell_type": "code",
   "execution_count": 10,
   "id": "0022e41a",
   "metadata": {},
   "outputs": [
    {
     "name": "stderr",
     "output_type": "stream",
     "text": [
      "C:\\Users\\a.al.kosheleva\\Anaconda3\\lib\\site-packages\\seaborn\\distributions.py:2619: FutureWarning: `distplot` is a deprecated function and will be removed in a future version. Please adapt your code to use either `displot` (a figure-level function with similar flexibility) or `histplot` (an axes-level function for histograms).\n",
      "  warnings.warn(msg, FutureWarning)\n"
     ]
    },
    {
     "data": {
      "image/png": "[encoded data removed]",
      "text/plain": [
       "<Figure size 864x504 with 1 Axes>"
      ]
     },
     "metadata": {},
     "output_type": "display_data"
    }
   ],
   "source": [
    "ax = sns.distplot(clasterisation_regions.brand_share_value_percent)"
   ]
  },
  {
   "cell_type": "code",
   "execution_count": 11,
   "id": "c1ffa27e",
   "metadata": {},
   "outputs": [
    {
     "name": "stderr",
     "output_type": "stream",
     "text": [
      "C:\\Users\\a.al.kosheleva\\Anaconda3\\lib\\site-packages\\seaborn\\distributions.py:2619: FutureWarning: `distplot` is a deprecated function and will be removed in a future version. Please adapt your code to use either `displot` (a figure-level function with similar flexibility) or `histplot` (an axes-level function for histograms).\n",
      "  warnings.warn(msg, FutureWarning)\n"
     ]
    },
    {
     "data": {
      "image/png": "[encoded data removed]",
      "text/plain": [
       "<Figure size 864x504 with 1 Axes>"
      ]
     },
     "metadata": {},
     "output_type": "display_data"
    }
   ],
   "source": [
    "ax = sns.distplot(clasterisation_regions.brand_share_region_yandex_search)"
   ]
  },
  {
   "cell_type": "code",
   "execution_count": 12,
   "id": "fa9f4648",
   "metadata": {},
   "outputs": [
    {
     "name": "stderr",
     "output_type": "stream",
     "text": [
      "C:\\Users\\a.al.kosheleva\\Anaconda3\\lib\\site-packages\\seaborn\\distributions.py:2619: FutureWarning: `distplot` is a deprecated function and will be removed in a future version. Please adapt your code to use either `displot` (a figure-level function with similar flexibility) or `histplot` (an axes-level function for histograms).\n",
      "  warnings.warn(msg, FutureWarning)\n"
     ]
    },
    {
     "data": {
      "image/png": "[encoded data removed]",
      "text/plain": [
       "<Figure size 864x504 with 1 Axes>"
      ]
     },
     "metadata": {},
     "output_type": "display_data"
    }
   ],
   "source": [
    "ax = sns.distplot(clasterisation_regions.affinity_index_lo)"
   ]
  },
  {
   "cell_type": "code",
   "execution_count": 13,
   "id": "2ed41d4e",
   "metadata": {},
   "outputs": [
    {
     "name": "stderr",
     "output_type": "stream",
     "text": [
      "C:\\Users\\a.al.kosheleva\\Anaconda3\\lib\\site-packages\\seaborn\\distributions.py:2619: FutureWarning: `distplot` is a deprecated function and will be removed in a future version. Please adapt your code to use either `displot` (a figure-level function with similar flexibility) or `histplot` (an axes-level function for histograms).\n",
      "  warnings.warn(msg, FutureWarning)\n"
     ]
    },
    {
     "data": {
      "image/png": "[encoded data removed]",
      "text/plain": [
       "<Figure size 864x504 with 1 Axes>"
      ]
     },
     "metadata": {},
     "output_type": "display_data"
    }
   ],
   "source": [
    "ax = sns.distplot(clasterisation_regions.affinity_index_delivery)"
   ]
  },
  {
   "cell_type": "code",
   "execution_count": 14,
   "id": "305db484",
   "metadata": {},
   "outputs": [],
   "source": [
    "#у части данных есть хвосты, так что лучше все прологарифмировать"
   ]
  },
  {
   "cell_type": "code",
   "execution_count": 15,
   "id": "f1d35381",
   "metadata": {},
   "outputs": [],
   "source": [
    "column_headers = list(clasterisation_regions.columns.values)"
   ]
  },
  {
   "cell_type": "code",
   "execution_count": 16,
   "id": "d50a395f",
   "metadata": {},
   "outputs": [
    {
     "data": {
      "text/plain": [
       "['city',\n",
       " 'avg_check_e_commerce',\n",
       " 'e_com_share_value_percent',\n",
       " 'avg_check_lenta_online',\n",
       " 'brand_share_value_percent',\n",
       " 'nps_lenta_online',\n",
       " 'brand_share_region_yandex_search',\n",
       " 'affinity_index_lo',\n",
       " 'affinity_index_delivery',\n",
       " 'spontaneous_knowledge',\n",
       " 'suggested_knowledge',\n",
       " 'orders_12_months',\n",
       " 'orders_last_month',\n",
       " 'top_of_mind',\n",
       " 'buyers_lenta_online']"
      ]
     },
     "execution_count": 16,
     "metadata": {},
     "output_type": "execute_result"
    }
   ],
   "source": [
    "column_headers"
   ]
  },
  {
   "cell_type": "code",
   "execution_count": 17,
   "id": "023d3bab",
   "metadata": {},
   "outputs": [],
   "source": [
    "# преобразуем датафрэйм для кластеризации (убираем тяжелые хвосты в метриках)\n",
    "def get_log_df(data):\n",
    "    def log_transform(v): \n",
    "        res = np.log(v+1)\n",
    "        return res\n",
    "    \n",
    "    data_tmp = data.copy()\n",
    "    for el in ['avg_check_e_commerce',\n",
    " 'e_com_share_value_percent',\n",
    " 'avg_check_lenta_online',\n",
    " 'brand_share_value_percent',\n",
    " 'nps_lenta_online',\n",
    " 'brand_share_region_yandex_search',\n",
    " 'affinity_index_lo',\n",
    " 'affinity_index_delivery',\n",
    " 'suggested_knowledge',\n",
    " 'orders_last_month',\n",
    " 'top_of_mind']:\n",
    "        data_tmp[el] = data_tmp[el].apply(lambda x: log_transform(x))\n",
    "    return data_tmp[['avg_check_e_commerce',\n",
    " 'e_com_share_value_percent',\n",
    " 'avg_check_lenta_online',\n",
    " 'brand_share_value_percent',\n",
    " 'nps_lenta_online',\n",
    " 'brand_share_region_yandex_search',\n",
    " 'affinity_index_lo',\n",
    " 'affinity_index_delivery',\n",
    " 'suggested_knowledge',\n",
    " 'orders_last_month',\n",
    " 'top_of_mind']]"
   ]
  },
  {
   "cell_type": "code",
   "execution_count": 18,
   "id": "419c6ac9",
   "metadata": {},
   "outputs": [],
   "source": [
    "df_log = get_log_df(clasterisation_regions.copy())"
   ]
  },
  {
   "cell_type": "code",
   "execution_count": 19,
   "id": "37e00bec",
   "metadata": {},
   "outputs": [
    {
     "data": {
      "text/html": [
       "<div>\n",
       "<style scoped>\n",
       "    .dataframe tbody tr th:only-of-type {\n",
       "        vertical-align: middle;\n",
       "    }\n",
       "\n",
       "    .dataframe tbody tr th {\n",
       "        vertical-align: top;\n",
       "    }\n",
       "\n",
       "    .dataframe thead th {\n",
       "        text-align: right;\n",
       "    }\n",
       "</style>\n",
       "<table border=\"1\" class=\"dataframe\">\n",
       "  <thead>\n",
       "    <tr style=\"text-align: right;\">\n",
       "      <th></th>\n",
       "      <th>avg_check_e_commerce</th>\n",
       "      <th>e_com_share_value_percent</th>\n",
       "      <th>avg_check_lenta_online</th>\n",
       "      <th>brand_share_value_percent</th>\n",
       "      <th>nps_lenta_online</th>\n",
       "      <th>brand_share_region_yandex_search</th>\n",
       "      <th>affinity_index_lo</th>\n",
       "      <th>affinity_index_delivery</th>\n",
       "      <th>suggested_knowledge</th>\n",
       "      <th>orders_last_month</th>\n",
       "      <th>top_of_mind</th>\n",
       "    </tr>\n",
       "  </thead>\n",
       "  <tbody>\n",
       "    <tr>\n",
       "      <th>0</th>\n",
       "      <td>6.828441</td>\n",
       "      <td>0.928219</td>\n",
       "      <td>7.566994</td>\n",
       "      <td>0.277632</td>\n",
       "      <td>4.145671</td>\n",
       "      <td>1.609438</td>\n",
       "      <td>4.584967</td>\n",
       "      <td>3.912023</td>\n",
       "      <td>3.277145</td>\n",
       "      <td>0.000000</td>\n",
       "      <td>2.079442</td>\n",
       "    </tr>\n",
       "    <tr>\n",
       "      <th>1</th>\n",
       "      <td>7.229418</td>\n",
       "      <td>0.652325</td>\n",
       "      <td>7.613157</td>\n",
       "      <td>0.300105</td>\n",
       "      <td>4.128907</td>\n",
       "      <td>1.945910</td>\n",
       "      <td>5.880533</td>\n",
       "      <td>4.060443</td>\n",
       "      <td>3.955082</td>\n",
       "      <td>2.493205</td>\n",
       "      <td>2.406945</td>\n",
       "    </tr>\n",
       "    <tr>\n",
       "      <th>2</th>\n",
       "      <td>7.145803</td>\n",
       "      <td>0.548121</td>\n",
       "      <td>7.699281</td>\n",
       "      <td>0.165514</td>\n",
       "      <td>4.084463</td>\n",
       "      <td>2.197225</td>\n",
       "      <td>4.905275</td>\n",
       "      <td>5.356586</td>\n",
       "      <td>3.929863</td>\n",
       "      <td>1.504077</td>\n",
       "      <td>2.760010</td>\n",
       "    </tr>\n",
       "    <tr>\n",
       "      <th>3</th>\n",
       "      <td>7.220761</td>\n",
       "      <td>1.211941</td>\n",
       "      <td>7.713414</td>\n",
       "      <td>0.207014</td>\n",
       "      <td>3.913422</td>\n",
       "      <td>1.609438</td>\n",
       "      <td>4.394449</td>\n",
       "      <td>3.970292</td>\n",
       "      <td>4.114147</td>\n",
       "      <td>2.370244</td>\n",
       "      <td>2.714695</td>\n",
       "    </tr>\n",
       "    <tr>\n",
       "      <th>4</th>\n",
       "      <td>7.249222</td>\n",
       "      <td>0.512824</td>\n",
       "      <td>7.561033</td>\n",
       "      <td>0.254642</td>\n",
       "      <td>3.919396</td>\n",
       "      <td>2.197225</td>\n",
       "      <td>4.574711</td>\n",
       "      <td>4.343805</td>\n",
       "      <td>3.937691</td>\n",
       "      <td>1.791759</td>\n",
       "      <td>3.152736</td>\n",
       "    </tr>\n",
       "    <tr>\n",
       "      <th>...</th>\n",
       "      <td>...</td>\n",
       "      <td>...</td>\n",
       "      <td>...</td>\n",
       "      <td>...</td>\n",
       "      <td>...</td>\n",
       "      <td>...</td>\n",
       "      <td>...</td>\n",
       "      <td>...</td>\n",
       "      <td>...</td>\n",
       "      <td>...</td>\n",
       "      <td>...</td>\n",
       "    </tr>\n",
       "    <tr>\n",
       "      <th>79</th>\n",
       "      <td>6.795527</td>\n",
       "      <td>1.118415</td>\n",
       "      <td>7.684329</td>\n",
       "      <td>0.148420</td>\n",
       "      <td>3.985088</td>\n",
       "      <td>1.386294</td>\n",
       "      <td>5.099866</td>\n",
       "      <td>4.077537</td>\n",
       "      <td>3.848018</td>\n",
       "      <td>1.280934</td>\n",
       "      <td>1.840550</td>\n",
       "    </tr>\n",
       "    <tr>\n",
       "      <th>80</th>\n",
       "      <td>7.015317</td>\n",
       "      <td>0.506818</td>\n",
       "      <td>7.737045</td>\n",
       "      <td>0.190620</td>\n",
       "      <td>4.110874</td>\n",
       "      <td>2.302585</td>\n",
       "      <td>5.327876</td>\n",
       "      <td>4.060443</td>\n",
       "      <td>4.343805</td>\n",
       "      <td>1.308333</td>\n",
       "      <td>2.610070</td>\n",
       "    </tr>\n",
       "    <tr>\n",
       "      <th>81</th>\n",
       "      <td>7.384883</td>\n",
       "      <td>0.765468</td>\n",
       "      <td>7.678127</td>\n",
       "      <td>0.398776</td>\n",
       "      <td>4.339641</td>\n",
       "      <td>2.079442</td>\n",
       "      <td>4.276666</td>\n",
       "      <td>3.951244</td>\n",
       "      <td>4.519612</td>\n",
       "      <td>2.850707</td>\n",
       "      <td>3.339322</td>\n",
       "    </tr>\n",
       "    <tr>\n",
       "      <th>82</th>\n",
       "      <td>7.036518</td>\n",
       "      <td>0.667829</td>\n",
       "      <td>7.666568</td>\n",
       "      <td>0.207014</td>\n",
       "      <td>4.214643</td>\n",
       "      <td>2.079442</td>\n",
       "      <td>4.290459</td>\n",
       "      <td>3.761200</td>\n",
       "      <td>0.000000</td>\n",
       "      <td>0.000000</td>\n",
       "      <td>0.000000</td>\n",
       "    </tr>\n",
       "    <tr>\n",
       "      <th>83</th>\n",
       "      <td>6.713223</td>\n",
       "      <td>1.272566</td>\n",
       "      <td>7.748460</td>\n",
       "      <td>0.190620</td>\n",
       "      <td>4.060615</td>\n",
       "      <td>1.609438</td>\n",
       "      <td>4.510860</td>\n",
       "      <td>4.369448</td>\n",
       "      <td>4.197202</td>\n",
       "      <td>1.974081</td>\n",
       "      <td>2.610070</td>\n",
       "    </tr>\n",
       "  </tbody>\n",
       "</table>\n",
       "<p>84 rows × 11 columns</p>\n",
       "</div>"
      ],
      "text/plain": [
       "    avg_check_e_commerce  e_com_share_value_percent  avg_check_lenta_online  \\\n",
       "0               6.828441                   0.928219                7.566994   \n",
       "1               7.229418                   0.652325                7.613157   \n",
       "2               7.145803                   0.548121                7.699281   \n",
       "3               7.220761                   1.211941                7.713414   \n",
       "4               7.249222                   0.512824                7.561033   \n",
       "..                   ...                        ...                     ...   \n",
       "79              6.795527                   1.118415                7.684329   \n",
       "80              7.015317                   0.506818                7.737045   \n",
       "81              7.384883                   0.765468                7.678127   \n",
       "82              7.036518                   0.667829                7.666568   \n",
       "83              6.713223                   1.272566                7.748460   \n",
       "\n",
       "    brand_share_value_percent  nps_lenta_online  \\\n",
       "0                    0.277632          4.145671   \n",
       "1                    0.300105          4.128907   \n",
       "2                    0.165514          4.084463   \n",
       "3                    0.207014          3.913422   \n",
       "4                    0.254642          3.919396   \n",
       "..                        ...               ...   \n",
       "79                   0.148420          3.985088   \n",
       "80                   0.190620          4.110874   \n",
       "81                   0.398776          4.339641   \n",
       "82                   0.207014          4.214643   \n",
       "83                   0.190620          4.060615   \n",
       "\n",
       "    brand_share_region_yandex_search  affinity_index_lo  \\\n",
       "0                           1.609438           4.584967   \n",
       "1                           1.945910           5.880533   \n",
       "2                           2.197225           4.905275   \n",
       "3                           1.609438           4.394449   \n",
       "4                           2.197225           4.574711   \n",
       "..                               ...                ...   \n",
       "79                          1.386294           5.099866   \n",
       "80                          2.302585           5.327876   \n",
       "81                          2.079442           4.276666   \n",
       "82                          2.079442           4.290459   \n",
       "83                          1.609438           4.510860   \n",
       "\n",
       "    affinity_index_delivery  suggested_knowledge  orders_last_month  \\\n",
       "0                  3.912023             3.277145           0.000000   \n",
       "1                  4.060443             3.955082           2.493205   \n",
       "2                  5.356586             3.929863           1.504077   \n",
       "3                  3.970292             4.114147           2.370244   \n",
       "4                  4.343805             3.937691           1.791759   \n",
       "..                      ...                  ...                ...   \n",
       "79                 4.077537             3.848018           1.280934   \n",
       "80                 4.060443             4.343805           1.308333   \n",
       "81                 3.951244             4.519612           2.850707   \n",
       "82                 3.761200             0.000000           0.000000   \n",
       "83                 4.369448             4.197202           1.974081   \n",
       "\n",
       "    top_of_mind  \n",
       "0      2.079442  \n",
       "1      2.406945  \n",
       "2      2.760010  \n",
       "3      2.714695  \n",
       "4      3.152736  \n",
       "..          ...  \n",
       "79     1.840550  \n",
       "80     2.610070  \n",
       "81     3.339322  \n",
       "82     0.000000  \n",
       "83     2.610070  \n",
       "\n",
       "[84 rows x 11 columns]"
      ]
     },
     "execution_count": 19,
     "metadata": {},
     "output_type": "execute_result"
    }
   ],
   "source": [
    "df_log"
   ]
  },
  {
   "cell_type": "code",
   "execution_count": 20,
   "id": "fd99a042",
   "metadata": {},
   "outputs": [],
   "source": [
    "from sklearn.preprocessing import MinMaxScaler"
   ]
  },
  {
   "cell_type": "markdown",
   "id": "ee0c06df",
   "metadata": {},
   "source": [
    "### МинМакс скалирование"
   ]
  },
  {
   "cell_type": "code",
   "execution_count": 21,
   "id": "5c23e5a2",
   "metadata": {},
   "outputs": [],
   "source": [
    "#нормализуем данные, приведем к одной шкале\n",
    "df_log_sc = MinMaxScaler().fit_transform(df_log)"
   ]
  },
  {
   "cell_type": "code",
   "execution_count": 22,
   "id": "4eac8747",
   "metadata": {},
   "outputs": [
    {
     "data": {
      "text/plain": [
       "(84, 11)"
      ]
     },
     "execution_count": 22,
     "metadata": {},
     "output_type": "execute_result"
    }
   ],
   "source": [
    "df_log_sc.shape"
   ]
  },
  {
   "cell_type": "code",
   "execution_count": 23,
   "id": "398be6d4",
   "metadata": {},
   "outputs": [],
   "source": [
    "df_log_sc_clmns = pd.DataFrame(df_log_sc)"
   ]
  },
  {
   "cell_type": "code",
   "execution_count": 24,
   "id": "6fd1eae5",
   "metadata": {},
   "outputs": [],
   "source": [
    "df_log_sc_clmns.columns = df_log.columns"
   ]
  },
  {
   "cell_type": "code",
   "execution_count": 25,
   "id": "160ba84d",
   "metadata": {},
   "outputs": [],
   "source": [
    "from scipy.cluster.hierarchy import fcluster, linkage\n",
    "from sklearn.manifold import TSNE"
   ]
  },
  {
   "cell_type": "code",
   "execution_count": null,
   "id": "68695af0",
   "metadata": {},
   "outputs": [],
   "source": []
  },
  {
   "cell_type": "markdown",
   "id": "fa7fe6b4",
   "metadata": {},
   "source": [
    "### Сохраняем tSNE отображение"
   ]
  },
  {
   "cell_type": "code",
   "execution_count": 26,
   "id": "ffcacb25",
   "metadata": {},
   "outputs": [],
   "source": [
    "tsne_representation = TSNE(n_components=2, random_state=321).fit_transform(df_log_sc)"
   ]
  },
  {
   "cell_type": "code",
   "execution_count": 27,
   "id": "32d95c09",
   "metadata": {},
   "outputs": [],
   "source": [
    "from sklearn.neighbors import NearestNeighbors\n",
    "from sklearn.cluster import DBSCAN\n",
    "from sklearn.metrics import silhouette_score"
   ]
  },
  {
   "cell_type": "code",
   "execution_count": 28,
   "id": "79403474",
   "metadata": {},
   "outputs": [],
   "source": [
    "distance_matrix = linkage(tsne_representation, method = 'ward', metric = 'euclidean')"
   ]
  },
  {
   "cell_type": "code",
   "execution_count": 29,
   "id": "f1ef6462",
   "metadata": {},
   "outputs": [],
   "source": [
    "from scipy.cluster.hierarchy import dendrogram"
   ]
  },
  {
   "cell_type": "code",
   "execution_count": 30,
   "id": "8c04625a",
   "metadata": {},
   "outputs": [
    {
     "data": {
      "image/png": "[encoded data removed]",
      "text/plain": [
       "<Figure size 864x504 with 1 Axes>"
      ]
     },
     "metadata": {},
     "output_type": "display_data"
    }
   ],
   "source": [
    "dn = dendrogram(\n",
    "        distance_matrix,\n",
    "        leaf_rotation=90.,\n",
    "        leaf_font_size=8.,\n",
    "        truncate_mode='level',\n",
    "        p=16,\n",
    "        color_threshold=120,\n",
    "        no_labels=True\n",
    "    )"
   ]
  },
  {
   "cell_type": "code",
   "execution_count": 32,
   "id": "1dff93e7",
   "metadata": {},
   "outputs": [],
   "source": [
    "#итого было выбрано взять 6 кластеров, далее будет график и подсчет средних значений\n",
    "cl_tsne_labels_final = pd.Series(fcluster(distance_matrix, 5, criterion='maxclust'))"
   ]
  },
  {
   "cell_type": "code",
   "execution_count": 33,
   "id": "888900a4",
   "metadata": {},
   "outputs": [],
   "source": [
    "cl_tsne_labels_final_agg = cl_tsne_labels_final"
   ]
  },
  {
   "cell_type": "code",
   "execution_count": 34,
   "id": "f7612ba6",
   "metadata": {},
   "outputs": [],
   "source": [
    "clusters_df = pd.DataFrame({\n",
    "    'cl_tsne_labels_final':cl_tsne_labels_final,\n",
    "    'cl_tsne_labels_final_agg':cl_tsne_labels_final,\n",
    "    'x':tsne_representation[:,0],\n",
    "    'y':tsne_representation[:,1]\n",
    "}\n",
    ")"
   ]
  },
  {
   "cell_type": "code",
   "execution_count": 35,
   "id": "de8540fb",
   "metadata": {},
   "outputs": [],
   "source": [
    "import matplotlib.cm as cm\n",
    "def get_clusters_image(l):\n",
    "    clusters_df = pd.DataFrame({\n",
    "        'cl_tsne_labels_final_agg':l,\n",
    "        'x':tsne_representation[:,0],\n",
    "        'y':tsne_representation[:,1]\n",
    "    }\n",
    "    )\n",
    "    colors = cm.rainbow(np.linspace(0,1,len(set(l))))\n",
    "    for y, c in zip(set(l), colors):\n",
    "        plt.scatter(tsne_representation[pd.Series(l).values==y, 0], \n",
    "                    tsne_representation[pd.Series(l).values==y, 1], c=c, alpha=0.3, label=str(y))\n",
    "    return plt.legend()"
   ]
  },
  {
   "cell_type": "code",
   "execution_count": 36,
   "id": "da795378",
   "metadata": {},
   "outputs": [
    {
     "name": "stderr",
     "output_type": "stream",
     "text": [
      "*c* argument looks like a single numeric RGB or RGBA sequence, which should be avoided as value-mapping will have precedence in case its length matches with *x* & *y*.  Please use the *color* keyword-argument or provide a 2D array with a single row if you intend to specify the same RGB or RGBA value for all points.\n",
      "*c* argument looks like a single numeric RGB or RGBA sequence, which should be avoided as value-mapping will have precedence in case its length matches with *x* & *y*.  Please use the *color* keyword-argument or provide a 2D array with a single row if you intend to specify the same RGB or RGBA value for all points.\n",
      "*c* argument looks like a single numeric RGB or RGBA sequence, which should be avoided as value-mapping will have precedence in case its length matches with *x* & *y*.  Please use the *color* keyword-argument or provide a 2D array with a single row if you intend to specify the same RGB or RGBA value for all points.\n",
      "*c* argument looks like a single numeric RGB or RGBA sequence, which should be avoided as value-mapping will have precedence in case its length matches with *x* & *y*.  Please use the *color* keyword-argument or provide a 2D array with a single row if you intend to specify the same RGB or RGBA value for all points.\n",
      "*c* argument looks like a single numeric RGB or RGBA sequence, which should be avoided as value-mapping will have precedence in case its length matches with *x* & *y*.  Please use the *color* keyword-argument or provide a 2D array with a single row if you intend to specify the same RGB or RGBA value for all points.\n"
     ]
    },
    {
     "data": {
      "text/plain": [
       "<matplotlib.legend.Legend at 0x1482f839b20>"
      ]
     },
     "execution_count": 36,
     "metadata": {},
     "output_type": "execute_result"
    },
    {
     "data": {
      "image/png": "[encoded data removed]",
      "text/plain": [
       "<Figure size 864x504 with 1 Axes>"
      ]
     },
     "metadata": {},
     "output_type": "display_data"
    }
   ],
   "source": [
    "get_clusters_image(cl_tsne_labels_final_agg)"
   ]
  },
  {
   "cell_type": "code",
   "execution_count": 37,
   "id": "5744eea2",
   "metadata": {},
   "outputs": [],
   "source": [
    "clasterisation_regions[\"labels_4\"] = cl_tsne_labels_final_agg"
   ]
  },
  {
   "cell_type": "code",
   "execution_count": 38,
   "id": "77d3478c",
   "metadata": {},
   "outputs": [
    {
     "data": {
      "text/html": [
       "<div>\n",
       "<style scoped>\n",
       "    .dataframe tbody tr th:only-of-type {\n",
       "        vertical-align: middle;\n",
       "    }\n",
       "\n",
       "    .dataframe tbody tr th {\n",
       "        vertical-align: top;\n",
       "    }\n",
       "\n",
       "    .dataframe thead th {\n",
       "        text-align: right;\n",
       "    }\n",
       "</style>\n",
       "<table border=\"1\" class=\"dataframe\">\n",
       "  <thead>\n",
       "    <tr style=\"text-align: right;\">\n",
       "      <th></th>\n",
       "      <th>city</th>\n",
       "      <th>avg_check_e_commerce</th>\n",
       "      <th>e_com_share_value_percent</th>\n",
       "      <th>avg_check_lenta_online</th>\n",
       "      <th>brand_share_value_percent</th>\n",
       "      <th>nps_lenta_online</th>\n",
       "      <th>brand_share_region_yandex_search</th>\n",
       "      <th>affinity_index_lo</th>\n",
       "      <th>affinity_index_delivery</th>\n",
       "      <th>spontaneous_knowledge</th>\n",
       "      <th>suggested_knowledge</th>\n",
       "      <th>orders_12_months</th>\n",
       "      <th>orders_last_month</th>\n",
       "      <th>top_of_mind</th>\n",
       "      <th>buyers_lenta_online</th>\n",
       "      <th>labels_4</th>\n",
       "    </tr>\n",
       "  </thead>\n",
       "  <tbody>\n",
       "    <tr>\n",
       "      <th>0</th>\n",
       "      <td>Альметьевск</td>\n",
       "      <td>922.75</td>\n",
       "      <td>1.53</td>\n",
       "      <td>1932.32</td>\n",
       "      <td>0.32</td>\n",
       "      <td>62.16</td>\n",
       "      <td>4.0</td>\n",
       "      <td>97.0</td>\n",
       "      <td>49.0</td>\n",
       "      <td>7.0</td>\n",
       "      <td>25.5</td>\n",
       "      <td>0.0</td>\n",
       "      <td>0.0</td>\n",
       "      <td>7.0</td>\n",
       "      <td>3453</td>\n",
       "      <td>3</td>\n",
       "    </tr>\n",
       "    <tr>\n",
       "      <th>1</th>\n",
       "      <td>Армавир</td>\n",
       "      <td>1378.42</td>\n",
       "      <td>0.92</td>\n",
       "      <td>2023.66</td>\n",
       "      <td>0.35</td>\n",
       "      <td>61.11</td>\n",
       "      <td>6.0</td>\n",
       "      <td>357.0</td>\n",
       "      <td>57.0</td>\n",
       "      <td>17.0</td>\n",
       "      <td>51.2</td>\n",
       "      <td>28.4</td>\n",
       "      <td>11.1</td>\n",
       "      <td>10.1</td>\n",
       "      <td>2408</td>\n",
       "      <td>1</td>\n",
       "    </tr>\n",
       "    <tr>\n",
       "      <th>2</th>\n",
       "      <td>Архангельск</td>\n",
       "      <td>1267.77</td>\n",
       "      <td>0.73</td>\n",
       "      <td>2205.76</td>\n",
       "      <td>0.18</td>\n",
       "      <td>58.41</td>\n",
       "      <td>8.0</td>\n",
       "      <td>134.0</td>\n",
       "      <td>211.0</td>\n",
       "      <td>32.8</td>\n",
       "      <td>49.9</td>\n",
       "      <td>6.7</td>\n",
       "      <td>3.5</td>\n",
       "      <td>14.8</td>\n",
       "      <td>5791</td>\n",
       "      <td>2</td>\n",
       "    </tr>\n",
       "    <tr>\n",
       "      <th>3</th>\n",
       "      <td>Астрахань</td>\n",
       "      <td>1366.53</td>\n",
       "      <td>2.36</td>\n",
       "      <td>2237.17</td>\n",
       "      <td>0.23</td>\n",
       "      <td>49.07</td>\n",
       "      <td>4.0</td>\n",
       "      <td>80.0</td>\n",
       "      <td>52.0</td>\n",
       "      <td>25.2</td>\n",
       "      <td>60.2</td>\n",
       "      <td>21.9</td>\n",
       "      <td>9.7</td>\n",
       "      <td>14.1</td>\n",
       "      <td>6439</td>\n",
       "      <td>2</td>\n",
       "    </tr>\n",
       "    <tr>\n",
       "      <th>4</th>\n",
       "      <td>Балаково</td>\n",
       "      <td>1406.01</td>\n",
       "      <td>0.67</td>\n",
       "      <td>1920.83</td>\n",
       "      <td>0.29</td>\n",
       "      <td>49.37</td>\n",
       "      <td>8.0</td>\n",
       "      <td>96.0</td>\n",
       "      <td>76.0</td>\n",
       "      <td>33.7</td>\n",
       "      <td>50.3</td>\n",
       "      <td>32.7</td>\n",
       "      <td>5.0</td>\n",
       "      <td>22.4</td>\n",
       "      <td>2731</td>\n",
       "      <td>1</td>\n",
       "    </tr>\n",
       "  </tbody>\n",
       "</table>\n",
       "</div>"
      ],
      "text/plain": [
       "          city  avg_check_e_commerce  e_com_share_value_percent  \\\n",
       "0  Альметьевск                922.75                       1.53   \n",
       "1      Армавир               1378.42                       0.92   \n",
       "2  Архангельск               1267.77                       0.73   \n",
       "3    Астрахань               1366.53                       2.36   \n",
       "4     Балаково               1406.01                       0.67   \n",
       "\n",
       "   avg_check_lenta_online  brand_share_value_percent  nps_lenta_online  \\\n",
       "0                 1932.32                       0.32             62.16   \n",
       "1                 2023.66                       0.35             61.11   \n",
       "2                 2205.76                       0.18             58.41   \n",
       "3                 2237.17                       0.23             49.07   \n",
       "4                 1920.83                       0.29             49.37   \n",
       "\n",
       "   brand_share_region_yandex_search  affinity_index_lo  \\\n",
       "0                               4.0               97.0   \n",
       "1                               6.0              357.0   \n",
       "2                               8.0              134.0   \n",
       "3                               4.0               80.0   \n",
       "4                               8.0               96.0   \n",
       "\n",
       "   affinity_index_delivery  spontaneous_knowledge  suggested_knowledge  \\\n",
       "0                     49.0                    7.0                 25.5   \n",
       "1                     57.0                   17.0                 51.2   \n",
       "2                    211.0                   32.8                 49.9   \n",
       "3                     52.0                   25.2                 60.2   \n",
       "4                     76.0                   33.7                 50.3   \n",
       "\n",
       "   orders_12_months  orders_last_month  top_of_mind  buyers_lenta_online  \\\n",
       "0               0.0                0.0          7.0                 3453   \n",
       "1              28.4               11.1         10.1                 2408   \n",
       "2               6.7                3.5         14.8                 5791   \n",
       "3              21.9                9.7         14.1                 6439   \n",
       "4              32.7                5.0         22.4                 2731   \n",
       "\n",
       "   labels_4  \n",
       "0         3  \n",
       "1         1  \n",
       "2         2  \n",
       "3         2  \n",
       "4         1  "
      ]
     },
     "execution_count": 38,
     "metadata": {},
     "output_type": "execute_result"
    }
   ],
   "source": [
    "clasterisation_regions.head()"
   ]
  },
  {
   "cell_type": "code",
   "execution_count": 43,
   "id": "bb4a367d",
   "metadata": {},
   "outputs": [],
   "source": [
    "clasterisation_regions[\"labels_4\"] = np.where(clasterisation_regions[\"city\"] == \"Москва\", 6, clasterisation_regions[\"labels_4\"])\n",
    "clasterisation_regions[\"labels_4\"] = np.where(clasterisation_regions[\"city\"] == \"Санкт-Петербург\", 7, clasterisation_regions[\"labels_4\"])"
   ]
  },
  {
   "cell_type": "code",
   "execution_count": 44,
   "id": "a4768489",
   "metadata": {},
   "outputs": [],
   "source": [
    "df_vis = clasterisation_regions[['avg_check_e_commerce',\n",
    " 'e_com_share_value_percent',\n",
    " 'avg_check_lenta_online',\n",
    " 'brand_share_value_percent',\n",
    " 'nps_lenta_online',\n",
    " 'brand_share_region_yandex_search',\n",
    " 'affinity_index_lo',\n",
    " 'affinity_index_delivery',\n",
    " 'suggested_knowledge',\n",
    " 'orders_last_month',\n",
    " 'top_of_mind',\n",
    "'labels_4']].copy()"
   ]
  },
  {
   "cell_type": "code",
   "execution_count": 45,
   "id": "824a9bd4",
   "metadata": {},
   "outputs": [
    {
     "data": {
      "text/html": [
       "<div>\n",
       "<style scoped>\n",
       "    .dataframe tbody tr th:only-of-type {\n",
       "        vertical-align: middle;\n",
       "    }\n",
       "\n",
       "    .dataframe tbody tr th {\n",
       "        vertical-align: top;\n",
       "    }\n",
       "\n",
       "    .dataframe thead th {\n",
       "        text-align: right;\n",
       "    }\n",
       "</style>\n",
       "<table border=\"1\" class=\"dataframe\">\n",
       "  <thead>\n",
       "    <tr style=\"text-align: right;\">\n",
       "      <th></th>\n",
       "      <th>avg_check_e_commerce</th>\n",
       "      <th>e_com_share_value_percent</th>\n",
       "      <th>avg_check_lenta_online</th>\n",
       "      <th>brand_share_value_percent</th>\n",
       "      <th>nps_lenta_online</th>\n",
       "      <th>brand_share_region_yandex_search</th>\n",
       "      <th>affinity_index_lo</th>\n",
       "      <th>affinity_index_delivery</th>\n",
       "      <th>suggested_knowledge</th>\n",
       "      <th>orders_last_month</th>\n",
       "      <th>top_of_mind</th>\n",
       "      <th>labels_4</th>\n",
       "    </tr>\n",
       "  </thead>\n",
       "  <tbody>\n",
       "    <tr>\n",
       "      <th>0</th>\n",
       "      <td>922.75</td>\n",
       "      <td>1.53</td>\n",
       "      <td>1932.32</td>\n",
       "      <td>0.32</td>\n",
       "      <td>62.16</td>\n",
       "      <td>4.0</td>\n",
       "      <td>97.0</td>\n",
       "      <td>49.0</td>\n",
       "      <td>25.5</td>\n",
       "      <td>0.0</td>\n",
       "      <td>7.0</td>\n",
       "      <td>3</td>\n",
       "    </tr>\n",
       "    <tr>\n",
       "      <th>1</th>\n",
       "      <td>1378.42</td>\n",
       "      <td>0.92</td>\n",
       "      <td>2023.66</td>\n",
       "      <td>0.35</td>\n",
       "      <td>61.11</td>\n",
       "      <td>6.0</td>\n",
       "      <td>357.0</td>\n",
       "      <td>57.0</td>\n",
       "      <td>51.2</td>\n",
       "      <td>11.1</td>\n",
       "      <td>10.1</td>\n",
       "      <td>1</td>\n",
       "    </tr>\n",
       "    <tr>\n",
       "      <th>2</th>\n",
       "      <td>1267.77</td>\n",
       "      <td>0.73</td>\n",
       "      <td>2205.76</td>\n",
       "      <td>0.18</td>\n",
       "      <td>58.41</td>\n",
       "      <td>8.0</td>\n",
       "      <td>134.0</td>\n",
       "      <td>211.0</td>\n",
       "      <td>49.9</td>\n",
       "      <td>3.5</td>\n",
       "      <td>14.8</td>\n",
       "      <td>2</td>\n",
       "    </tr>\n",
       "    <tr>\n",
       "      <th>3</th>\n",
       "      <td>1366.53</td>\n",
       "      <td>2.36</td>\n",
       "      <td>2237.17</td>\n",
       "      <td>0.23</td>\n",
       "      <td>49.07</td>\n",
       "      <td>4.0</td>\n",
       "      <td>80.0</td>\n",
       "      <td>52.0</td>\n",
       "      <td>60.2</td>\n",
       "      <td>9.7</td>\n",
       "      <td>14.1</td>\n",
       "      <td>2</td>\n",
       "    </tr>\n",
       "    <tr>\n",
       "      <th>4</th>\n",
       "      <td>1406.01</td>\n",
       "      <td>0.67</td>\n",
       "      <td>1920.83</td>\n",
       "      <td>0.29</td>\n",
       "      <td>49.37</td>\n",
       "      <td>8.0</td>\n",
       "      <td>96.0</td>\n",
       "      <td>76.0</td>\n",
       "      <td>50.3</td>\n",
       "      <td>5.0</td>\n",
       "      <td>22.4</td>\n",
       "      <td>1</td>\n",
       "    </tr>\n",
       "    <tr>\n",
       "      <th>...</th>\n",
       "      <td>...</td>\n",
       "      <td>...</td>\n",
       "      <td>...</td>\n",
       "      <td>...</td>\n",
       "      <td>...</td>\n",
       "      <td>...</td>\n",
       "      <td>...</td>\n",
       "      <td>...</td>\n",
       "      <td>...</td>\n",
       "      <td>...</td>\n",
       "      <td>...</td>\n",
       "      <td>...</td>\n",
       "    </tr>\n",
       "    <tr>\n",
       "      <th>79</th>\n",
       "      <td>892.84</td>\n",
       "      <td>2.06</td>\n",
       "      <td>2173.01</td>\n",
       "      <td>0.16</td>\n",
       "      <td>52.79</td>\n",
       "      <td>3.0</td>\n",
       "      <td>163.0</td>\n",
       "      <td>58.0</td>\n",
       "      <td>45.9</td>\n",
       "      <td>2.6</td>\n",
       "      <td>5.3</td>\n",
       "      <td>5</td>\n",
       "    </tr>\n",
       "    <tr>\n",
       "      <th>80</th>\n",
       "      <td>1112.56</td>\n",
       "      <td>0.66</td>\n",
       "      <td>2290.69</td>\n",
       "      <td>0.21</td>\n",
       "      <td>60.00</td>\n",
       "      <td>9.0</td>\n",
       "      <td>205.0</td>\n",
       "      <td>57.0</td>\n",
       "      <td>76.0</td>\n",
       "      <td>2.7</td>\n",
       "      <td>12.6</td>\n",
       "      <td>2</td>\n",
       "    </tr>\n",
       "    <tr>\n",
       "      <th>81</th>\n",
       "      <td>1610.44</td>\n",
       "      <td>1.15</td>\n",
       "      <td>2159.57</td>\n",
       "      <td>0.49</td>\n",
       "      <td>75.68</td>\n",
       "      <td>7.0</td>\n",
       "      <td>71.0</td>\n",
       "      <td>51.0</td>\n",
       "      <td>90.8</td>\n",
       "      <td>16.3</td>\n",
       "      <td>27.2</td>\n",
       "      <td>1</td>\n",
       "    </tr>\n",
       "    <tr>\n",
       "      <th>82</th>\n",
       "      <td>1136.42</td>\n",
       "      <td>0.95</td>\n",
       "      <td>2134.74</td>\n",
       "      <td>0.23</td>\n",
       "      <td>66.67</td>\n",
       "      <td>7.0</td>\n",
       "      <td>72.0</td>\n",
       "      <td>42.0</td>\n",
       "      <td>0.0</td>\n",
       "      <td>0.0</td>\n",
       "      <td>0.0</td>\n",
       "      <td>3</td>\n",
       "    </tr>\n",
       "    <tr>\n",
       "      <th>83</th>\n",
       "      <td>822.22</td>\n",
       "      <td>2.57</td>\n",
       "      <td>2317.00</td>\n",
       "      <td>0.21</td>\n",
       "      <td>57.01</td>\n",
       "      <td>4.0</td>\n",
       "      <td>90.0</td>\n",
       "      <td>78.0</td>\n",
       "      <td>65.5</td>\n",
       "      <td>6.2</td>\n",
       "      <td>12.6</td>\n",
       "      <td>5</td>\n",
       "    </tr>\n",
       "  </tbody>\n",
       "</table>\n",
       "<p>84 rows × 12 columns</p>\n",
       "</div>"
      ],
      "text/plain": [
       "    avg_check_e_commerce  e_com_share_value_percent  avg_check_lenta_online  \\\n",
       "0                 922.75                       1.53                 1932.32   \n",
       "1                1378.42                       0.92                 2023.66   \n",
       "2                1267.77                       0.73                 2205.76   \n",
       "3                1366.53                       2.36                 2237.17   \n",
       "4                1406.01                       0.67                 1920.83   \n",
       "..                   ...                        ...                     ...   \n",
       "79                892.84                       2.06                 2173.01   \n",
       "80               1112.56                       0.66                 2290.69   \n",
       "81               1610.44                       1.15                 2159.57   \n",
       "82               1136.42                       0.95                 2134.74   \n",
       "83                822.22                       2.57                 2317.00   \n",
       "\n",
       "    brand_share_value_percent  nps_lenta_online  \\\n",
       "0                        0.32             62.16   \n",
       "1                        0.35             61.11   \n",
       "2                        0.18             58.41   \n",
       "3                        0.23             49.07   \n",
       "4                        0.29             49.37   \n",
       "..                        ...               ...   \n",
       "79                       0.16             52.79   \n",
       "80                       0.21             60.00   \n",
       "81                       0.49             75.68   \n",
       "82                       0.23             66.67   \n",
       "83                       0.21             57.01   \n",
       "\n",
       "    brand_share_region_yandex_search  affinity_index_lo  \\\n",
       "0                                4.0               97.0   \n",
       "1                                6.0              357.0   \n",
       "2                                8.0              134.0   \n",
       "3                                4.0               80.0   \n",
       "4                                8.0               96.0   \n",
       "..                               ...                ...   \n",
       "79                               3.0              163.0   \n",
       "80                               9.0              205.0   \n",
       "81                               7.0               71.0   \n",
       "82                               7.0               72.0   \n",
       "83                               4.0               90.0   \n",
       "\n",
       "    affinity_index_delivery  suggested_knowledge  orders_last_month  \\\n",
       "0                      49.0                 25.5                0.0   \n",
       "1                      57.0                 51.2               11.1   \n",
       "2                     211.0                 49.9                3.5   \n",
       "3                      52.0                 60.2                9.7   \n",
       "4                      76.0                 50.3                5.0   \n",
       "..                      ...                  ...                ...   \n",
       "79                     58.0                 45.9                2.6   \n",
       "80                     57.0                 76.0                2.7   \n",
       "81                     51.0                 90.8               16.3   \n",
       "82                     42.0                  0.0                0.0   \n",
       "83                     78.0                 65.5                6.2   \n",
       "\n",
       "    top_of_mind  labels_4  \n",
       "0           7.0         3  \n",
       "1          10.1         1  \n",
       "2          14.8         2  \n",
       "3          14.1         2  \n",
       "4          22.4         1  \n",
       "..          ...       ...  \n",
       "79          5.3         5  \n",
       "80         12.6         2  \n",
       "81         27.2         1  \n",
       "82          0.0         3  \n",
       "83         12.6         5  \n",
       "\n",
       "[84 rows x 12 columns]"
      ]
     },
     "execution_count": 45,
     "metadata": {},
     "output_type": "execute_result"
    }
   ],
   "source": [
    "df_vis"
   ]
  },
  {
   "cell_type": "code",
   "execution_count": 46,
   "id": "646e5562",
   "metadata": {},
   "outputs": [
    {
     "data": {
      "text/html": [
       "<div>\n",
       "<style scoped>\n",
       "    .dataframe tbody tr th:only-of-type {\n",
       "        vertical-align: middle;\n",
       "    }\n",
       "\n",
       "    .dataframe tbody tr th {\n",
       "        vertical-align: top;\n",
       "    }\n",
       "\n",
       "    .dataframe thead th {\n",
       "        text-align: right;\n",
       "    }\n",
       "</style>\n",
       "<table border=\"1\" class=\"dataframe\">\n",
       "  <thead>\n",
       "    <tr style=\"text-align: right;\">\n",
       "      <th>labels_4</th>\n",
       "      <th>index</th>\n",
       "      <th>1</th>\n",
       "      <th>2</th>\n",
       "      <th>3</th>\n",
       "      <th>4</th>\n",
       "      <th>5</th>\n",
       "      <th>6</th>\n",
       "      <th>7</th>\n",
       "    </tr>\n",
       "  </thead>\n",
       "  <tbody>\n",
       "    <tr>\n",
       "      <th>0</th>\n",
       "      <td>affinity_index_delivery</td>\n",
       "      <td>73.692308</td>\n",
       "      <td>85.147059</td>\n",
       "      <td>54.500000</td>\n",
       "      <td>59.083333</td>\n",
       "      <td>85.115385</td>\n",
       "      <td>206.00</td>\n",
       "      <td>213.00</td>\n",
       "    </tr>\n",
       "    <tr>\n",
       "      <th>1</th>\n",
       "      <td>affinity_index_lo</td>\n",
       "      <td>183.076923</td>\n",
       "      <td>164.705882</td>\n",
       "      <td>232.142857</td>\n",
       "      <td>176.333333</td>\n",
       "      <td>106.307692</td>\n",
       "      <td>114.00</td>\n",
       "      <td>280.00</td>\n",
       "    </tr>\n",
       "    <tr>\n",
       "      <th>2</th>\n",
       "      <td>avg_check_e_commerce</td>\n",
       "      <td>1437.113846</td>\n",
       "      <td>1225.361176</td>\n",
       "      <td>1439.314286</td>\n",
       "      <td>805.234167</td>\n",
       "      <td>881.056154</td>\n",
       "      <td>1130.85</td>\n",
       "      <td>971.23</td>\n",
       "    </tr>\n",
       "    <tr>\n",
       "      <th>3</th>\n",
       "      <td>avg_check_lenta_online</td>\n",
       "      <td>2162.298462</td>\n",
       "      <td>2319.485882</td>\n",
       "      <td>2220.720714</td>\n",
       "      <td>1933.420833</td>\n",
       "      <td>2270.843846</td>\n",
       "      <td>2413.27</td>\n",
       "      <td>2617.75</td>\n",
       "    </tr>\n",
       "    <tr>\n",
       "      <th>4</th>\n",
       "      <td>brand_share_region_yandex_search</td>\n",
       "      <td>7.846154</td>\n",
       "      <td>6.147059</td>\n",
       "      <td>9.214286</td>\n",
       "      <td>4.416667</td>\n",
       "      <td>3.076923</td>\n",
       "      <td>2.00</td>\n",
       "      <td>6.00</td>\n",
       "    </tr>\n",
       "    <tr>\n",
       "      <th>5</th>\n",
       "      <td>brand_share_value_percent</td>\n",
       "      <td>0.322308</td>\n",
       "      <td>0.245294</td>\n",
       "      <td>0.380000</td>\n",
       "      <td>0.195000</td>\n",
       "      <td>0.171538</td>\n",
       "      <td>0.15</td>\n",
       "      <td>0.44</td>\n",
       "    </tr>\n",
       "    <tr>\n",
       "      <th>6</th>\n",
       "      <td>e_com_share_value_percent</td>\n",
       "      <td>0.896154</td>\n",
       "      <td>1.535882</td>\n",
       "      <td>1.200714</td>\n",
       "      <td>1.692500</td>\n",
       "      <td>2.683846</td>\n",
       "      <td>9.59</td>\n",
       "      <td>5.15</td>\n",
       "    </tr>\n",
       "    <tr>\n",
       "      <th>7</th>\n",
       "      <td>nps_lenta_online</td>\n",
       "      <td>56.900000</td>\n",
       "      <td>48.817941</td>\n",
       "      <td>52.330714</td>\n",
       "      <td>50.350833</td>\n",
       "      <td>46.303077</td>\n",
       "      <td>35.92</td>\n",
       "      <td>42.15</td>\n",
       "    </tr>\n",
       "    <tr>\n",
       "      <th>8</th>\n",
       "      <td>orders_last_month</td>\n",
       "      <td>12.823077</td>\n",
       "      <td>4.882353</td>\n",
       "      <td>0.078571</td>\n",
       "      <td>7.091667</td>\n",
       "      <td>4.607692</td>\n",
       "      <td>6.10</td>\n",
       "      <td>6.80</td>\n",
       "    </tr>\n",
       "    <tr>\n",
       "      <th>9</th>\n",
       "      <td>suggested_knowledge</td>\n",
       "      <td>69.630769</td>\n",
       "      <td>59.011765</td>\n",
       "      <td>20.542857</td>\n",
       "      <td>60.375000</td>\n",
       "      <td>51.815385</td>\n",
       "      <td>42.30</td>\n",
       "      <td>52.80</td>\n",
       "    </tr>\n",
       "    <tr>\n",
       "      <th>10</th>\n",
       "      <td>top_of_mind</td>\n",
       "      <td>17.584615</td>\n",
       "      <td>15.355882</td>\n",
       "      <td>2.750000</td>\n",
       "      <td>10.241667</td>\n",
       "      <td>7.680769</td>\n",
       "      <td>3.20</td>\n",
       "      <td>9.50</td>\n",
       "    </tr>\n",
       "  </tbody>\n",
       "</table>\n",
       "</div>"
      ],
      "text/plain": [
       "labels_4                             index            1            2  \\\n",
       "0                  affinity_index_delivery    73.692308    85.147059   \n",
       "1                        affinity_index_lo   183.076923   164.705882   \n",
       "2                     avg_check_e_commerce  1437.113846  1225.361176   \n",
       "3                   avg_check_lenta_online  2162.298462  2319.485882   \n",
       "4         brand_share_region_yandex_search     7.846154     6.147059   \n",
       "5                brand_share_value_percent     0.322308     0.245294   \n",
       "6                e_com_share_value_percent     0.896154     1.535882   \n",
       "7                         nps_lenta_online    56.900000    48.817941   \n",
       "8                        orders_last_month    12.823077     4.882353   \n",
       "9                      suggested_knowledge    69.630769    59.011765   \n",
       "10                             top_of_mind    17.584615    15.355882   \n",
       "\n",
       "labels_4            3            4            5        6        7  \n",
       "0           54.500000    59.083333    85.115385   206.00   213.00  \n",
       "1          232.142857   176.333333   106.307692   114.00   280.00  \n",
       "2         1439.314286   805.234167   881.056154  1130.85   971.23  \n",
       "3         2220.720714  1933.420833  2270.843846  2413.27  2617.75  \n",
       "4            9.214286     4.416667     3.076923     2.00     6.00  \n",
       "5            0.380000     0.195000     0.171538     0.15     0.44  \n",
       "6            1.200714     1.692500     2.683846     9.59     5.15  \n",
       "7           52.330714    50.350833    46.303077    35.92    42.15  \n",
       "8            0.078571     7.091667     4.607692     6.10     6.80  \n",
       "9           20.542857    60.375000    51.815385    42.30    52.80  \n",
       "10           2.750000    10.241667     7.680769     3.20     9.50  "
      ]
     },
     "execution_count": 46,
     "metadata": {},
     "output_type": "execute_result"
    }
   ],
   "source": [
    "df_vis.pivot_table(index='labels_4', aggfunc='mean').transpose().reset_index()"
   ]
  },
  {
   "cell_type": "code",
   "execution_count": 47,
   "id": "5bfcef51",
   "metadata": {},
   "outputs": [
    {
     "data": {
      "text/plain": [
       "labels_4\n",
       "1    13\n",
       "2    17\n",
       "3    14\n",
       "4    12\n",
       "5    26\n",
       "6     1\n",
       "7     1\n",
       "Name: city, dtype: int64"
      ]
     },
     "execution_count": 47,
     "metadata": {},
     "output_type": "execute_result"
    }
   ],
   "source": [
    "clasterisation_regions.groupby('labels_4')['city'].nunique()"
   ]
  },
  {
   "cell_type": "code",
   "execution_count": 48,
   "id": "8458b91a",
   "metadata": {},
   "outputs": [
    {
     "data": {
      "text/html": [
       "<div>\n",
       "<style scoped>\n",
       "    .dataframe tbody tr th:only-of-type {\n",
       "        vertical-align: middle;\n",
       "    }\n",
       "\n",
       "    .dataframe tbody tr th {\n",
       "        vertical-align: top;\n",
       "    }\n",
       "\n",
       "    .dataframe thead th {\n",
       "        text-align: right;\n",
       "    }\n",
       "</style>\n",
       "<table border=\"1\" class=\"dataframe\">\n",
       "  <thead>\n",
       "    <tr style=\"text-align: right;\">\n",
       "      <th></th>\n",
       "      <th>avg_check_e_commerce</th>\n",
       "      <th>e_com_share_value_percent</th>\n",
       "      <th>avg_check_lenta_online</th>\n",
       "      <th>brand_share_value_percent</th>\n",
       "      <th>nps_lenta_online</th>\n",
       "      <th>brand_share_region_yandex_search</th>\n",
       "      <th>affinity_index_lo</th>\n",
       "      <th>affinity_index_delivery</th>\n",
       "      <th>suggested_knowledge</th>\n",
       "      <th>orders_last_month</th>\n",
       "      <th>top_of_mind</th>\n",
       "      <th>labels_4</th>\n",
       "    </tr>\n",
       "  </thead>\n",
       "  <tbody>\n",
       "    <tr>\n",
       "      <th>0</th>\n",
       "      <td>922.75</td>\n",
       "      <td>1.53</td>\n",
       "      <td>1932.32</td>\n",
       "      <td>0.32</td>\n",
       "      <td>62.16</td>\n",
       "      <td>4.0</td>\n",
       "      <td>97.0</td>\n",
       "      <td>49.0</td>\n",
       "      <td>25.5</td>\n",
       "      <td>0.0</td>\n",
       "      <td>7.0</td>\n",
       "      <td>3</td>\n",
       "    </tr>\n",
       "    <tr>\n",
       "      <th>1</th>\n",
       "      <td>1378.42</td>\n",
       "      <td>0.92</td>\n",
       "      <td>2023.66</td>\n",
       "      <td>0.35</td>\n",
       "      <td>61.11</td>\n",
       "      <td>6.0</td>\n",
       "      <td>357.0</td>\n",
       "      <td>57.0</td>\n",
       "      <td>51.2</td>\n",
       "      <td>11.1</td>\n",
       "      <td>10.1</td>\n",
       "      <td>1</td>\n",
       "    </tr>\n",
       "  </tbody>\n",
       "</table>\n",
       "</div>"
      ],
      "text/plain": [
       "   avg_check_e_commerce  e_com_share_value_percent  avg_check_lenta_online  \\\n",
       "0                922.75                       1.53                 1932.32   \n",
       "1               1378.42                       0.92                 2023.66   \n",
       "\n",
       "   brand_share_value_percent  nps_lenta_online  \\\n",
       "0                       0.32             62.16   \n",
       "1                       0.35             61.11   \n",
       "\n",
       "   brand_share_region_yandex_search  affinity_index_lo  \\\n",
       "0                               4.0               97.0   \n",
       "1                               6.0              357.0   \n",
       "\n",
       "   affinity_index_delivery  suggested_knowledge  orders_last_month  \\\n",
       "0                     49.0                 25.5                0.0   \n",
       "1                     57.0                 51.2               11.1   \n",
       "\n",
       "   top_of_mind  labels_4  \n",
       "0          7.0         3  \n",
       "1         10.1         1  "
      ]
     },
     "execution_count": 48,
     "metadata": {},
     "output_type": "execute_result"
    }
   ],
   "source": [
    "df_vis.head(2)"
   ]
  },
  {
   "cell_type": "code",
   "execution_count": 49,
   "id": "e88092e6",
   "metadata": {},
   "outputs": [
    {
     "data": {
      "text/plain": [
       "Index(['avg_check_e_commerce', 'e_com_share_value_percent',\n",
       "       'avg_check_lenta_online', 'brand_share_value_percent',\n",
       "       'nps_lenta_online', 'brand_share_region_yandex_search',\n",
       "       'affinity_index_lo', 'affinity_index_delivery', 'suggested_knowledge',\n",
       "       'orders_last_month', 'top_of_mind', 'labels_4'],\n",
       "      dtype='object')"
      ]
     },
     "execution_count": 49,
     "metadata": {},
     "output_type": "execute_result"
    }
   ],
   "source": [
    "df_vis.columns"
   ]
  },
  {
   "cell_type": "code",
   "execution_count": 65,
   "id": "393c62b7",
   "metadata": {},
   "outputs": [],
   "source": [
    "dict_measures = {\n",
    "    1:['avg_check_e_commerce', 'Средний чек с НДС в E-commerce в целом, руб.'],\n",
    "    2:['e_com_share_value_percent', 'Доля Ecom в покупках клиентов в денежном выражении, %'],\n",
    "    3:['avg_check_lenta_online', 'Средний чек с НДС в ЛО, руб.'],\n",
    "    4:['brand_share_value_percent', 'Доля бренда в покупках клиентов в денежном выражении, %'],\n",
    "    5:['csi_lenta_online', 'CSI в ЛО'],\n",
    "    6:['nps_lenta_online', 'NPS в ЛО'],\n",
    "    7:['affinity_index_lo', 'Аффинити индекс ЛО по отношению к доставке в целом'],\n",
    "    8:['affinity_index_delivery', 'Аффинити индекс доставки в регионе'],\n",
    "    9:['labels', 'Кластеры']\n",
    "}"
   ]
  },
  {
   "cell_type": "code",
   "execution_count": 66,
   "id": "d606cef9",
   "metadata": {},
   "outputs": [
    {
     "name": "stdout",
     "output_type": "stream",
     "text": [
      "Средний чек с НДС в E-commerce в целом, руб.\n"
     ]
    },
    {
     "data": {
      "text/plain": [
       "<AxesSubplot:xlabel='labels_4', ylabel='avg_check_e_commerce'>"
      ]
     },
     "execution_count": 66,
     "metadata": {},
     "output_type": "execute_result"
    },
    {
     "data": {
      "image/png": "[encoded data removed]",
      "text/plain": [
       "<Figure size 864x504 with 1 Axes>"
      ]
     },
     "metadata": {},
     "output_type": "display_data"
    }
   ],
   "source": [
    "measures = 1\n",
    "print(dict_measures[measures][1])\n",
    "sns.boxplot(x=\"labels_4\", y=dict_measures[measures][0], data=df_vis, showfliers = False)"
   ]
  },
  {
   "cell_type": "code",
   "execution_count": 53,
   "id": "d9a25056",
   "metadata": {},
   "outputs": [
    {
     "name": "stdout",
     "output_type": "stream",
     "text": [
      "Доля Ecom в покупках клиентов в денежном выражении, %\n"
     ]
    },
    {
     "data": {
      "text/plain": [
       "<AxesSubplot:xlabel='labels_4', ylabel='e_com_share_value_percent'>"
      ]
     },
     "execution_count": 53,
     "metadata": {},
     "output_type": "execute_result"
    },
    {
     "data": {
      "image/png": "[encoded data removed]",
      "text/plain": [
       "<Figure size 864x504 with 1 Axes>"
      ]
     },
     "metadata": {},
     "output_type": "display_data"
    }
   ],
   "source": [
    "measures = 2\n",
    "print(dict_measures[measures][1])\n",
    "sns.boxplot(x=\"labels_4\", y=dict_measures[measures][0], data=df_vis, showfliers = False)"
   ]
  },
  {
   "cell_type": "code",
   "execution_count": 58,
   "id": "a0de423a",
   "metadata": {},
   "outputs": [
    {
     "name": "stdout",
     "output_type": "stream",
     "text": [
      "Средний чек с НДС в ЛО, руб.\n"
     ]
    },
    {
     "data": {
      "text/plain": [
       "<AxesSubplot:xlabel='labels_4', ylabel='avg_check_lenta_online'>"
      ]
     },
     "execution_count": 58,
     "metadata": {},
     "output_type": "execute_result"
    },
    {
     "data": {
      "image/png": "[encoded data removed]",
      "text/plain": [
       "<Figure size 864x504 with 1 Axes>"
      ]
     },
     "metadata": {},
     "output_type": "display_data"
    }
   ],
   "source": [
    "measures = 3\n",
    "print(dict_measures[measures][1])\n",
    "sns.boxplot(x=\"labels_4\", y=dict_measures[measures][0], data=df_vis, showfliers = False)"
   ]
  },
  {
   "cell_type": "code",
   "execution_count": 59,
   "id": "0756e64f",
   "metadata": {},
   "outputs": [
    {
     "name": "stdout",
     "output_type": "stream",
     "text": [
      "Доля бренда в покупках клиентов в денежном выражении, %\n"
     ]
    },
    {
     "data": {
      "text/plain": [
       "<AxesSubplot:xlabel='labels_4', ylabel='brand_share_value_percent'>"
      ]
     },
     "execution_count": 59,
     "metadata": {},
     "output_type": "execute_result"
    },
    {
     "data": {
      "image/png": "[encoded data removed]",
      "text/plain": [
       "<Figure size 864x504 with 1 Axes>"
      ]
     },
     "metadata": {},
     "output_type": "display_data"
    }
   ],
   "source": [
    "measures = 4\n",
    "print(dict_measures[measures][1])\n",
    "sns.boxplot(x=\"labels_4\", y=dict_measures[measures][0], data=df_vis, showfliers = False)"
   ]
  },
  {
   "cell_type": "code",
   "execution_count": 57,
   "id": "43ac6fec",
   "metadata": {},
   "outputs": [
    {
     "name": "stdout",
     "output_type": "stream",
     "text": [
      "CSI в ЛО\n"
     ]
    },
    {
     "data": {
      "text/plain": [
       "<AxesSubplot:xlabel='labels_4', ylabel='csi_lenta_online'>"
      ]
     },
     "execution_count": 57,
     "metadata": {},
     "output_type": "execute_result"
    },
    {
     "data": {
      "image/png": "[encoded data removed]",
      "text/plain": [
       "<Figure size 864x504 with 1 Axes>"
      ]
     },
     "metadata": {},
     "output_type": "display_data"
    }
   ],
   "source": [
    "measures = 5\n",
    "print(dict_measures[measures][1])\n",
    "sns.boxplot(x=\"labels_4\", y=dict_measures[measures][0], data=df_vis, showfliers = False)"
   ]
  },
  {
   "cell_type": "code",
   "execution_count": 60,
   "id": "8eaf601d",
   "metadata": {},
   "outputs": [
    {
     "name": "stdout",
     "output_type": "stream",
     "text": [
      "NPS в ЛО\n"
     ]
    },
    {
     "data": {
      "text/plain": [
       "<AxesSubplot:xlabel='labels_4', ylabel='nps_lenta_online'>"
      ]
     },
     "execution_count": 60,
     "metadata": {},
     "output_type": "execute_result"
    },
    {
     "data": {
      "image/png": "[encoded data removed]",
      "text/plain": [
       "<Figure size 864x504 with 1 Axes>"
      ]
     },
     "metadata": {},
     "output_type": "display_data"
    }
   ],
   "source": [
    "measures = 6\n",
    "print(dict_measures[measures][1])\n",
    "sns.boxplot(x=\"labels_4\", y=dict_measures[measures][0], data=df_vis, showfliers = False)"
   ]
  },
  {
   "cell_type": "code",
   "execution_count": 61,
   "id": "2bb9d9c4",
   "metadata": {},
   "outputs": [
    {
     "name": "stdout",
     "output_type": "stream",
     "text": [
      "Аффинити индекс ЛО по отношению к доставке в целом\n"
     ]
    },
    {
     "data": {
      "text/plain": [
       "<AxesSubplot:xlabel='labels_4', ylabel='affinity_index_lo'>"
      ]
     },
     "execution_count": 61,
     "metadata": {},
     "output_type": "execute_result"
    },
    {
     "data": {
      "image/png": "[encoded data removed]",
      "text/plain": [
       "<Figure size 864x504 with 1 Axes>"
      ]
     },
     "metadata": {},
     "output_type": "display_data"
    }
   ],
   "source": [
    "measures = 7\n",
    "print(dict_measures[measures][1])\n",
    "sns.boxplot(x=\"labels_4\", y=dict_measures[measures][0], data=df_vis, showfliers = False)"
   ]
  },
  {
   "cell_type": "code",
   "execution_count": 62,
   "id": "52f6a815",
   "metadata": {},
   "outputs": [
    {
     "name": "stdout",
     "output_type": "stream",
     "text": [
      "Аффинити индекс доставки в регионе\n"
     ]
    },
    {
     "data": {
      "text/plain": [
       "<AxesSubplot:xlabel='labels_4', ylabel='affinity_index_delivery'>"
      ]
     },
     "execution_count": 62,
     "metadata": {},
     "output_type": "execute_result"
    },
    {
     "data": {
      "image/png": "[encoded data removed]",
      "text/plain": [
       "<Figure size 864x504 with 1 Axes>"
      ]
     },
     "metadata": {},
     "output_type": "display_data"
    }
   ],
   "source": [
    "measures = 8\n",
    "print(dict_measures[measures][1])\n",
    "sns.boxplot(x=\"labels_4\", y=dict_measures[measures][0], data=df_vis, showfliers = False)"
   ]
  },
  {
   "cell_type": "code",
   "execution_count": 51,
   "id": "112cc549",
   "metadata": {},
   "outputs": [],
   "source": [
    "clasterisation_regions.to_excel('clasterisation_regions_with_clusters.xlsx')"
   ]
  },
  {
   "cell_type": "code",
   "execution_count": 50,
   "id": "1084bdcf",
   "metadata": {},
   "outputs": [],
   "source": [
    "df_vis.pivot_table(index='labels_4', aggfunc='mean').transpose().reset_index().to_excel('clasterisation_result.xlsx')"
   ]
  },
  {
   "cell_type": "code",
   "execution_count": 177,
   "id": "9e9c9356",
   "metadata": {},
   "outputs": [
    {
     "data": {
      "text/plain": [
       "labels_4\n",
       "1     51170\n",
       "2    153031\n",
       "3     47825\n",
       "4     94630\n",
       "5    222973\n",
       "6     89325\n",
       "7    135219\n",
       "8    180926\n",
       "Name: buyers_lenta_online, dtype: int64"
      ]
     },
     "execution_count": 177,
     "metadata": {},
     "output_type": "execute_result"
    }
   ],
   "source": [
    "clasterisation_regions.groupby('labels_4')['buyers_lenta_online'].sum()"
   ]
  },
  {
   "cell_type": "code",
   "execution_count": null,
   "id": "d7e6cb86",
   "metadata": {},
   "outputs": [],
   "source": []
  }
 ],
 "metadata": {
  "kernelspec": {
   "display_name": "Python 3 (ipykernel)",
   "language": "python",
   "name": "python3"
  },
  "language_info": {
   "codemirror_mode": {
    "name": "ipython",
    "version": 3
   },
   "file_extension": ".py",
   "mimetype": "text/x-python",
   "name": "python",
   "nbconvert_exporter": "python",
   "pygments_lexer": "ipython3",
   "version": "3.9.7"
  }
 },
 "nbformat": 4,
 "nbformat_minor": 5
}
