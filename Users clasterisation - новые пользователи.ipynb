{
 "cells": [
  {
   "cell_type": "code",
   "execution_count": 1,
   "metadata": {},
   "outputs": [],
   "source": [
    "import numpy as np\n",
    "import seaborn as sns\n",
    "import matplotlib.pyplot as plt\n",
    "sns.set_style(\"darkgrid\")\n",
    "sns.set(rc={'figure.figsize':(12,7)})"
   ]
  },
  {
   "cell_type": "code",
   "execution_count": 2,
   "metadata": {},
   "outputs": [
    {
     "data": {
      "text/html": [
       "<style>.container { width:85% !important; }</style>"
      ],
      "text/plain": [
       "<IPython.core.display.HTML object>"
      ]
     },
     "metadata": {},
     "output_type": "display_data"
    }
   ],
   "source": [
    "import sqlalchemy\n",
    "import pandas as pd\n",
    "import os\n",
    "import datetime\n",
    "from tqdm.notebook import tqdm as tqdm_notebook\n",
    "#import mmh3\n",
    "import seaborn as sns\n",
    "\n",
    "from sqlalchemy import create_engine\n",
    "\n",
    "from clickhouse_sqlalchemy import make_session\n",
    "from urllib.parse import quote\n",
    "\n",
    "from IPython.core.display import display, HTML\n",
    "display(HTML(\"<style>.container { width:85% !important; }</style>\"))\n",
    "\n",
    "import pandahouse"
   ]
  },
  {
   "cell_type": "code",
   "execution_count": 9,
   "metadata": {},
   "outputs": [
    {
     "name": "stdout",
     "output_type": "stream",
     "text": [
      "Defaulting to user installation because normal site-packages is not writeable\n",
      "Requirement already satisfied: pandahouse in ./.local/lib/python3.6/site-packages (0.2.7)\n",
      "Requirement already satisfied: pandas in /usr/local/lib/python3.6/dist-packages (from pandahouse) (1.1.5)\n",
      "Requirement already satisfied: requests in /usr/local/lib/python3.6/dist-packages (from pandahouse) (2.27.1)\n",
      "Requirement already satisfied: toolz in ./.local/lib/python3.6/site-packages (from pandahouse) (0.12.0)\n",
      "Requirement already satisfied: numpy>=1.15.4 in /usr/local/lib/python3.6/dist-packages (from pandas->pandahouse) (1.19.5)\n",
      "Requirement already satisfied: pytz>=2017.2 in /usr/local/lib/python3.6/dist-packages (from pandas->pandahouse) (2021.3)\n",
      "Requirement already satisfied: python-dateutil>=2.7.3 in /usr/local/lib/python3.6/dist-packages (from pandas->pandahouse) (2.8.2)\n",
      "Requirement already satisfied: charset-normalizer~=2.0.0 in /usr/local/lib/python3.6/dist-packages (from requests->pandahouse) (2.0.10)\n",
      "Requirement already satisfied: urllib3<1.27,>=1.21.1 in /usr/local/lib/python3.6/dist-packages (from requests->pandahouse) (1.26.8)\n",
      "Requirement already satisfied: certifi>=2017.4.17 in /usr/local/lib/python3.6/dist-packages (from requests->pandahouse) (2021.10.8)\n",
      "Requirement already satisfied: idna<4,>=2.5 in /usr/local/lib/python3.6/dist-packages (from requests->pandahouse) (3.3)\n",
      "Requirement already satisfied: six>=1.5 in /usr/local/lib/python3.6/dist-packages (from python-dateutil>=2.7.3->pandas->pandahouse) (1.16.0)\n"
     ]
    }
   ],
   "source": [
    "!pip install pandahouse"
   ]
  },
  {
   "cell_type": "code",
   "execution_count": 3,
   "metadata": {},
   "outputs": [],
   "source": [
    "password = 'dimVuidBun1onCub'\n",
    "login = 'a.al.kosheleva'\n",
    "\n",
    "def postre_auth(login, password):\n",
    "    postgresql_config = {\n",
    "    'postgresql_prefix' : 'postgresql'\n",
    "    , 'postgresql_host'   : '10.3.26.92' \n",
    "    , 'postgresql_user'   : f'{login}'\n",
    "    , 'postgresql_pass'   : f'{password}'\n",
    "    , 'postgresql_port'   : '5432'\n",
    "    , 'postgresql_db'     : 'dwh'    \n",
    "    }\n",
    "\n",
    "    postgresql_connection_string  = \"{prefix}://{user}:{passw}@{host}:{port}/{db}\".format(\n",
    "    prefix  =   postgresql_config['postgresql_prefix']    , host  =   postgresql_config['postgresql_host']\n",
    "    , user  =   postgresql_config['postgresql_user']      , passw =   postgresql_config['postgresql_pass']\n",
    "    , port  =   postgresql_config['postgresql_port']      , db    =   postgresql_config['postgresql_db']\n",
    "    )\n",
    "    postgresql_engine = sqlalchemy.create_engine(postgresql_connection_string)\n",
    "    postgresql_conn   = postgresql_engine.connect()\n",
    "    return postgresql_engine, postgresql_conn\n",
    "\n",
    "postrgre_engine, postrge_conn = postre_auth(login, password)"
   ]
  },
  {
   "cell_type": "code",
   "execution_count": 4,
   "metadata": {},
   "outputs": [],
   "source": [
    "connection_kh = {\n",
    "            'host': 'http://clickhouse-02.lenta.tech:8123',\n",
    "            'password': 'Gnjrw1HhkByi',\n",
    "            'user': 'a_al_kosheleva',\n",
    "            'database':'dwh_stage'\n",
    "            }"
   ]
  },
  {
   "cell_type": "code",
   "execution_count": 5,
   "metadata": {},
   "outputs": [],
   "source": [
    "#берем вчерашнюю дату и дату N дней назад, в нашем случае 90\n",
    "from datetime import datetime, timedelta\n",
    "yesterday = datetime.now() - timedelta(1)\n",
    "three_months_ago = datetime.now() - timedelta(91)\n",
    "\n",
    "first_date = datetime.strftime(three_months_ago, '%Y-%m-%d')\n",
    "last_date = datetime.strftime(yesterday, '%Y-%m-%d')"
   ]
  },
  {
   "cell_type": "code",
   "execution_count": 6,
   "metadata": {},
   "outputs": [
    {
     "ename": "ConnectionError",
     "evalue": "HTTPConnectionPool(host='clickhouse-02.lenta.tech', port=8123): Max retries exceeded with url: /?query=SELECT+distinct+user_id+%0AFROM+dwh_datamart.daily_aud_aggregate_app%0AWHERE+event_date+%3D+%272023-07-10%27+and+any_active+%3E+0%0Aand+user_id+is+not+null+and+user_id+%21%3D+%27null%27+FORMAT+TSVWithNamesAndTypes&user=a_al_kosheleva&password=Gnjrw1HhkByi (Caused by NewConnectionError('<urllib3.connection.HTTPConnection object at 0x7ff45866cdd8>: Failed to establish a new connection: [Errno 110] Connection timed out',))",
     "output_type": "error",
     "traceback": [
      "\u001b[0;31m---------------------------------------------------------------------------\u001b[0m",
      "\u001b[0;31mTimeoutError\u001b[0m                              Traceback (most recent call last)",
      "\u001b[0;32m/usr/local/lib/python3.6/dist-packages/urllib3/connection.py\u001b[0m in \u001b[0;36m_new_conn\u001b[0;34m(self)\u001b[0m\n\u001b[1;32m    174\u001b[0m             conn = connection.create_connection(\n\u001b[0;32m--> 175\u001b[0;31m                 \u001b[0;34m(\u001b[0m\u001b[0mself\u001b[0m\u001b[0;34m.\u001b[0m\u001b[0m_dns_host\u001b[0m\u001b[0;34m,\u001b[0m \u001b[0mself\u001b[0m\u001b[0;34m.\u001b[0m\u001b[0mport\u001b[0m\u001b[0;34m)\u001b[0m\u001b[0;34m,\u001b[0m \u001b[0mself\u001b[0m\u001b[0;34m.\u001b[0m\u001b[0mtimeout\u001b[0m\u001b[0;34m,\u001b[0m \u001b[0;34m**\u001b[0m\u001b[0mextra_kw\u001b[0m\u001b[0;34m\u001b[0m\u001b[0;34m\u001b[0m\u001b[0m\n\u001b[0m\u001b[1;32m    176\u001b[0m             )\n",
      "\u001b[0;32m/usr/local/lib/python3.6/dist-packages/urllib3/util/connection.py\u001b[0m in \u001b[0;36mcreate_connection\u001b[0;34m(address, timeout, source_address, socket_options)\u001b[0m\n\u001b[1;32m     94\u001b[0m     \u001b[0;32mif\u001b[0m \u001b[0merr\u001b[0m \u001b[0;32mis\u001b[0m \u001b[0;32mnot\u001b[0m \u001b[0;32mNone\u001b[0m\u001b[0;34m:\u001b[0m\u001b[0;34m\u001b[0m\u001b[0;34m\u001b[0m\u001b[0m\n\u001b[0;32m---> 95\u001b[0;31m         \u001b[0;32mraise\u001b[0m \u001b[0merr\u001b[0m\u001b[0;34m\u001b[0m\u001b[0;34m\u001b[0m\u001b[0m\n\u001b[0m\u001b[1;32m     96\u001b[0m \u001b[0;34m\u001b[0m\u001b[0m\n",
      "\u001b[0;32m/usr/local/lib/python3.6/dist-packages/urllib3/util/connection.py\u001b[0m in \u001b[0;36mcreate_connection\u001b[0;34m(address, timeout, source_address, socket_options)\u001b[0m\n\u001b[1;32m     84\u001b[0m                 \u001b[0msock\u001b[0m\u001b[0;34m.\u001b[0m\u001b[0mbind\u001b[0m\u001b[0;34m(\u001b[0m\u001b[0msource_address\u001b[0m\u001b[0;34m)\u001b[0m\u001b[0;34m\u001b[0m\u001b[0;34m\u001b[0m\u001b[0m\n\u001b[0;32m---> 85\u001b[0;31m             \u001b[0msock\u001b[0m\u001b[0;34m.\u001b[0m\u001b[0mconnect\u001b[0m\u001b[0;34m(\u001b[0m\u001b[0msa\u001b[0m\u001b[0;34m)\u001b[0m\u001b[0;34m\u001b[0m\u001b[0;34m\u001b[0m\u001b[0m\n\u001b[0m\u001b[1;32m     86\u001b[0m             \u001b[0;32mreturn\u001b[0m \u001b[0msock\u001b[0m\u001b[0;34m\u001b[0m\u001b[0;34m\u001b[0m\u001b[0m\n",
      "\u001b[0;31mTimeoutError\u001b[0m: [Errno 110] Connection timed out",
      "\nDuring handling of the above exception, another exception occurred:\n",
      "\u001b[0;31mNewConnectionError\u001b[0m                        Traceback (most recent call last)",
      "\u001b[0;32m/usr/local/lib/python3.6/dist-packages/urllib3/connectionpool.py\u001b[0m in \u001b[0;36murlopen\u001b[0;34m(self, method, url, body, headers, retries, redirect, assert_same_host, timeout, pool_timeout, release_conn, chunked, body_pos, **response_kw)\u001b[0m\n\u001b[1;32m    709\u001b[0m                 \u001b[0mheaders\u001b[0m\u001b[0;34m=\u001b[0m\u001b[0mheaders\u001b[0m\u001b[0;34m,\u001b[0m\u001b[0;34m\u001b[0m\u001b[0;34m\u001b[0m\u001b[0m\n\u001b[0;32m--> 710\u001b[0;31m                 \u001b[0mchunked\u001b[0m\u001b[0;34m=\u001b[0m\u001b[0mchunked\u001b[0m\u001b[0;34m,\u001b[0m\u001b[0;34m\u001b[0m\u001b[0;34m\u001b[0m\u001b[0m\n\u001b[0m\u001b[1;32m    711\u001b[0m             )\n",
      "\u001b[0;32m/usr/local/lib/python3.6/dist-packages/urllib3/connectionpool.py\u001b[0m in \u001b[0;36m_make_request\u001b[0;34m(self, conn, method, url, timeout, chunked, **httplib_request_kw)\u001b[0m\n\u001b[1;32m    397\u001b[0m             \u001b[0;32melse\u001b[0m\u001b[0;34m:\u001b[0m\u001b[0;34m\u001b[0m\u001b[0;34m\u001b[0m\u001b[0m\n\u001b[0;32m--> 398\u001b[0;31m                 \u001b[0mconn\u001b[0m\u001b[0;34m.\u001b[0m\u001b[0mrequest\u001b[0m\u001b[0;34m(\u001b[0m\u001b[0mmethod\u001b[0m\u001b[0;34m,\u001b[0m \u001b[0murl\u001b[0m\u001b[0;34m,\u001b[0m \u001b[0;34m**\u001b[0m\u001b[0mhttplib_request_kw\u001b[0m\u001b[0;34m)\u001b[0m\u001b[0;34m\u001b[0m\u001b[0;34m\u001b[0m\u001b[0m\n\u001b[0m\u001b[1;32m    399\u001b[0m \u001b[0;34m\u001b[0m\u001b[0m\n",
      "\u001b[0;32m/usr/local/lib/python3.6/dist-packages/urllib3/connection.py\u001b[0m in \u001b[0;36mrequest\u001b[0;34m(self, method, url, body, headers)\u001b[0m\n\u001b[1;32m    238\u001b[0m             \u001b[0mheaders\u001b[0m\u001b[0;34m[\u001b[0m\u001b[0;34m\"User-Agent\"\u001b[0m\u001b[0;34m]\u001b[0m \u001b[0;34m=\u001b[0m \u001b[0m_get_default_user_agent\u001b[0m\u001b[0;34m(\u001b[0m\u001b[0;34m)\u001b[0m\u001b[0;34m\u001b[0m\u001b[0;34m\u001b[0m\u001b[0m\n\u001b[0;32m--> 239\u001b[0;31m         \u001b[0msuper\u001b[0m\u001b[0;34m(\u001b[0m\u001b[0mHTTPConnection\u001b[0m\u001b[0;34m,\u001b[0m \u001b[0mself\u001b[0m\u001b[0;34m)\u001b[0m\u001b[0;34m.\u001b[0m\u001b[0mrequest\u001b[0m\u001b[0;34m(\u001b[0m\u001b[0mmethod\u001b[0m\u001b[0;34m,\u001b[0m \u001b[0murl\u001b[0m\u001b[0;34m,\u001b[0m \u001b[0mbody\u001b[0m\u001b[0;34m=\u001b[0m\u001b[0mbody\u001b[0m\u001b[0;34m,\u001b[0m \u001b[0mheaders\u001b[0m\u001b[0;34m=\u001b[0m\u001b[0mheaders\u001b[0m\u001b[0;34m)\u001b[0m\u001b[0;34m\u001b[0m\u001b[0;34m\u001b[0m\u001b[0m\n\u001b[0m\u001b[1;32m    240\u001b[0m \u001b[0;34m\u001b[0m\u001b[0m\n",
      "\u001b[0;32m/usr/lib/python3.6/http/client.py\u001b[0m in \u001b[0;36mrequest\u001b[0;34m(self, method, url, body, headers, encode_chunked)\u001b[0m\n\u001b[1;32m   1284\u001b[0m         \u001b[0;34m\"\"\"Send a complete request to the server.\"\"\"\u001b[0m\u001b[0;34m\u001b[0m\u001b[0;34m\u001b[0m\u001b[0m\n\u001b[0;32m-> 1285\u001b[0;31m         \u001b[0mself\u001b[0m\u001b[0;34m.\u001b[0m\u001b[0m_send_request\u001b[0m\u001b[0;34m(\u001b[0m\u001b[0mmethod\u001b[0m\u001b[0;34m,\u001b[0m \u001b[0murl\u001b[0m\u001b[0;34m,\u001b[0m \u001b[0mbody\u001b[0m\u001b[0;34m,\u001b[0m \u001b[0mheaders\u001b[0m\u001b[0;34m,\u001b[0m \u001b[0mencode_chunked\u001b[0m\u001b[0;34m)\u001b[0m\u001b[0;34m\u001b[0m\u001b[0;34m\u001b[0m\u001b[0m\n\u001b[0m\u001b[1;32m   1286\u001b[0m \u001b[0;34m\u001b[0m\u001b[0m\n",
      "\u001b[0;32m/usr/lib/python3.6/http/client.py\u001b[0m in \u001b[0;36m_send_request\u001b[0;34m(self, method, url, body, headers, encode_chunked)\u001b[0m\n\u001b[1;32m   1330\u001b[0m             \u001b[0mbody\u001b[0m \u001b[0;34m=\u001b[0m \u001b[0m_encode\u001b[0m\u001b[0;34m(\u001b[0m\u001b[0mbody\u001b[0m\u001b[0;34m,\u001b[0m \u001b[0;34m'body'\u001b[0m\u001b[0;34m)\u001b[0m\u001b[0;34m\u001b[0m\u001b[0;34m\u001b[0m\u001b[0m\n\u001b[0;32m-> 1331\u001b[0;31m         \u001b[0mself\u001b[0m\u001b[0;34m.\u001b[0m\u001b[0mendheaders\u001b[0m\u001b[0;34m(\u001b[0m\u001b[0mbody\u001b[0m\u001b[0;34m,\u001b[0m \u001b[0mencode_chunked\u001b[0m\u001b[0;34m=\u001b[0m\u001b[0mencode_chunked\u001b[0m\u001b[0;34m)\u001b[0m\u001b[0;34m\u001b[0m\u001b[0;34m\u001b[0m\u001b[0m\n\u001b[0m\u001b[1;32m   1332\u001b[0m \u001b[0;34m\u001b[0m\u001b[0m\n",
      "\u001b[0;32m/usr/lib/python3.6/http/client.py\u001b[0m in \u001b[0;36mendheaders\u001b[0;34m(self, message_body, encode_chunked)\u001b[0m\n\u001b[1;32m   1279\u001b[0m             \u001b[0;32mraise\u001b[0m \u001b[0mCannotSendHeader\u001b[0m\u001b[0;34m(\u001b[0m\u001b[0;34m)\u001b[0m\u001b[0;34m\u001b[0m\u001b[0;34m\u001b[0m\u001b[0m\n\u001b[0;32m-> 1280\u001b[0;31m         \u001b[0mself\u001b[0m\u001b[0;34m.\u001b[0m\u001b[0m_send_output\u001b[0m\u001b[0;34m(\u001b[0m\u001b[0mmessage_body\u001b[0m\u001b[0;34m,\u001b[0m \u001b[0mencode_chunked\u001b[0m\u001b[0;34m=\u001b[0m\u001b[0mencode_chunked\u001b[0m\u001b[0;34m)\u001b[0m\u001b[0;34m\u001b[0m\u001b[0;34m\u001b[0m\u001b[0m\n\u001b[0m\u001b[1;32m   1281\u001b[0m \u001b[0;34m\u001b[0m\u001b[0m\n",
      "\u001b[0;32m/usr/lib/python3.6/http/client.py\u001b[0m in \u001b[0;36m_send_output\u001b[0;34m(self, message_body, encode_chunked)\u001b[0m\n\u001b[1;32m   1045\u001b[0m         \u001b[0;32mdel\u001b[0m \u001b[0mself\u001b[0m\u001b[0;34m.\u001b[0m\u001b[0m_buffer\u001b[0m\u001b[0;34m[\u001b[0m\u001b[0;34m:\u001b[0m\u001b[0;34m]\u001b[0m\u001b[0;34m\u001b[0m\u001b[0;34m\u001b[0m\u001b[0m\n\u001b[0;32m-> 1046\u001b[0;31m         \u001b[0mself\u001b[0m\u001b[0;34m.\u001b[0m\u001b[0msend\u001b[0m\u001b[0;34m(\u001b[0m\u001b[0mmsg\u001b[0m\u001b[0;34m)\u001b[0m\u001b[0;34m\u001b[0m\u001b[0;34m\u001b[0m\u001b[0m\n\u001b[0m\u001b[1;32m   1047\u001b[0m \u001b[0;34m\u001b[0m\u001b[0m\n",
      "\u001b[0;32m/usr/lib/python3.6/http/client.py\u001b[0m in \u001b[0;36msend\u001b[0;34m(self, data)\u001b[0m\n\u001b[1;32m    983\u001b[0m             \u001b[0;32mif\u001b[0m \u001b[0mself\u001b[0m\u001b[0;34m.\u001b[0m\u001b[0mauto_open\u001b[0m\u001b[0;34m:\u001b[0m\u001b[0;34m\u001b[0m\u001b[0;34m\u001b[0m\u001b[0m\n\u001b[0;32m--> 984\u001b[0;31m                 \u001b[0mself\u001b[0m\u001b[0;34m.\u001b[0m\u001b[0mconnect\u001b[0m\u001b[0;34m(\u001b[0m\u001b[0;34m)\u001b[0m\u001b[0;34m\u001b[0m\u001b[0;34m\u001b[0m\u001b[0m\n\u001b[0m\u001b[1;32m    985\u001b[0m             \u001b[0;32melse\u001b[0m\u001b[0;34m:\u001b[0m\u001b[0;34m\u001b[0m\u001b[0;34m\u001b[0m\u001b[0m\n",
      "\u001b[0;32m/usr/local/lib/python3.6/dist-packages/urllib3/connection.py\u001b[0m in \u001b[0;36mconnect\u001b[0;34m(self)\u001b[0m\n\u001b[1;32m    204\u001b[0m     \u001b[0;32mdef\u001b[0m \u001b[0mconnect\u001b[0m\u001b[0;34m(\u001b[0m\u001b[0mself\u001b[0m\u001b[0;34m)\u001b[0m\u001b[0;34m:\u001b[0m\u001b[0;34m\u001b[0m\u001b[0;34m\u001b[0m\u001b[0m\n\u001b[0;32m--> 205\u001b[0;31m         \u001b[0mconn\u001b[0m \u001b[0;34m=\u001b[0m \u001b[0mself\u001b[0m\u001b[0;34m.\u001b[0m\u001b[0m_new_conn\u001b[0m\u001b[0;34m(\u001b[0m\u001b[0;34m)\u001b[0m\u001b[0;34m\u001b[0m\u001b[0;34m\u001b[0m\u001b[0m\n\u001b[0m\u001b[1;32m    206\u001b[0m         \u001b[0mself\u001b[0m\u001b[0;34m.\u001b[0m\u001b[0m_prepare_conn\u001b[0m\u001b[0;34m(\u001b[0m\u001b[0mconn\u001b[0m\u001b[0;34m)\u001b[0m\u001b[0;34m\u001b[0m\u001b[0;34m\u001b[0m\u001b[0m\n",
      "\u001b[0;32m/usr/local/lib/python3.6/dist-packages/urllib3/connection.py\u001b[0m in \u001b[0;36m_new_conn\u001b[0;34m(self)\u001b[0m\n\u001b[1;32m    186\u001b[0m             raise NewConnectionError(\n\u001b[0;32m--> 187\u001b[0;31m                 \u001b[0mself\u001b[0m\u001b[0;34m,\u001b[0m \u001b[0;34m\"Failed to establish a new connection: %s\"\u001b[0m \u001b[0;34m%\u001b[0m \u001b[0me\u001b[0m\u001b[0;34m\u001b[0m\u001b[0;34m\u001b[0m\u001b[0m\n\u001b[0m\u001b[1;32m    188\u001b[0m             )\n",
      "\u001b[0;31mNewConnectionError\u001b[0m: <urllib3.connection.HTTPConnection object at 0x7ff45866cdd8>: Failed to establish a new connection: [Errno 110] Connection timed out",
      "\nDuring handling of the above exception, another exception occurred:\n",
      "\u001b[0;31mMaxRetryError\u001b[0m                             Traceback (most recent call last)",
      "\u001b[0;32m/usr/local/lib/python3.6/dist-packages/requests/adapters.py\u001b[0m in \u001b[0;36msend\u001b[0;34m(self, request, stream, timeout, verify, cert, proxies)\u001b[0m\n\u001b[1;32m    449\u001b[0m                     \u001b[0mretries\u001b[0m\u001b[0;34m=\u001b[0m\u001b[0mself\u001b[0m\u001b[0;34m.\u001b[0m\u001b[0mmax_retries\u001b[0m\u001b[0;34m,\u001b[0m\u001b[0;34m\u001b[0m\u001b[0;34m\u001b[0m\u001b[0m\n\u001b[0;32m--> 450\u001b[0;31m                     \u001b[0mtimeout\u001b[0m\u001b[0;34m=\u001b[0m\u001b[0mtimeout\u001b[0m\u001b[0;34m\u001b[0m\u001b[0;34m\u001b[0m\u001b[0m\n\u001b[0m\u001b[1;32m    451\u001b[0m                 )\n",
      "\u001b[0;32m/usr/local/lib/python3.6/dist-packages/urllib3/connectionpool.py\u001b[0m in \u001b[0;36murlopen\u001b[0;34m(self, method, url, body, headers, retries, redirect, assert_same_host, timeout, pool_timeout, release_conn, chunked, body_pos, **response_kw)\u001b[0m\n\u001b[1;32m    785\u001b[0m             retries = retries.increment(\n\u001b[0;32m--> 786\u001b[0;31m                 \u001b[0mmethod\u001b[0m\u001b[0;34m,\u001b[0m \u001b[0murl\u001b[0m\u001b[0;34m,\u001b[0m \u001b[0merror\u001b[0m\u001b[0;34m=\u001b[0m\u001b[0me\u001b[0m\u001b[0;34m,\u001b[0m \u001b[0m_pool\u001b[0m\u001b[0;34m=\u001b[0m\u001b[0mself\u001b[0m\u001b[0;34m,\u001b[0m \u001b[0m_stacktrace\u001b[0m\u001b[0;34m=\u001b[0m\u001b[0msys\u001b[0m\u001b[0;34m.\u001b[0m\u001b[0mexc_info\u001b[0m\u001b[0;34m(\u001b[0m\u001b[0;34m)\u001b[0m\u001b[0;34m[\u001b[0m\u001b[0;36m2\u001b[0m\u001b[0;34m]\u001b[0m\u001b[0;34m\u001b[0m\u001b[0;34m\u001b[0m\u001b[0m\n\u001b[0m\u001b[1;32m    787\u001b[0m             )\n",
      "\u001b[0;32m/usr/local/lib/python3.6/dist-packages/urllib3/util/retry.py\u001b[0m in \u001b[0;36mincrement\u001b[0;34m(self, method, url, response, error, _pool, _stacktrace)\u001b[0m\n\u001b[1;32m    591\u001b[0m         \u001b[0;32mif\u001b[0m \u001b[0mnew_retry\u001b[0m\u001b[0;34m.\u001b[0m\u001b[0mis_exhausted\u001b[0m\u001b[0;34m(\u001b[0m\u001b[0;34m)\u001b[0m\u001b[0;34m:\u001b[0m\u001b[0;34m\u001b[0m\u001b[0;34m\u001b[0m\u001b[0m\n\u001b[0;32m--> 592\u001b[0;31m             \u001b[0;32mraise\u001b[0m \u001b[0mMaxRetryError\u001b[0m\u001b[0;34m(\u001b[0m\u001b[0m_pool\u001b[0m\u001b[0;34m,\u001b[0m \u001b[0murl\u001b[0m\u001b[0;34m,\u001b[0m \u001b[0merror\u001b[0m \u001b[0;32mor\u001b[0m \u001b[0mResponseError\u001b[0m\u001b[0;34m(\u001b[0m\u001b[0mcause\u001b[0m\u001b[0;34m)\u001b[0m\u001b[0;34m)\u001b[0m\u001b[0;34m\u001b[0m\u001b[0;34m\u001b[0m\u001b[0m\n\u001b[0m\u001b[1;32m    593\u001b[0m \u001b[0;34m\u001b[0m\u001b[0m\n",
      "\u001b[0;31mMaxRetryError\u001b[0m: HTTPConnectionPool(host='clickhouse-02.lenta.tech', port=8123): Max retries exceeded with url: /?query=SELECT+distinct+user_id+%0AFROM+dwh_datamart.daily_aud_aggregate_app%0AWHERE+event_date+%3D+%272023-07-10%27+and+any_active+%3E+0%0Aand+user_id+is+not+null+and+user_id+%21%3D+%27null%27+FORMAT+TSVWithNamesAndTypes&user=a_al_kosheleva&password=Gnjrw1HhkByi (Caused by NewConnectionError('<urllib3.connection.HTTPConnection object at 0x7ff45866cdd8>: Failed to establish a new connection: [Errno 110] Connection timed out',))",
      "\nDuring handling of the above exception, another exception occurred:\n",
      "\u001b[0;31mConnectionError\u001b[0m                           Traceback (most recent call last)",
      "\u001b[0;32m<ipython-input-6-ef5f509a2eb0>\u001b[0m in \u001b[0;36m<module>\u001b[0;34m\u001b[0m\n\u001b[1;32m      5\u001b[0m \u001b[0;32mand\u001b[0m \u001b[0muser_id\u001b[0m \u001b[0;32mis\u001b[0m \u001b[0;32mnot\u001b[0m \u001b[0mnull\u001b[0m \u001b[0;32mand\u001b[0m \u001b[0muser_id\u001b[0m \u001b[0;34m!=\u001b[0m \u001b[0;34m'null'\u001b[0m\u001b[0;34m\u001b[0m\u001b[0;34m\u001b[0m\u001b[0m\n\u001b[1;32m      6\u001b[0m '''\n\u001b[0;32m----> 7\u001b[0;31m \u001b[0mbuyers\u001b[0m \u001b[0;34m=\u001b[0m \u001b[0mpandahouse\u001b[0m\u001b[0;34m.\u001b[0m\u001b[0mread_clickhouse\u001b[0m\u001b[0;34m(\u001b[0m\u001b[0msql\u001b[0m\u001b[0;34m,\u001b[0m \u001b[0mconnection\u001b[0m\u001b[0;34m=\u001b[0m\u001b[0mconnection_kh\u001b[0m\u001b[0;34m)\u001b[0m\u001b[0;34m\u001b[0m\u001b[0;34m\u001b[0m\u001b[0m\n\u001b[0m",
      "\u001b[0;32m~/.local/lib/python3.6/site-packages/pandahouse/core.py\u001b[0m in \u001b[0;36mread_clickhouse\u001b[0;34m(query, tables, index, connection, **kwargs)\u001b[0m\n\u001b[1;32m     55\u001b[0m     \u001b[0mquery\u001b[0m\u001b[0;34m,\u001b[0m \u001b[0mexternal\u001b[0m \u001b[0;34m=\u001b[0m \u001b[0mselection\u001b[0m\u001b[0;34m(\u001b[0m\u001b[0mquery\u001b[0m\u001b[0;34m,\u001b[0m \u001b[0mtables\u001b[0m\u001b[0;34m=\u001b[0m\u001b[0mtables\u001b[0m\u001b[0;34m,\u001b[0m \u001b[0mindex\u001b[0m\u001b[0;34m=\u001b[0m\u001b[0mindex\u001b[0m\u001b[0;34m)\u001b[0m\u001b[0;34m\u001b[0m\u001b[0;34m\u001b[0m\u001b[0m\n\u001b[1;32m     56\u001b[0m     lines = execute(query, external=external, stream=True,\n\u001b[0;32m---> 57\u001b[0;31m                     connection=connection)\n\u001b[0m\u001b[1;32m     58\u001b[0m     \u001b[0;32mreturn\u001b[0m \u001b[0mto_dataframe\u001b[0m\u001b[0;34m(\u001b[0m\u001b[0mlines\u001b[0m\u001b[0;34m,\u001b[0m \u001b[0;34m**\u001b[0m\u001b[0mkwargs\u001b[0m\u001b[0;34m)\u001b[0m\u001b[0;34m\u001b[0m\u001b[0;34m\u001b[0m\u001b[0m\n\u001b[1;32m     59\u001b[0m \u001b[0;34m\u001b[0m\u001b[0m\n",
      "\u001b[0;32m~/.local/lib/python3.6/site-packages/pandahouse/http.py\u001b[0m in \u001b[0;36mexecute\u001b[0;34m(query, connection, data, external, stream)\u001b[0m\n\u001b[1;32m     40\u001b[0m \u001b[0;34m\u001b[0m\u001b[0m\n\u001b[1;32m     41\u001b[0m     response = requests.post(host, params=params, data=data,\n\u001b[0;32m---> 42\u001b[0;31m                              stream=stream, files=files)\n\u001b[0m\u001b[1;32m     43\u001b[0m \u001b[0;34m\u001b[0m\u001b[0m\n\u001b[1;32m     44\u001b[0m     \u001b[0;32mtry\u001b[0m\u001b[0;34m:\u001b[0m\u001b[0;34m\u001b[0m\u001b[0;34m\u001b[0m\u001b[0m\n",
      "\u001b[0;32m/usr/local/lib/python3.6/dist-packages/requests/api.py\u001b[0m in \u001b[0;36mpost\u001b[0;34m(url, data, json, **kwargs)\u001b[0m\n\u001b[1;32m    115\u001b[0m     \"\"\"\n\u001b[1;32m    116\u001b[0m \u001b[0;34m\u001b[0m\u001b[0m\n\u001b[0;32m--> 117\u001b[0;31m     \u001b[0;32mreturn\u001b[0m \u001b[0mrequest\u001b[0m\u001b[0;34m(\u001b[0m\u001b[0;34m'post'\u001b[0m\u001b[0;34m,\u001b[0m \u001b[0murl\u001b[0m\u001b[0;34m,\u001b[0m \u001b[0mdata\u001b[0m\u001b[0;34m=\u001b[0m\u001b[0mdata\u001b[0m\u001b[0;34m,\u001b[0m \u001b[0mjson\u001b[0m\u001b[0;34m=\u001b[0m\u001b[0mjson\u001b[0m\u001b[0;34m,\u001b[0m \u001b[0;34m**\u001b[0m\u001b[0mkwargs\u001b[0m\u001b[0;34m)\u001b[0m\u001b[0;34m\u001b[0m\u001b[0;34m\u001b[0m\u001b[0m\n\u001b[0m\u001b[1;32m    118\u001b[0m \u001b[0;34m\u001b[0m\u001b[0m\n\u001b[1;32m    119\u001b[0m \u001b[0;34m\u001b[0m\u001b[0m\n",
      "\u001b[0;32m/usr/local/lib/python3.6/dist-packages/requests/api.py\u001b[0m in \u001b[0;36mrequest\u001b[0;34m(method, url, **kwargs)\u001b[0m\n\u001b[1;32m     59\u001b[0m     \u001b[0;31m# cases, and look like a memory leak in others.\u001b[0m\u001b[0;34m\u001b[0m\u001b[0;34m\u001b[0m\u001b[0;34m\u001b[0m\u001b[0m\n\u001b[1;32m     60\u001b[0m     \u001b[0;32mwith\u001b[0m \u001b[0msessions\u001b[0m\u001b[0;34m.\u001b[0m\u001b[0mSession\u001b[0m\u001b[0;34m(\u001b[0m\u001b[0;34m)\u001b[0m \u001b[0;32mas\u001b[0m \u001b[0msession\u001b[0m\u001b[0;34m:\u001b[0m\u001b[0;34m\u001b[0m\u001b[0;34m\u001b[0m\u001b[0m\n\u001b[0;32m---> 61\u001b[0;31m         \u001b[0;32mreturn\u001b[0m \u001b[0msession\u001b[0m\u001b[0;34m.\u001b[0m\u001b[0mrequest\u001b[0m\u001b[0;34m(\u001b[0m\u001b[0mmethod\u001b[0m\u001b[0;34m=\u001b[0m\u001b[0mmethod\u001b[0m\u001b[0;34m,\u001b[0m \u001b[0murl\u001b[0m\u001b[0;34m=\u001b[0m\u001b[0murl\u001b[0m\u001b[0;34m,\u001b[0m \u001b[0;34m**\u001b[0m\u001b[0mkwargs\u001b[0m\u001b[0;34m)\u001b[0m\u001b[0;34m\u001b[0m\u001b[0;34m\u001b[0m\u001b[0m\n\u001b[0m\u001b[1;32m     62\u001b[0m \u001b[0;34m\u001b[0m\u001b[0m\n\u001b[1;32m     63\u001b[0m \u001b[0;34m\u001b[0m\u001b[0m\n",
      "\u001b[0;32m/usr/local/lib/python3.6/dist-packages/requests/sessions.py\u001b[0m in \u001b[0;36mrequest\u001b[0;34m(self, method, url, params, data, headers, cookies, files, auth, timeout, allow_redirects, proxies, hooks, stream, verify, cert, json)\u001b[0m\n\u001b[1;32m    527\u001b[0m         }\n\u001b[1;32m    528\u001b[0m         \u001b[0msend_kwargs\u001b[0m\u001b[0;34m.\u001b[0m\u001b[0mupdate\u001b[0m\u001b[0;34m(\u001b[0m\u001b[0msettings\u001b[0m\u001b[0;34m)\u001b[0m\u001b[0;34m\u001b[0m\u001b[0;34m\u001b[0m\u001b[0m\n\u001b[0;32m--> 529\u001b[0;31m         \u001b[0mresp\u001b[0m \u001b[0;34m=\u001b[0m \u001b[0mself\u001b[0m\u001b[0;34m.\u001b[0m\u001b[0msend\u001b[0m\u001b[0;34m(\u001b[0m\u001b[0mprep\u001b[0m\u001b[0;34m,\u001b[0m \u001b[0;34m**\u001b[0m\u001b[0msend_kwargs\u001b[0m\u001b[0;34m)\u001b[0m\u001b[0;34m\u001b[0m\u001b[0;34m\u001b[0m\u001b[0m\n\u001b[0m\u001b[1;32m    530\u001b[0m \u001b[0;34m\u001b[0m\u001b[0m\n\u001b[1;32m    531\u001b[0m         \u001b[0;32mreturn\u001b[0m \u001b[0mresp\u001b[0m\u001b[0;34m\u001b[0m\u001b[0;34m\u001b[0m\u001b[0m\n",
      "\u001b[0;32m/usr/local/lib/python3.6/dist-packages/requests/sessions.py\u001b[0m in \u001b[0;36msend\u001b[0;34m(self, request, **kwargs)\u001b[0m\n\u001b[1;32m    643\u001b[0m \u001b[0;34m\u001b[0m\u001b[0m\n\u001b[1;32m    644\u001b[0m         \u001b[0;31m# Send the request\u001b[0m\u001b[0;34m\u001b[0m\u001b[0;34m\u001b[0m\u001b[0;34m\u001b[0m\u001b[0m\n\u001b[0;32m--> 645\u001b[0;31m         \u001b[0mr\u001b[0m \u001b[0;34m=\u001b[0m \u001b[0madapter\u001b[0m\u001b[0;34m.\u001b[0m\u001b[0msend\u001b[0m\u001b[0;34m(\u001b[0m\u001b[0mrequest\u001b[0m\u001b[0;34m,\u001b[0m \u001b[0;34m**\u001b[0m\u001b[0mkwargs\u001b[0m\u001b[0;34m)\u001b[0m\u001b[0;34m\u001b[0m\u001b[0;34m\u001b[0m\u001b[0m\n\u001b[0m\u001b[1;32m    646\u001b[0m \u001b[0;34m\u001b[0m\u001b[0m\n\u001b[1;32m    647\u001b[0m         \u001b[0;31m# Total elapsed time of the request (approximately)\u001b[0m\u001b[0;34m\u001b[0m\u001b[0;34m\u001b[0m\u001b[0;34m\u001b[0m\u001b[0m\n",
      "\u001b[0;32m/usr/local/lib/python3.6/dist-packages/requests/adapters.py\u001b[0m in \u001b[0;36msend\u001b[0;34m(self, request, stream, timeout, verify, cert, proxies)\u001b[0m\n\u001b[1;32m    517\u001b[0m                 \u001b[0;32mraise\u001b[0m \u001b[0mSSLError\u001b[0m\u001b[0;34m(\u001b[0m\u001b[0me\u001b[0m\u001b[0;34m,\u001b[0m \u001b[0mrequest\u001b[0m\u001b[0;34m=\u001b[0m\u001b[0mrequest\u001b[0m\u001b[0;34m)\u001b[0m\u001b[0;34m\u001b[0m\u001b[0;34m\u001b[0m\u001b[0m\n\u001b[1;32m    518\u001b[0m \u001b[0;34m\u001b[0m\u001b[0m\n\u001b[0;32m--> 519\u001b[0;31m             \u001b[0;32mraise\u001b[0m \u001b[0mConnectionError\u001b[0m\u001b[0;34m(\u001b[0m\u001b[0me\u001b[0m\u001b[0;34m,\u001b[0m \u001b[0mrequest\u001b[0m\u001b[0;34m=\u001b[0m\u001b[0mrequest\u001b[0m\u001b[0;34m)\u001b[0m\u001b[0;34m\u001b[0m\u001b[0;34m\u001b[0m\u001b[0m\n\u001b[0m\u001b[1;32m    520\u001b[0m \u001b[0;34m\u001b[0m\u001b[0m\n\u001b[1;32m    521\u001b[0m         \u001b[0;32mexcept\u001b[0m \u001b[0mClosedPoolError\u001b[0m \u001b[0;32mas\u001b[0m \u001b[0me\u001b[0m\u001b[0;34m:\u001b[0m\u001b[0;34m\u001b[0m\u001b[0;34m\u001b[0m\u001b[0m\n",
      "\u001b[0;31mConnectionError\u001b[0m: HTTPConnectionPool(host='clickhouse-02.lenta.tech', port=8123): Max retries exceeded with url: /?query=SELECT+distinct+user_id+%0AFROM+dwh_datamart.daily_aud_aggregate_app%0AWHERE+event_date+%3D+%272023-07-10%27+and+any_active+%3E+0%0Aand+user_id+is+not+null+and+user_id+%21%3D+%27null%27+FORMAT+TSVWithNamesAndTypes&user=a_al_kosheleva&password=Gnjrw1HhkByi (Caused by NewConnectionError('<urllib3.connection.HTTPConnection object at 0x7ff45866cdd8>: Failed to establish a new connection: [Errno 110] Connection timed out',))"
     ]
    }
   ],
   "source": [
    "#выгружаем активных юзеров из bq за определенный день, за вчера\n",
    "sql = f'''SELECT distinct user_id \n",
    "FROM dwh_datamart.daily_aud_aggregate_app\n",
    "WHERE event_date = '{last_date}' and any_active > 0\n",
    "and user_id is not null and user_id != 'null'\n",
    "'''\n",
    "buyers = pandahouse.read_clickhouse(sql, connection=connection_kh)"
   ]
  },
  {
   "cell_type": "code",
   "execution_count": null,
   "metadata": {},
   "outputs": [],
   "source": []
  },
  {
   "cell_type": "code",
   "execution_count": null,
   "metadata": {},
   "outputs": [],
   "source": []
  },
  {
   "cell_type": "code",
   "execution_count": 282,
   "metadata": {},
   "outputs": [],
   "source": [
    "buyers_list = tuple(buyers.user_id.to_list())"
   ]
  },
  {
   "cell_type": "code",
   "execution_count": 7,
   "metadata": {},
   "outputs": [
    {
     "ename": "NameError",
     "evalue": "name 'buyers_list' is not defined",
     "output_type": "error",
     "traceback": [
      "\u001b[0;31m---------------------------------------------------------------------------\u001b[0m",
      "\u001b[0;31mNameError\u001b[0m                                 Traceback (most recent call last)",
      "\u001b[0;32m<ipython-input-7-3c8a798ca145>\u001b[0m in \u001b[0;36m<module>\u001b[0;34m\u001b[0m\n\u001b[1;32m      4\u001b[0m \u001b[0mwhere\u001b[0m \u001b[0mdate\u001b[0m\u001b[0;34m(\u001b[0m\u001b[0mfirst_order\u001b[0m\u001b[0;34m)\u001b[0m \u001b[0mbetween\u001b[0m \u001b[0mdate\u001b[0m\u001b[0;34m(\u001b[0m\u001b[0;34m'{last_date}'\u001b[0m \u001b[0;34m-\u001b[0m \u001b[0mINTERVAL\u001b[0m \u001b[0;34m'30 day'\u001b[0m\u001b[0;34m)\u001b[0m \u001b[0;32mand\u001b[0m \u001b[0;34m'{last_date}'\u001b[0m\u001b[0;34m\u001b[0m\u001b[0;34m\u001b[0m\u001b[0m\n\u001b[1;32m      5\u001b[0m \u001b[0;32mand\u001b[0m \u001b[0mbuyer_id\u001b[0m \u001b[0mIN\u001b[0m \u001b[0;34m{\u001b[0m\u001b[0mbuyers_list\u001b[0m\u001b[0;34m}\u001b[0m\u001b[0;34m\u001b[0m\u001b[0;34m\u001b[0m\u001b[0m\n\u001b[0;32m----> 6\u001b[0;31m '''\n\u001b[0m",
      "\u001b[0;31mNameError\u001b[0m: name 'buyers_list' is not defined"
     ]
    }
   ],
   "source": [
    "new_users = f'''\n",
    "select distinct buyer_id\n",
    "from dwh_datamart.retention\n",
    "where date(first_order) between date('{last_date}' - INTERVAL '30 day') and '{last_date}'\n",
    "and buyer_id IN {buyers_list}\n",
    "'''"
   ]
  },
  {
   "cell_type": "code",
   "execution_count": 8,
   "metadata": {},
   "outputs": [
    {
     "ename": "NameError",
     "evalue": "name 'old_users' is not defined",
     "output_type": "error",
     "traceback": [
      "\u001b[0;31m---------------------------------------------------------------------------\u001b[0m",
      "\u001b[0;31mNameError\u001b[0m                                 Traceback (most recent call last)",
      "\u001b[0;32m<ipython-input-8-d5d6748ee150>\u001b[0m in \u001b[0;36m<module>\u001b[0;34m\u001b[0m\n\u001b[0;32m----> 1\u001b[0;31m \u001b[0mold_users_list\u001b[0m \u001b[0;34m=\u001b[0m \u001b[0mpd\u001b[0m\u001b[0;34m.\u001b[0m\u001b[0mread_sql\u001b[0m\u001b[0;34m(\u001b[0m\u001b[0mold_users\u001b[0m\u001b[0;34m,\u001b[0m \u001b[0mpostrge_conn\u001b[0m\u001b[0;34m)\u001b[0m\u001b[0;34m\u001b[0m\u001b[0;34m\u001b[0m\u001b[0m\n\u001b[0m",
      "\u001b[0;31mNameError\u001b[0m: name 'old_users' is not defined"
     ]
    }
   ],
   "source": [
    "old_users_list = pd.read_sql(old_users, postrge_conn)"
   ]
  },
  {
   "cell_type": "code",
   "execution_count": 285,
   "metadata": {},
   "outputs": [],
   "source": [
    "buyers_list_fin = old_users_list.buyer_id.to_list()"
   ]
  },
  {
   "cell_type": "code",
   "execution_count": null,
   "metadata": {},
   "outputs": [],
   "source": []
  },
  {
   "cell_type": "code",
   "execution_count": 286,
   "metadata": {},
   "outputs": [],
   "source": [
    "#выгрузка текущая - для людей, зашедших 18 апреля\n",
    "financial_data = f'''\n",
    "with\n",
    "orders AS (\n",
    "select distinct buyer_id, pav_order_id, order_type, bill_amount\n",
    "from dwh_datamart.ops_metrics\n",
    "where date(created) between '2023-01-18' AND '2023-04-18'\n",
    "and flag_cancel = 0 and order_source IN ('iOS', 'Android')\n",
    "),\n",
    "\n",
    "pcodes AS (\n",
    "select distinct pav_order_id, action_id\n",
    "from dwh_stage.utk_sess_utk_promocode_buyer_using\n",
    "where date(created) between '2023-01-18' AND '2023-04-18'\n",
    "),\n",
    "\n",
    "orders_with_pcodes AS (\n",
    "select buyer_id, o.pav_order_id, bill_amount,\n",
    "       case when action_id is null then  0 else 1 end as pcode,\n",
    "       case when order_type = 'Быстро' then 1 else 0 end as is_express\n",
    "from orders o left join pcodes p on o.pav_order_id = p.pav_order_id\n",
    ")\n",
    "\n",
    "select buyer_id,\n",
    "sum(bill_amount)/count(distinct pav_order_id) as avg_check,\n",
    "sum(bill_amount) as revenue,\n",
    "count(distinct pav_order_id) as frequency, round(sum(pcode)*1.00/count(distinct pav_order_id),2) as pcode_orders_percent,\n",
    "round(sum(is_express)*1.00/count(distinct pav_order_id),2) as express_orders_percent\n",
    "from orders_with_pcodes\n",
    "group by 1;\n",
    "'''"
   ]
  },
  {
   "cell_type": "code",
   "execution_count": 288,
   "metadata": {},
   "outputs": [],
   "source": [
    "#выгрузка делалась 31 марта 2023 - нужно ставить в  orders >= date(date(now()) - INTERVAL '3 month')\n",
    "categories_data = f'''\n",
    "with cats AS (\n",
    "select\n",
    "  substr(mat.material,13,18)  original_id,\n",
    "  wgh._0rpa_wgh2___t          cat_name\n",
    "from dwh_stage.hadoop_bi0_pmaterial mat\n",
    "inner join dwh_stage.hadoop_bic_rpa_wgh wgh\n",
    "on mat.rpa_wgh4 = wgh._0rpa_wgh4\n",
    "where rpa_wgh2 != '99'\n",
    "and wgh._0rpa_wgh2___t != 'Резервная группа'\n",
    "group by 1,2),\n",
    "\n",
    "orders AS (\n",
    "select distinct buyer_id, pav_order_id\n",
    "from dwh_datamart.ops_metrics\n",
    "where date(created) between '2023-01-18' AND '2023-04-18'\n",
    "and flag_cancel = 0 and order_source IN ('iOS', 'Android')\n",
    "),\n",
    "\n",
    "t1 as (\n",
    "select\n",
    "  buyer_id,\n",
    "  cat_name,\n",
    "  count_courier*zit.denominator/zit.numerator as number,\n",
    "  sum(count_courier*zit.denominator/zit.numerator) over (partition by buyer_id) as count_items_total\n",
    "from orders z\n",
    "inner join dwh_stage.utk_sess_zakaz_items zit\n",
    "on zit.pav_order_id = z.pav_order_id\n",
    "left join cats c on zit.original_id = c.original_id\n",
    "where zit.numerator != 0\n",
    ")\n",
    "\n",
    "\n",
    "select buyer_id, cat_name, sum(number)*1.00/max(count_items_total) percent_cat\n",
    "from t1\n",
    "where count_items_total > 0\n",
    "group by 1,2\n",
    "'''\n",
    "\n"
   ]
  },
  {
   "cell_type": "code",
   "execution_count": 289,
   "metadata": {},
   "outputs": [],
   "source": [
    "financial_df = pd.read_sql(financial_data, postrge_conn)"
   ]
  },
  {
   "cell_type": "code",
   "execution_count": 290,
   "metadata": {},
   "outputs": [
    {
     "data": {
      "text/html": [
       "<div>\n",
       "<style scoped>\n",
       "    .dataframe tbody tr th:only-of-type {\n",
       "        vertical-align: middle;\n",
       "    }\n",
       "\n",
       "    .dataframe tbody tr th {\n",
       "        vertical-align: top;\n",
       "    }\n",
       "\n",
       "    .dataframe thead th {\n",
       "        text-align: right;\n",
       "    }\n",
       "</style>\n",
       "<table border=\"1\" class=\"dataframe\">\n",
       "  <thead>\n",
       "    <tr style=\"text-align: right;\">\n",
       "      <th></th>\n",
       "      <th>buyer_id</th>\n",
       "      <th>avg_check</th>\n",
       "      <th>revenue</th>\n",
       "      <th>frequency</th>\n",
       "      <th>pcode_orders_percent</th>\n",
       "      <th>express_orders_percent</th>\n",
       "    </tr>\n",
       "  </thead>\n",
       "  <tbody>\n",
       "    <tr>\n",
       "      <th>0</th>\n",
       "      <td>94025409</td>\n",
       "      <td>2358.855000</td>\n",
       "      <td>4717.71</td>\n",
       "      <td>2</td>\n",
       "      <td>1.0</td>\n",
       "      <td>0.00</td>\n",
       "    </tr>\n",
       "    <tr>\n",
       "      <th>1</th>\n",
       "      <td>94115028</td>\n",
       "      <td>2646.743333</td>\n",
       "      <td>7940.23</td>\n",
       "      <td>3</td>\n",
       "      <td>0.0</td>\n",
       "      <td>0.33</td>\n",
       "    </tr>\n",
       "    <tr>\n",
       "      <th>2</th>\n",
       "      <td>94578440</td>\n",
       "      <td>2057.930000</td>\n",
       "      <td>8231.72</td>\n",
       "      <td>4</td>\n",
       "      <td>1.0</td>\n",
       "      <td>0.00</td>\n",
       "    </tr>\n",
       "    <tr>\n",
       "      <th>3</th>\n",
       "      <td>94578442</td>\n",
       "      <td>2080.885000</td>\n",
       "      <td>4161.77</td>\n",
       "      <td>2</td>\n",
       "      <td>1.0</td>\n",
       "      <td>0.00</td>\n",
       "    </tr>\n",
       "    <tr>\n",
       "      <th>4</th>\n",
       "      <td>94578475</td>\n",
       "      <td>3205.426000</td>\n",
       "      <td>64108.52</td>\n",
       "      <td>20</td>\n",
       "      <td>1.0</td>\n",
       "      <td>0.20</td>\n",
       "    </tr>\n",
       "    <tr>\n",
       "      <th>...</th>\n",
       "      <td>...</td>\n",
       "      <td>...</td>\n",
       "      <td>...</td>\n",
       "      <td>...</td>\n",
       "      <td>...</td>\n",
       "      <td>...</td>\n",
       "    </tr>\n",
       "    <tr>\n",
       "      <th>719095</th>\n",
       "      <td>105275886</td>\n",
       "      <td>1075.840000</td>\n",
       "      <td>1075.84</td>\n",
       "      <td>1</td>\n",
       "      <td>1.0</td>\n",
       "      <td>0.00</td>\n",
       "    </tr>\n",
       "    <tr>\n",
       "      <th>719096</th>\n",
       "      <td>105275903</td>\n",
       "      <td>810.160000</td>\n",
       "      <td>810.16</td>\n",
       "      <td>1</td>\n",
       "      <td>0.0</td>\n",
       "      <td>0.00</td>\n",
       "    </tr>\n",
       "    <tr>\n",
       "      <th>719097</th>\n",
       "      <td>105275923</td>\n",
       "      <td>2226.170000</td>\n",
       "      <td>2226.17</td>\n",
       "      <td>1</td>\n",
       "      <td>1.0</td>\n",
       "      <td>0.00</td>\n",
       "    </tr>\n",
       "    <tr>\n",
       "      <th>719098</th>\n",
       "      <td>105275926</td>\n",
       "      <td>1406.370000</td>\n",
       "      <td>1406.37</td>\n",
       "      <td>1</td>\n",
       "      <td>1.0</td>\n",
       "      <td>0.00</td>\n",
       "    </tr>\n",
       "    <tr>\n",
       "      <th>719099</th>\n",
       "      <td>105275982</td>\n",
       "      <td>1142.260000</td>\n",
       "      <td>1142.26</td>\n",
       "      <td>1</td>\n",
       "      <td>1.0</td>\n",
       "      <td>0.00</td>\n",
       "    </tr>\n",
       "  </tbody>\n",
       "</table>\n",
       "<p>719100 rows × 6 columns</p>\n",
       "</div>"
      ],
      "text/plain": [
       "         buyer_id    avg_check   revenue  frequency  pcode_orders_percent  \\\n",
       "0        94025409  2358.855000   4717.71          2                   1.0   \n",
       "1        94115028  2646.743333   7940.23          3                   0.0   \n",
       "2        94578440  2057.930000   8231.72          4                   1.0   \n",
       "3        94578442  2080.885000   4161.77          2                   1.0   \n",
       "4        94578475  3205.426000  64108.52         20                   1.0   \n",
       "...           ...          ...       ...        ...                   ...   \n",
       "719095  105275886  1075.840000   1075.84          1                   1.0   \n",
       "719096  105275903   810.160000    810.16          1                   0.0   \n",
       "719097  105275923  2226.170000   2226.17          1                   1.0   \n",
       "719098  105275926  1406.370000   1406.37          1                   1.0   \n",
       "719099  105275982  1142.260000   1142.26          1                   1.0   \n",
       "\n",
       "        express_orders_percent  \n",
       "0                         0.00  \n",
       "1                         0.33  \n",
       "2                         0.00  \n",
       "3                         0.00  \n",
       "4                         0.20  \n",
       "...                        ...  \n",
       "719095                    0.00  \n",
       "719096                    0.00  \n",
       "719097                    0.00  \n",
       "719098                    0.00  \n",
       "719099                    0.00  \n",
       "\n",
       "[719100 rows x 6 columns]"
      ]
     },
     "execution_count": 290,
     "metadata": {},
     "output_type": "execute_result"
    }
   ],
   "source": [
    "financial_df"
   ]
  },
  {
   "cell_type": "code",
   "execution_count": 291,
   "metadata": {},
   "outputs": [],
   "source": [
    "categories_df = pd.read_sql(categories_data, postrge_conn)"
   ]
  },
  {
   "cell_type": "code",
   "execution_count": 292,
   "metadata": {},
   "outputs": [
    {
     "data": {
      "text/html": [
       "<div>\n",
       "<style scoped>\n",
       "    .dataframe tbody tr th:only-of-type {\n",
       "        vertical-align: middle;\n",
       "    }\n",
       "\n",
       "    .dataframe tbody tr th {\n",
       "        vertical-align: top;\n",
       "    }\n",
       "\n",
       "    .dataframe thead th {\n",
       "        text-align: right;\n",
       "    }\n",
       "</style>\n",
       "<table border=\"1\" class=\"dataframe\">\n",
       "  <thead>\n",
       "    <tr style=\"text-align: right;\">\n",
       "      <th></th>\n",
       "      <th>buyer_id</th>\n",
       "      <th>cat_name</th>\n",
       "      <th>percent_cat</th>\n",
       "    </tr>\n",
       "  </thead>\n",
       "  <tbody>\n",
       "    <tr>\n",
       "      <th>0</th>\n",
       "      <td>94605516</td>\n",
       "      <td>П\\ф и другие продукты глубокой заморзк</td>\n",
       "      <td>0.067081</td>\n",
       "    </tr>\n",
       "    <tr>\n",
       "      <th>1</th>\n",
       "      <td>94606002</td>\n",
       "      <td>Средства персонального ухода</td>\n",
       "      <td>0.010011</td>\n",
       "    </tr>\n",
       "    <tr>\n",
       "      <th>2</th>\n",
       "      <td>94588448</td>\n",
       "      <td>Фрукты</td>\n",
       "      <td>0.138104</td>\n",
       "    </tr>\n",
       "    <tr>\n",
       "      <th>3</th>\n",
       "      <td>94583735</td>\n",
       "      <td>Традиционная молочная продукция</td>\n",
       "      <td>0.088014</td>\n",
       "    </tr>\n",
       "    <tr>\n",
       "      <th>4</th>\n",
       "      <td>94608174</td>\n",
       "      <td>Детское питание</td>\n",
       "      <td>0.052210</td>\n",
       "    </tr>\n",
       "    <tr>\n",
       "      <th>...</th>\n",
       "      <td>...</td>\n",
       "      <td>...</td>\n",
       "      <td>...</td>\n",
       "    </tr>\n",
       "    <tr>\n",
       "      <th>8587772</th>\n",
       "      <td>99030273</td>\n",
       "      <td>Средства персонального ухода</td>\n",
       "      <td>0.006883</td>\n",
       "    </tr>\n",
       "    <tr>\n",
       "      <th>8587773</th>\n",
       "      <td>98586613</td>\n",
       "      <td>Сыры</td>\n",
       "      <td>0.095140</td>\n",
       "    </tr>\n",
       "    <tr>\n",
       "      <th>8587774</th>\n",
       "      <td>96034521</td>\n",
       "      <td>Традиционная молочная продукция</td>\n",
       "      <td>0.102130</td>\n",
       "    </tr>\n",
       "    <tr>\n",
       "      <th>8587775</th>\n",
       "      <td>98944124</td>\n",
       "      <td>Консервы</td>\n",
       "      <td>0.040228</td>\n",
       "    </tr>\n",
       "    <tr>\n",
       "      <th>8587776</th>\n",
       "      <td>102710985</td>\n",
       "      <td>Функциональное питание</td>\n",
       "      <td>0.052516</td>\n",
       "    </tr>\n",
       "  </tbody>\n",
       "</table>\n",
       "<p>8587777 rows × 3 columns</p>\n",
       "</div>"
      ],
      "text/plain": [
       "          buyer_id                                cat_name  percent_cat\n",
       "0         94605516  П\\ф и другие продукты глубокой заморзк     0.067081\n",
       "1         94606002            Средства персонального ухода     0.010011\n",
       "2         94588448                                  Фрукты     0.138104\n",
       "3         94583735         Традиционная молочная продукция     0.088014\n",
       "4         94608174                         Детское питание     0.052210\n",
       "...            ...                                     ...          ...\n",
       "8587772   99030273            Средства персонального ухода     0.006883\n",
       "8587773   98586613                                    Сыры     0.095140\n",
       "8587774   96034521         Традиционная молочная продукция     0.102130\n",
       "8587775   98944124                                Консервы     0.040228\n",
       "8587776  102710985                  Функциональное питание     0.052516\n",
       "\n",
       "[8587777 rows x 3 columns]"
      ]
     },
     "execution_count": 292,
     "metadata": {},
     "output_type": "execute_result"
    }
   ],
   "source": [
    "categories_df"
   ]
  },
  {
   "cell_type": "code",
   "execution_count": 293,
   "metadata": {},
   "outputs": [],
   "source": [
    "financial_df = pd.DataFrame(financial_df.query(\"buyer_id == @buyers_list_fin\"))"
   ]
  },
  {
   "cell_type": "code",
   "execution_count": 294,
   "metadata": {},
   "outputs": [],
   "source": [
    "categories_df = pd.DataFrame(categories_df.query(\"buyer_id == @buyers_list_fin\"))"
   ]
  },
  {
   "cell_type": "code",
   "execution_count": 295,
   "metadata": {},
   "outputs": [],
   "source": [
    "categories_df_pivot = pd.pivot_table(categories_df, values='percent_cat', index=['buyer_id'],\n",
    "                    columns=['cat_name'], aggfunc=np.sum).reset_index()"
   ]
  },
  {
   "cell_type": "code",
   "execution_count": 296,
   "metadata": {},
   "outputs": [
    {
     "data": {
      "text/html": [
       "<div>\n",
       "<style scoped>\n",
       "    .dataframe tbody tr th:only-of-type {\n",
       "        vertical-align: middle;\n",
       "    }\n",
       "\n",
       "    .dataframe tbody tr th {\n",
       "        vertical-align: top;\n",
       "    }\n",
       "\n",
       "    .dataframe thead th {\n",
       "        text-align: right;\n",
       "    }\n",
       "</style>\n",
       "<table border=\"1\" class=\"dataframe\">\n",
       "  <thead>\n",
       "    <tr style=\"text-align: right;\">\n",
       "      <th>cat_name</th>\n",
       "      <th>buyer_id</th>\n",
       "      <th>Автотовары</th>\n",
       "      <th>Аксессуары и галантерея</th>\n",
       "      <th>Аудио, видео, цифровая техника и аксессу</th>\n",
       "      <th>Багаж</th>\n",
       "      <th>Бакалея</th>\n",
       "      <th>Безалкогольные напитки</th>\n",
       "      <th>Бытовая техника</th>\n",
       "      <th>Бытовая химия, хозяйственные товары</th>\n",
       "      <th>Вино</th>\n",
       "      <th>...</th>\n",
       "      <th>Товары для сада</th>\n",
       "      <th>Товары для уборки и хранения</th>\n",
       "      <th>Товары к Новому году</th>\n",
       "      <th>Товары сделай сам (DIY)</th>\n",
       "      <th>Традиционная молочная продукция</th>\n",
       "      <th>Фрукты</th>\n",
       "      <th>Функциональное питание</th>\n",
       "      <th>Шоколадные кондитерские изделия</th>\n",
       "      <th>Электротовары</th>\n",
       "      <th>Яйцо</th>\n",
       "    </tr>\n",
       "  </thead>\n",
       "  <tbody>\n",
       "    <tr>\n",
       "      <th>0</th>\n",
       "      <td>94578475</td>\n",
       "      <td>NaN</td>\n",
       "      <td>NaN</td>\n",
       "      <td>NaN</td>\n",
       "      <td>NaN</td>\n",
       "      <td>0.033816</td>\n",
       "      <td>0.004411</td>\n",
       "      <td>NaN</td>\n",
       "      <td>0.017643</td>\n",
       "      <td>NaN</td>\n",
       "      <td>...</td>\n",
       "      <td>NaN</td>\n",
       "      <td>0.013233</td>\n",
       "      <td>NaN</td>\n",
       "      <td>NaN</td>\n",
       "      <td>0.032346</td>\n",
       "      <td>0.127577</td>\n",
       "      <td>0.001470</td>\n",
       "      <td>0.052930</td>\n",
       "      <td>NaN</td>\n",
       "      <td>0.019114</td>\n",
       "    </tr>\n",
       "    <tr>\n",
       "      <th>1</th>\n",
       "      <td>94578497</td>\n",
       "      <td>NaN</td>\n",
       "      <td>NaN</td>\n",
       "      <td>NaN</td>\n",
       "      <td>NaN</td>\n",
       "      <td>0.066916</td>\n",
       "      <td>0.037822</td>\n",
       "      <td>NaN</td>\n",
       "      <td>0.023275</td>\n",
       "      <td>NaN</td>\n",
       "      <td>...</td>\n",
       "      <td>NaN</td>\n",
       "      <td>NaN</td>\n",
       "      <td>NaN</td>\n",
       "      <td>NaN</td>\n",
       "      <td>0.074189</td>\n",
       "      <td>0.065765</td>\n",
       "      <td>0.007273</td>\n",
       "      <td>0.048226</td>\n",
       "      <td>NaN</td>\n",
       "      <td>0.016002</td>\n",
       "    </tr>\n",
       "    <tr>\n",
       "      <th>2</th>\n",
       "      <td>94578644</td>\n",
       "      <td>NaN</td>\n",
       "      <td>NaN</td>\n",
       "      <td>NaN</td>\n",
       "      <td>NaN</td>\n",
       "      <td>0.033348</td>\n",
       "      <td>0.233437</td>\n",
       "      <td>NaN</td>\n",
       "      <td>0.011116</td>\n",
       "      <td>NaN</td>\n",
       "      <td>...</td>\n",
       "      <td>NaN</td>\n",
       "      <td>NaN</td>\n",
       "      <td>NaN</td>\n",
       "      <td>NaN</td>\n",
       "      <td>0.041685</td>\n",
       "      <td>0.057889</td>\n",
       "      <td>NaN</td>\n",
       "      <td>NaN</td>\n",
       "      <td>NaN</td>\n",
       "      <td>0.008337</td>\n",
       "    </tr>\n",
       "    <tr>\n",
       "      <th>3</th>\n",
       "      <td>94578658</td>\n",
       "      <td>NaN</td>\n",
       "      <td>NaN</td>\n",
       "      <td>NaN</td>\n",
       "      <td>NaN</td>\n",
       "      <td>0.069291</td>\n",
       "      <td>0.265615</td>\n",
       "      <td>NaN</td>\n",
       "      <td>0.046194</td>\n",
       "      <td>NaN</td>\n",
       "      <td>...</td>\n",
       "      <td>NaN</td>\n",
       "      <td>NaN</td>\n",
       "      <td>NaN</td>\n",
       "      <td>NaN</td>\n",
       "      <td>0.103936</td>\n",
       "      <td>0.046564</td>\n",
       "      <td>NaN</td>\n",
       "      <td>0.023097</td>\n",
       "      <td>NaN</td>\n",
       "      <td>NaN</td>\n",
       "    </tr>\n",
       "    <tr>\n",
       "      <th>4</th>\n",
       "      <td>94578760</td>\n",
       "      <td>NaN</td>\n",
       "      <td>NaN</td>\n",
       "      <td>NaN</td>\n",
       "      <td>NaN</td>\n",
       "      <td>0.044556</td>\n",
       "      <td>0.089112</td>\n",
       "      <td>NaN</td>\n",
       "      <td>0.019803</td>\n",
       "      <td>NaN</td>\n",
       "      <td>...</td>\n",
       "      <td>NaN</td>\n",
       "      <td>0.002475</td>\n",
       "      <td>NaN</td>\n",
       "      <td>NaN</td>\n",
       "      <td>0.061884</td>\n",
       "      <td>0.119789</td>\n",
       "      <td>NaN</td>\n",
       "      <td>0.012377</td>\n",
       "      <td>NaN</td>\n",
       "      <td>0.002475</td>\n",
       "    </tr>\n",
       "    <tr>\n",
       "      <th>...</th>\n",
       "      <td>...</td>\n",
       "      <td>...</td>\n",
       "      <td>...</td>\n",
       "      <td>...</td>\n",
       "      <td>...</td>\n",
       "      <td>...</td>\n",
       "      <td>...</td>\n",
       "      <td>...</td>\n",
       "      <td>...</td>\n",
       "      <td>...</td>\n",
       "      <td>...</td>\n",
       "      <td>...</td>\n",
       "      <td>...</td>\n",
       "      <td>...</td>\n",
       "      <td>...</td>\n",
       "      <td>...</td>\n",
       "      <td>...</td>\n",
       "      <td>...</td>\n",
       "      <td>...</td>\n",
       "      <td>...</td>\n",
       "      <td>...</td>\n",
       "    </tr>\n",
       "    <tr>\n",
       "      <th>71537</th>\n",
       "      <td>103966137</td>\n",
       "      <td>NaN</td>\n",
       "      <td>NaN</td>\n",
       "      <td>NaN</td>\n",
       "      <td>NaN</td>\n",
       "      <td>0.360866</td>\n",
       "      <td>NaN</td>\n",
       "      <td>NaN</td>\n",
       "      <td>0.040096</td>\n",
       "      <td>NaN</td>\n",
       "      <td>...</td>\n",
       "      <td>NaN</td>\n",
       "      <td>0.080192</td>\n",
       "      <td>NaN</td>\n",
       "      <td>NaN</td>\n",
       "      <td>0.120289</td>\n",
       "      <td>NaN</td>\n",
       "      <td>NaN</td>\n",
       "      <td>NaN</td>\n",
       "      <td>NaN</td>\n",
       "      <td>0.040096</td>\n",
       "    </tr>\n",
       "    <tr>\n",
       "      <th>71538</th>\n",
       "      <td>103966682</td>\n",
       "      <td>NaN</td>\n",
       "      <td>NaN</td>\n",
       "      <td>NaN</td>\n",
       "      <td>NaN</td>\n",
       "      <td>NaN</td>\n",
       "      <td>NaN</td>\n",
       "      <td>NaN</td>\n",
       "      <td>NaN</td>\n",
       "      <td>NaN</td>\n",
       "      <td>...</td>\n",
       "      <td>NaN</td>\n",
       "      <td>NaN</td>\n",
       "      <td>NaN</td>\n",
       "      <td>NaN</td>\n",
       "      <td>NaN</td>\n",
       "      <td>NaN</td>\n",
       "      <td>NaN</td>\n",
       "      <td>NaN</td>\n",
       "      <td>NaN</td>\n",
       "      <td>NaN</td>\n",
       "    </tr>\n",
       "    <tr>\n",
       "      <th>71539</th>\n",
       "      <td>103966776</td>\n",
       "      <td>NaN</td>\n",
       "      <td>NaN</td>\n",
       "      <td>NaN</td>\n",
       "      <td>NaN</td>\n",
       "      <td>0.058179</td>\n",
       "      <td>0.098905</td>\n",
       "      <td>NaN</td>\n",
       "      <td>0.029090</td>\n",
       "      <td>NaN</td>\n",
       "      <td>...</td>\n",
       "      <td>NaN</td>\n",
       "      <td>0.005818</td>\n",
       "      <td>NaN</td>\n",
       "      <td>NaN</td>\n",
       "      <td>0.075633</td>\n",
       "      <td>0.014405</td>\n",
       "      <td>0.005818</td>\n",
       "      <td>0.029090</td>\n",
       "      <td>NaN</td>\n",
       "      <td>NaN</td>\n",
       "    </tr>\n",
       "    <tr>\n",
       "      <th>71540</th>\n",
       "      <td>103967206</td>\n",
       "      <td>NaN</td>\n",
       "      <td>NaN</td>\n",
       "      <td>NaN</td>\n",
       "      <td>NaN</td>\n",
       "      <td>NaN</td>\n",
       "      <td>0.032559</td>\n",
       "      <td>NaN</td>\n",
       "      <td>0.065117</td>\n",
       "      <td>NaN</td>\n",
       "      <td>...</td>\n",
       "      <td>NaN</td>\n",
       "      <td>NaN</td>\n",
       "      <td>NaN</td>\n",
       "      <td>NaN</td>\n",
       "      <td>NaN</td>\n",
       "      <td>0.837206</td>\n",
       "      <td>NaN</td>\n",
       "      <td>NaN</td>\n",
       "      <td>NaN</td>\n",
       "      <td>NaN</td>\n",
       "    </tr>\n",
       "    <tr>\n",
       "      <th>71541</th>\n",
       "      <td>103967288</td>\n",
       "      <td>NaN</td>\n",
       "      <td>NaN</td>\n",
       "      <td>NaN</td>\n",
       "      <td>NaN</td>\n",
       "      <td>0.096380</td>\n",
       "      <td>NaN</td>\n",
       "      <td>NaN</td>\n",
       "      <td>NaN</td>\n",
       "      <td>NaN</td>\n",
       "      <td>...</td>\n",
       "      <td>NaN</td>\n",
       "      <td>NaN</td>\n",
       "      <td>NaN</td>\n",
       "      <td>NaN</td>\n",
       "      <td>0.024095</td>\n",
       "      <td>0.063812</td>\n",
       "      <td>NaN</td>\n",
       "      <td>NaN</td>\n",
       "      <td>NaN</td>\n",
       "      <td>NaN</td>\n",
       "    </tr>\n",
       "  </tbody>\n",
       "</table>\n",
       "<p>71542 rows × 65 columns</p>\n",
       "</div>"
      ],
      "text/plain": [
       "cat_name   buyer_id  Автотовары  Аксессуары и галантерея  \\\n",
       "0          94578475         NaN                      NaN   \n",
       "1          94578497         NaN                      NaN   \n",
       "2          94578644         NaN                      NaN   \n",
       "3          94578658         NaN                      NaN   \n",
       "4          94578760         NaN                      NaN   \n",
       "...             ...         ...                      ...   \n",
       "71537     103966137         NaN                      NaN   \n",
       "71538     103966682         NaN                      NaN   \n",
       "71539     103966776         NaN                      NaN   \n",
       "71540     103967206         NaN                      NaN   \n",
       "71541     103967288         NaN                      NaN   \n",
       "\n",
       "cat_name  Аудио, видео, цифровая техника и аксессу  Багаж   Бакалея  \\\n",
       "0                                              NaN    NaN  0.033816   \n",
       "1                                              NaN    NaN  0.066916   \n",
       "2                                              NaN    NaN  0.033348   \n",
       "3                                              NaN    NaN  0.069291   \n",
       "4                                              NaN    NaN  0.044556   \n",
       "...                                            ...    ...       ...   \n",
       "71537                                          NaN    NaN  0.360866   \n",
       "71538                                          NaN    NaN       NaN   \n",
       "71539                                          NaN    NaN  0.058179   \n",
       "71540                                          NaN    NaN       NaN   \n",
       "71541                                          NaN    NaN  0.096380   \n",
       "\n",
       "cat_name  Безалкогольные напитки  Бытовая техника  \\\n",
       "0                       0.004411              NaN   \n",
       "1                       0.037822              NaN   \n",
       "2                       0.233437              NaN   \n",
       "3                       0.265615              NaN   \n",
       "4                       0.089112              NaN   \n",
       "...                          ...              ...   \n",
       "71537                        NaN              NaN   \n",
       "71538                        NaN              NaN   \n",
       "71539                   0.098905              NaN   \n",
       "71540                   0.032559              NaN   \n",
       "71541                        NaN              NaN   \n",
       "\n",
       "cat_name  Бытовая химия, хозяйственные товары  Вино  ...  Товары для сада  \\\n",
       "0                                    0.017643   NaN  ...              NaN   \n",
       "1                                    0.023275   NaN  ...              NaN   \n",
       "2                                    0.011116   NaN  ...              NaN   \n",
       "3                                    0.046194   NaN  ...              NaN   \n",
       "4                                    0.019803   NaN  ...              NaN   \n",
       "...                                       ...   ...  ...              ...   \n",
       "71537                                0.040096   NaN  ...              NaN   \n",
       "71538                                     NaN   NaN  ...              NaN   \n",
       "71539                                0.029090   NaN  ...              NaN   \n",
       "71540                                0.065117   NaN  ...              NaN   \n",
       "71541                                     NaN   NaN  ...              NaN   \n",
       "\n",
       "cat_name  Товары для уборки и хранения  Товары к Новому году  \\\n",
       "0                             0.013233                   NaN   \n",
       "1                                  NaN                   NaN   \n",
       "2                                  NaN                   NaN   \n",
       "3                                  NaN                   NaN   \n",
       "4                             0.002475                   NaN   \n",
       "...                                ...                   ...   \n",
       "71537                         0.080192                   NaN   \n",
       "71538                              NaN                   NaN   \n",
       "71539                         0.005818                   NaN   \n",
       "71540                              NaN                   NaN   \n",
       "71541                              NaN                   NaN   \n",
       "\n",
       "cat_name  Товары сделай сам (DIY)  Традиционная молочная продукция    Фрукты  \\\n",
       "0                             NaN                         0.032346  0.127577   \n",
       "1                             NaN                         0.074189  0.065765   \n",
       "2                             NaN                         0.041685  0.057889   \n",
       "3                             NaN                         0.103936  0.046564   \n",
       "4                             NaN                         0.061884  0.119789   \n",
       "...                           ...                              ...       ...   \n",
       "71537                         NaN                         0.120289       NaN   \n",
       "71538                         NaN                              NaN       NaN   \n",
       "71539                         NaN                         0.075633  0.014405   \n",
       "71540                         NaN                              NaN  0.837206   \n",
       "71541                         NaN                         0.024095  0.063812   \n",
       "\n",
       "cat_name  Функциональное питание  Шоколадные кондитерские изделия  \\\n",
       "0                       0.001470                         0.052930   \n",
       "1                       0.007273                         0.048226   \n",
       "2                            NaN                              NaN   \n",
       "3                            NaN                         0.023097   \n",
       "4                            NaN                         0.012377   \n",
       "...                          ...                              ...   \n",
       "71537                        NaN                              NaN   \n",
       "71538                        NaN                              NaN   \n",
       "71539                   0.005818                         0.029090   \n",
       "71540                        NaN                              NaN   \n",
       "71541                        NaN                              NaN   \n",
       "\n",
       "cat_name  Электротовары      Яйцо  \n",
       "0                   NaN  0.019114  \n",
       "1                   NaN  0.016002  \n",
       "2                   NaN  0.008337  \n",
       "3                   NaN       NaN  \n",
       "4                   NaN  0.002475  \n",
       "...                 ...       ...  \n",
       "71537               NaN  0.040096  \n",
       "71538               NaN       NaN  \n",
       "71539               NaN       NaN  \n",
       "71540               NaN       NaN  \n",
       "71541               NaN       NaN  \n",
       "\n",
       "[71542 rows x 65 columns]"
      ]
     },
     "execution_count": 296,
     "metadata": {},
     "output_type": "execute_result"
    }
   ],
   "source": [
    "categories_df_pivot"
   ]
  },
  {
   "cell_type": "code",
   "execution_count": 297,
   "metadata": {},
   "outputs": [
    {
     "data": {
      "text/plain": [
       "71542"
      ]
     },
     "execution_count": 297,
     "metadata": {},
     "output_type": "execute_result"
    }
   ],
   "source": [
    "categories_df_pivot.buyer_id.nunique()"
   ]
  },
  {
   "cell_type": "code",
   "execution_count": 298,
   "metadata": {},
   "outputs": [
    {
     "data": {
      "text/plain": [
       "71549"
      ]
     },
     "execution_count": 298,
     "metadata": {},
     "output_type": "execute_result"
    }
   ],
   "source": [
    "financial_df.buyer_id.nunique()"
   ]
  },
  {
   "cell_type": "code",
   "execution_count": 299,
   "metadata": {},
   "outputs": [],
   "source": [
    "final_df = categories_df_pivot.merge(financial_df, on = 'buyer_id', how = 'inner')"
   ]
  },
  {
   "cell_type": "code",
   "execution_count": 300,
   "metadata": {},
   "outputs": [],
   "source": [
    "final_df = final_df.fillna(0)"
   ]
  },
  {
   "cell_type": "code",
   "execution_count": 301,
   "metadata": {},
   "outputs": [],
   "source": [
    "final_df_sample = final_df.sample(n=30000, random_state=1)"
   ]
  },
  {
   "cell_type": "code",
   "execution_count": 302,
   "metadata": {},
   "outputs": [],
   "source": [
    "final_df_sample.reset_index(drop= True , inplace= True)"
   ]
  },
  {
   "cell_type": "code",
   "execution_count": 303,
   "metadata": {},
   "outputs": [],
   "source": [
    "#final_df_sample.to_excel('final_df_sample.xlsx')"
   ]
  },
  {
   "cell_type": "code",
   "execution_count": 304,
   "metadata": {},
   "outputs": [],
   "source": [
    "column_headers = list(final_df_sample.columns.values)"
   ]
  },
  {
   "cell_type": "code",
   "execution_count": 305,
   "metadata": {},
   "outputs": [],
   "source": [
    "# преобразуем датафрейм для кластеризации (убираем тяжелые хвосты в метриках)\n",
    "def get_log_df(data):\n",
    "    def log_transform(v): \n",
    "        res = np.log(v+1)\n",
    "        return res\n",
    "    \n",
    "    data_tmp = data.copy()\n",
    "    for el in ['Автотовары',\n",
    " 'Аксессуары и галантерея',\n",
    " 'Аудио, видео, цифровая техника и аксессу',\n",
    " 'Багаж',\n",
    " 'Бакалея',\n",
    " 'Безалкогольные напитки',\n",
    " 'Бытовая техника',\n",
    " 'Бытовая химия, хозяйственные товары',\n",
    " 'Вино',\n",
    " 'Гигиенические средства',\n",
    " 'Деликатесы из рыбы и морепродуктов',\n",
    " 'Детская гигиена',\n",
    " 'Детская одежда, обувь и постельные прин',\n",
    " 'Детское питание',\n",
    " 'Женская и мужская одежда',\n",
    " 'Женское и мужское нижнее белье',\n",
    " 'Живые горшечные цветы, срезка',\n",
    " 'Закуски к аперитивам',\n",
    " 'Замороженная рыба',\n",
    " 'Игрушки',\n",
    " 'Канцелярия и печатная продукция',\n",
    " 'Консервы',\n",
    " 'Косметика и аксессуары',\n",
    " 'Кофе, какао, чай',\n",
    " 'Кулинария собственного производства',\n",
    " 'Майонезы, Закуски, Готовые Блюда охл',\n",
    " 'Масложировая продукция',\n",
    " 'Молочные продукты д/детского питания',\n",
    " 'Морепродукты глубокой заморозки',\n",
    " 'Мясо глубокой заморозки',\n",
    " 'Мясо охлажденное',\n",
    " 'Не шоколадные кондитерские изделия',\n",
    " 'Овощи',\n",
    " 'Одежда и товары для новорождённых',\n",
    " 'Охлажденная и переработанная рыбная прод',\n",
    " 'П\\\\ф и другие продукты глубокой заморзк',\n",
    " 'Пекарня промышленное производство',\n",
    " 'Пекарня собственное производство',\n",
    " 'Пиво и слабоалкогольные напитки',\n",
    " 'Посуда столовая, товары для дома',\n",
    " 'Продукты мясной переработки',\n",
    " 'Профессиональные Товары для животных',\n",
    " 'Птица глубокой заморозки',\n",
    " 'Птица охлажденная',\n",
    " 'Современная молочная продукция',\n",
    " 'Спорт, туризм',\n",
    " 'Средства персонального ухода',\n",
    " 'Сыры',\n",
    " 'Табачные изделия',\n",
    " 'Текстиль для дома',\n",
    " 'Товары для акции лояльности КС',\n",
    " 'Товары для животных',\n",
    " 'Товары для приготовления',\n",
    " 'Товары для сада',\n",
    " 'Товары для уборки и хранения',\n",
    " 'Товары сделай сам (DIY)',\n",
    " 'Традиционная молочная продукция',\n",
    " 'Фрукты',\n",
    " 'Функциональное питание',\n",
    " 'Шоколадные кондитерские изделия',\n",
    " 'Электротовары',\n",
    " 'Яйцо']:\n",
    "        data_tmp[el] = data_tmp[el].apply(lambda x: log_transform(x))\n",
    "    return data_tmp[['Автотовары',\n",
    " 'Аксессуары и галантерея',\n",
    " 'Аудио, видео, цифровая техника и аксессу',\n",
    " 'Багаж',\n",
    " 'Бакалея',\n",
    " 'Безалкогольные напитки',\n",
    " 'Бытовая техника',\n",
    " 'Бытовая химия, хозяйственные товары',\n",
    " 'Вино',\n",
    " 'Гигиенические средства',\n",
    " 'Деликатесы из рыбы и морепродуктов',\n",
    " 'Детская гигиена',\n",
    " 'Детская одежда, обувь и постельные прин',\n",
    " 'Детское питание',\n",
    " 'Женская и мужская одежда',\n",
    " 'Женское и мужское нижнее белье',\n",
    " 'Живые горшечные цветы, срезка',\n",
    " 'Закуски к аперитивам',\n",
    " 'Замороженная рыба',\n",
    " 'Игрушки',\n",
    " 'Канцелярия и печатная продукция',\n",
    " 'Консервы',\n",
    " 'Косметика и аксессуары',\n",
    " 'Кофе, какао, чай',\n",
    " 'Кулинария собственного производства',\n",
    " 'Майонезы, Закуски, Готовые Блюда охл',\n",
    " 'Масложировая продукция',\n",
    " 'Молочные продукты д/детского питания',\n",
    " 'Морепродукты глубокой заморозки',\n",
    " 'Мясо глубокой заморозки',\n",
    " 'Мясо охлажденное',\n",
    " 'Не шоколадные кондитерские изделия',\n",
    " 'Овощи',\n",
    " 'Одежда и товары для новорождённых',\n",
    " 'Охлажденная и переработанная рыбная прод',\n",
    " 'П\\\\ф и другие продукты глубокой заморзк',\n",
    " 'Пекарня промышленное производство',\n",
    " 'Пекарня собственное производство',\n",
    " 'Пиво и слабоалкогольные напитки',\n",
    " 'Посуда столовая, товары для дома',\n",
    " 'Продукты мясной переработки',\n",
    " 'Профессиональные Товары для животных',\n",
    " 'Птица глубокой заморозки',\n",
    " 'Птица охлажденная',\n",
    " 'Современная молочная продукция',\n",
    " 'Спорт, туризм',\n",
    " 'Средства персонального ухода',\n",
    " 'Сыры',\n",
    " 'Табачные изделия',\n",
    " 'Текстиль для дома',\n",
    " 'Товары для акции лояльности КС',\n",
    " 'Товары для животных',\n",
    " 'Товары для приготовления',\n",
    " 'Товары для сада',\n",
    " 'Товары для уборки и хранения',\n",
    " 'Товары сделай сам (DIY)',\n",
    " 'Традиционная молочная продукция',\n",
    " 'Фрукты',\n",
    " 'Функциональное питание',\n",
    " 'Шоколадные кондитерские изделия',\n",
    " 'Электротовары',\n",
    " 'Яйцо']]"
   ]
  },
  {
   "cell_type": "code",
   "execution_count": 306,
   "metadata": {},
   "outputs": [],
   "source": [
    "df_log = get_log_df(final_df_sample.copy())"
   ]
  },
  {
   "cell_type": "code",
   "execution_count": 307,
   "metadata": {},
   "outputs": [
    {
     "data": {
      "text/html": [
       "<div>\n",
       "<style scoped>\n",
       "    .dataframe tbody tr th:only-of-type {\n",
       "        vertical-align: middle;\n",
       "    }\n",
       "\n",
       "    .dataframe tbody tr th {\n",
       "        vertical-align: top;\n",
       "    }\n",
       "\n",
       "    .dataframe thead th {\n",
       "        text-align: right;\n",
       "    }\n",
       "</style>\n",
       "<table border=\"1\" class=\"dataframe\">\n",
       "  <thead>\n",
       "    <tr style=\"text-align: right;\">\n",
       "      <th></th>\n",
       "      <th>Автотовары</th>\n",
       "      <th>Аксессуары и галантерея</th>\n",
       "      <th>Аудио, видео, цифровая техника и аксессу</th>\n",
       "      <th>Багаж</th>\n",
       "      <th>Бакалея</th>\n",
       "      <th>Безалкогольные напитки</th>\n",
       "      <th>Бытовая техника</th>\n",
       "      <th>Бытовая химия, хозяйственные товары</th>\n",
       "      <th>Вино</th>\n",
       "      <th>Гигиенические средства</th>\n",
       "      <th>...</th>\n",
       "      <th>Товары для приготовления</th>\n",
       "      <th>Товары для сада</th>\n",
       "      <th>Товары для уборки и хранения</th>\n",
       "      <th>Товары сделай сам (DIY)</th>\n",
       "      <th>Традиционная молочная продукция</th>\n",
       "      <th>Фрукты</th>\n",
       "      <th>Функциональное питание</th>\n",
       "      <th>Шоколадные кондитерские изделия</th>\n",
       "      <th>Электротовары</th>\n",
       "      <th>Яйцо</th>\n",
       "    </tr>\n",
       "  </thead>\n",
       "  <tbody>\n",
       "    <tr>\n",
       "      <th>0</th>\n",
       "      <td>0.000000</td>\n",
       "      <td>0.0</td>\n",
       "      <td>0.0</td>\n",
       "      <td>0.0</td>\n",
       "      <td>0.172929</td>\n",
       "      <td>0.059739</td>\n",
       "      <td>0.0</td>\n",
       "      <td>0.004096</td>\n",
       "      <td>0.0</td>\n",
       "      <td>0.016283</td>\n",
       "      <td>...</td>\n",
       "      <td>0.00000</td>\n",
       "      <td>0.000000</td>\n",
       "      <td>0.012237</td>\n",
       "      <td>0.0</td>\n",
       "      <td>0.093941</td>\n",
       "      <td>0.029065</td>\n",
       "      <td>0.028323</td>\n",
       "      <td>0.000000</td>\n",
       "      <td>0.0</td>\n",
       "      <td>0.004096</td>\n",
       "    </tr>\n",
       "    <tr>\n",
       "      <th>1</th>\n",
       "      <td>0.000000</td>\n",
       "      <td>0.0</td>\n",
       "      <td>0.0</td>\n",
       "      <td>0.0</td>\n",
       "      <td>0.018711</td>\n",
       "      <td>0.018711</td>\n",
       "      <td>0.0</td>\n",
       "      <td>0.055116</td>\n",
       "      <td>0.0</td>\n",
       "      <td>0.018711</td>\n",
       "      <td>...</td>\n",
       "      <td>0.00000</td>\n",
       "      <td>0.018711</td>\n",
       "      <td>0.000000</td>\n",
       "      <td>0.0</td>\n",
       "      <td>0.072832</td>\n",
       "      <td>0.155275</td>\n",
       "      <td>0.000000</td>\n",
       "      <td>0.000000</td>\n",
       "      <td>0.0</td>\n",
       "      <td>0.000000</td>\n",
       "    </tr>\n",
       "    <tr>\n",
       "      <th>2</th>\n",
       "      <td>0.000000</td>\n",
       "      <td>0.0</td>\n",
       "      <td>0.0</td>\n",
       "      <td>0.0</td>\n",
       "      <td>0.062522</td>\n",
       "      <td>0.081481</td>\n",
       "      <td>0.0</td>\n",
       "      <td>0.016836</td>\n",
       "      <td>0.0</td>\n",
       "      <td>0.059327</td>\n",
       "      <td>...</td>\n",
       "      <td>0.00339</td>\n",
       "      <td>0.000000</td>\n",
       "      <td>0.000000</td>\n",
       "      <td>0.0</td>\n",
       "      <td>0.000000</td>\n",
       "      <td>0.033093</td>\n",
       "      <td>0.003390</td>\n",
       "      <td>0.026803</td>\n",
       "      <td>0.0</td>\n",
       "      <td>0.013491</td>\n",
       "    </tr>\n",
       "    <tr>\n",
       "      <th>3</th>\n",
       "      <td>0.000000</td>\n",
       "      <td>0.0</td>\n",
       "      <td>0.0</td>\n",
       "      <td>0.0</td>\n",
       "      <td>0.139541</td>\n",
       "      <td>0.000000</td>\n",
       "      <td>0.0</td>\n",
       "      <td>0.021167</td>\n",
       "      <td>0.0</td>\n",
       "      <td>0.000000</td>\n",
       "      <td>...</td>\n",
       "      <td>0.00000</td>\n",
       "      <td>0.000000</td>\n",
       "      <td>0.010639</td>\n",
       "      <td>0.0</td>\n",
       "      <td>0.286366</td>\n",
       "      <td>0.026306</td>\n",
       "      <td>0.000000</td>\n",
       "      <td>0.000000</td>\n",
       "      <td>0.0</td>\n",
       "      <td>0.000000</td>\n",
       "    </tr>\n",
       "    <tr>\n",
       "      <th>4</th>\n",
       "      <td>0.003353</td>\n",
       "      <td>0.0</td>\n",
       "      <td>0.0</td>\n",
       "      <td>0.0</td>\n",
       "      <td>0.086799</td>\n",
       "      <td>0.003353</td>\n",
       "      <td>0.0</td>\n",
       "      <td>0.029778</td>\n",
       "      <td>0.0</td>\n",
       "      <td>0.006694</td>\n",
       "      <td>...</td>\n",
       "      <td>0.00000</td>\n",
       "      <td>0.000000</td>\n",
       "      <td>0.003353</td>\n",
       "      <td>0.0</td>\n",
       "      <td>0.111135</td>\n",
       "      <td>0.038748</td>\n",
       "      <td>0.000000</td>\n",
       "      <td>0.052341</td>\n",
       "      <td>0.0</td>\n",
       "      <td>0.003353</td>\n",
       "    </tr>\n",
       "  </tbody>\n",
       "</table>\n",
       "<p>5 rows × 62 columns</p>\n",
       "</div>"
      ],
      "text/plain": [
       "   Автотовары  Аксессуары и галантерея  \\\n",
       "0    0.000000                      0.0   \n",
       "1    0.000000                      0.0   \n",
       "2    0.000000                      0.0   \n",
       "3    0.000000                      0.0   \n",
       "4    0.003353                      0.0   \n",
       "\n",
       "   Аудио, видео, цифровая техника и аксессу  Багаж   Бакалея  \\\n",
       "0                                       0.0    0.0  0.172929   \n",
       "1                                       0.0    0.0  0.018711   \n",
       "2                                       0.0    0.0  0.062522   \n",
       "3                                       0.0    0.0  0.139541   \n",
       "4                                       0.0    0.0  0.086799   \n",
       "\n",
       "   Безалкогольные напитки  Бытовая техника  \\\n",
       "0                0.059739              0.0   \n",
       "1                0.018711              0.0   \n",
       "2                0.081481              0.0   \n",
       "3                0.000000              0.0   \n",
       "4                0.003353              0.0   \n",
       "\n",
       "   Бытовая химия, хозяйственные товары  Вино  Гигиенические средства  ...  \\\n",
       "0                             0.004096   0.0                0.016283  ...   \n",
       "1                             0.055116   0.0                0.018711  ...   \n",
       "2                             0.016836   0.0                0.059327  ...   \n",
       "3                             0.021167   0.0                0.000000  ...   \n",
       "4                             0.029778   0.0                0.006694  ...   \n",
       "\n",
       "   Товары для приготовления  Товары для сада  Товары для уборки и хранения  \\\n",
       "0                   0.00000         0.000000                      0.012237   \n",
       "1                   0.00000         0.018711                      0.000000   \n",
       "2                   0.00339         0.000000                      0.000000   \n",
       "3                   0.00000         0.000000                      0.010639   \n",
       "4                   0.00000         0.000000                      0.003353   \n",
       "\n",
       "   Товары сделай сам (DIY)  Традиционная молочная продукция    Фрукты  \\\n",
       "0                      0.0                         0.093941  0.029065   \n",
       "1                      0.0                         0.072832  0.155275   \n",
       "2                      0.0                         0.000000  0.033093   \n",
       "3                      0.0                         0.286366  0.026306   \n",
       "4                      0.0                         0.111135  0.038748   \n",
       "\n",
       "   Функциональное питание  Шоколадные кондитерские изделия  Электротовары  \\\n",
       "0                0.028323                         0.000000            0.0   \n",
       "1                0.000000                         0.000000            0.0   \n",
       "2                0.003390                         0.026803            0.0   \n",
       "3                0.000000                         0.000000            0.0   \n",
       "4                0.000000                         0.052341            0.0   \n",
       "\n",
       "       Яйцо  \n",
       "0  0.004096  \n",
       "1  0.000000  \n",
       "2  0.013491  \n",
       "3  0.000000  \n",
       "4  0.003353  \n",
       "\n",
       "[5 rows x 62 columns]"
      ]
     },
     "execution_count": 307,
     "metadata": {},
     "output_type": "execute_result"
    }
   ],
   "source": [
    "df_log.head()"
   ]
  },
  {
   "cell_type": "code",
   "execution_count": null,
   "metadata": {},
   "outputs": [],
   "source": []
  },
  {
   "cell_type": "markdown",
   "metadata": {},
   "source": [
    "Мин-макс шкалирование"
   ]
  },
  {
   "cell_type": "code",
   "execution_count": 124,
   "metadata": {},
   "outputs": [],
   "source": [
    "from sklearn.preprocessing import MinMaxScaler"
   ]
  },
  {
   "cell_type": "code",
   "execution_count": 125,
   "metadata": {},
   "outputs": [],
   "source": [
    "#нормализуем данные, приведем к одной шкале\n",
    "df_log_sc = MinMaxScaler().fit_transform(df_log)"
   ]
  },
  {
   "cell_type": "code",
   "execution_count": 126,
   "metadata": {},
   "outputs": [
    {
     "data": {
      "text/plain": [
       "(30000, 62)"
      ]
     },
     "execution_count": 126,
     "metadata": {},
     "output_type": "execute_result"
    }
   ],
   "source": [
    "df_log_sc.shape"
   ]
  },
  {
   "cell_type": "code",
   "execution_count": 127,
   "metadata": {},
   "outputs": [],
   "source": [
    "df_log_sc_clmns = pd.DataFrame(df_log_sc)"
   ]
  },
  {
   "cell_type": "code",
   "execution_count": 128,
   "metadata": {},
   "outputs": [
    {
     "data": {
      "text/html": [
       "<div>\n",
       "<style scoped>\n",
       "    .dataframe tbody tr th:only-of-type {\n",
       "        vertical-align: middle;\n",
       "    }\n",
       "\n",
       "    .dataframe tbody tr th {\n",
       "        vertical-align: top;\n",
       "    }\n",
       "\n",
       "    .dataframe thead th {\n",
       "        text-align: right;\n",
       "    }\n",
       "</style>\n",
       "<table border=\"1\" class=\"dataframe\">\n",
       "  <thead>\n",
       "    <tr style=\"text-align: right;\">\n",
       "      <th></th>\n",
       "      <th>0</th>\n",
       "      <th>1</th>\n",
       "      <th>2</th>\n",
       "      <th>3</th>\n",
       "      <th>4</th>\n",
       "      <th>5</th>\n",
       "      <th>6</th>\n",
       "      <th>7</th>\n",
       "      <th>8</th>\n",
       "      <th>9</th>\n",
       "      <th>...</th>\n",
       "      <th>52</th>\n",
       "      <th>53</th>\n",
       "      <th>54</th>\n",
       "      <th>55</th>\n",
       "      <th>56</th>\n",
       "      <th>57</th>\n",
       "      <th>58</th>\n",
       "      <th>59</th>\n",
       "      <th>60</th>\n",
       "      <th>61</th>\n",
       "    </tr>\n",
       "  </thead>\n",
       "  <tbody>\n",
       "    <tr>\n",
       "      <th>0</th>\n",
       "      <td>0.000000</td>\n",
       "      <td>0.0</td>\n",
       "      <td>0.0</td>\n",
       "      <td>0.0</td>\n",
       "      <td>0.053431</td>\n",
       "      <td>0.338122</td>\n",
       "      <td>0.000000</td>\n",
       "      <td>0.000000</td>\n",
       "      <td>0.0</td>\n",
       "      <td>0.026963</td>\n",
       "      <td>...</td>\n",
       "      <td>0.000000</td>\n",
       "      <td>0.000000</td>\n",
       "      <td>0.000000</td>\n",
       "      <td>0.000000</td>\n",
       "      <td>0.079422</td>\n",
       "      <td>0.000000</td>\n",
       "      <td>0.000000</td>\n",
       "      <td>0.022254</td>\n",
       "      <td>0.000000</td>\n",
       "      <td>0.034438</td>\n",
       "    </tr>\n",
       "    <tr>\n",
       "      <th>1</th>\n",
       "      <td>0.000000</td>\n",
       "      <td>0.0</td>\n",
       "      <td>0.0</td>\n",
       "      <td>0.0</td>\n",
       "      <td>0.148313</td>\n",
       "      <td>0.217118</td>\n",
       "      <td>0.000000</td>\n",
       "      <td>0.019395</td>\n",
       "      <td>0.0</td>\n",
       "      <td>0.038532</td>\n",
       "      <td>...</td>\n",
       "      <td>0.019395</td>\n",
       "      <td>0.000000</td>\n",
       "      <td>0.038532</td>\n",
       "      <td>0.000000</td>\n",
       "      <td>0.038532</td>\n",
       "      <td>0.037873</td>\n",
       "      <td>0.000000</td>\n",
       "      <td>0.000000</td>\n",
       "      <td>0.000000</td>\n",
       "      <td>0.000000</td>\n",
       "    </tr>\n",
       "    <tr>\n",
       "      <th>2</th>\n",
       "      <td>0.000000</td>\n",
       "      <td>0.0</td>\n",
       "      <td>0.0</td>\n",
       "      <td>0.0</td>\n",
       "      <td>0.108368</td>\n",
       "      <td>0.000000</td>\n",
       "      <td>0.000000</td>\n",
       "      <td>0.044329</td>\n",
       "      <td>0.0</td>\n",
       "      <td>0.022335</td>\n",
       "      <td>...</td>\n",
       "      <td>0.000000</td>\n",
       "      <td>0.000000</td>\n",
       "      <td>0.000000</td>\n",
       "      <td>0.000000</td>\n",
       "      <td>0.044329</td>\n",
       "      <td>0.128459</td>\n",
       "      <td>0.000000</td>\n",
       "      <td>0.022335</td>\n",
       "      <td>0.000000</td>\n",
       "      <td>0.028526</td>\n",
       "    </tr>\n",
       "    <tr>\n",
       "      <th>3</th>\n",
       "      <td>0.000000</td>\n",
       "      <td>0.0</td>\n",
       "      <td>0.0</td>\n",
       "      <td>0.0</td>\n",
       "      <td>0.095261</td>\n",
       "      <td>0.118125</td>\n",
       "      <td>0.000000</td>\n",
       "      <td>0.000000</td>\n",
       "      <td>0.0</td>\n",
       "      <td>0.000000</td>\n",
       "      <td>...</td>\n",
       "      <td>0.000000</td>\n",
       "      <td>0.000000</td>\n",
       "      <td>0.024412</td>\n",
       "      <td>0.000000</td>\n",
       "      <td>0.072029</td>\n",
       "      <td>0.192865</td>\n",
       "      <td>0.000000</td>\n",
       "      <td>0.072029</td>\n",
       "      <td>0.000000</td>\n",
       "      <td>0.031179</td>\n",
       "    </tr>\n",
       "    <tr>\n",
       "      <th>4</th>\n",
       "      <td>0.000000</td>\n",
       "      <td>0.0</td>\n",
       "      <td>0.0</td>\n",
       "      <td>0.0</td>\n",
       "      <td>0.000000</td>\n",
       "      <td>0.000000</td>\n",
       "      <td>0.000000</td>\n",
       "      <td>0.000000</td>\n",
       "      <td>0.0</td>\n",
       "      <td>0.000000</td>\n",
       "      <td>...</td>\n",
       "      <td>0.000000</td>\n",
       "      <td>0.000000</td>\n",
       "      <td>0.000000</td>\n",
       "      <td>0.000000</td>\n",
       "      <td>0.000000</td>\n",
       "      <td>0.000000</td>\n",
       "      <td>0.000000</td>\n",
       "      <td>0.000000</td>\n",
       "      <td>0.000000</td>\n",
       "      <td>0.000000</td>\n",
       "    </tr>\n",
       "    <tr>\n",
       "      <th>...</th>\n",
       "      <td>...</td>\n",
       "      <td>...</td>\n",
       "      <td>...</td>\n",
       "      <td>...</td>\n",
       "      <td>...</td>\n",
       "      <td>...</td>\n",
       "      <td>...</td>\n",
       "      <td>...</td>\n",
       "      <td>...</td>\n",
       "      <td>...</td>\n",
       "      <td>...</td>\n",
       "      <td>...</td>\n",
       "      <td>...</td>\n",
       "      <td>...</td>\n",
       "      <td>...</td>\n",
       "      <td>...</td>\n",
       "      <td>...</td>\n",
       "      <td>...</td>\n",
       "      <td>...</td>\n",
       "      <td>...</td>\n",
       "      <td>...</td>\n",
       "    </tr>\n",
       "    <tr>\n",
       "      <th>29995</th>\n",
       "      <td>0.000000</td>\n",
       "      <td>0.0</td>\n",
       "      <td>0.0</td>\n",
       "      <td>0.0</td>\n",
       "      <td>0.000000</td>\n",
       "      <td>0.336937</td>\n",
       "      <td>0.000000</td>\n",
       "      <td>0.000000</td>\n",
       "      <td>0.0</td>\n",
       "      <td>0.121269</td>\n",
       "      <td>...</td>\n",
       "      <td>0.000000</td>\n",
       "      <td>0.000000</td>\n",
       "      <td>0.000000</td>\n",
       "      <td>0.000000</td>\n",
       "      <td>0.000000</td>\n",
       "      <td>0.000000</td>\n",
       "      <td>0.000000</td>\n",
       "      <td>0.000000</td>\n",
       "      <td>0.000000</td>\n",
       "      <td>0.000000</td>\n",
       "    </tr>\n",
       "    <tr>\n",
       "      <th>29996</th>\n",
       "      <td>0.000000</td>\n",
       "      <td>0.0</td>\n",
       "      <td>0.0</td>\n",
       "      <td>0.0</td>\n",
       "      <td>0.057149</td>\n",
       "      <td>0.032424</td>\n",
       "      <td>0.001821</td>\n",
       "      <td>0.023490</td>\n",
       "      <td>0.0</td>\n",
       "      <td>0.034204</td>\n",
       "      <td>...</td>\n",
       "      <td>0.009080</td>\n",
       "      <td>0.000000</td>\n",
       "      <td>0.007269</td>\n",
       "      <td>0.003639</td>\n",
       "      <td>0.107054</td>\n",
       "      <td>0.125106</td>\n",
       "      <td>0.000000</td>\n",
       "      <td>0.120589</td>\n",
       "      <td>0.005455</td>\n",
       "      <td>0.004648</td>\n",
       "    </tr>\n",
       "    <tr>\n",
       "      <th>29997</th>\n",
       "      <td>0.000000</td>\n",
       "      <td>0.0</td>\n",
       "      <td>0.0</td>\n",
       "      <td>0.0</td>\n",
       "      <td>0.032041</td>\n",
       "      <td>0.710439</td>\n",
       "      <td>0.000000</td>\n",
       "      <td>0.073685</td>\n",
       "      <td>0.0</td>\n",
       "      <td>0.032041</td>\n",
       "      <td>...</td>\n",
       "      <td>0.000000</td>\n",
       "      <td>0.000000</td>\n",
       "      <td>0.010760</td>\n",
       "      <td>0.000000</td>\n",
       "      <td>0.010760</td>\n",
       "      <td>0.000000</td>\n",
       "      <td>0.000000</td>\n",
       "      <td>0.000000</td>\n",
       "      <td>0.032041</td>\n",
       "      <td>0.000000</td>\n",
       "    </tr>\n",
       "    <tr>\n",
       "      <th>29998</th>\n",
       "      <td>0.000000</td>\n",
       "      <td>0.0</td>\n",
       "      <td>0.0</td>\n",
       "      <td>0.0</td>\n",
       "      <td>0.102504</td>\n",
       "      <td>0.055574</td>\n",
       "      <td>0.000000</td>\n",
       "      <td>0.028054</td>\n",
       "      <td>0.0</td>\n",
       "      <td>0.082578</td>\n",
       "      <td>...</td>\n",
       "      <td>0.000000</td>\n",
       "      <td>0.000000</td>\n",
       "      <td>0.000000</td>\n",
       "      <td>0.000000</td>\n",
       "      <td>0.210500</td>\n",
       "      <td>0.077942</td>\n",
       "      <td>0.000000</td>\n",
       "      <td>0.028054</td>\n",
       "      <td>0.000000</td>\n",
       "      <td>0.044682</td>\n",
       "    </tr>\n",
       "    <tr>\n",
       "      <th>29999</th>\n",
       "      <td>0.005269</td>\n",
       "      <td>0.0</td>\n",
       "      <td>0.0</td>\n",
       "      <td>0.0</td>\n",
       "      <td>0.092010</td>\n",
       "      <td>0.000000</td>\n",
       "      <td>0.000000</td>\n",
       "      <td>0.015748</td>\n",
       "      <td>0.0</td>\n",
       "      <td>0.010518</td>\n",
       "      <td>...</td>\n",
       "      <td>0.000000</td>\n",
       "      <td>0.036482</td>\n",
       "      <td>0.000000</td>\n",
       "      <td>0.000000</td>\n",
       "      <td>0.015748</td>\n",
       "      <td>0.337330</td>\n",
       "      <td>0.061987</td>\n",
       "      <td>0.000000</td>\n",
       "      <td>0.000000</td>\n",
       "      <td>0.000000</td>\n",
       "    </tr>\n",
       "  </tbody>\n",
       "</table>\n",
       "<p>30000 rows × 62 columns</p>\n",
       "</div>"
      ],
      "text/plain": [
       "             0    1    2    3         4         5         6         7    8   \\\n",
       "0      0.000000  0.0  0.0  0.0  0.053431  0.338122  0.000000  0.000000  0.0   \n",
       "1      0.000000  0.0  0.0  0.0  0.148313  0.217118  0.000000  0.019395  0.0   \n",
       "2      0.000000  0.0  0.0  0.0  0.108368  0.000000  0.000000  0.044329  0.0   \n",
       "3      0.000000  0.0  0.0  0.0  0.095261  0.118125  0.000000  0.000000  0.0   \n",
       "4      0.000000  0.0  0.0  0.0  0.000000  0.000000  0.000000  0.000000  0.0   \n",
       "...         ...  ...  ...  ...       ...       ...       ...       ...  ...   \n",
       "29995  0.000000  0.0  0.0  0.0  0.000000  0.336937  0.000000  0.000000  0.0   \n",
       "29996  0.000000  0.0  0.0  0.0  0.057149  0.032424  0.001821  0.023490  0.0   \n",
       "29997  0.000000  0.0  0.0  0.0  0.032041  0.710439  0.000000  0.073685  0.0   \n",
       "29998  0.000000  0.0  0.0  0.0  0.102504  0.055574  0.000000  0.028054  0.0   \n",
       "29999  0.005269  0.0  0.0  0.0  0.092010  0.000000  0.000000  0.015748  0.0   \n",
       "\n",
       "             9   ...        52        53        54        55        56  \\\n",
       "0      0.026963  ...  0.000000  0.000000  0.000000  0.000000  0.079422   \n",
       "1      0.038532  ...  0.019395  0.000000  0.038532  0.000000  0.038532   \n",
       "2      0.022335  ...  0.000000  0.000000  0.000000  0.000000  0.044329   \n",
       "3      0.000000  ...  0.000000  0.000000  0.024412  0.000000  0.072029   \n",
       "4      0.000000  ...  0.000000  0.000000  0.000000  0.000000  0.000000   \n",
       "...         ...  ...       ...       ...       ...       ...       ...   \n",
       "29995  0.121269  ...  0.000000  0.000000  0.000000  0.000000  0.000000   \n",
       "29996  0.034204  ...  0.009080  0.000000  0.007269  0.003639  0.107054   \n",
       "29997  0.032041  ...  0.000000  0.000000  0.010760  0.000000  0.010760   \n",
       "29998  0.082578  ...  0.000000  0.000000  0.000000  0.000000  0.210500   \n",
       "29999  0.010518  ...  0.000000  0.036482  0.000000  0.000000  0.015748   \n",
       "\n",
       "             57        58        59        60        61  \n",
       "0      0.000000  0.000000  0.022254  0.000000  0.034438  \n",
       "1      0.037873  0.000000  0.000000  0.000000  0.000000  \n",
       "2      0.128459  0.000000  0.022335  0.000000  0.028526  \n",
       "3      0.192865  0.000000  0.072029  0.000000  0.031179  \n",
       "4      0.000000  0.000000  0.000000  0.000000  0.000000  \n",
       "...         ...       ...       ...       ...       ...  \n",
       "29995  0.000000  0.000000  0.000000  0.000000  0.000000  \n",
       "29996  0.125106  0.000000  0.120589  0.005455  0.004648  \n",
       "29997  0.000000  0.000000  0.000000  0.032041  0.000000  \n",
       "29998  0.077942  0.000000  0.028054  0.000000  0.044682  \n",
       "29999  0.337330  0.061987  0.000000  0.000000  0.000000  \n",
       "\n",
       "[30000 rows x 62 columns]"
      ]
     },
     "execution_count": 128,
     "metadata": {},
     "output_type": "execute_result"
    }
   ],
   "source": [
    "df_log_sc_clmns"
   ]
  },
  {
   "cell_type": "code",
   "execution_count": 129,
   "metadata": {},
   "outputs": [],
   "source": [
    "df_log_sc_clmns.columns = df_log.columns"
   ]
  },
  {
   "cell_type": "code",
   "execution_count": null,
   "metadata": {},
   "outputs": [],
   "source": []
  },
  {
   "cell_type": "markdown",
   "metadata": {},
   "source": [
    "Сохраняем tSNE отображение"
   ]
  },
  {
   "cell_type": "code",
   "execution_count": 130,
   "metadata": {},
   "outputs": [],
   "source": [
    "from scipy.cluster.hierarchy import fcluster, linkage\n",
    "from sklearn.manifold import TSNE"
   ]
  },
  {
   "cell_type": "code",
   "execution_count": 131,
   "metadata": {},
   "outputs": [],
   "source": [
    "tsne_representation = TSNE(n_components=2, random_state=321).fit_transform(df_log_sc)"
   ]
  },
  {
   "cell_type": "code",
   "execution_count": 132,
   "metadata": {},
   "outputs": [],
   "source": [
    "from sklearn.neighbors import NearestNeighbors\n",
    "from sklearn.cluster import DBSCAN\n",
    "from sklearn.metrics import silhouette_score"
   ]
  },
  {
   "cell_type": "code",
   "execution_count": 133,
   "metadata": {},
   "outputs": [],
   "source": [
    "distance_matrix = linkage(tsne_representation, method = 'ward', metric = 'euclidean')"
   ]
  },
  {
   "cell_type": "code",
   "execution_count": 134,
   "metadata": {},
   "outputs": [],
   "source": [
    "from scipy.cluster.hierarchy import dendrogram"
   ]
  },
  {
   "cell_type": "code",
   "execution_count": 135,
   "metadata": {},
   "outputs": [
    {
     "data": {
      "image/png": "[encoded data removed]",
      "text/plain": [
       "<Figure size 864x504 with 1 Axes>"
      ]
     },
     "metadata": {},
     "output_type": "display_data"
    }
   ],
   "source": [
    "dn = dendrogram(\n",
    "        distance_matrix,\n",
    "        leaf_rotation=90.,\n",
    "        leaf_font_size=8.,\n",
    "        truncate_mode='level',\n",
    "        p=16,\n",
    "        color_threshold=100,\n",
    "        no_labels=True\n",
    "    )"
   ]
  },
  {
   "cell_type": "code",
   "execution_count": 136,
   "metadata": {},
   "outputs": [],
   "source": [
    "#итого было выбрано взять 7 кластеров, далее будет график и подсчет средних значений\n",
    "cl_tsne_labels_final = pd.Series(fcluster(distance_matrix, 7, criterion='maxclust'))"
   ]
  },
  {
   "cell_type": "code",
   "execution_count": 137,
   "metadata": {},
   "outputs": [],
   "source": [
    "cl_tsne_labels_final_agg = cl_tsne_labels_final"
   ]
  },
  {
   "cell_type": "code",
   "execution_count": 138,
   "metadata": {},
   "outputs": [],
   "source": [
    "clusters_df = pd.DataFrame({\n",
    "    'cl_tsne_labels_final':cl_tsne_labels_final,\n",
    "    'cl_tsne_labels_final_agg':cl_tsne_labels_final,\n",
    "    'x':tsne_representation[:,0],\n",
    "    'y':tsne_representation[:,1]\n",
    "}\n",
    ")"
   ]
  },
  {
   "cell_type": "code",
   "execution_count": 139,
   "metadata": {},
   "outputs": [],
   "source": [
    "import matplotlib.cm as cm\n",
    "def get_clusters_image(l):\n",
    "    clusters_df = pd.DataFrame({\n",
    "        'cl_tsne_labels_final_agg':l,\n",
    "        'x':tsne_representation[:,0],\n",
    "        'y':tsne_representation[:,1]\n",
    "    }\n",
    "    )\n",
    "    colors = cm.rainbow(np.linspace(0,1,len(set(l))))\n",
    "    for y, c in zip(set(l), colors):\n",
    "        plt.scatter(tsne_representation[pd.Series(l).values==y, 0], \n",
    "                    tsne_representation[pd.Series(l).values==y, 1], c=c, alpha=0.3, label=str(y))\n",
    "    return plt.legend()"
   ]
  },
  {
   "cell_type": "code",
   "execution_count": 140,
   "metadata": {},
   "outputs": [
    {
     "name": "stderr",
     "output_type": "stream",
     "text": [
      "*c* argument looks like a single numeric RGB or RGBA sequence, which should be avoided as value-mapping will have precedence in case its length matches with *x* & *y*.  Please use the *color* keyword-argument or provide a 2D array with a single row if you intend to specify the same RGB or RGBA value for all points.\n",
      "*c* argument looks like a single numeric RGB or RGBA sequence, which should be avoided as value-mapping will have precedence in case its length matches with *x* & *y*.  Please use the *color* keyword-argument or provide a 2D array with a single row if you intend to specify the same RGB or RGBA value for all points.\n",
      "*c* argument looks like a single numeric RGB or RGBA sequence, which should be avoided as value-mapping will have precedence in case its length matches with *x* & *y*.  Please use the *color* keyword-argument or provide a 2D array with a single row if you intend to specify the same RGB or RGBA value for all points.\n",
      "*c* argument looks like a single numeric RGB or RGBA sequence, which should be avoided as value-mapping will have precedence in case its length matches with *x* & *y*.  Please use the *color* keyword-argument or provide a 2D array with a single row if you intend to specify the same RGB or RGBA value for all points.\n",
      "*c* argument looks like a single numeric RGB or RGBA sequence, which should be avoided as value-mapping will have precedence in case its length matches with *x* & *y*.  Please use the *color* keyword-argument or provide a 2D array with a single row if you intend to specify the same RGB or RGBA value for all points.\n",
      "*c* argument looks like a single numeric RGB or RGBA sequence, which should be avoided as value-mapping will have precedence in case its length matches with *x* & *y*.  Please use the *color* keyword-argument or provide a 2D array with a single row if you intend to specify the same RGB or RGBA value for all points.\n",
      "*c* argument looks like a single numeric RGB or RGBA sequence, which should be avoided as value-mapping will have precedence in case its length matches with *x* & *y*.  Please use the *color* keyword-argument or provide a 2D array with a single row if you intend to specify the same RGB or RGBA value for all points.\n"
     ]
    },
    {
     "data": {
      "text/plain": [
       "<matplotlib.legend.Legend at 0x2a98a6969d0>"
      ]
     },
     "execution_count": 140,
     "metadata": {},
     "output_type": "execute_result"
    },
    {
     "data": {
      "image/png": "[encoded data removed]",
      "text/plain": [
       "<Figure size 864x504 with 1 Axes>"
      ]
     },
     "metadata": {},
     "output_type": "display_data"
    }
   ],
   "source": [
    "get_clusters_image(cl_tsne_labels_final_agg)"
   ]
  },
  {
   "cell_type": "code",
   "execution_count": 141,
   "metadata": {},
   "outputs": [],
   "source": [
    "final_df_sample[\"labels_10\"] = cl_tsne_labels_final_agg"
   ]
  },
  {
   "cell_type": "code",
   "execution_count": 142,
   "metadata": {},
   "outputs": [
    {
     "data": {
      "text/html": [
       "<div>\n",
       "<style scoped>\n",
       "    .dataframe tbody tr th:only-of-type {\n",
       "        vertical-align: middle;\n",
       "    }\n",
       "\n",
       "    .dataframe tbody tr th {\n",
       "        vertical-align: top;\n",
       "    }\n",
       "\n",
       "    .dataframe thead th {\n",
       "        text-align: right;\n",
       "    }\n",
       "</style>\n",
       "<table border=\"1\" class=\"dataframe\">\n",
       "  <thead>\n",
       "    <tr style=\"text-align: right;\">\n",
       "      <th></th>\n",
       "      <th>buyer_id</th>\n",
       "      <th>Автотовары</th>\n",
       "      <th>Аксессуары и галантерея</th>\n",
       "      <th>Аудио, видео, цифровая техника и аксессу</th>\n",
       "      <th>Багаж</th>\n",
       "      <th>Бакалея</th>\n",
       "      <th>Безалкогольные напитки</th>\n",
       "      <th>Бытовая техника</th>\n",
       "      <th>Бытовая химия, хозяйственные товары</th>\n",
       "      <th>Вино</th>\n",
       "      <th>...</th>\n",
       "      <th>Функциональное питание</th>\n",
       "      <th>Шоколадные кондитерские изделия</th>\n",
       "      <th>Электротовары</th>\n",
       "      <th>Яйцо</th>\n",
       "      <th>avg_check</th>\n",
       "      <th>revenue</th>\n",
       "      <th>frequency</th>\n",
       "      <th>pcode_orders_percent</th>\n",
       "      <th>express_orders_percent</th>\n",
       "      <th>labels_10</th>\n",
       "    </tr>\n",
       "  </thead>\n",
       "  <tbody>\n",
       "    <tr>\n",
       "      <th>0</th>\n",
       "      <td>95358658</td>\n",
       "      <td>0.000000</td>\n",
       "      <td>0.0</td>\n",
       "      <td>0.0</td>\n",
       "      <td>0.0</td>\n",
       "      <td>0.037730</td>\n",
       "      <td>0.264110</td>\n",
       "      <td>0.000000</td>\n",
       "      <td>0.000000</td>\n",
       "      <td>0.0</td>\n",
       "      <td>...</td>\n",
       "      <td>0.000000</td>\n",
       "      <td>0.015545</td>\n",
       "      <td>0.000000</td>\n",
       "      <td>0.018865</td>\n",
       "      <td>1869.960000</td>\n",
       "      <td>5609.88</td>\n",
       "      <td>3</td>\n",
       "      <td>0.67</td>\n",
       "      <td>0.00</td>\n",
       "      <td>5</td>\n",
       "    </tr>\n",
       "    <tr>\n",
       "      <th>1</th>\n",
       "      <td>102253372</td>\n",
       "      <td>0.000000</td>\n",
       "      <td>0.0</td>\n",
       "      <td>0.0</td>\n",
       "      <td>0.0</td>\n",
       "      <td>0.108273</td>\n",
       "      <td>0.162409</td>\n",
       "      <td>0.000000</td>\n",
       "      <td>0.013534</td>\n",
       "      <td>0.0</td>\n",
       "      <td>...</td>\n",
       "      <td>0.000000</td>\n",
       "      <td>0.000000</td>\n",
       "      <td>0.000000</td>\n",
       "      <td>0.000000</td>\n",
       "      <td>2700.420000</td>\n",
       "      <td>8101.26</td>\n",
       "      <td>3</td>\n",
       "      <td>0.00</td>\n",
       "      <td>0.00</td>\n",
       "      <td>2</td>\n",
       "    </tr>\n",
       "    <tr>\n",
       "      <th>2</th>\n",
       "      <td>94750195</td>\n",
       "      <td>0.000000</td>\n",
       "      <td>0.0</td>\n",
       "      <td>0.0</td>\n",
       "      <td>0.0</td>\n",
       "      <td>0.078008</td>\n",
       "      <td>0.000000</td>\n",
       "      <td>0.000000</td>\n",
       "      <td>0.031203</td>\n",
       "      <td>0.0</td>\n",
       "      <td>...</td>\n",
       "      <td>0.000000</td>\n",
       "      <td>0.015602</td>\n",
       "      <td>0.000000</td>\n",
       "      <td>0.015602</td>\n",
       "      <td>2349.620000</td>\n",
       "      <td>4699.24</td>\n",
       "      <td>2</td>\n",
       "      <td>0.50</td>\n",
       "      <td>0.00</td>\n",
       "      <td>7</td>\n",
       "    </tr>\n",
       "    <tr>\n",
       "      <th>3</th>\n",
       "      <td>95720656</td>\n",
       "      <td>0.000000</td>\n",
       "      <td>0.0</td>\n",
       "      <td>0.0</td>\n",
       "      <td>0.0</td>\n",
       "      <td>0.068259</td>\n",
       "      <td>0.085324</td>\n",
       "      <td>0.000000</td>\n",
       "      <td>0.000000</td>\n",
       "      <td>0.0</td>\n",
       "      <td>...</td>\n",
       "      <td>0.000000</td>\n",
       "      <td>0.051194</td>\n",
       "      <td>0.000000</td>\n",
       "      <td>0.017065</td>\n",
       "      <td>1491.632500</td>\n",
       "      <td>5966.53</td>\n",
       "      <td>4</td>\n",
       "      <td>0.50</td>\n",
       "      <td>0.25</td>\n",
       "      <td>3</td>\n",
       "    </tr>\n",
       "    <tr>\n",
       "      <th>4</th>\n",
       "      <td>94674414</td>\n",
       "      <td>0.000000</td>\n",
       "      <td>0.0</td>\n",
       "      <td>0.0</td>\n",
       "      <td>0.0</td>\n",
       "      <td>0.000000</td>\n",
       "      <td>0.000000</td>\n",
       "      <td>0.000000</td>\n",
       "      <td>0.000000</td>\n",
       "      <td>0.0</td>\n",
       "      <td>...</td>\n",
       "      <td>0.000000</td>\n",
       "      <td>0.000000</td>\n",
       "      <td>0.000000</td>\n",
       "      <td>0.000000</td>\n",
       "      <td>1719.550000</td>\n",
       "      <td>1719.55</td>\n",
       "      <td>1</td>\n",
       "      <td>1.00</td>\n",
       "      <td>0.00</td>\n",
       "      <td>4</td>\n",
       "    </tr>\n",
       "    <tr>\n",
       "      <th>...</th>\n",
       "      <td>...</td>\n",
       "      <td>...</td>\n",
       "      <td>...</td>\n",
       "      <td>...</td>\n",
       "      <td>...</td>\n",
       "      <td>...</td>\n",
       "      <td>...</td>\n",
       "      <td>...</td>\n",
       "      <td>...</td>\n",
       "      <td>...</td>\n",
       "      <td>...</td>\n",
       "      <td>...</td>\n",
       "      <td>...</td>\n",
       "      <td>...</td>\n",
       "      <td>...</td>\n",
       "      <td>...</td>\n",
       "      <td>...</td>\n",
       "      <td>...</td>\n",
       "      <td>...</td>\n",
       "      <td>...</td>\n",
       "      <td>...</td>\n",
       "    </tr>\n",
       "    <tr>\n",
       "      <th>29995</th>\n",
       "      <td>101622537</td>\n",
       "      <td>0.000000</td>\n",
       "      <td>0.0</td>\n",
       "      <td>0.0</td>\n",
       "      <td>0.0</td>\n",
       "      <td>0.000000</td>\n",
       "      <td>0.263072</td>\n",
       "      <td>0.000000</td>\n",
       "      <td>0.000000</td>\n",
       "      <td>0.0</td>\n",
       "      <td>...</td>\n",
       "      <td>0.000000</td>\n",
       "      <td>0.000000</td>\n",
       "      <td>0.000000</td>\n",
       "      <td>0.000000</td>\n",
       "      <td>835.715000</td>\n",
       "      <td>1671.43</td>\n",
       "      <td>2</td>\n",
       "      <td>0.50</td>\n",
       "      <td>0.00</td>\n",
       "      <td>5</td>\n",
       "    </tr>\n",
       "    <tr>\n",
       "      <th>29996</th>\n",
       "      <td>103402136</td>\n",
       "      <td>0.000000</td>\n",
       "      <td>0.0</td>\n",
       "      <td>0.0</td>\n",
       "      <td>0.0</td>\n",
       "      <td>0.040407</td>\n",
       "      <td>0.022729</td>\n",
       "      <td>0.001263</td>\n",
       "      <td>0.016415</td>\n",
       "      <td>0.0</td>\n",
       "      <td>...</td>\n",
       "      <td>0.000000</td>\n",
       "      <td>0.087179</td>\n",
       "      <td>0.003788</td>\n",
       "      <td>0.002525</td>\n",
       "      <td>1400.765250</td>\n",
       "      <td>56030.61</td>\n",
       "      <td>40</td>\n",
       "      <td>0.03</td>\n",
       "      <td>0.00</td>\n",
       "      <td>3</td>\n",
       "    </tr>\n",
       "    <tr>\n",
       "      <th>29997</th>\n",
       "      <td>95914461</td>\n",
       "      <td>0.000000</td>\n",
       "      <td>0.0</td>\n",
       "      <td>0.0</td>\n",
       "      <td>0.0</td>\n",
       "      <td>0.022458</td>\n",
       "      <td>0.636302</td>\n",
       "      <td>0.000000</td>\n",
       "      <td>0.052401</td>\n",
       "      <td>0.0</td>\n",
       "      <td>...</td>\n",
       "      <td>0.000000</td>\n",
       "      <td>0.000000</td>\n",
       "      <td>0.022458</td>\n",
       "      <td>0.000000</td>\n",
       "      <td>1928.935714</td>\n",
       "      <td>13502.55</td>\n",
       "      <td>7</td>\n",
       "      <td>0.71</td>\n",
       "      <td>0.00</td>\n",
       "      <td>5</td>\n",
       "    </tr>\n",
       "    <tr>\n",
       "      <th>29998</th>\n",
       "      <td>98438415</td>\n",
       "      <td>0.000000</td>\n",
       "      <td>0.0</td>\n",
       "      <td>0.0</td>\n",
       "      <td>0.0</td>\n",
       "      <td>0.073636</td>\n",
       "      <td>0.039272</td>\n",
       "      <td>0.000000</td>\n",
       "      <td>0.019636</td>\n",
       "      <td>0.0</td>\n",
       "      <td>...</td>\n",
       "      <td>0.000000</td>\n",
       "      <td>0.019636</td>\n",
       "      <td>0.000000</td>\n",
       "      <td>0.024545</td>\n",
       "      <td>2116.826667</td>\n",
       "      <td>12700.96</td>\n",
       "      <td>6</td>\n",
       "      <td>0.50</td>\n",
       "      <td>0.00</td>\n",
       "      <td>6</td>\n",
       "    </tr>\n",
       "    <tr>\n",
       "      <th>29999</th>\n",
       "      <td>95245520</td>\n",
       "      <td>0.003659</td>\n",
       "      <td>0.0</td>\n",
       "      <td>0.0</td>\n",
       "      <td>0.0</td>\n",
       "      <td>0.065854</td>\n",
       "      <td>0.000000</td>\n",
       "      <td>0.000000</td>\n",
       "      <td>0.010976</td>\n",
       "      <td>0.0</td>\n",
       "      <td>...</td>\n",
       "      <td>0.043903</td>\n",
       "      <td>0.000000</td>\n",
       "      <td>0.000000</td>\n",
       "      <td>0.000000</td>\n",
       "      <td>1613.854000</td>\n",
       "      <td>16138.54</td>\n",
       "      <td>10</td>\n",
       "      <td>0.20</td>\n",
       "      <td>0.00</td>\n",
       "      <td>1</td>\n",
       "    </tr>\n",
       "  </tbody>\n",
       "</table>\n",
       "<p>30000 rows × 70 columns</p>\n",
       "</div>"
      ],
      "text/plain": [
       "        buyer_id  Автотовары  Аксессуары и галантерея  \\\n",
       "0       95358658    0.000000                      0.0   \n",
       "1      102253372    0.000000                      0.0   \n",
       "2       94750195    0.000000                      0.0   \n",
       "3       95720656    0.000000                      0.0   \n",
       "4       94674414    0.000000                      0.0   \n",
       "...          ...         ...                      ...   \n",
       "29995  101622537    0.000000                      0.0   \n",
       "29996  103402136    0.000000                      0.0   \n",
       "29997   95914461    0.000000                      0.0   \n",
       "29998   98438415    0.000000                      0.0   \n",
       "29999   95245520    0.003659                      0.0   \n",
       "\n",
       "       Аудио, видео, цифровая техника и аксессу  Багаж   Бакалея  \\\n",
       "0                                           0.0    0.0  0.037730   \n",
       "1                                           0.0    0.0  0.108273   \n",
       "2                                           0.0    0.0  0.078008   \n",
       "3                                           0.0    0.0  0.068259   \n",
       "4                                           0.0    0.0  0.000000   \n",
       "...                                         ...    ...       ...   \n",
       "29995                                       0.0    0.0  0.000000   \n",
       "29996                                       0.0    0.0  0.040407   \n",
       "29997                                       0.0    0.0  0.022458   \n",
       "29998                                       0.0    0.0  0.073636   \n",
       "29999                                       0.0    0.0  0.065854   \n",
       "\n",
       "       Безалкогольные напитки  Бытовая техника  \\\n",
       "0                    0.264110         0.000000   \n",
       "1                    0.162409         0.000000   \n",
       "2                    0.000000         0.000000   \n",
       "3                    0.085324         0.000000   \n",
       "4                    0.000000         0.000000   \n",
       "...                       ...              ...   \n",
       "29995                0.263072         0.000000   \n",
       "29996                0.022729         0.001263   \n",
       "29997                0.636302         0.000000   \n",
       "29998                0.039272         0.000000   \n",
       "29999                0.000000         0.000000   \n",
       "\n",
       "       Бытовая химия, хозяйственные товары  Вино  ...  Функциональное питание  \\\n",
       "0                                 0.000000   0.0  ...                0.000000   \n",
       "1                                 0.013534   0.0  ...                0.000000   \n",
       "2                                 0.031203   0.0  ...                0.000000   \n",
       "3                                 0.000000   0.0  ...                0.000000   \n",
       "4                                 0.000000   0.0  ...                0.000000   \n",
       "...                                    ...   ...  ...                     ...   \n",
       "29995                             0.000000   0.0  ...                0.000000   \n",
       "29996                             0.016415   0.0  ...                0.000000   \n",
       "29997                             0.052401   0.0  ...                0.000000   \n",
       "29998                             0.019636   0.0  ...                0.000000   \n",
       "29999                             0.010976   0.0  ...                0.043903   \n",
       "\n",
       "       Шоколадные кондитерские изделия  Электротовары      Яйцо    avg_check  \\\n",
       "0                             0.015545       0.000000  0.018865  1869.960000   \n",
       "1                             0.000000       0.000000  0.000000  2700.420000   \n",
       "2                             0.015602       0.000000  0.015602  2349.620000   \n",
       "3                             0.051194       0.000000  0.017065  1491.632500   \n",
       "4                             0.000000       0.000000  0.000000  1719.550000   \n",
       "...                                ...            ...       ...          ...   \n",
       "29995                         0.000000       0.000000  0.000000   835.715000   \n",
       "29996                         0.087179       0.003788  0.002525  1400.765250   \n",
       "29997                         0.000000       0.022458  0.000000  1928.935714   \n",
       "29998                         0.019636       0.000000  0.024545  2116.826667   \n",
       "29999                         0.000000       0.000000  0.000000  1613.854000   \n",
       "\n",
       "        revenue  frequency  pcode_orders_percent  express_orders_percent  \\\n",
       "0       5609.88          3                  0.67                    0.00   \n",
       "1       8101.26          3                  0.00                    0.00   \n",
       "2       4699.24          2                  0.50                    0.00   \n",
       "3       5966.53          4                  0.50                    0.25   \n",
       "4       1719.55          1                  1.00                    0.00   \n",
       "...         ...        ...                   ...                     ...   \n",
       "29995   1671.43          2                  0.50                    0.00   \n",
       "29996  56030.61         40                  0.03                    0.00   \n",
       "29997  13502.55          7                  0.71                    0.00   \n",
       "29998  12700.96          6                  0.50                    0.00   \n",
       "29999  16138.54         10                  0.20                    0.00   \n",
       "\n",
       "       labels_10  \n",
       "0              5  \n",
       "1              2  \n",
       "2              7  \n",
       "3              3  \n",
       "4              4  \n",
       "...          ...  \n",
       "29995          5  \n",
       "29996          3  \n",
       "29997          5  \n",
       "29998          6  \n",
       "29999          1  \n",
       "\n",
       "[30000 rows x 70 columns]"
      ]
     },
     "execution_count": 142,
     "metadata": {},
     "output_type": "execute_result"
    }
   ],
   "source": [
    "final_df_sample"
   ]
  },
  {
   "cell_type": "code",
   "execution_count": null,
   "metadata": {},
   "outputs": [],
   "source": []
  },
  {
   "cell_type": "code",
   "execution_count": 143,
   "metadata": {},
   "outputs": [],
   "source": [
    "df_vis = final_df_sample[['Автотовары',\n",
    " 'Аксессуары и галантерея',\n",
    " 'Аудио, видео, цифровая техника и аксессу',\n",
    " 'Багаж',\n",
    " 'Бакалея',\n",
    " 'Безалкогольные напитки',\n",
    " 'Бытовая техника',\n",
    " 'Бытовая химия, хозяйственные товары',\n",
    " 'Вино',\n",
    " 'Гигиенические средства',\n",
    " 'Деликатесы из рыбы и морепродуктов',\n",
    " 'Детская гигиена',\n",
    " 'Детская одежда, обувь и постельные прин',\n",
    " 'Детское питание',\n",
    " 'Женская и мужская одежда',\n",
    " 'Женское и мужское нижнее белье',\n",
    " 'Живые горшечные цветы, срезка',\n",
    " 'Закуски к аперитивам',\n",
    " 'Замороженная рыба',\n",
    " 'Игрушки',\n",
    " 'Канцелярия и печатная продукция',\n",
    " 'Консервы',\n",
    " 'Косметика и аксессуары',\n",
    " 'Кофе, какао, чай',\n",
    " 'Кулинария собственного производства',\n",
    " 'Майонезы, Закуски, Готовые Блюда охл',\n",
    " 'Масложировая продукция',\n",
    " 'Молочные продукты д/детского питания',\n",
    " 'Морепродукты глубокой заморозки',\n",
    " 'Мясо глубокой заморозки',\n",
    " 'Мясо охлажденное',\n",
    " 'Не шоколадные кондитерские изделия',\n",
    " 'Овощи',\n",
    " 'Одежда и товары для новорождённых',\n",
    " 'Охлажденная и переработанная рыбная прод',\n",
    " 'П\\\\ф и другие продукты глубокой заморзк',\n",
    " 'Пекарня промышленное производство',\n",
    " 'Пекарня собственное производство',\n",
    " 'Пиво и слабоалкогольные напитки',\n",
    " 'Посуда столовая, товары для дома',\n",
    " 'Продукты мясной переработки',\n",
    " 'Профессиональные Товары для животных',\n",
    " 'Птица глубокой заморозки',\n",
    " 'Птица охлажденная',\n",
    " 'Современная молочная продукция',\n",
    " 'Спорт, туризм',\n",
    " 'Средства персонального ухода',\n",
    " 'Сыры',\n",
    " 'Табачные изделия',\n",
    " 'Текстиль для дома',\n",
    " 'Товары для акции лояльности КС',\n",
    " 'Товары для животных',\n",
    " 'Товары для приготовления',\n",
    " 'Товары для сада',\n",
    " 'Товары для уборки и хранения',\n",
    " 'Товары сделай сам (DIY)',\n",
    " 'Традиционная молочная продукция',\n",
    " 'Фрукты',\n",
    " 'Функциональное питание',\n",
    " 'Шоколадные кондитерские изделия',\n",
    " 'Электротовары',\n",
    " 'Яйцо',\n",
    " 'avg_check',\n",
    " 'revenue',\n",
    " 'frequency',\n",
    " 'pcode_orders_percent',\n",
    " 'express_orders_percent',\n",
    " 'labels_10']].copy()"
   ]
  },
  {
   "cell_type": "code",
   "execution_count": 144,
   "metadata": {},
   "outputs": [],
   "source": [
    "df_vis_pivot = df_vis.pivot_table(index='labels_10', aggfunc='mean').transpose().reset_index()"
   ]
  },
  {
   "cell_type": "code",
   "execution_count": 145,
   "metadata": {},
   "outputs": [],
   "source": [
    "df_vis_pivot.to_excel('clusters_19.xlsx')"
   ]
  },
  {
   "cell_type": "code",
   "execution_count": 146,
   "metadata": {},
   "outputs": [],
   "source": [
    "final_df_sample.to_excel('final_df_sample_19.xlsx')"
   ]
  },
  {
   "cell_type": "code",
   "execution_count": 147,
   "metadata": {},
   "outputs": [
    {
     "data": {
      "text/plain": [
       "labels_10\n",
       "1    2918\n",
       "2    2437\n",
       "3    5537\n",
       "4    5861\n",
       "5    4710\n",
       "6    3910\n",
       "7    4627\n",
       "Name: buyer_id, dtype: int64"
      ]
     },
     "execution_count": 147,
     "metadata": {},
     "output_type": "execute_result"
    }
   ],
   "source": [
    "final_df_sample.groupby('labels_10')['buyer_id'].nunique()"
   ]
  },
  {
   "cell_type": "code",
   "execution_count": 52,
   "metadata": {},
   "outputs": [],
   "source": [
    "age_and_sex = '''\n",
    "select o.buyer_id, extract('year' from date(now())) - extract('year' from date(bdate)) as age, \n",
    "       case when sex = 1 then 0 \n",
    "            else 1 end as sex\n",
    "from dwh_datamart.ops_metrics o left join dwh_stage.utk_sess_session_bonus p\n",
    "on o.buyer_id = p.buyer_id\n",
    "where date between '2022-03-26' and '2023-03-26'\n",
    "and flag_cancel = 0\n",
    "and order_source IN ('iOS', 'Android')\n",
    "and sex != 0\n",
    "and bdate is not null\n",
    "group by 1,2,3\n",
    "'''"
   ]
  },
  {
   "cell_type": "code",
   "execution_count": 53,
   "metadata": {},
   "outputs": [],
   "source": [
    "demographics = pd.read_sql(age_and_sex, postrge_conn)"
   ]
  },
  {
   "cell_type": "code",
   "execution_count": 54,
   "metadata": {},
   "outputs": [
    {
     "data": {
      "text/html": [
       "<div>\n",
       "<style scoped>\n",
       "    .dataframe tbody tr th:only-of-type {\n",
       "        vertical-align: middle;\n",
       "    }\n",
       "\n",
       "    .dataframe tbody tr th {\n",
       "        vertical-align: top;\n",
       "    }\n",
       "\n",
       "    .dataframe thead th {\n",
       "        text-align: right;\n",
       "    }\n",
       "</style>\n",
       "<table border=\"1\" class=\"dataframe\">\n",
       "  <thead>\n",
       "    <tr style=\"text-align: right;\">\n",
       "      <th></th>\n",
       "      <th>buyer_id</th>\n",
       "      <th>age</th>\n",
       "      <th>sex</th>\n",
       "    </tr>\n",
       "  </thead>\n",
       "  <tbody>\n",
       "    <tr>\n",
       "      <th>0</th>\n",
       "      <td>94025409</td>\n",
       "      <td>36.0</td>\n",
       "      <td>0</td>\n",
       "    </tr>\n",
       "    <tr>\n",
       "      <th>1</th>\n",
       "      <td>94205486</td>\n",
       "      <td>31.0</td>\n",
       "      <td>1</td>\n",
       "    </tr>\n",
       "    <tr>\n",
       "      <th>2</th>\n",
       "      <td>94578440</td>\n",
       "      <td>25.0</td>\n",
       "      <td>0</td>\n",
       "    </tr>\n",
       "    <tr>\n",
       "      <th>3</th>\n",
       "      <td>94578442</td>\n",
       "      <td>38.0</td>\n",
       "      <td>0</td>\n",
       "    </tr>\n",
       "    <tr>\n",
       "      <th>4</th>\n",
       "      <td>94578489</td>\n",
       "      <td>34.0</td>\n",
       "      <td>1</td>\n",
       "    </tr>\n",
       "    <tr>\n",
       "      <th>...</th>\n",
       "      <td>...</td>\n",
       "      <td>...</td>\n",
       "      <td>...</td>\n",
       "    </tr>\n",
       "    <tr>\n",
       "      <th>289878</th>\n",
       "      <td>104938305</td>\n",
       "      <td>47.0</td>\n",
       "      <td>0</td>\n",
       "    </tr>\n",
       "    <tr>\n",
       "      <th>289879</th>\n",
       "      <td>104938505</td>\n",
       "      <td>26.0</td>\n",
       "      <td>1</td>\n",
       "    </tr>\n",
       "    <tr>\n",
       "      <th>289880</th>\n",
       "      <td>104938671</td>\n",
       "      <td>52.0</td>\n",
       "      <td>1</td>\n",
       "    </tr>\n",
       "    <tr>\n",
       "      <th>289881</th>\n",
       "      <td>104938714</td>\n",
       "      <td>61.0</td>\n",
       "      <td>0</td>\n",
       "    </tr>\n",
       "    <tr>\n",
       "      <th>289882</th>\n",
       "      <td>104939199</td>\n",
       "      <td>33.0</td>\n",
       "      <td>0</td>\n",
       "    </tr>\n",
       "  </tbody>\n",
       "</table>\n",
       "<p>289883 rows × 3 columns</p>\n",
       "</div>"
      ],
      "text/plain": [
       "         buyer_id   age  sex\n",
       "0        94025409  36.0    0\n",
       "1        94205486  31.0    1\n",
       "2        94578440  25.0    0\n",
       "3        94578442  38.0    0\n",
       "4        94578489  34.0    1\n",
       "...           ...   ...  ...\n",
       "289878  104938305  47.0    0\n",
       "289879  104938505  26.0    1\n",
       "289880  104938671  52.0    1\n",
       "289881  104938714  61.0    0\n",
       "289882  104939199  33.0    0\n",
       "\n",
       "[289883 rows x 3 columns]"
      ]
     },
     "execution_count": 54,
     "metadata": {},
     "output_type": "execute_result"
    }
   ],
   "source": [
    "demographics"
   ]
  },
  {
   "cell_type": "code",
   "execution_count": 55,
   "metadata": {},
   "outputs": [],
   "source": [
    "additional = final_df_sample.merge(demographics, on = 'buyer_id', how = 'inner')"
   ]
  },
  {
   "cell_type": "code",
   "execution_count": 56,
   "metadata": {},
   "outputs": [
    {
     "data": {
      "text/html": [
       "<div>\n",
       "<style scoped>\n",
       "    .dataframe tbody tr th:only-of-type {\n",
       "        vertical-align: middle;\n",
       "    }\n",
       "\n",
       "    .dataframe tbody tr th {\n",
       "        vertical-align: top;\n",
       "    }\n",
       "\n",
       "    .dataframe thead th {\n",
       "        text-align: right;\n",
       "    }\n",
       "</style>\n",
       "<table border=\"1\" class=\"dataframe\">\n",
       "  <thead>\n",
       "    <tr style=\"text-align: right;\">\n",
       "      <th></th>\n",
       "      <th>buyer_id</th>\n",
       "      <th>Автотовары</th>\n",
       "      <th>Аксессуары и галантерея</th>\n",
       "      <th>Аудио, видео, цифровая техника и аксессу</th>\n",
       "      <th>Багаж</th>\n",
       "      <th>Бакалея</th>\n",
       "      <th>Безалкогольные напитки</th>\n",
       "      <th>Бытовая техника</th>\n",
       "      <th>Бытовая химия, хозяйственные товары</th>\n",
       "      <th>Вино</th>\n",
       "      <th>...</th>\n",
       "      <th>Электротовары</th>\n",
       "      <th>Яйцо</th>\n",
       "      <th>avg_check</th>\n",
       "      <th>revenue</th>\n",
       "      <th>frequency</th>\n",
       "      <th>pcode_orders_percent</th>\n",
       "      <th>express_orders_percent</th>\n",
       "      <th>labels_10</th>\n",
       "      <th>age</th>\n",
       "      <th>sex</th>\n",
       "    </tr>\n",
       "  </thead>\n",
       "  <tbody>\n",
       "    <tr>\n",
       "      <th>0</th>\n",
       "      <td>95425707</td>\n",
       "      <td>0.0</td>\n",
       "      <td>0.0</td>\n",
       "      <td>0.0</td>\n",
       "      <td>0.0</td>\n",
       "      <td>0.074947</td>\n",
       "      <td>0.034591</td>\n",
       "      <td>0.0</td>\n",
       "      <td>0.069182</td>\n",
       "      <td>0.0</td>\n",
       "      <td>...</td>\n",
       "      <td>0.0</td>\n",
       "      <td>0.000000</td>\n",
       "      <td>3499.766000</td>\n",
       "      <td>17498.83</td>\n",
       "      <td>5</td>\n",
       "      <td>0.00</td>\n",
       "      <td>0.0</td>\n",
       "      <td>6</td>\n",
       "      <td>37.0</td>\n",
       "      <td>1</td>\n",
       "    </tr>\n",
       "    <tr>\n",
       "      <th>1</th>\n",
       "      <td>101609157</td>\n",
       "      <td>0.0</td>\n",
       "      <td>0.0</td>\n",
       "      <td>0.0</td>\n",
       "      <td>0.0</td>\n",
       "      <td>0.063602</td>\n",
       "      <td>0.212007</td>\n",
       "      <td>0.0</td>\n",
       "      <td>0.053002</td>\n",
       "      <td>0.0</td>\n",
       "      <td>...</td>\n",
       "      <td>0.0</td>\n",
       "      <td>0.021201</td>\n",
       "      <td>2083.577500</td>\n",
       "      <td>8334.31</td>\n",
       "      <td>4</td>\n",
       "      <td>0.00</td>\n",
       "      <td>0.0</td>\n",
       "      <td>4</td>\n",
       "      <td>88.0</td>\n",
       "      <td>1</td>\n",
       "    </tr>\n",
       "    <tr>\n",
       "      <th>2</th>\n",
       "      <td>97369396</td>\n",
       "      <td>0.0</td>\n",
       "      <td>0.0</td>\n",
       "      <td>0.0</td>\n",
       "      <td>0.0</td>\n",
       "      <td>0.048221</td>\n",
       "      <td>0.048221</td>\n",
       "      <td>0.0</td>\n",
       "      <td>0.000000</td>\n",
       "      <td>0.0</td>\n",
       "      <td>...</td>\n",
       "      <td>0.0</td>\n",
       "      <td>0.042863</td>\n",
       "      <td>1830.920000</td>\n",
       "      <td>12816.44</td>\n",
       "      <td>7</td>\n",
       "      <td>0.43</td>\n",
       "      <td>0.0</td>\n",
       "      <td>2</td>\n",
       "      <td>22.0</td>\n",
       "      <td>1</td>\n",
       "    </tr>\n",
       "    <tr>\n",
       "      <th>3</th>\n",
       "      <td>96782901</td>\n",
       "      <td>0.0</td>\n",
       "      <td>0.0</td>\n",
       "      <td>0.0</td>\n",
       "      <td>0.0</td>\n",
       "      <td>0.142857</td>\n",
       "      <td>0.000000</td>\n",
       "      <td>0.0</td>\n",
       "      <td>0.000000</td>\n",
       "      <td>0.0</td>\n",
       "      <td>...</td>\n",
       "      <td>0.0</td>\n",
       "      <td>0.142857</td>\n",
       "      <td>1672.310000</td>\n",
       "      <td>1672.31</td>\n",
       "      <td>1</td>\n",
       "      <td>1.00</td>\n",
       "      <td>0.0</td>\n",
       "      <td>2</td>\n",
       "      <td>27.0</td>\n",
       "      <td>1</td>\n",
       "    </tr>\n",
       "    <tr>\n",
       "      <th>4</th>\n",
       "      <td>95818174</td>\n",
       "      <td>0.0</td>\n",
       "      <td>0.0</td>\n",
       "      <td>0.0</td>\n",
       "      <td>0.0</td>\n",
       "      <td>0.333333</td>\n",
       "      <td>0.037037</td>\n",
       "      <td>0.0</td>\n",
       "      <td>0.111111</td>\n",
       "      <td>0.0</td>\n",
       "      <td>...</td>\n",
       "      <td>0.0</td>\n",
       "      <td>0.037037</td>\n",
       "      <td>2822.880000</td>\n",
       "      <td>2822.88</td>\n",
       "      <td>1</td>\n",
       "      <td>0.00</td>\n",
       "      <td>0.0</td>\n",
       "      <td>5</td>\n",
       "      <td>46.0</td>\n",
       "      <td>1</td>\n",
       "    </tr>\n",
       "    <tr>\n",
       "      <th>...</th>\n",
       "      <td>...</td>\n",
       "      <td>...</td>\n",
       "      <td>...</td>\n",
       "      <td>...</td>\n",
       "      <td>...</td>\n",
       "      <td>...</td>\n",
       "      <td>...</td>\n",
       "      <td>...</td>\n",
       "      <td>...</td>\n",
       "      <td>...</td>\n",
       "      <td>...</td>\n",
       "      <td>...</td>\n",
       "      <td>...</td>\n",
       "      <td>...</td>\n",
       "      <td>...</td>\n",
       "      <td>...</td>\n",
       "      <td>...</td>\n",
       "      <td>...</td>\n",
       "      <td>...</td>\n",
       "      <td>...</td>\n",
       "      <td>...</td>\n",
       "    </tr>\n",
       "    <tr>\n",
       "      <th>8925</th>\n",
       "      <td>96548822</td>\n",
       "      <td>0.0</td>\n",
       "      <td>0.0</td>\n",
       "      <td>0.0</td>\n",
       "      <td>0.0</td>\n",
       "      <td>0.020970</td>\n",
       "      <td>0.125818</td>\n",
       "      <td>0.0</td>\n",
       "      <td>0.083879</td>\n",
       "      <td>0.0</td>\n",
       "      <td>...</td>\n",
       "      <td>0.0</td>\n",
       "      <td>0.000000</td>\n",
       "      <td>1665.375000</td>\n",
       "      <td>3330.75</td>\n",
       "      <td>2</td>\n",
       "      <td>0.50</td>\n",
       "      <td>0.0</td>\n",
       "      <td>1</td>\n",
       "      <td>37.0</td>\n",
       "      <td>1</td>\n",
       "    </tr>\n",
       "    <tr>\n",
       "      <th>8926</th>\n",
       "      <td>95663526</td>\n",
       "      <td>0.0</td>\n",
       "      <td>0.0</td>\n",
       "      <td>0.0</td>\n",
       "      <td>0.0</td>\n",
       "      <td>0.065872</td>\n",
       "      <td>0.074855</td>\n",
       "      <td>0.0</td>\n",
       "      <td>0.020959</td>\n",
       "      <td>0.0</td>\n",
       "      <td>...</td>\n",
       "      <td>0.0</td>\n",
       "      <td>0.002994</td>\n",
       "      <td>3631.675556</td>\n",
       "      <td>32685.08</td>\n",
       "      <td>9</td>\n",
       "      <td>0.11</td>\n",
       "      <td>0.0</td>\n",
       "      <td>4</td>\n",
       "      <td>30.0</td>\n",
       "      <td>0</td>\n",
       "    </tr>\n",
       "    <tr>\n",
       "      <th>8927</th>\n",
       "      <td>101919923</td>\n",
       "      <td>0.0</td>\n",
       "      <td>0.0</td>\n",
       "      <td>0.0</td>\n",
       "      <td>0.0</td>\n",
       "      <td>0.052476</td>\n",
       "      <td>0.295180</td>\n",
       "      <td>0.0</td>\n",
       "      <td>0.019679</td>\n",
       "      <td>0.0</td>\n",
       "      <td>...</td>\n",
       "      <td>0.0</td>\n",
       "      <td>0.013119</td>\n",
       "      <td>7408.480000</td>\n",
       "      <td>14816.96</td>\n",
       "      <td>2</td>\n",
       "      <td>0.00</td>\n",
       "      <td>0.0</td>\n",
       "      <td>1</td>\n",
       "      <td>49.0</td>\n",
       "      <td>1</td>\n",
       "    </tr>\n",
       "    <tr>\n",
       "      <th>8928</th>\n",
       "      <td>101582107</td>\n",
       "      <td>0.0</td>\n",
       "      <td>0.0</td>\n",
       "      <td>0.0</td>\n",
       "      <td>0.0</td>\n",
       "      <td>0.135550</td>\n",
       "      <td>0.000000</td>\n",
       "      <td>0.0</td>\n",
       "      <td>0.000000</td>\n",
       "      <td>0.0</td>\n",
       "      <td>...</td>\n",
       "      <td>0.0</td>\n",
       "      <td>0.000000</td>\n",
       "      <td>1191.274000</td>\n",
       "      <td>5956.37</td>\n",
       "      <td>5</td>\n",
       "      <td>0.00</td>\n",
       "      <td>0.0</td>\n",
       "      <td>5</td>\n",
       "      <td>26.0</td>\n",
       "      <td>0</td>\n",
       "    </tr>\n",
       "    <tr>\n",
       "      <th>8929</th>\n",
       "      <td>97207255</td>\n",
       "      <td>0.0</td>\n",
       "      <td>0.0</td>\n",
       "      <td>0.0</td>\n",
       "      <td>0.0</td>\n",
       "      <td>0.197736</td>\n",
       "      <td>0.038272</td>\n",
       "      <td>0.0</td>\n",
       "      <td>0.019136</td>\n",
       "      <td>0.0</td>\n",
       "      <td>...</td>\n",
       "      <td>0.0</td>\n",
       "      <td>0.006379</td>\n",
       "      <td>2162.666000</td>\n",
       "      <td>10813.33</td>\n",
       "      <td>5</td>\n",
       "      <td>0.40</td>\n",
       "      <td>0.0</td>\n",
       "      <td>5</td>\n",
       "      <td>44.0</td>\n",
       "      <td>1</td>\n",
       "    </tr>\n",
       "  </tbody>\n",
       "</table>\n",
       "<p>8930 rows × 73 columns</p>\n",
       "</div>"
      ],
      "text/plain": [
       "       buyer_id  Автотовары  Аксессуары и галантерея  \\\n",
       "0      95425707         0.0                      0.0   \n",
       "1     101609157         0.0                      0.0   \n",
       "2      97369396         0.0                      0.0   \n",
       "3      96782901         0.0                      0.0   \n",
       "4      95818174         0.0                      0.0   \n",
       "...         ...         ...                      ...   \n",
       "8925   96548822         0.0                      0.0   \n",
       "8926   95663526         0.0                      0.0   \n",
       "8927  101919923         0.0                      0.0   \n",
       "8928  101582107         0.0                      0.0   \n",
       "8929   97207255         0.0                      0.0   \n",
       "\n",
       "      Аудио, видео, цифровая техника и аксессу  Багаж   Бакалея  \\\n",
       "0                                          0.0    0.0  0.074947   \n",
       "1                                          0.0    0.0  0.063602   \n",
       "2                                          0.0    0.0  0.048221   \n",
       "3                                          0.0    0.0  0.142857   \n",
       "4                                          0.0    0.0  0.333333   \n",
       "...                                        ...    ...       ...   \n",
       "8925                                       0.0    0.0  0.020970   \n",
       "8926                                       0.0    0.0  0.065872   \n",
       "8927                                       0.0    0.0  0.052476   \n",
       "8928                                       0.0    0.0  0.135550   \n",
       "8929                                       0.0    0.0  0.197736   \n",
       "\n",
       "      Безалкогольные напитки  Бытовая техника  \\\n",
       "0                   0.034591              0.0   \n",
       "1                   0.212007              0.0   \n",
       "2                   0.048221              0.0   \n",
       "3                   0.000000              0.0   \n",
       "4                   0.037037              0.0   \n",
       "...                      ...              ...   \n",
       "8925                0.125818              0.0   \n",
       "8926                0.074855              0.0   \n",
       "8927                0.295180              0.0   \n",
       "8928                0.000000              0.0   \n",
       "8929                0.038272              0.0   \n",
       "\n",
       "      Бытовая химия, хозяйственные товары  Вино  ...  Электротовары      Яйцо  \\\n",
       "0                                0.069182   0.0  ...            0.0  0.000000   \n",
       "1                                0.053002   0.0  ...            0.0  0.021201   \n",
       "2                                0.000000   0.0  ...            0.0  0.042863   \n",
       "3                                0.000000   0.0  ...            0.0  0.142857   \n",
       "4                                0.111111   0.0  ...            0.0  0.037037   \n",
       "...                                   ...   ...  ...            ...       ...   \n",
       "8925                             0.083879   0.0  ...            0.0  0.000000   \n",
       "8926                             0.020959   0.0  ...            0.0  0.002994   \n",
       "8927                             0.019679   0.0  ...            0.0  0.013119   \n",
       "8928                             0.000000   0.0  ...            0.0  0.000000   \n",
       "8929                             0.019136   0.0  ...            0.0  0.006379   \n",
       "\n",
       "        avg_check   revenue  frequency  pcode_orders_percent  \\\n",
       "0     3499.766000  17498.83          5                  0.00   \n",
       "1     2083.577500   8334.31          4                  0.00   \n",
       "2     1830.920000  12816.44          7                  0.43   \n",
       "3     1672.310000   1672.31          1                  1.00   \n",
       "4     2822.880000   2822.88          1                  0.00   \n",
       "...           ...       ...        ...                   ...   \n",
       "8925  1665.375000   3330.75          2                  0.50   \n",
       "8926  3631.675556  32685.08          9                  0.11   \n",
       "8927  7408.480000  14816.96          2                  0.00   \n",
       "8928  1191.274000   5956.37          5                  0.00   \n",
       "8929  2162.666000  10813.33          5                  0.40   \n",
       "\n",
       "      express_orders_percent  labels_10   age  sex  \n",
       "0                        0.0          6  37.0    1  \n",
       "1                        0.0          4  88.0    1  \n",
       "2                        0.0          2  22.0    1  \n",
       "3                        0.0          2  27.0    1  \n",
       "4                        0.0          5  46.0    1  \n",
       "...                      ...        ...   ...  ...  \n",
       "8925                     0.0          1  37.0    1  \n",
       "8926                     0.0          4  30.0    0  \n",
       "8927                     0.0          1  49.0    1  \n",
       "8928                     0.0          5  26.0    0  \n",
       "8929                     0.0          5  44.0    1  \n",
       "\n",
       "[8930 rows x 73 columns]"
      ]
     },
     "execution_count": 56,
     "metadata": {},
     "output_type": "execute_result"
    }
   ],
   "source": [
    "additional"
   ]
  },
  {
   "cell_type": "code",
   "execution_count": 59,
   "metadata": {},
   "outputs": [
    {
     "data": {
      "text/html": [
       "<div>\n",
       "<style scoped>\n",
       "    .dataframe tbody tr th:only-of-type {\n",
       "        vertical-align: middle;\n",
       "    }\n",
       "\n",
       "    .dataframe tbody tr th {\n",
       "        vertical-align: top;\n",
       "    }\n",
       "\n",
       "    .dataframe thead th {\n",
       "        text-align: right;\n",
       "    }\n",
       "</style>\n",
       "<table border=\"1\" class=\"dataframe\">\n",
       "  <thead>\n",
       "    <tr style=\"text-align: right;\">\n",
       "      <th>labels_10</th>\n",
       "      <th>1</th>\n",
       "      <th>2</th>\n",
       "      <th>3</th>\n",
       "      <th>4</th>\n",
       "      <th>5</th>\n",
       "      <th>6</th>\n",
       "      <th>7</th>\n",
       "      <th>8</th>\n",
       "      <th>9</th>\n",
       "      <th>10</th>\n",
       "    </tr>\n",
       "  </thead>\n",
       "  <tbody>\n",
       "    <tr>\n",
       "      <th>sex</th>\n",
       "      <td>0.819913</td>\n",
       "      <td>0.885496</td>\n",
       "      <td>0.855</td>\n",
       "      <td>0.820652</td>\n",
       "      <td>0.828092</td>\n",
       "      <td>0.823467</td>\n",
       "      <td>0.824468</td>\n",
       "      <td>0.900198</td>\n",
       "      <td>0.798137</td>\n",
       "      <td>0.777209</td>\n",
       "    </tr>\n",
       "  </tbody>\n",
       "</table>\n",
       "</div>"
      ],
      "text/plain": [
       "labels_10        1         2      3         4         5         6         7   \\\n",
       "sex        0.819913  0.885496  0.855  0.820652  0.828092  0.823467  0.824468   \n",
       "\n",
       "labels_10        8         9         10  \n",
       "sex        0.900198  0.798137  0.777209  "
      ]
     },
     "execution_count": 59,
     "metadata": {},
     "output_type": "execute_result"
    }
   ],
   "source": [
    "pd.DataFrame(additional.pivot_table(index='labels_10', aggfunc='mean'))[['sex']].transpose()"
   ]
  },
  {
   "cell_type": "code",
   "execution_count": 181,
   "metadata": {},
   "outputs": [],
   "source": [
    "final_df_sample['final_clusters'] = final_df_sample[['labels_10', 'Бакалея', 'Безалкогольные напитки', 'Бытовая химия, хозяйственные товары', \\\n",
    "                                                    'Детское питание', 'Консервы', 'Молочные продукты д/детского питания', 'Мясо охлажденное', \\\n",
    "                                                     'Не шоколадные кондитерские изделия', 'Овощи', 'П\\ф и другие продукты глубокой заморзк', \\\n",
    "                                                     'Птица охлажденная', 'Современная молочная продукция', 'Сыры', 'Товары для животных', \\\n",
    "                                                     'Традиционная молочная продукция', 'Фрукты', 'Шоколадные кондитерские изделия' \\\n",
    "                                                    ]].apply(lambda x: 8 \\\n",
    "                                                             if (x['labels_10'] == 1  and (x['Фрукты'] <= 0.01 or x['Овощи'] <= 0.01)) \\\n",
    "                                                             or (x['labels_10'] == 2 and (x['Овощи'] <= 0.01 or x['Мясо охлажденное']<= 0.01 or x['Птица охлажденная']<= 0.01)) \\\n",
    "                                                             or (x['labels_10'] == 3 and (x['Овощи'] <= 0.01 or x['Фрукты'] <= 0.01 or x['Традиционная молочная продукция'] <= 0.01 \\\n",
    "                                                                 or x['Сыры'] <= 0.01)) \\\n",
    "                                                             or (x['labels_10'] == 4 and (x['Бакалея'] <= 0.01 or x['Консервы'] <= 0.01 \\\n",
    "                                                                 or x['Бытовая химия, хозяйственные товары'] <= 0.01 or x['П\\ф и другие продукты глубокой заморзк']\\\n",
    "                                                                 or x['П\\ф и другие продукты глубокой заморзк']))\n",
    "                                                             or (x['labels_10'] == 5 and (x['Безалкогольные напитки']<= 0.01 or x['Не шоколадные кондитерские изделия']<= 0.01 \\\n",
    "                                                                 or x['Современная молочная продукция']<= 0.01 or x['Шоколадные кондитерские изделия']<= 0.01))\n",
    "                                                             or (x['labels_10'] == 6 and (x['Товары для животных']<= 0.01)) \\\n",
    "                                                             or (x['labels_10'] == 7 and (x['Детское питание']<= 0.01 or x['Молочные продукты д/детского питания']<= 0.01)) \\\n",
    "                                                             else x['labels_10'], axis=1)"
   ]
  },
  {
   "cell_type": "code",
   "execution_count": null,
   "metadata": {},
   "outputs": [],
   "source": []
  },
  {
   "cell_type": "code",
   "execution_count": 182,
   "metadata": {},
   "outputs": [
    {
     "data": {
      "text/plain": [
       "final_clusters\n",
       "1.0     2658\n",
       "2.0      797\n",
       "3.0     3527\n",
       "4.0      689\n",
       "5.0      871\n",
       "6.0     3500\n",
       "7.0     1903\n",
       "8.0    16055\n",
       "Name: buyer_id, dtype: int64"
      ]
     },
     "execution_count": 182,
     "metadata": {},
     "output_type": "execute_result"
    }
   ],
   "source": [
    "final_df_sample.groupby('final_clusters')['buyer_id'].nunique()"
   ]
  },
  {
   "cell_type": "code",
   "execution_count": null,
   "metadata": {},
   "outputs": [],
   "source": []
  },
  {
   "cell_type": "code",
   "execution_count": null,
   "metadata": {},
   "outputs": [],
   "source": []
  },
  {
   "cell_type": "code",
   "execution_count": 173,
   "metadata": {},
   "outputs": [],
   "source": [
    "#final_df_sample.to_excel('final_clusters_df.xlsx')"
   ]
  },
  {
   "cell_type": "code",
   "execution_count": 423,
   "metadata": {},
   "outputs": [
    {
     "name": "stderr",
     "output_type": "stream",
     "text": [
      "Exception during reset or similar\n",
      "Traceback (most recent call last):\n",
      "  File \"C:\\Users\\a.al.kosheleva\\Anaconda3\\lib\\site-packages\\sqlalchemy\\pool\\base.py\", line 682, in _finalize_fairy\n",
      "    fairy._reset(pool)\n",
      "  File \"C:\\Users\\a.al.kosheleva\\Anaconda3\\lib\\site-packages\\sqlalchemy\\pool\\base.py\", line 887, in _reset\n",
      "    pool._dialect.do_rollback(self)\n",
      "  File \"C:\\Users\\a.al.kosheleva\\Anaconda3\\lib\\site-packages\\sqlalchemy\\engine\\default.py\", line 667, in do_rollback\n",
      "    dbapi_connection.rollback()\n",
      "psycopg2.OperationalError: could not receive data from server: Software caused connection abort (0x00002745/10053)\n",
      "SSL SYSCALL error: Software caused connection abort (0x00002745/10053)\n",
      "\n"
     ]
    }
   ],
   "source": [
    "final_df_sample = pd.read_excel('C:/Users/a.al.kosheleva/analytics/kosheleva_a/final_clusters_df.xlsx')"
   ]
  },
  {
   "cell_type": "code",
   "execution_count": 424,
   "metadata": {},
   "outputs": [],
   "source": [
    "final_df_sample['final_clusters'] = final_df_sample[['labels_10', 'Бакалея', 'Безалкогольные напитки', 'Бытовая химия, хозяйственные товары', \\\n",
    "                                                    'Детское питание', 'Консервы', 'Молочные продукты д/детского питания', 'Мясо охлажденное', \\\n",
    "                                                     'Не шоколадные кондитерские изделия', 'Овощи', 'П\\ф и другие продукты глубокой заморзк', \\\n",
    "                                                     'Птица охлажденная', 'Современная молочная продукция', 'Сыры', 'Товары для животных', \\\n",
    "                                                     'Традиционная молочная продукция', 'Фрукты', 'Шоколадные кондитерские изделия' \\\n",
    "                                                    ]].apply(lambda x: 8 \\\n",
    "                                                             if (x['labels_10'] == 1  and (x['Фрукты'] <= 0.01 or x['Овощи'] <= 0.01)) \\\n",
    "                                                             or (x['labels_10'] == 2 and (x['Овощи'] <= 0.01 or x['Мясо охлажденное']<= 0.01 or x['Птица охлажденная']<= 0.01)) \\\n",
    "                                                             or (x['labels_10'] == 3 and (x['Овощи'] <= 0.01 or x['Фрукты'] <= 0.01 or x['Традиционная молочная продукция'] <= 0.01 \\\n",
    "                                                                 or x['Сыры'] <= 0.01)) \\\n",
    "                                                             or (x['labels_10'] == 4 and (x['Бакалея'] <= 0.01 or x['Консервы'] <= 0.01 \\\n",
    "                                                                 or x['Бытовая химия, хозяйственные товары'] <= 0.01 or x['П\\ф и другие продукты глубокой заморзк']\\\n",
    "                                                                 or x['П\\ф и другие продукты глубокой заморзк']))\n",
    "                                                             or (x['labels_10'] == 5 and (x['Безалкогольные напитки']<= 0.01 or x['Не шоколадные кондитерские изделия']<= 0.01 \\\n",
    "                                                                 or x['Современная молочная продукция']<= 0.01 or x['Шоколадные кондитерские изделия']<= 0.01))\n",
    "                                                             or (x['labels_10'] == 6 and (x['Товары для животных']<= 0.01)) \\\n",
    "                                                             or (x['labels_10'] == 7 and (x['Детское питание']<= 0.01 or x['Молочные продукты д/детского питания']<= 0.01)) \\\n",
    "                                                             else x['labels_10'], axis=1)"
   ]
  },
  {
   "cell_type": "code",
   "execution_count": 488,
   "metadata": {},
   "outputs": [],
   "source": [
    "final_df_sample.pivot_table(index='final_clusters', aggfunc='mean').transpose().reset_index().to_excel('check_last_clust.xlsx')"
   ]
  },
  {
   "cell_type": "code",
   "execution_count": 360,
   "metadata": {},
   "outputs": [],
   "source": [
    "df_vis_pivot = final_df_sample.pivot_table(index='final_clusters', aggfunc='mean').transpose().reset_index()"
   ]
  },
  {
   "cell_type": "code",
   "execution_count": 361,
   "metadata": {},
   "outputs": [],
   "source": [
    "#df_vis_pivot.to_excel('check_clusters.xlsx')"
   ]
  },
  {
   "cell_type": "code",
   "execution_count": 362,
   "metadata": {},
   "outputs": [],
   "source": [
    "from sklearn.model_selection import train_test_split\n",
    "from sklearn.preprocessing import StandardScaler\n",
    "from sklearn.model_selection import StratifiedShuffleSplit\n",
    "from sklearn.model_selection import GridSearchCV\n",
    "from sklearn.model_selection import cross_val_score\n",
    "#from xgboost import XGBClassifier\n",
    "from lightgbm import LGBMClassifier\n",
    "\n",
    "from sklearn.metrics import accuracy_score\n",
    "from sklearn.metrics import roc_auc_score\n",
    "from sklearn.metrics import precision_score\n",
    "from sklearn.metrics import recall_score\n",
    "from sklearn.metrics import f1_score"
   ]
  },
  {
   "cell_type": "code",
   "execution_count": null,
   "metadata": {},
   "outputs": [],
   "source": []
  },
  {
   "cell_type": "code",
   "execution_count": 433,
   "metadata": {},
   "outputs": [],
   "source": [
    "df_cl = final_df_sample[['Автотовары', 'Аксессуары и галантерея',\n",
    "       'Аудио, видео, цифровая техника и аксессу', 'Багаж', 'Бакалея',\n",
    "       'Безалкогольные напитки', 'Бытовая техника',\n",
    "       'Бытовая химия, хозяйственные товары', 'Вино', 'Гигиенические средства',\n",
    "       'Деликатесы из рыбы и морепродуктов', 'Детская гигиена',\n",
    "       'Детская одежда, обувь и постельные прин', 'Детское питание',\n",
    "       'Женская и мужская одежда', 'Женское и мужское нижнее белье',\n",
    "       'Живые горшечные цветы, срезка', 'Закуски к аперитивам',\n",
    "       'Замороженная рыба', 'Игрушки', 'Канцелярия и печатная продукция',\n",
    "       'Консервы', 'Косметика и аксессуары', 'Кофе, какао, чай',\n",
    "       'Кулинария собственного производства',\n",
    "       'Майонезы, Закуски, Готовые Блюда охл', \n",
    "       'Масложировая продукция', 'Молочные продукты д/детского питания',\n",
    "       'Морепродукты глубокой заморозки', 'Мясо глубокой заморозки',\n",
    "       'Мясо охлажденное', 'Не шоколадные кондитерские изделия', 'Овощи',\n",
    "       'Одежда и товары для новорождённых',\n",
    "       'Охлажденная и переработанная рыбная прод',\n",
    "       'П\\ф и другие продукты глубокой заморзк',\n",
    "       'Пекарня промышленное производство', 'Пекарня собственное производство',\n",
    "       'Пиво и слабоалкогольные напитки', 'Посуда столовая, товары для дома',\n",
    "       'Продукты мясной переработки', 'Профессиональные Товары для животных',\n",
    "       'Птица глубокой заморозки', 'Птица охлажденная',\n",
    "       'Современная молочная продукция', 'Спорт, туризм',\n",
    "       'Средства персонального ухода', 'Сыры', 'Табачные изделия',\n",
    "       'Текстиль для дома', 'Товары для акции лояльности КС',\n",
    "       'Товары для животных', 'Товары для приготовления', 'Товары для сада',\n",
    "       'Товары для уборки и хранения', 'Товары сделай сам (DIY)',\n",
    "       'Традиционная молочная продукция', 'Фрукты', 'Функциональное питание',\n",
    "       'Шоколадные кондитерские изделия', 'Электротовары', 'Яйцо', \n",
    "        'avg_check',\n",
    "       'revenue', 'frequency', 'pcode_orders_percent', 'final_clusters']]"
   ]
  },
  {
   "cell_type": "code",
   "execution_count": 441,
   "metadata": {},
   "outputs": [
    {
     "name": "stdout",
     "output_type": "stream",
     "text": [
      "y_1.0\n",
      "y_2.0\n",
      "y_3.0\n",
      "y_4.0\n",
      "y_5.0\n",
      "y_6.0\n",
      "y_7.0\n",
      "y_8.0\n"
     ]
    }
   ],
   "source": [
    "for el in set(df_cl['final_clusters']):\n",
    "    df_cl[f'y_{el}'] = (df_cl['final_clusters'] == el).astype(int)\n",
    "    print(f'y_{el}')"
   ]
  },
  {
   "cell_type": "code",
   "execution_count": 445,
   "metadata": {},
   "outputs": [],
   "source": [
    "#выделяем выбросы - по чеку или выручке на пользователя\n",
    "df_cl = df_cl.merge(\n",
    "    df_cl.groupby('final_clusters').agg({'avg_check':lambda x: np.percentile(x, 99)}).reset_index().rename(columns={'avg_check':'avg_check_outl'}),\n",
    "    how = 'left',\n",
    "    on='final_clusters').copy()"
   ]
  },
  {
   "cell_type": "code",
   "execution_count": 446,
   "metadata": {},
   "outputs": [],
   "source": [
    "df_cl['outlier'] = (((df_cl['avg_check'] >= df_cl['avg_check_outl']).astype(int) >=1).astype(int))"
   ]
  },
  {
   "cell_type": "code",
   "execution_count": 447,
   "metadata": {},
   "outputs": [
    {
     "data": {
      "text/html": [
       "<div>\n",
       "<style scoped>\n",
       "    .dataframe tbody tr th:only-of-type {\n",
       "        vertical-align: middle;\n",
       "    }\n",
       "\n",
       "    .dataframe tbody tr th {\n",
       "        vertical-align: top;\n",
       "    }\n",
       "\n",
       "    .dataframe thead th {\n",
       "        text-align: right;\n",
       "    }\n",
       "</style>\n",
       "<table border=\"1\" class=\"dataframe\">\n",
       "  <thead>\n",
       "    <tr style=\"text-align: right;\">\n",
       "      <th></th>\n",
       "      <th>Автотовары</th>\n",
       "      <th>Аксессуары и галантерея</th>\n",
       "      <th>Аудио, видео, цифровая техника и аксессу</th>\n",
       "      <th>Багаж</th>\n",
       "      <th>Бакалея</th>\n",
       "      <th>Безалкогольные напитки</th>\n",
       "      <th>Бытовая техника</th>\n",
       "      <th>Бытовая химия, хозяйственные товары</th>\n",
       "      <th>Вино</th>\n",
       "      <th>Гигиенические средства</th>\n",
       "      <th>...</th>\n",
       "      <th>y_3.0</th>\n",
       "      <th>y_4.0</th>\n",
       "      <th>y_5.0</th>\n",
       "      <th>y_6.0</th>\n",
       "      <th>y_7.0</th>\n",
       "      <th>y_8.0</th>\n",
       "      <th>avg_check_outl_x</th>\n",
       "      <th>outlier</th>\n",
       "      <th>avg_check_outl_y</th>\n",
       "      <th>avg_check_outl</th>\n",
       "    </tr>\n",
       "  </thead>\n",
       "  <tbody>\n",
       "    <tr>\n",
       "      <th>0</th>\n",
       "      <td>0.000000</td>\n",
       "      <td>0.0</td>\n",
       "      <td>0.0</td>\n",
       "      <td>0.0</td>\n",
       "      <td>0.037730</td>\n",
       "      <td>0.264110</td>\n",
       "      <td>0.000000</td>\n",
       "      <td>0.000000</td>\n",
       "      <td>0.0</td>\n",
       "      <td>0.018865</td>\n",
       "      <td>...</td>\n",
       "      <td>0</td>\n",
       "      <td>0</td>\n",
       "      <td>0</td>\n",
       "      <td>0</td>\n",
       "      <td>0</td>\n",
       "      <td>1</td>\n",
       "      <td>6236.029533</td>\n",
       "      <td>0</td>\n",
       "      <td>6236.029533</td>\n",
       "      <td>6236.029533</td>\n",
       "    </tr>\n",
       "    <tr>\n",
       "      <th>1</th>\n",
       "      <td>0.000000</td>\n",
       "      <td>0.0</td>\n",
       "      <td>0.0</td>\n",
       "      <td>0.0</td>\n",
       "      <td>0.108273</td>\n",
       "      <td>0.162409</td>\n",
       "      <td>0.000000</td>\n",
       "      <td>0.013534</td>\n",
       "      <td>0.0</td>\n",
       "      <td>0.027068</td>\n",
       "      <td>...</td>\n",
       "      <td>0</td>\n",
       "      <td>0</td>\n",
       "      <td>0</td>\n",
       "      <td>0</td>\n",
       "      <td>0</td>\n",
       "      <td>1</td>\n",
       "      <td>6236.029533</td>\n",
       "      <td>0</td>\n",
       "      <td>6236.029533</td>\n",
       "      <td>6236.029533</td>\n",
       "    </tr>\n",
       "    <tr>\n",
       "      <th>2</th>\n",
       "      <td>0.000000</td>\n",
       "      <td>0.0</td>\n",
       "      <td>0.0</td>\n",
       "      <td>0.0</td>\n",
       "      <td>0.078008</td>\n",
       "      <td>0.000000</td>\n",
       "      <td>0.000000</td>\n",
       "      <td>0.031203</td>\n",
       "      <td>0.0</td>\n",
       "      <td>0.015602</td>\n",
       "      <td>...</td>\n",
       "      <td>0</td>\n",
       "      <td>0</td>\n",
       "      <td>0</td>\n",
       "      <td>0</td>\n",
       "      <td>1</td>\n",
       "      <td>0</td>\n",
       "      <td>6807.208956</td>\n",
       "      <td>0</td>\n",
       "      <td>6807.208956</td>\n",
       "      <td>6807.208956</td>\n",
       "    </tr>\n",
       "    <tr>\n",
       "      <th>3</th>\n",
       "      <td>0.000000</td>\n",
       "      <td>0.0</td>\n",
       "      <td>0.0</td>\n",
       "      <td>0.0</td>\n",
       "      <td>0.068259</td>\n",
       "      <td>0.085324</td>\n",
       "      <td>0.000000</td>\n",
       "      <td>0.000000</td>\n",
       "      <td>0.0</td>\n",
       "      <td>0.000000</td>\n",
       "      <td>...</td>\n",
       "      <td>1</td>\n",
       "      <td>0</td>\n",
       "      <td>0</td>\n",
       "      <td>0</td>\n",
       "      <td>0</td>\n",
       "      <td>0</td>\n",
       "      <td>7103.404040</td>\n",
       "      <td>0</td>\n",
       "      <td>7103.404040</td>\n",
       "      <td>7103.404040</td>\n",
       "    </tr>\n",
       "    <tr>\n",
       "      <th>4</th>\n",
       "      <td>0.000000</td>\n",
       "      <td>0.0</td>\n",
       "      <td>0.0</td>\n",
       "      <td>0.0</td>\n",
       "      <td>0.000000</td>\n",
       "      <td>0.000000</td>\n",
       "      <td>0.000000</td>\n",
       "      <td>0.000000</td>\n",
       "      <td>0.0</td>\n",
       "      <td>0.000000</td>\n",
       "      <td>...</td>\n",
       "      <td>0</td>\n",
       "      <td>0</td>\n",
       "      <td>0</td>\n",
       "      <td>0</td>\n",
       "      <td>0</td>\n",
       "      <td>1</td>\n",
       "      <td>6236.029533</td>\n",
       "      <td>0</td>\n",
       "      <td>6236.029533</td>\n",
       "      <td>6236.029533</td>\n",
       "    </tr>\n",
       "    <tr>\n",
       "      <th>...</th>\n",
       "      <td>...</td>\n",
       "      <td>...</td>\n",
       "      <td>...</td>\n",
       "      <td>...</td>\n",
       "      <td>...</td>\n",
       "      <td>...</td>\n",
       "      <td>...</td>\n",
       "      <td>...</td>\n",
       "      <td>...</td>\n",
       "      <td>...</td>\n",
       "      <td>...</td>\n",
       "      <td>...</td>\n",
       "      <td>...</td>\n",
       "      <td>...</td>\n",
       "      <td>...</td>\n",
       "      <td>...</td>\n",
       "      <td>...</td>\n",
       "      <td>...</td>\n",
       "      <td>...</td>\n",
       "      <td>...</td>\n",
       "      <td>...</td>\n",
       "    </tr>\n",
       "    <tr>\n",
       "      <th>29995</th>\n",
       "      <td>0.000000</td>\n",
       "      <td>0.0</td>\n",
       "      <td>0.0</td>\n",
       "      <td>0.0</td>\n",
       "      <td>0.000000</td>\n",
       "      <td>0.263072</td>\n",
       "      <td>0.000000</td>\n",
       "      <td>0.000000</td>\n",
       "      <td>0.0</td>\n",
       "      <td>0.087691</td>\n",
       "      <td>...</td>\n",
       "      <td>0</td>\n",
       "      <td>0</td>\n",
       "      <td>0</td>\n",
       "      <td>0</td>\n",
       "      <td>0</td>\n",
       "      <td>1</td>\n",
       "      <td>6236.029533</td>\n",
       "      <td>0</td>\n",
       "      <td>6236.029533</td>\n",
       "      <td>6236.029533</td>\n",
       "    </tr>\n",
       "    <tr>\n",
       "      <th>29996</th>\n",
       "      <td>0.000000</td>\n",
       "      <td>0.0</td>\n",
       "      <td>0.0</td>\n",
       "      <td>0.0</td>\n",
       "      <td>0.040407</td>\n",
       "      <td>0.022729</td>\n",
       "      <td>0.001263</td>\n",
       "      <td>0.016415</td>\n",
       "      <td>0.0</td>\n",
       "      <td>0.023992</td>\n",
       "      <td>...</td>\n",
       "      <td>0</td>\n",
       "      <td>0</td>\n",
       "      <td>0</td>\n",
       "      <td>0</td>\n",
       "      <td>0</td>\n",
       "      <td>1</td>\n",
       "      <td>6236.029533</td>\n",
       "      <td>0</td>\n",
       "      <td>6236.029533</td>\n",
       "      <td>6236.029533</td>\n",
       "    </tr>\n",
       "    <tr>\n",
       "      <th>29997</th>\n",
       "      <td>0.000000</td>\n",
       "      <td>0.0</td>\n",
       "      <td>0.0</td>\n",
       "      <td>0.0</td>\n",
       "      <td>0.022458</td>\n",
       "      <td>0.636302</td>\n",
       "      <td>0.000000</td>\n",
       "      <td>0.052401</td>\n",
       "      <td>0.0</td>\n",
       "      <td>0.022458</td>\n",
       "      <td>...</td>\n",
       "      <td>0</td>\n",
       "      <td>0</td>\n",
       "      <td>0</td>\n",
       "      <td>0</td>\n",
       "      <td>0</td>\n",
       "      <td>1</td>\n",
       "      <td>6236.029533</td>\n",
       "      <td>0</td>\n",
       "      <td>6236.029533</td>\n",
       "      <td>6236.029533</td>\n",
       "    </tr>\n",
       "    <tr>\n",
       "      <th>29998</th>\n",
       "      <td>0.000000</td>\n",
       "      <td>0.0</td>\n",
       "      <td>0.0</td>\n",
       "      <td>0.0</td>\n",
       "      <td>0.073636</td>\n",
       "      <td>0.039272</td>\n",
       "      <td>0.000000</td>\n",
       "      <td>0.019636</td>\n",
       "      <td>0.0</td>\n",
       "      <td>0.058908</td>\n",
       "      <td>...</td>\n",
       "      <td>0</td>\n",
       "      <td>0</td>\n",
       "      <td>0</td>\n",
       "      <td>1</td>\n",
       "      <td>0</td>\n",
       "      <td>0</td>\n",
       "      <td>6598.356817</td>\n",
       "      <td>0</td>\n",
       "      <td>6598.356817</td>\n",
       "      <td>6598.356817</td>\n",
       "    </tr>\n",
       "    <tr>\n",
       "      <th>29999</th>\n",
       "      <td>0.003659</td>\n",
       "      <td>0.0</td>\n",
       "      <td>0.0</td>\n",
       "      <td>0.0</td>\n",
       "      <td>0.065854</td>\n",
       "      <td>0.000000</td>\n",
       "      <td>0.000000</td>\n",
       "      <td>0.010976</td>\n",
       "      <td>0.0</td>\n",
       "      <td>0.007317</td>\n",
       "      <td>...</td>\n",
       "      <td>0</td>\n",
       "      <td>0</td>\n",
       "      <td>0</td>\n",
       "      <td>0</td>\n",
       "      <td>0</td>\n",
       "      <td>0</td>\n",
       "      <td>5961.727580</td>\n",
       "      <td>0</td>\n",
       "      <td>5961.727580</td>\n",
       "      <td>5961.727580</td>\n",
       "    </tr>\n",
       "  </tbody>\n",
       "</table>\n",
       "<p>30000 rows × 79 columns</p>\n",
       "</div>"
      ],
      "text/plain": [
       "       Автотовары  Аксессуары и галантерея  \\\n",
       "0        0.000000                      0.0   \n",
       "1        0.000000                      0.0   \n",
       "2        0.000000                      0.0   \n",
       "3        0.000000                      0.0   \n",
       "4        0.000000                      0.0   \n",
       "...           ...                      ...   \n",
       "29995    0.000000                      0.0   \n",
       "29996    0.000000                      0.0   \n",
       "29997    0.000000                      0.0   \n",
       "29998    0.000000                      0.0   \n",
       "29999    0.003659                      0.0   \n",
       "\n",
       "       Аудио, видео, цифровая техника и аксессу  Багаж   Бакалея  \\\n",
       "0                                           0.0    0.0  0.037730   \n",
       "1                                           0.0    0.0  0.108273   \n",
       "2                                           0.0    0.0  0.078008   \n",
       "3                                           0.0    0.0  0.068259   \n",
       "4                                           0.0    0.0  0.000000   \n",
       "...                                         ...    ...       ...   \n",
       "29995                                       0.0    0.0  0.000000   \n",
       "29996                                       0.0    0.0  0.040407   \n",
       "29997                                       0.0    0.0  0.022458   \n",
       "29998                                       0.0    0.0  0.073636   \n",
       "29999                                       0.0    0.0  0.065854   \n",
       "\n",
       "       Безалкогольные напитки  Бытовая техника  \\\n",
       "0                    0.264110         0.000000   \n",
       "1                    0.162409         0.000000   \n",
       "2                    0.000000         0.000000   \n",
       "3                    0.085324         0.000000   \n",
       "4                    0.000000         0.000000   \n",
       "...                       ...              ...   \n",
       "29995                0.263072         0.000000   \n",
       "29996                0.022729         0.001263   \n",
       "29997                0.636302         0.000000   \n",
       "29998                0.039272         0.000000   \n",
       "29999                0.000000         0.000000   \n",
       "\n",
       "       Бытовая химия, хозяйственные товары  Вино  Гигиенические средства  ...  \\\n",
       "0                                 0.000000   0.0                0.018865  ...   \n",
       "1                                 0.013534   0.0                0.027068  ...   \n",
       "2                                 0.031203   0.0                0.015602  ...   \n",
       "3                                 0.000000   0.0                0.000000  ...   \n",
       "4                                 0.000000   0.0                0.000000  ...   \n",
       "...                                    ...   ...                     ...  ...   \n",
       "29995                             0.000000   0.0                0.087691  ...   \n",
       "29996                             0.016415   0.0                0.023992  ...   \n",
       "29997                             0.052401   0.0                0.022458  ...   \n",
       "29998                             0.019636   0.0                0.058908  ...   \n",
       "29999                             0.010976   0.0                0.007317  ...   \n",
       "\n",
       "       y_3.0  y_4.0  y_5.0  y_6.0  y_7.0  y_8.0  avg_check_outl_x  outlier  \\\n",
       "0          0      0      0      0      0      1       6236.029533        0   \n",
       "1          0      0      0      0      0      1       6236.029533        0   \n",
       "2          0      0      0      0      1      0       6807.208956        0   \n",
       "3          1      0      0      0      0      0       7103.404040        0   \n",
       "4          0      0      0      0      0      1       6236.029533        0   \n",
       "...      ...    ...    ...    ...    ...    ...               ...      ...   \n",
       "29995      0      0      0      0      0      1       6236.029533        0   \n",
       "29996      0      0      0      0      0      1       6236.029533        0   \n",
       "29997      0      0      0      0      0      1       6236.029533        0   \n",
       "29998      0      0      0      1      0      0       6598.356817        0   \n",
       "29999      0      0      0      0      0      0       5961.727580        0   \n",
       "\n",
       "       avg_check_outl_y  avg_check_outl  \n",
       "0           6236.029533     6236.029533  \n",
       "1           6236.029533     6236.029533  \n",
       "2           6807.208956     6807.208956  \n",
       "3           7103.404040     7103.404040  \n",
       "4           6236.029533     6236.029533  \n",
       "...                 ...             ...  \n",
       "29995       6236.029533     6236.029533  \n",
       "29996       6236.029533     6236.029533  \n",
       "29997       6236.029533     6236.029533  \n",
       "29998       6598.356817     6598.356817  \n",
       "29999       5961.727580     5961.727580  \n",
       "\n",
       "[30000 rows x 79 columns]"
      ]
     },
     "execution_count": 447,
     "metadata": {},
     "output_type": "execute_result"
    }
   ],
   "source": [
    "df_cl"
   ]
  },
  {
   "cell_type": "code",
   "execution_count": 448,
   "metadata": {},
   "outputs": [],
   "source": [
    "df_cl['outlier'] = [*map(lambda x: 0 if x[0] == 4 else x[1], list(zip(df_cl['final_clusters'], df_cl['outlier'])))]"
   ]
  },
  {
   "cell_type": "code",
   "execution_count": 449,
   "metadata": {},
   "outputs": [],
   "source": [
    "df_cl_f = df_cl.query('outlier==0').drop(columns=['avg_check_outl', 'outlier']).copy()"
   ]
  },
  {
   "cell_type": "code",
   "execution_count": 451,
   "metadata": {},
   "outputs": [],
   "source": [
    "def get_log_df(data):\n",
    "    def log_transform(v): \n",
    "        res = np.log(v+1)\n",
    "        return res\n",
    "    \n",
    "    data_tmp = data.copy()\n",
    "    for el in ['Автотовары', 'Аксессуары и галантерея',\n",
    "       'Аудио, видео, цифровая техника и аксессу', 'Багаж', 'Бакалея',\n",
    "       'Безалкогольные напитки', 'Бытовая техника',\n",
    "       'Бытовая химия, хозяйственные товары', 'Вино', 'Гигиенические средства',\n",
    "       'Деликатесы из рыбы и морепродуктов', 'Детская гигиена',\n",
    "       'Детская одежда, обувь и постельные прин', 'Детское питание',\n",
    "       'Женская и мужская одежда', 'Женское и мужское нижнее белье',\n",
    "       'Живые горшечные цветы, срезка', 'Закуски к аперитивам',\n",
    "       'Замороженная рыба', 'Игрушки', 'Канцелярия и печатная продукция',\n",
    "       'Консервы', 'Косметика и аксессуары', 'Кофе, какао, чай',\n",
    "       'Кулинария собственного производства',\n",
    "       'Майонезы, Закуски, Готовые Блюда охл',\n",
    "       'Масложировая продукция', 'Молочные продукты д/детского питания',\n",
    "       'Морепродукты глубокой заморозки', 'Мясо глубокой заморозки',\n",
    "       'Мясо охлажденное', 'Не шоколадные кондитерские изделия', 'Овощи',\n",
    "       'Одежда и товары для новорождённых',\n",
    "       'Охлажденная и переработанная рыбная прод',\n",
    "       'П\\ф и другие продукты глубокой заморзк',\n",
    "       'Пекарня промышленное производство', 'Пекарня собственное производство',\n",
    "       'Пиво и слабоалкогольные напитки', 'Посуда столовая, товары для дома',\n",
    "       'Продукты мясной переработки', 'Профессиональные Товары для животных',\n",
    "       'Птица глубокой заморозки', 'Птица охлажденная',\n",
    "       'Современная молочная продукция', 'Спорт, туризм',\n",
    "       'Средства персонального ухода', 'Сыры', 'Табачные изделия',\n",
    "       'Текстиль для дома', 'Товары для акции лояльности КС',\n",
    "       'Товары для животных', 'Товары для приготовления', 'Товары для сада',\n",
    "       'Товары для уборки и хранения', 'Товары сделай сам (DIY)',\n",
    "       'Традиционная молочная продукция', 'Фрукты', 'Функциональное питание',\n",
    "       'Шоколадные кондитерские изделия', 'Электротовары', 'Яйцо']:\n",
    "        data_tmp[el] = data_tmp[el].apply(lambda x: log_transform(x))\n",
    "    return data_tmp"
   ]
  },
  {
   "cell_type": "code",
   "execution_count": 452,
   "metadata": {},
   "outputs": [],
   "source": [
    "df_cl_f_l = get_log_df(df_cl_f.copy())"
   ]
  },
  {
   "cell_type": "code",
   "execution_count": 453,
   "metadata": {},
   "outputs": [
    {
     "data": {
      "text/html": [
       "<div>\n",
       "<style scoped>\n",
       "    .dataframe tbody tr th:only-of-type {\n",
       "        vertical-align: middle;\n",
       "    }\n",
       "\n",
       "    .dataframe tbody tr th {\n",
       "        vertical-align: top;\n",
       "    }\n",
       "\n",
       "    .dataframe thead th {\n",
       "        text-align: right;\n",
       "    }\n",
       "</style>\n",
       "<table border=\"1\" class=\"dataframe\">\n",
       "  <thead>\n",
       "    <tr style=\"text-align: right;\">\n",
       "      <th></th>\n",
       "      <th>Автотовары</th>\n",
       "      <th>Аксессуары и галантерея</th>\n",
       "      <th>Аудио, видео, цифровая техника и аксессу</th>\n",
       "      <th>Багаж</th>\n",
       "      <th>Бакалея</th>\n",
       "      <th>Безалкогольные напитки</th>\n",
       "      <th>Бытовая техника</th>\n",
       "      <th>Бытовая химия, хозяйственные товары</th>\n",
       "      <th>Вино</th>\n",
       "      <th>Гигиенические средства</th>\n",
       "      <th>...</th>\n",
       "      <th>y_1.0</th>\n",
       "      <th>y_2.0</th>\n",
       "      <th>y_3.0</th>\n",
       "      <th>y_4.0</th>\n",
       "      <th>y_5.0</th>\n",
       "      <th>y_6.0</th>\n",
       "      <th>y_7.0</th>\n",
       "      <th>y_8.0</th>\n",
       "      <th>avg_check_outl_x</th>\n",
       "      <th>avg_check_outl_y</th>\n",
       "    </tr>\n",
       "  </thead>\n",
       "  <tbody>\n",
       "    <tr>\n",
       "      <th>0</th>\n",
       "      <td>0.000000</td>\n",
       "      <td>0.0</td>\n",
       "      <td>0.0</td>\n",
       "      <td>0.0</td>\n",
       "      <td>0.037036</td>\n",
       "      <td>0.234368</td>\n",
       "      <td>0.000000</td>\n",
       "      <td>0.000000</td>\n",
       "      <td>0.0</td>\n",
       "      <td>0.018689</td>\n",
       "      <td>...</td>\n",
       "      <td>0</td>\n",
       "      <td>0</td>\n",
       "      <td>0</td>\n",
       "      <td>0</td>\n",
       "      <td>0</td>\n",
       "      <td>0</td>\n",
       "      <td>0</td>\n",
       "      <td>1</td>\n",
       "      <td>6236.029533</td>\n",
       "      <td>6236.029533</td>\n",
       "    </tr>\n",
       "    <tr>\n",
       "      <th>1</th>\n",
       "      <td>0.000000</td>\n",
       "      <td>0.0</td>\n",
       "      <td>0.0</td>\n",
       "      <td>0.0</td>\n",
       "      <td>0.102803</td>\n",
       "      <td>0.150494</td>\n",
       "      <td>0.000000</td>\n",
       "      <td>0.013443</td>\n",
       "      <td>0.0</td>\n",
       "      <td>0.026708</td>\n",
       "      <td>...</td>\n",
       "      <td>0</td>\n",
       "      <td>0</td>\n",
       "      <td>0</td>\n",
       "      <td>0</td>\n",
       "      <td>0</td>\n",
       "      <td>0</td>\n",
       "      <td>0</td>\n",
       "      <td>1</td>\n",
       "      <td>6236.029533</td>\n",
       "      <td>6236.029533</td>\n",
       "    </tr>\n",
       "    <tr>\n",
       "      <th>2</th>\n",
       "      <td>0.000000</td>\n",
       "      <td>0.0</td>\n",
       "      <td>0.0</td>\n",
       "      <td>0.0</td>\n",
       "      <td>0.075115</td>\n",
       "      <td>0.000000</td>\n",
       "      <td>0.000000</td>\n",
       "      <td>0.030726</td>\n",
       "      <td>0.0</td>\n",
       "      <td>0.015481</td>\n",
       "      <td>...</td>\n",
       "      <td>0</td>\n",
       "      <td>0</td>\n",
       "      <td>0</td>\n",
       "      <td>0</td>\n",
       "      <td>0</td>\n",
       "      <td>0</td>\n",
       "      <td>1</td>\n",
       "      <td>0</td>\n",
       "      <td>6807.208956</td>\n",
       "      <td>6807.208956</td>\n",
       "    </tr>\n",
       "    <tr>\n",
       "      <th>3</th>\n",
       "      <td>0.000000</td>\n",
       "      <td>0.0</td>\n",
       "      <td>0.0</td>\n",
       "      <td>0.0</td>\n",
       "      <td>0.066030</td>\n",
       "      <td>0.081878</td>\n",
       "      <td>0.000000</td>\n",
       "      <td>0.000000</td>\n",
       "      <td>0.0</td>\n",
       "      <td>0.000000</td>\n",
       "      <td>...</td>\n",
       "      <td>0</td>\n",
       "      <td>0</td>\n",
       "      <td>1</td>\n",
       "      <td>0</td>\n",
       "      <td>0</td>\n",
       "      <td>0</td>\n",
       "      <td>0</td>\n",
       "      <td>0</td>\n",
       "      <td>7103.404040</td>\n",
       "      <td>7103.404040</td>\n",
       "    </tr>\n",
       "    <tr>\n",
       "      <th>4</th>\n",
       "      <td>0.000000</td>\n",
       "      <td>0.0</td>\n",
       "      <td>0.0</td>\n",
       "      <td>0.0</td>\n",
       "      <td>0.000000</td>\n",
       "      <td>0.000000</td>\n",
       "      <td>0.000000</td>\n",
       "      <td>0.000000</td>\n",
       "      <td>0.0</td>\n",
       "      <td>0.000000</td>\n",
       "      <td>...</td>\n",
       "      <td>0</td>\n",
       "      <td>0</td>\n",
       "      <td>0</td>\n",
       "      <td>0</td>\n",
       "      <td>0</td>\n",
       "      <td>0</td>\n",
       "      <td>0</td>\n",
       "      <td>1</td>\n",
       "      <td>6236.029533</td>\n",
       "      <td>6236.029533</td>\n",
       "    </tr>\n",
       "    <tr>\n",
       "      <th>...</th>\n",
       "      <td>...</td>\n",
       "      <td>...</td>\n",
       "      <td>...</td>\n",
       "      <td>...</td>\n",
       "      <td>...</td>\n",
       "      <td>...</td>\n",
       "      <td>...</td>\n",
       "      <td>...</td>\n",
       "      <td>...</td>\n",
       "      <td>...</td>\n",
       "      <td>...</td>\n",
       "      <td>...</td>\n",
       "      <td>...</td>\n",
       "      <td>...</td>\n",
       "      <td>...</td>\n",
       "      <td>...</td>\n",
       "      <td>...</td>\n",
       "      <td>...</td>\n",
       "      <td>...</td>\n",
       "      <td>...</td>\n",
       "      <td>...</td>\n",
       "    </tr>\n",
       "    <tr>\n",
       "      <th>29995</th>\n",
       "      <td>0.000000</td>\n",
       "      <td>0.0</td>\n",
       "      <td>0.0</td>\n",
       "      <td>0.0</td>\n",
       "      <td>0.000000</td>\n",
       "      <td>0.233547</td>\n",
       "      <td>0.000000</td>\n",
       "      <td>0.000000</td>\n",
       "      <td>0.0</td>\n",
       "      <td>0.084057</td>\n",
       "      <td>...</td>\n",
       "      <td>0</td>\n",
       "      <td>0</td>\n",
       "      <td>0</td>\n",
       "      <td>0</td>\n",
       "      <td>0</td>\n",
       "      <td>0</td>\n",
       "      <td>0</td>\n",
       "      <td>1</td>\n",
       "      <td>6236.029533</td>\n",
       "      <td>6236.029533</td>\n",
       "    </tr>\n",
       "    <tr>\n",
       "      <th>29996</th>\n",
       "      <td>0.000000</td>\n",
       "      <td>0.0</td>\n",
       "      <td>0.0</td>\n",
       "      <td>0.0</td>\n",
       "      <td>0.039612</td>\n",
       "      <td>0.022475</td>\n",
       "      <td>0.001262</td>\n",
       "      <td>0.016282</td>\n",
       "      <td>0.0</td>\n",
       "      <td>0.023709</td>\n",
       "      <td>...</td>\n",
       "      <td>0</td>\n",
       "      <td>0</td>\n",
       "      <td>0</td>\n",
       "      <td>0</td>\n",
       "      <td>0</td>\n",
       "      <td>0</td>\n",
       "      <td>0</td>\n",
       "      <td>1</td>\n",
       "      <td>6236.029533</td>\n",
       "      <td>6236.029533</td>\n",
       "    </tr>\n",
       "    <tr>\n",
       "      <th>29997</th>\n",
       "      <td>0.000000</td>\n",
       "      <td>0.0</td>\n",
       "      <td>0.0</td>\n",
       "      <td>0.0</td>\n",
       "      <td>0.022209</td>\n",
       "      <td>0.492439</td>\n",
       "      <td>0.000000</td>\n",
       "      <td>0.051075</td>\n",
       "      <td>0.0</td>\n",
       "      <td>0.022209</td>\n",
       "      <td>...</td>\n",
       "      <td>0</td>\n",
       "      <td>0</td>\n",
       "      <td>0</td>\n",
       "      <td>0</td>\n",
       "      <td>0</td>\n",
       "      <td>0</td>\n",
       "      <td>0</td>\n",
       "      <td>1</td>\n",
       "      <td>6236.029533</td>\n",
       "      <td>6236.029533</td>\n",
       "    </tr>\n",
       "    <tr>\n",
       "      <th>29998</th>\n",
       "      <td>0.000000</td>\n",
       "      <td>0.0</td>\n",
       "      <td>0.0</td>\n",
       "      <td>0.0</td>\n",
       "      <td>0.071051</td>\n",
       "      <td>0.038521</td>\n",
       "      <td>0.000000</td>\n",
       "      <td>0.019446</td>\n",
       "      <td>0.0</td>\n",
       "      <td>0.057239</td>\n",
       "      <td>...</td>\n",
       "      <td>0</td>\n",
       "      <td>0</td>\n",
       "      <td>0</td>\n",
       "      <td>0</td>\n",
       "      <td>0</td>\n",
       "      <td>1</td>\n",
       "      <td>0</td>\n",
       "      <td>0</td>\n",
       "      <td>6598.356817</td>\n",
       "      <td>6598.356817</td>\n",
       "    </tr>\n",
       "    <tr>\n",
       "      <th>29999</th>\n",
       "      <td>0.003652</td>\n",
       "      <td>0.0</td>\n",
       "      <td>0.0</td>\n",
       "      <td>0.0</td>\n",
       "      <td>0.063776</td>\n",
       "      <td>0.000000</td>\n",
       "      <td>0.000000</td>\n",
       "      <td>0.010916</td>\n",
       "      <td>0.0</td>\n",
       "      <td>0.007290</td>\n",
       "      <td>...</td>\n",
       "      <td>1</td>\n",
       "      <td>0</td>\n",
       "      <td>0</td>\n",
       "      <td>0</td>\n",
       "      <td>0</td>\n",
       "      <td>0</td>\n",
       "      <td>0</td>\n",
       "      <td>0</td>\n",
       "      <td>5961.727580</td>\n",
       "      <td>5961.727580</td>\n",
       "    </tr>\n",
       "  </tbody>\n",
       "</table>\n",
       "<p>29704 rows × 77 columns</p>\n",
       "</div>"
      ],
      "text/plain": [
       "       Автотовары  Аксессуары и галантерея  \\\n",
       "0        0.000000                      0.0   \n",
       "1        0.000000                      0.0   \n",
       "2        0.000000                      0.0   \n",
       "3        0.000000                      0.0   \n",
       "4        0.000000                      0.0   \n",
       "...           ...                      ...   \n",
       "29995    0.000000                      0.0   \n",
       "29996    0.000000                      0.0   \n",
       "29997    0.000000                      0.0   \n",
       "29998    0.000000                      0.0   \n",
       "29999    0.003652                      0.0   \n",
       "\n",
       "       Аудио, видео, цифровая техника и аксессу  Багаж   Бакалея  \\\n",
       "0                                           0.0    0.0  0.037036   \n",
       "1                                           0.0    0.0  0.102803   \n",
       "2                                           0.0    0.0  0.075115   \n",
       "3                                           0.0    0.0  0.066030   \n",
       "4                                           0.0    0.0  0.000000   \n",
       "...                                         ...    ...       ...   \n",
       "29995                                       0.0    0.0  0.000000   \n",
       "29996                                       0.0    0.0  0.039612   \n",
       "29997                                       0.0    0.0  0.022209   \n",
       "29998                                       0.0    0.0  0.071051   \n",
       "29999                                       0.0    0.0  0.063776   \n",
       "\n",
       "       Безалкогольные напитки  Бытовая техника  \\\n",
       "0                    0.234368         0.000000   \n",
       "1                    0.150494         0.000000   \n",
       "2                    0.000000         0.000000   \n",
       "3                    0.081878         0.000000   \n",
       "4                    0.000000         0.000000   \n",
       "...                       ...              ...   \n",
       "29995                0.233547         0.000000   \n",
       "29996                0.022475         0.001262   \n",
       "29997                0.492439         0.000000   \n",
       "29998                0.038521         0.000000   \n",
       "29999                0.000000         0.000000   \n",
       "\n",
       "       Бытовая химия, хозяйственные товары  Вино  Гигиенические средства  ...  \\\n",
       "0                                 0.000000   0.0                0.018689  ...   \n",
       "1                                 0.013443   0.0                0.026708  ...   \n",
       "2                                 0.030726   0.0                0.015481  ...   \n",
       "3                                 0.000000   0.0                0.000000  ...   \n",
       "4                                 0.000000   0.0                0.000000  ...   \n",
       "...                                    ...   ...                     ...  ...   \n",
       "29995                             0.000000   0.0                0.084057  ...   \n",
       "29996                             0.016282   0.0                0.023709  ...   \n",
       "29997                             0.051075   0.0                0.022209  ...   \n",
       "29998                             0.019446   0.0                0.057239  ...   \n",
       "29999                             0.010916   0.0                0.007290  ...   \n",
       "\n",
       "       y_1.0  y_2.0  y_3.0  y_4.0  y_5.0  y_6.0  y_7.0  y_8.0  \\\n",
       "0          0      0      0      0      0      0      0      1   \n",
       "1          0      0      0      0      0      0      0      1   \n",
       "2          0      0      0      0      0      0      1      0   \n",
       "3          0      0      1      0      0      0      0      0   \n",
       "4          0      0      0      0      0      0      0      1   \n",
       "...      ...    ...    ...    ...    ...    ...    ...    ...   \n",
       "29995      0      0      0      0      0      0      0      1   \n",
       "29996      0      0      0      0      0      0      0      1   \n",
       "29997      0      0      0      0      0      0      0      1   \n",
       "29998      0      0      0      0      0      1      0      0   \n",
       "29999      1      0      0      0      0      0      0      0   \n",
       "\n",
       "       avg_check_outl_x  avg_check_outl_y  \n",
       "0           6236.029533       6236.029533  \n",
       "1           6236.029533       6236.029533  \n",
       "2           6807.208956       6807.208956  \n",
       "3           7103.404040       7103.404040  \n",
       "4           6236.029533       6236.029533  \n",
       "...                 ...               ...  \n",
       "29995       6236.029533       6236.029533  \n",
       "29996       6236.029533       6236.029533  \n",
       "29997       6236.029533       6236.029533  \n",
       "29998       6598.356817       6598.356817  \n",
       "29999       5961.727580       5961.727580  \n",
       "\n",
       "[29704 rows x 77 columns]"
      ]
     },
     "execution_count": 453,
     "metadata": {},
     "output_type": "execute_result"
    }
   ],
   "source": [
    "df_cl_f_l"
   ]
  },
  {
   "cell_type": "markdown",
   "metadata": {},
   "source": [
    "## Деление на train и test"
   ]
  },
  {
   "cell_type": "code",
   "execution_count": 454,
   "metadata": {},
   "outputs": [],
   "source": [
    "def get_train_test_samples(data):\n",
    "    X = data[['Автотовары',\n",
    " 'Аксессуары и галантерея',\n",
    " 'Аудио, видео, цифровая техника и аксессу',\n",
    " 'Багаж',\n",
    " 'Бакалея',\n",
    " 'Безалкогольные напитки',\n",
    " 'Бытовая техника',\n",
    " 'Бытовая химия, хозяйственные товары',\n",
    " 'Вино',\n",
    " 'Гигиенические средства',\n",
    " 'Деликатесы из рыбы и морепродуктов',\n",
    " 'Детская гигиена',\n",
    " 'Детская одежда, обувь и постельные прин',\n",
    " 'Детское питание',\n",
    " 'Женская и мужская одежда',\n",
    " 'Женское и мужское нижнее белье',\n",
    " 'Живые горшечные цветы, срезка',\n",
    " 'Закуски к аперитивам',\n",
    " 'Замороженная рыба',\n",
    " 'Игрушки',\n",
    " 'Канцелярия и печатная продукция',\n",
    " 'Консервы',\n",
    " 'Косметика и аксессуары',\n",
    " 'Кофе, какао, чай',\n",
    " 'Кулинария собственного производства',\n",
    " 'Майонезы, Закуски, Готовые Блюда охл',\n",
    " 'Масложировая продукция',\n",
    " 'Молочные продукты д/детского питания',\n",
    " 'Морепродукты глубокой заморозки',\n",
    " 'Мясо глубокой заморозки',\n",
    " 'Мясо охлажденное',\n",
    " 'Не шоколадные кондитерские изделия',\n",
    " 'Овощи',\n",
    " 'Одежда и товары для новорождённых',\n",
    " 'Охлажденная и переработанная рыбная прод',\n",
    " 'П\\\\ф и другие продукты глубокой заморзк',\n",
    " 'Пекарня промышленное производство',\n",
    " 'Пекарня собственное производство',\n",
    " 'Пиво и слабоалкогольные напитки',\n",
    " 'Посуда столовая, товары для дома',\n",
    " 'Продукты мясной переработки',\n",
    " 'Профессиональные Товары для животных',\n",
    " 'Птица глубокой заморозки',\n",
    " 'Птица охлажденная',\n",
    " 'Современная молочная продукция',\n",
    " 'Спорт, туризм',\n",
    " 'Средства персонального ухода',\n",
    " 'Сыры',\n",
    " 'Табачные изделия',\n",
    " 'Текстиль для дома',\n",
    " 'Товары для акции лояльности КС',\n",
    " 'Товары для животных',\n",
    " 'Товары для приготовления',\n",
    " 'Товары для сада',\n",
    " 'Товары для уборки и хранения',\n",
    " 'Товары сделай сам (DIY)',\n",
    " 'Традиционная молочная продукция',\n",
    " 'Фрукты',\n",
    " 'Функциональное питание',\n",
    " 'Шоколадные кондитерские изделия',\n",
    " 'Электротовары',\n",
    " 'Яйцо']].copy()\n",
    "    y1 = data['final_clusters'].copy()\n",
    "    (X_train, X_test, y_train_1, y_test_1) = train_test_split(X, y1, test_size=0.25, random_state=0, shuffle=True)\n",
    "    \n",
    "    sc = StandardScaler()\n",
    "    X_train_sc = sc.fit_transform(X_train)\n",
    "    X_test_sc = sc.transform(X_test)\n",
    "    \n",
    "    return X_train_sc, X_test_sc, y_train_1, y_test_1, sc"
   ]
  },
  {
   "cell_type": "code",
   "execution_count": 455,
   "metadata": {},
   "outputs": [],
   "source": [
    "(X_train_sc, X_test_sc, y_train_1, y_test_1, sc) = get_train_test_samples(df_cl_f_l)"
   ]
  },
  {
   "cell_type": "markdown",
   "metadata": {},
   "source": [
    "# Кросс-валидация"
   ]
  },
  {
   "cell_type": "code",
   "execution_count": 456,
   "metadata": {},
   "outputs": [],
   "source": [
    "# какие гипер-параметры тестировались\n",
    "params = {\n",
    "    'random_state':[0]\n",
    "    , 'learning_rate':[0.05, 0.1, 0.15, 0.25, 0.3]\n",
    "    #, 'n_estimators':[100, 200, 300,500,1000]\n",
    "    #, 'max_depth':[3,5,7]\n",
    "    #, 'subsample':[0.3, 0.5, 0.7]\n",
    "    #, 'colsample_bylevel':[0.3, 0.5, 0.7]\n",
    "}"
   ]
  },
  {
   "cell_type": "code",
   "execution_count": 457,
   "metadata": {},
   "outputs": [
    {
     "data": {
      "text/plain": [
       "GridSearchCV(cv=StratifiedShuffleSplit(n_splits=3, random_state=0, test_size=0.3,\n",
       "            train_size=None),\n",
       "             estimator=LGBMClassifier(objective='multi:softmax'),\n",
       "             param_grid={'learning_rate': [0.05, 0.1, 0.15, 0.25, 0.3],\n",
       "                         'random_state': [0]},\n",
       "             scoring='roc_auc_ovr')"
      ]
     },
     "execution_count": 457,
     "metadata": {},
     "output_type": "execute_result"
    }
   ],
   "source": [
    "clf = LGBMClassifier(objective='multi:softmax')\n",
    "CVSS = StratifiedShuffleSplit(n_splits=3, random_state=0, test_size=0.3)\n",
    "opt_1 = GridSearchCV(clf, param_grid=params,cv=CVSS, scoring='roc_auc_ovr')\n",
    "opt_1.fit(X_train_sc, y_train_1)"
   ]
  },
  {
   "cell_type": "code",
   "execution_count": 458,
   "metadata": {},
   "outputs": [
    {
     "data": {
      "text/plain": [
       "{'learning_rate': 0.1, 'random_state': 0}"
      ]
     },
     "execution_count": 458,
     "metadata": {},
     "output_type": "execute_result"
    }
   ],
   "source": [
    "opt_1.best_params_"
   ]
  },
  {
   "cell_type": "code",
   "execution_count": 459,
   "metadata": {},
   "outputs": [],
   "source": [
    "# какие гипер-параметры тестировал\n",
    "params = {\n",
    "    'random_state':[0]\n",
    "    #, 'learning_rate':[0.05, 0.1, 0.15, 0.25, 0.3]\n",
    "    , 'n_estimators':[100, 200, 300,500,1000]\n",
    "    #, 'max_depth':[3,5,7]\n",
    "    #, 'subsample':[0.3, 0.5, 0.7]\n",
    "    #, 'colsample_bylevel':[0.3, 0.5, 0.7]\n",
    "}"
   ]
  },
  {
   "cell_type": "code",
   "execution_count": 460,
   "metadata": {},
   "outputs": [
    {
     "data": {
      "text/plain": [
       "GridSearchCV(cv=StratifiedShuffleSplit(n_splits=3, random_state=0, test_size=0.3,\n",
       "            train_size=None),\n",
       "             estimator=LGBMClassifier(objective='multi:softmax'),\n",
       "             param_grid={'n_estimators': [100, 200, 300, 500, 1000],\n",
       "                         'random_state': [0]},\n",
       "             scoring='roc_auc_ovr')"
      ]
     },
     "execution_count": 460,
     "metadata": {},
     "output_type": "execute_result"
    }
   ],
   "source": [
    "clf = LGBMClassifier(objective='multi:softmax')\n",
    "CVSS = StratifiedShuffleSplit(n_splits=3, random_state=0, test_size=0.3)\n",
    "opt_2 = GridSearchCV(clf, param_grid=params,cv=CVSS, scoring='roc_auc_ovr')\n",
    "opt_2.fit(X_train_sc, y_train_1)"
   ]
  },
  {
   "cell_type": "code",
   "execution_count": 461,
   "metadata": {},
   "outputs": [
    {
     "data": {
      "text/plain": [
       "{'n_estimators': 200, 'random_state': 0}"
      ]
     },
     "execution_count": 461,
     "metadata": {},
     "output_type": "execute_result"
    }
   ],
   "source": [
    "opt_2.best_params_"
   ]
  },
  {
   "cell_type": "code",
   "execution_count": 462,
   "metadata": {},
   "outputs": [],
   "source": [
    "# какие гипер-параметры тестировал\n",
    "params = {\n",
    "    'random_state':[0]\n",
    "    #, 'learning_rate':[0.05, 0.1, 0.15, 0.25, 0.3]\n",
    "    #, 'n_estimators':[100, 200, 300,500,1000]\n",
    "    , 'max_depth':[3,5,7]\n",
    "    #, 'subsample':[0.3, 0.5, 0.7]\n",
    "    #, 'colsample_bylevel':[0.3, 0.5, 0.7]\n",
    "}"
   ]
  },
  {
   "cell_type": "code",
   "execution_count": 463,
   "metadata": {},
   "outputs": [
    {
     "data": {
      "text/plain": [
       "GridSearchCV(cv=StratifiedShuffleSplit(n_splits=3, random_state=0, test_size=0.3,\n",
       "            train_size=None),\n",
       "             estimator=LGBMClassifier(objective='multi:softmax'),\n",
       "             param_grid={'max_depth': [3, 5, 7], 'random_state': [0]},\n",
       "             scoring='roc_auc_ovr')"
      ]
     },
     "execution_count": 463,
     "metadata": {},
     "output_type": "execute_result"
    }
   ],
   "source": [
    "clf = LGBMClassifier(objective='multi:softmax')\n",
    "CVSS = StratifiedShuffleSplit(n_splits=3, random_state=0, test_size=0.3)\n",
    "opt_3 = GridSearchCV(clf, param_grid=params,cv=CVSS, scoring='roc_auc_ovr')\n",
    "opt_3.fit(X_train_sc, y_train_1)"
   ]
  },
  {
   "cell_type": "code",
   "execution_count": 464,
   "metadata": {},
   "outputs": [
    {
     "data": {
      "text/plain": [
       "{'max_depth': 7, 'random_state': 0}"
      ]
     },
     "execution_count": 464,
     "metadata": {},
     "output_type": "execute_result"
    }
   ],
   "source": [
    "opt_3.best_params_"
   ]
  },
  {
   "cell_type": "code",
   "execution_count": 465,
   "metadata": {},
   "outputs": [],
   "source": [
    "# какие гипер-параметры тестировал\n",
    "params = {\n",
    "    'random_state':[0]\n",
    "    #, 'learning_rate':[0.05, 0.1, 0.15, 0.25, 0.3]\n",
    "    #, 'n_estimators':[100, 200, 300,500,1000]\n",
    "    #, 'max_depth':[3,5,7]\n",
    "    , 'subsample':[0.3, 0.5, 0.7]\n",
    "    #, 'colsample_bylevel':[0.3, 0.5, 0.7]\n",
    "}"
   ]
  },
  {
   "cell_type": "code",
   "execution_count": 466,
   "metadata": {},
   "outputs": [
    {
     "data": {
      "text/plain": [
       "GridSearchCV(cv=StratifiedShuffleSplit(n_splits=3, random_state=0, test_size=0.3,\n",
       "            train_size=None),\n",
       "             estimator=LGBMClassifier(objective='multi:softmax'),\n",
       "             param_grid={'random_state': [0], 'subsample': [0.3, 0.5, 0.7]},\n",
       "             scoring='roc_auc_ovr')"
      ]
     },
     "execution_count": 466,
     "metadata": {},
     "output_type": "execute_result"
    }
   ],
   "source": [
    "clf = LGBMClassifier(objective='multi:softmax')\n",
    "CVSS = StratifiedShuffleSplit(n_splits=3, random_state=0, test_size=0.3)\n",
    "opt_4 = GridSearchCV(clf, param_grid=params,cv=CVSS, scoring='roc_auc_ovr')\n",
    "opt_4.fit(X_train_sc, y_train_1)"
   ]
  },
  {
   "cell_type": "code",
   "execution_count": 467,
   "metadata": {},
   "outputs": [
    {
     "data": {
      "text/plain": [
       "{'random_state': 0, 'subsample': 0.3}"
      ]
     },
     "execution_count": 467,
     "metadata": {},
     "output_type": "execute_result"
    }
   ],
   "source": [
    "opt_4.best_params_"
   ]
  },
  {
   "cell_type": "code",
   "execution_count": 468,
   "metadata": {},
   "outputs": [],
   "source": [
    "# какие гипер-параметры тестировал\n",
    "params = {\n",
    "    'random_state':[0]\n",
    "    #, 'learning_rate':[0.05, 0.1, 0.15, 0.25, 0.3]\n",
    "    #, 'n_estimators':[100, 200, 300,500,1000]\n",
    "    #, 'max_depth':[3,5,7]\n",
    "    #, 'subsample':[0.3, 0.5, 0.7]\n",
    "    , 'colsample_bytree':[0.3, 0.5, 0.7, 1]\n",
    "}"
   ]
  },
  {
   "cell_type": "code",
   "execution_count": 469,
   "metadata": {},
   "outputs": [
    {
     "data": {
      "text/plain": [
       "GridSearchCV(cv=StratifiedShuffleSplit(n_splits=3, random_state=0, test_size=0.3,\n",
       "            train_size=None),\n",
       "             estimator=LGBMClassifier(objective='multi:softmax'),\n",
       "             param_grid={'colsample_bytree': [0.3, 0.5, 0.7, 1],\n",
       "                         'random_state': [0]},\n",
       "             scoring='roc_auc_ovr')"
      ]
     },
     "execution_count": 469,
     "metadata": {},
     "output_type": "execute_result"
    }
   ],
   "source": [
    "clf = LGBMClassifier(objective='multi:softmax')\n",
    "CVSS = StratifiedShuffleSplit(n_splits=3, random_state=0, test_size=0.3)\n",
    "opt_5 = GridSearchCV(clf, param_grid=params,cv=CVSS, scoring='roc_auc_ovr')\n",
    "opt_5.fit(X_train_sc, y_train_1)"
   ]
  },
  {
   "cell_type": "code",
   "execution_count": 470,
   "metadata": {},
   "outputs": [
    {
     "data": {
      "text/plain": [
       "{'colsample_bytree': 0.7, 'random_state': 0}"
      ]
     },
     "execution_count": 470,
     "metadata": {},
     "output_type": "execute_result"
    }
   ],
   "source": [
    "opt_5.best_params_"
   ]
  },
  {
   "cell_type": "code",
   "execution_count": null,
   "metadata": {},
   "outputs": [],
   "source": []
  },
  {
   "cell_type": "code",
   "execution_count": 471,
   "metadata": {},
   "outputs": [],
   "source": [
    "import joblib"
   ]
  },
  {
   "cell_type": "code",
   "execution_count": 472,
   "metadata": {},
   "outputs": [
    {
     "data": {
      "text/plain": [
       "['opt_5.pkl']"
      ]
     },
     "execution_count": 472,
     "metadata": {},
     "output_type": "execute_result"
    }
   ],
   "source": [
    "#этот параметр сохраняет наши решения\n",
    "joblib.dump(opt_1, 'opt_1.pkl')\n",
    "joblib.dump(opt_2, 'opt_2.pkl')\n",
    "joblib.dump(opt_3, 'opt_3.pkl')\n",
    "joblib.dump(opt_4, 'opt_4.pkl')\n",
    "joblib.dump(opt_5, 'opt_5.pkl')"
   ]
  },
  {
   "cell_type": "code",
   "execution_count": 473,
   "metadata": {},
   "outputs": [
    {
     "data": {
      "text/plain": [
       "{'learning_rate': 0.1, 'random_state': 0}"
      ]
     },
     "execution_count": 473,
     "metadata": {},
     "output_type": "execute_result"
    }
   ],
   "source": [
    "opt_1.best_params_"
   ]
  },
  {
   "cell_type": "code",
   "execution_count": 474,
   "metadata": {},
   "outputs": [
    {
     "data": {
      "text/plain": [
       "{'n_estimators': 200, 'random_state': 0}"
      ]
     },
     "execution_count": 474,
     "metadata": {},
     "output_type": "execute_result"
    }
   ],
   "source": [
    "opt_2.best_params_"
   ]
  },
  {
   "cell_type": "code",
   "execution_count": 475,
   "metadata": {},
   "outputs": [
    {
     "data": {
      "text/plain": [
       "{'max_depth': 7, 'random_state': 0}"
      ]
     },
     "execution_count": 475,
     "metadata": {},
     "output_type": "execute_result"
    }
   ],
   "source": [
    "opt_3.best_params_"
   ]
  },
  {
   "cell_type": "code",
   "execution_count": 476,
   "metadata": {},
   "outputs": [
    {
     "data": {
      "text/plain": [
       "{'random_state': 0, 'subsample': 0.3}"
      ]
     },
     "execution_count": 476,
     "metadata": {},
     "output_type": "execute_result"
    }
   ],
   "source": [
    "opt_4.best_params_"
   ]
  },
  {
   "cell_type": "code",
   "execution_count": 477,
   "metadata": {},
   "outputs": [
    {
     "data": {
      "text/plain": [
       "{'colsample_bytree': 0.7, 'random_state': 0}"
      ]
     },
     "execution_count": 477,
     "metadata": {},
     "output_type": "execute_result"
    }
   ],
   "source": [
    "opt_5.best_params_"
   ]
  },
  {
   "cell_type": "code",
   "execution_count": null,
   "metadata": {},
   "outputs": [],
   "source": []
  },
  {
   "cell_type": "code",
   "execution_count": 478,
   "metadata": {},
   "outputs": [
    {
     "data": {
      "text/plain": [
       "0.9921317290144672"
      ]
     },
     "execution_count": 478,
     "metadata": {},
     "output_type": "execute_result"
    }
   ],
   "source": [
    "opt_1.best_score_"
   ]
  },
  {
   "cell_type": "code",
   "execution_count": null,
   "metadata": {},
   "outputs": [],
   "source": []
  },
  {
   "cell_type": "markdown",
   "metadata": {},
   "source": [
    "# Обучение модели"
   ]
  },
  {
   "cell_type": "code",
   "execution_count": 479,
   "metadata": {},
   "outputs": [],
   "source": [
    "(X_train_sc, X_test_sc, y_train_1, y_test_1, sc) = get_train_test_samples(df_cl)"
   ]
  },
  {
   "cell_type": "code",
   "execution_count": 480,
   "metadata": {},
   "outputs": [
    {
     "data": {
      "text/plain": [
       "LGBMClassifier(colsample_bytree=0.7, max_depth=7, n_estimators=200,\n",
       "               objective='multi:softmax', random_state=0, subsample=0.3)"
      ]
     },
     "execution_count": 480,
     "metadata": {},
     "output_type": "execute_result"
    }
   ],
   "source": [
    "clf_1 = LGBMClassifier(\n",
    "    random_state=0\n",
    "    , learning_rate=0.1\n",
    "    , n_estimators=200\n",
    "    , max_depth=7\n",
    "    , subsample=0.3\n",
    "    , colsample_bytree=0.7\n",
    "    , objective='multi:softmax'\n",
    ")\n",
    "clf_1.fit(X_train_sc, y_train_1)"
   ]
  },
  {
   "cell_type": "code",
   "execution_count": null,
   "metadata": {},
   "outputs": [],
   "source": []
  },
  {
   "cell_type": "code",
   "execution_count": 481,
   "metadata": {},
   "outputs": [],
   "source": [
    "import pickle"
   ]
  },
  {
   "cell_type": "code",
   "execution_count": 482,
   "metadata": {},
   "outputs": [],
   "source": [
    "pickle.dump(sc, open(\"sc_stb.dat\", \"wb\"))\n",
    "pickle.dump(clf_1, open(\"clf_stb.dat\", \"wb\"))"
   ]
  },
  {
   "cell_type": "code",
   "execution_count": 483,
   "metadata": {},
   "outputs": [],
   "source": [
    "clf_1 = pickle.load(open(\"clf_stb.dat\", \"rb\"))"
   ]
  },
  {
   "cell_type": "code",
   "execution_count": 484,
   "metadata": {},
   "outputs": [],
   "source": [
    "def get_metrics():\n",
    "    d_y = {}\n",
    "    for el in list(set(y_test_1)):\n",
    "        d_y[el] = [*map(lambda x: 1 if x == el else 0, list(y_test_1))]\n",
    "    \n",
    "    d_y_pred = {}\n",
    "    for el in list(set(clf_1.predict(X_test_sc))):\n",
    "        d_y_pred[el] = [*map(lambda x: 1 if x == el else 0, list(clf_1.predict(X_test_sc)))]\n",
    "    \n",
    "    results = pd.DataFrame()\n",
    "    for el in list(set(y_test_1)):\n",
    "        tmp_y = d_y[el] \n",
    "        tmp_y_pred = d_y_pred[el]\n",
    "        \n",
    "        m_acc = f'accuracy: {round(accuracy_score(tmp_y, tmp_y_pred), 4)}'\n",
    "        m_pre = f'precision: {round(precision_score(tmp_y, tmp_y_pred), 4)}'\n",
    "        m_rec = f'recall: {round(recall_score(tmp_y, tmp_y_pred), 4)}'\n",
    "        m_f1 = f'f1 score: {round(f1_score(tmp_y, tmp_y_pred), 4)}'\n",
    "        \n",
    "        results = results.append(pd.DataFrame({\n",
    "            'class':[el],\n",
    "            'accuracy':[m_acc],\n",
    "            'precision':[m_pre],\n",
    "            'recall':[m_rec],\n",
    "            'f1 score':[m_f1]\n",
    "        }))\n",
    "        \n",
    "    return results"
   ]
  },
  {
   "cell_type": "code",
   "execution_count": 485,
   "metadata": {},
   "outputs": [
    {
     "data": {
      "text/html": [
       "<div>\n",
       "<style scoped>\n",
       "    .dataframe tbody tr th:only-of-type {\n",
       "        vertical-align: middle;\n",
       "    }\n",
       "\n",
       "    .dataframe tbody tr th {\n",
       "        vertical-align: top;\n",
       "    }\n",
       "\n",
       "    .dataframe thead th {\n",
       "        text-align: right;\n",
       "    }\n",
       "</style>\n",
       "<table border=\"1\" class=\"dataframe\">\n",
       "  <thead>\n",
       "    <tr style=\"text-align: right;\">\n",
       "      <th></th>\n",
       "      <th>class</th>\n",
       "      <th>accuracy</th>\n",
       "      <th>precision</th>\n",
       "      <th>recall</th>\n",
       "      <th>f1 score</th>\n",
       "    </tr>\n",
       "  </thead>\n",
       "  <tbody>\n",
       "    <tr>\n",
       "      <th>0</th>\n",
       "      <td>1.0</td>\n",
       "      <td>accuracy: 0.9745</td>\n",
       "      <td>precision: 0.8727</td>\n",
       "      <td>recall: 0.8405</td>\n",
       "      <td>f1 score: 0.8563</td>\n",
       "    </tr>\n",
       "    <tr>\n",
       "      <th>0</th>\n",
       "      <td>2.0</td>\n",
       "      <td>accuracy: 0.9929</td>\n",
       "      <td>precision: 0.9104</td>\n",
       "      <td>recall: 0.8394</td>\n",
       "      <td>f1 score: 0.8735</td>\n",
       "    </tr>\n",
       "    <tr>\n",
       "      <th>0</th>\n",
       "      <td>3.0</td>\n",
       "      <td>accuracy: 0.9501</td>\n",
       "      <td>precision: 0.7286</td>\n",
       "      <td>recall: 0.8504</td>\n",
       "      <td>f1 score: 0.7848</td>\n",
       "    </tr>\n",
       "    <tr>\n",
       "      <th>0</th>\n",
       "      <td>4.0</td>\n",
       "      <td>accuracy: 0.9935</td>\n",
       "      <td>precision: 0.8824</td>\n",
       "      <td>recall: 0.838</td>\n",
       "      <td>f1 score: 0.8596</td>\n",
       "    </tr>\n",
       "    <tr>\n",
       "      <th>0</th>\n",
       "      <td>5.0</td>\n",
       "      <td>accuracy: 0.9923</td>\n",
       "      <td>precision: 0.9163</td>\n",
       "      <td>recall: 0.8194</td>\n",
       "      <td>f1 score: 0.8651</td>\n",
       "    </tr>\n",
       "    <tr>\n",
       "      <th>0</th>\n",
       "      <td>6.0</td>\n",
       "      <td>accuracy: 0.9897</td>\n",
       "      <td>precision: 0.9668</td>\n",
       "      <td>recall: 0.9434</td>\n",
       "      <td>f1 score: 0.9549</td>\n",
       "    </tr>\n",
       "    <tr>\n",
       "      <th>0</th>\n",
       "      <td>7.0</td>\n",
       "      <td>accuracy: 0.9932</td>\n",
       "      <td>precision: 0.9356</td>\n",
       "      <td>recall: 0.9607</td>\n",
       "      <td>f1 score: 0.948</td>\n",
       "    </tr>\n",
       "    <tr>\n",
       "      <th>0</th>\n",
       "      <td>8.0</td>\n",
       "      <td>accuracy: 0.9273</td>\n",
       "      <td>precision: 0.9382</td>\n",
       "      <td>recall: 0.9264</td>\n",
       "      <td>f1 score: 0.9323</td>\n",
       "    </tr>\n",
       "  </tbody>\n",
       "</table>\n",
       "</div>"
      ],
      "text/plain": [
       "   class          accuracy          precision          recall  \\\n",
       "0    1.0  accuracy: 0.9745  precision: 0.8727  recall: 0.8405   \n",
       "0    2.0  accuracy: 0.9929  precision: 0.9104  recall: 0.8394   \n",
       "0    3.0  accuracy: 0.9501  precision: 0.7286  recall: 0.8504   \n",
       "0    4.0  accuracy: 0.9935  precision: 0.8824   recall: 0.838   \n",
       "0    5.0  accuracy: 0.9923  precision: 0.9163  recall: 0.8194   \n",
       "0    6.0  accuracy: 0.9897  precision: 0.9668  recall: 0.9434   \n",
       "0    7.0  accuracy: 0.9932  precision: 0.9356  recall: 0.9607   \n",
       "0    8.0  accuracy: 0.9273  precision: 0.9382  recall: 0.9264   \n",
       "\n",
       "           f1 score  \n",
       "0  f1 score: 0.8563  \n",
       "0  f1 score: 0.8735  \n",
       "0  f1 score: 0.7848  \n",
       "0  f1 score: 0.8596  \n",
       "0  f1 score: 0.8651  \n",
       "0  f1 score: 0.9549  \n",
       "0   f1 score: 0.948  \n",
       "0  f1 score: 0.9323  "
      ]
     },
     "execution_count": 485,
     "metadata": {},
     "output_type": "execute_result"
    }
   ],
   "source": [
    "get_metrics()"
   ]
  },
  {
   "cell_type": "code",
   "execution_count": null,
   "metadata": {},
   "outputs": [],
   "source": []
  },
  {
   "cell_type": "code",
   "execution_count": null,
   "metadata": {},
   "outputs": [],
   "source": []
  },
  {
   "cell_type": "code",
   "execution_count": 490,
   "metadata": {},
   "outputs": [
    {
     "name": "stdout",
     "output_type": "stream",
     "text": [
      "Детское питание\n"
     ]
    },
    {
     "data": {
      "text/plain": [
       "<AxesSubplot:xlabel='labels_10', ylabel='Детское питание'>"
      ]
     },
     "execution_count": 490,
     "metadata": {},
     "output_type": "execute_result"
    },
    {
     "data": {
      "image/png": "[encoded data removed]",
      "text/plain": [
       "<Figure size 864x504 with 1 Axes>"
      ]
     },
     "metadata": {},
     "output_type": "display_data"
    }
   ],
   "source": [
    "print(\"Детское питание\")\n",
    "sns.boxplot(x=\"labels_10\", y=\"Детское питание\", data=final_df_sample, showfliers = False)"
   ]
  },
  {
   "cell_type": "code",
   "execution_count": 491,
   "metadata": {},
   "outputs": [
    {
     "name": "stdout",
     "output_type": "stream",
     "text": [
      "Товары для животных\n"
     ]
    },
    {
     "data": {
      "text/plain": [
       "<AxesSubplot:xlabel='labels_10', ylabel='Товары для животных'>"
      ]
     },
     "execution_count": 491,
     "metadata": {},
     "output_type": "execute_result"
    },
    {
     "data": {
      "image/png": "[encoded data removed]",
      "text/plain": [
       "<Figure size 864x504 with 1 Axes>"
      ]
     },
     "metadata": {},
     "output_type": "display_data"
    }
   ],
   "source": [
    "print(\"Товары для животных\")\n",
    "sns.boxplot(x=\"labels_10\", y=\"Товары для животных\", data=final_df_sample, showfliers = False)"
   ]
  },
  {
   "cell_type": "code",
   "execution_count": 492,
   "metadata": {},
   "outputs": [
    {
     "name": "stdout",
     "output_type": "stream",
     "text": [
      "Птица охлажденная\n"
     ]
    },
    {
     "data": {
      "text/plain": [
       "<AxesSubplot:xlabel='labels_10', ylabel='Птица охлажденная'>"
      ]
     },
     "execution_count": 492,
     "metadata": {},
     "output_type": "execute_result"
    },
    {
     "data": {
      "image/png": "[encoded data removed]",
      "text/plain": [
       "<Figure size 864x504 with 1 Axes>"
      ]
     },
     "metadata": {},
     "output_type": "display_data"
    }
   ],
   "source": [
    "print(\"Птица охлажденная\")\n",
    "sns.boxplot(x=\"labels_10\", y=\"Птица охлажденная\", data=final_df_sample, showfliers = False)"
   ]
  },
  {
   "cell_type": "code",
   "execution_count": 493,
   "metadata": {},
   "outputs": [
    {
     "name": "stdout",
     "output_type": "stream",
     "text": [
      "Мясо охлажденное\n"
     ]
    },
    {
     "data": {
      "text/plain": [
       "<AxesSubplot:xlabel='labels_10', ylabel='Мясо охлажденное'>"
      ]
     },
     "execution_count": 493,
     "metadata": {},
     "output_type": "execute_result"
    },
    {
     "data": {
      "image/png": "[encoded data removed]",
      "text/plain": [
       "<Figure size 864x504 with 1 Axes>"
      ]
     },
     "metadata": {},
     "output_type": "display_data"
    }
   ],
   "source": [
    "print(\"Мясо охлажденное\")\n",
    "sns.boxplot(x=\"labels_10\", y=\"Мясо охлажденное\", data=final_df_sample, showfliers = False)"
   ]
  },
  {
   "cell_type": "code",
   "execution_count": 494,
   "metadata": {},
   "outputs": [
    {
     "name": "stdout",
     "output_type": "stream",
     "text": [
      "Овощи\n"
     ]
    },
    {
     "data": {
      "text/plain": [
       "<AxesSubplot:xlabel='labels_10', ylabel='Овощи'>"
      ]
     },
     "execution_count": 494,
     "metadata": {},
     "output_type": "execute_result"
    },
    {
     "data": {
      "image/png": "[encoded data removed]",
      "text/plain": [
       "<Figure size 864x504 with 1 Axes>"
      ]
     },
     "metadata": {},
     "output_type": "display_data"
    }
   ],
   "source": [
    "print(\"Овощи\")\n",
    "sns.boxplot(x=\"labels_10\", y=\"Овощи\", data=final_df_sample, showfliers = False)"
   ]
  },
  {
   "cell_type": "code",
   "execution_count": 495,
   "metadata": {},
   "outputs": [
    {
     "name": "stdout",
     "output_type": "stream",
     "text": [
      "Фрукты\n"
     ]
    },
    {
     "data": {
      "text/plain": [
       "<AxesSubplot:xlabel='labels_10', ylabel='Фрукты'>"
      ]
     },
     "execution_count": 495,
     "metadata": {},
     "output_type": "execute_result"
    },
    {
     "data": {
      "image/png": "[encoded data removed]",
      "text/plain": [
       "<Figure size 864x504 with 1 Axes>"
      ]
     },
     "metadata": {},
     "output_type": "display_data"
    }
   ],
   "source": [
    "print(\"Фрукты\")\n",
    "sns.boxplot(x=\"labels_10\", y=\"Фрукты\", data=final_df_sample, showfliers = False)"
   ]
  },
  {
   "cell_type": "code",
   "execution_count": 497,
   "metadata": {},
   "outputs": [
    {
     "name": "stdout",
     "output_type": "stream",
     "text": [
      "Традиционная молочная продукция\n"
     ]
    },
    {
     "data": {
      "text/plain": [
       "<AxesSubplot:xlabel='labels_10', ylabel='Традиционная молочная продукция'>"
      ]
     },
     "execution_count": 497,
     "metadata": {},
     "output_type": "execute_result"
    },
    {
     "data": {
      "image/png": "[encoded data removed]",
      "text/plain": [
       "<Figure size 864x504 with 1 Axes>"
      ]
     },
     "metadata": {},
     "output_type": "display_data"
    }
   ],
   "source": [
    "print(\"Традиционная молочная продукция\")\n",
    "sns.boxplot(x=\"labels_10\", y=\"Традиционная молочная продукция\", data=final_df_sample, showfliers = False)"
   ]
  },
  {
   "cell_type": "code",
   "execution_count": 498,
   "metadata": {},
   "outputs": [
    {
     "name": "stdout",
     "output_type": "stream",
     "text": [
      "Современная молочная продукция\n"
     ]
    },
    {
     "data": {
      "text/plain": [
       "<AxesSubplot:xlabel='labels_10', ylabel='Современная молочная продукция'>"
      ]
     },
     "execution_count": 498,
     "metadata": {},
     "output_type": "execute_result"
    },
    {
     "data": {
      "image/png": "[encoded data removed]",
      "text/plain": [
       "<Figure size 864x504 with 1 Axes>"
      ]
     },
     "metadata": {},
     "output_type": "display_data"
    }
   ],
   "source": [
    "print(\"Современная молочная продукция\")\n",
    "sns.boxplot(x=\"labels_10\", y=\"Современная молочная продукция\", data=final_df_sample, showfliers = False)"
   ]
  },
  {
   "cell_type": "code",
   "execution_count": 499,
   "metadata": {},
   "outputs": [
    {
     "name": "stdout",
     "output_type": "stream",
     "text": [
      "Не шоколадные кондитерские изделия\n"
     ]
    },
    {
     "data": {
      "text/plain": [
       "<AxesSubplot:xlabel='labels_10', ylabel='Не шоколадные кондитерские изделия'>"
      ]
     },
     "execution_count": 499,
     "metadata": {},
     "output_type": "execute_result"
    },
    {
     "data": {
      "image/png": "[encoded data removed]",
      "text/plain": [
       "<Figure size 864x504 with 1 Axes>"
      ]
     },
     "metadata": {},
     "output_type": "display_data"
    }
   ],
   "source": [
    "print(\"Не шоколадные кондитерские изделия\")\n",
    "sns.boxplot(x=\"labels_10\", y=\"Не шоколадные кондитерские изделия\", data=final_df_sample, showfliers = False)"
   ]
  },
  {
   "cell_type": "code",
   "execution_count": 500,
   "metadata": {},
   "outputs": [
    {
     "name": "stdout",
     "output_type": "stream",
     "text": [
      "Шоколадные кондитерские изделия\n"
     ]
    },
    {
     "data": {
      "text/plain": [
       "<AxesSubplot:xlabel='labels_10', ylabel='Шоколадные кондитерские изделия'>"
      ]
     },
     "execution_count": 500,
     "metadata": {},
     "output_type": "execute_result"
    },
    {
     "data": {
      "image/png": "[encoded data removed]",
      "text/plain": [
       "<Figure size 864x504 with 1 Axes>"
      ]
     },
     "metadata": {},
     "output_type": "display_data"
    }
   ],
   "source": [
    "print(\"Шоколадные кондитерские изделия\")\n",
    "sns.boxplot(x=\"labels_10\", y=\"Шоколадные кондитерские изделия\", data=final_df_sample, showfliers = False)"
   ]
  },
  {
   "cell_type": "code",
   "execution_count": 501,
   "metadata": {},
   "outputs": [
    {
     "name": "stdout",
     "output_type": "stream",
     "text": [
      "Безалкогольные напитки\n"
     ]
    },
    {
     "data": {
      "text/plain": [
       "<AxesSubplot:xlabel='labels_10', ylabel='Безалкогольные напитки'>"
      ]
     },
     "execution_count": 501,
     "metadata": {},
     "output_type": "execute_result"
    },
    {
     "data": {
      "image/png": "[encoded data removed]",
      "text/plain": [
       "<Figure size 864x504 with 1 Axes>"
      ]
     },
     "metadata": {},
     "output_type": "display_data"
    }
   ],
   "source": [
    "print(\"Безалкогольные напитки\")\n",
    "sns.boxplot(x=\"labels_10\", y=\"Безалкогольные напитки\", data=final_df_sample, showfliers = False)"
   ]
  },
  {
   "cell_type": "code",
   "execution_count": 502,
   "metadata": {},
   "outputs": [
    {
     "name": "stdout",
     "output_type": "stream",
     "text": [
      "Бакалея\n"
     ]
    },
    {
     "data": {
      "text/plain": [
       "<AxesSubplot:xlabel='labels_10', ylabel='Бакалея'>"
      ]
     },
     "execution_count": 502,
     "metadata": {},
     "output_type": "execute_result"
    },
    {
     "data": {
      "image/png": "[encoded data removed]",
      "text/plain": [
       "<Figure size 864x504 with 1 Axes>"
      ]
     },
     "metadata": {},
     "output_type": "display_data"
    }
   ],
   "source": [
    "print(\"Бакалея\")\n",
    "sns.boxplot(x=\"labels_10\", y=\"Бакалея\", data=final_df_sample, showfliers = False)"
   ]
  },
  {
   "cell_type": "code",
   "execution_count": 503,
   "metadata": {},
   "outputs": [
    {
     "name": "stdout",
     "output_type": "stream",
     "text": [
      "П\\ф и другие продукты глубокой заморзк\n"
     ]
    },
    {
     "data": {
      "text/plain": [
       "<AxesSubplot:xlabel='labels_10', ylabel='П\\\\ф и другие продукты глубокой заморзк'>"
      ]
     },
     "execution_count": 503,
     "metadata": {},
     "output_type": "execute_result"
    },
    {
     "data": {
      "image/png": "[encoded data removed]",
      "text/plain": [
       "<Figure size 864x504 with 1 Axes>"
      ]
     },
     "metadata": {},
     "output_type": "display_data"
    }
   ],
   "source": [
    "print(\"П\\ф и другие продукты глубокой заморзк\")\n",
    "sns.boxplot(x=\"labels_10\", y=\"П\\ф и другие продукты глубокой заморзк\", data=final_df_sample, showfliers = False)"
   ]
  },
  {
   "cell_type": "code",
   "execution_count": 257,
   "metadata": {},
   "outputs": [
    {
     "name": "stdout",
     "output_type": "stream",
     "text": [
      "Бытовая химия, хозяйственные товары\n"
     ]
    },
    {
     "data": {
      "text/plain": [
       "<AxesSubplot:xlabel='labels_10', ylabel='Бытовая химия, хозяйственные товары'>"
      ]
     },
     "execution_count": 257,
     "metadata": {},
     "output_type": "execute_result"
    },
    {
     "data": {
      "image/png": "[encoded data removed]",
      "text/plain": [
       "<Figure size 864x504 with 1 Axes>"
      ]
     },
     "metadata": {},
     "output_type": "display_data"
    }
   ],
   "source": [
    "print(\"Бытовая химия, хозяйственные товары\")\n",
    "sns.boxplot(x=\"labels_10\", y=\"Бытовая химия, хозяйственные товары\", data=df_vis, showfliers = False)"
   ]
  },
  {
   "cell_type": "code",
   "execution_count": 258,
   "metadata": {},
   "outputs": [
    {
     "name": "stdout",
     "output_type": "stream",
     "text": [
      "Гигиенические средства\n"
     ]
    },
    {
     "data": {
      "text/plain": [
       "<AxesSubplot:xlabel='labels_10', ylabel='Гигиенические средства'>"
      ]
     },
     "execution_count": 258,
     "metadata": {},
     "output_type": "execute_result"
    },
    {
     "data": {
      "image/png": "[encoded data removed]",
      "text/plain": [
       "<Figure size 864x504 with 1 Axes>"
      ]
     },
     "metadata": {},
     "output_type": "display_data"
    }
   ],
   "source": [
    "print(\"Гигиенические средства\")\n",
    "sns.boxplot(x=\"labels_10\", y=\"Гигиенические средства\", data=df_vis, showfliers = False)"
   ]
  },
  {
   "cell_type": "code",
   "execution_count": 259,
   "metadata": {},
   "outputs": [
    {
     "name": "stdout",
     "output_type": "stream",
     "text": [
      "Консервы\n"
     ]
    },
    {
     "data": {
      "text/plain": [
       "<AxesSubplot:xlabel='labels_10', ylabel='Консервы'>"
      ]
     },
     "execution_count": 259,
     "metadata": {},
     "output_type": "execute_result"
    },
    {
     "data": {
      "image/png": "[encoded data removed]",
      "text/plain": [
       "<Figure size 864x504 with 1 Axes>"
      ]
     },
     "metadata": {},
     "output_type": "display_data"
    }
   ],
   "source": [
    "print(\"Консервы\")\n",
    "sns.boxplot(x=\"labels_10\", y=\"Консервы\", data=df_vis, showfliers = False)"
   ]
  },
  {
   "cell_type": "code",
   "execution_count": null,
   "metadata": {},
   "outputs": [],
   "source": []
  }
 ],
 "metadata": {
  "kernelspec": {
   "display_name": "Python 3",
   "language": "python",
   "name": "python3"
  },
  "language_info": {
   "codemirror_mode": {
    "name": "ipython",
    "version": 3
   },
   "file_extension": ".py",
   "mimetype": "text/x-python",
   "name": "python",
   "nbconvert_exporter": "python",
   "pygments_lexer": "ipython3",
   "version": "3.6.9"
  }
 },
 "nbformat": 4,
 "nbformat_minor": 5
}
