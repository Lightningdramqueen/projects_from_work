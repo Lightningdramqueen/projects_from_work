{
 "cells": [
  {
   "cell_type": "code",
   "execution_count": 3,
   "id": "0ee4ce7f",
   "metadata": {},
   "outputs": [
    {
     "data": {
      "text/html": [
       "<style>.container { width:95% !important; }</style>"
      ],
      "text/plain": [
       "<IPython.core.display.HTML object>"
      ]
     },
     "metadata": {},
     "output_type": "display_data"
    }
   ],
   "source": [
    "from IPython.core.display import display, HTML\n",
    "display(HTML(\"<style>.container { width:95% !important; }</style>\"))\n",
    "\n",
    "import plotly.express as px\n",
    "import matplotlib.pyplot as plt\n",
    "%matplotlib inline\n",
    "import sqlalchemy\n",
    "import pandas as pd\n",
    "import numpy as np\n",
    "import random\n",
    "import statsmodels.api as sm\n",
    "from sklearn.metrics import mean_squared_error\n",
    "\n",
    "import seaborn as sns\n",
    "\n",
    "from sklearn.preprocessing import StandardScaler"
   ]
  },
  {
   "cell_type": "code",
   "execution_count": 7,
   "id": "e1be8ce5",
   "metadata": {},
   "outputs": [],
   "source": [
    "password = 'dimVuidBun1onCub'\n",
    "login = 'a.al.kosheleva'\n",
    "\n",
    "def postre_auth(login, password):\n",
    "    postgresql_config = {\n",
    "    'postgresql_prefix' : 'postgresql'\n",
    "    , 'postgresql_host'   : '10.3.26.92' \n",
    "    , 'postgresql_user'   : f'{login}'\n",
    "    , 'postgresql_pass'   : f'{password}'\n",
    "    , 'postgresql_port'   : '5432'\n",
    "    , 'postgresql_db'     : 'dwh'    \n",
    "    }\n",
    "\n",
    "    postgresql_connection_string  = \"{prefix}://{user}:{passw}@{host}:{port}/{db}\".format(\n",
    "    prefix  =   postgresql_config['postgresql_prefix']    , host  =   postgresql_config['postgresql_host']\n",
    "    , user  =   postgresql_config['postgresql_user']      , passw =   postgresql_config['postgresql_pass']\n",
    "    , port  =   postgresql_config['postgresql_port']      , db    =   postgresql_config['postgresql_db']\n",
    "    )\n",
    "    postgresql_engine = sqlalchemy.create_engine(postgresql_connection_string)\n",
    "    postgresql_conn   = postgresql_engine.connect()\n",
    "    return postgresql_engine, postgresql_conn\n",
    "\n",
    "postrgre_engine, postrge_conn = postre_auth(login, password)"
   ]
  },
  {
   "cell_type": "code",
   "execution_count": 8,
   "id": "e7a9b59b",
   "metadata": {},
   "outputs": [],
   "source": [
    "results = '''\n",
    "with\n",
    "\n",
    "orders AS (\n",
    "select distinct date(created) as date, pav_order_id\n",
    "from dwh_datamart.ops_metrics\n",
    "where (date(created) between '2023-04-25' AND '2023-04-28' or date(created) between '2023-04-18' AND '2023-04-21')\n",
    "and flag_cancel = 0 and order_source IN ('iOS', 'Android')\n",
    "and retail_brand = 'lo'\n",
    "),\n",
    "\n",
    "t1 as (\n",
    "select\n",
    "  extract('week' from date) as week,\n",
    "  original_id,\n",
    "  sum(zit.price*zit.count_courier*zit.denominator/zit.numerator) as revenue\n",
    "from orders z\n",
    "inner join dwh_stage.utk_sess_zakaz_items zit\n",
    "on zit.pav_order_id = z.pav_order_id\n",
    "where original_id IN (\n",
    "'346643',\n",
    " '434165',\n",
    " '045003',\n",
    " '060371',\n",
    " '060375',\n",
    " '122563',\n",
    " '533459',\n",
    " '369199',\n",
    " '099411',\n",
    " '517570',\n",
    " '640027',\n",
    " '591241',\n",
    " '515944',\n",
    " '448707',\n",
    " '517562',\n",
    " '317444',\n",
    " '448709',\n",
    " '099679',\n",
    " '149868',\n",
    " '060367',\n",
    " '078950',\n",
    " '354087',\n",
    " '471479',\n",
    " '519751',\n",
    " '099880',\n",
    " '354168',\n",
    " '593374',\n",
    " '610101',\n",
    " '578571',\n",
    " '481251',\n",
    "'065236',\n",
    " '543805',\n",
    " '520163',\n",
    " '569437',\n",
    " '453027',\n",
    " '666913',\n",
    " '431488',\n",
    " '667332',\n",
    " '481250',\n",
    " '099882',\n",
    " '481252',\n",
    " '149776',\n",
    " '640298',\n",
    " '149487',\n",
    " '060374',\n",
    " '593375',\n",
    " '520555',\n",
    " '387930',\n",
    " '099410',\n",
    " '045004',\n",
    " '453208',\n",
    " '116414',\n",
    " '431490',\n",
    " '448708',\n",
    " '453845',\n",
    " '354085',\n",
    " '543923'\n",
    "    )\n",
    "group by 1,2\n",
    ")\n",
    "\n",
    "select week,\n",
    "       case when original_id in (\n",
    "           '346643',\n",
    " '434165',\n",
    " '045003',\n",
    " '060371',\n",
    " '060375',\n",
    " '122563',\n",
    " '533459',\n",
    " '369199',\n",
    " '099411',\n",
    " '517570',\n",
    " '640027',\n",
    " '591241',\n",
    " '515944',\n",
    " '448707',\n",
    " '517562',\n",
    " '317444',\n",
    " '448709',\n",
    " '099679',\n",
    " '149868',\n",
    " '060367',\n",
    " '078950',\n",
    " '354087',\n",
    " '471479',\n",
    " '519751',\n",
    " '099880',\n",
    " '354168',\n",
    " '593374',\n",
    " '610101',\n",
    " '578571',\n",
    " '481251'\n",
    "           ) then 'test' else 'control' end as groups,\n",
    "    sum(revenue) as revenue\n",
    "from t1\n",
    "group by 1,2\n",
    "order by 1,2'''"
   ]
  },
  {
   "cell_type": "code",
   "execution_count": 9,
   "id": "406e2c13",
   "metadata": {},
   "outputs": [],
   "source": [
    "result_table = pd.read_sql(results, postrge_conn)"
   ]
  },
  {
   "cell_type": "code",
   "execution_count": 14,
   "id": "617c138b",
   "metadata": {},
   "outputs": [
    {
     "data": {
      "text/html": [
       "<div>\n",
       "<style scoped>\n",
       "    .dataframe tbody tr th:only-of-type {\n",
       "        vertical-align: middle;\n",
       "    }\n",
       "\n",
       "    .dataframe tbody tr th {\n",
       "        vertical-align: top;\n",
       "    }\n",
       "\n",
       "    .dataframe thead th {\n",
       "        text-align: right;\n",
       "    }\n",
       "</style>\n",
       "<table border=\"1\" class=\"dataframe\">\n",
       "  <thead>\n",
       "    <tr style=\"text-align: right;\">\n",
       "      <th></th>\n",
       "      <th>week</th>\n",
       "      <th>groups</th>\n",
       "      <th>revenue</th>\n",
       "    </tr>\n",
       "  </thead>\n",
       "  <tbody>\n",
       "    <tr>\n",
       "      <th>0</th>\n",
       "      <td>16.0</td>\n",
       "      <td>control</td>\n",
       "      <td>142930.976813</td>\n",
       "    </tr>\n",
       "    <tr>\n",
       "      <th>1</th>\n",
       "      <td>16.0</td>\n",
       "      <td>test</td>\n",
       "      <td>185362.278507</td>\n",
       "    </tr>\n",
       "    <tr>\n",
       "      <th>2</th>\n",
       "      <td>17.0</td>\n",
       "      <td>control</td>\n",
       "      <td>173417.875660</td>\n",
       "    </tr>\n",
       "    <tr>\n",
       "      <th>3</th>\n",
       "      <td>17.0</td>\n",
       "      <td>test</td>\n",
       "      <td>141721.425340</td>\n",
       "    </tr>\n",
       "  </tbody>\n",
       "</table>\n",
       "</div>"
      ],
      "text/plain": [
       "   week   groups        revenue\n",
       "0  16.0  control  142930.976813\n",
       "1  16.0     test  185362.278507\n",
       "2  17.0  control  173417.875660\n",
       "3  17.0     test  141721.425340"
      ]
     },
     "execution_count": 14,
     "metadata": {},
     "output_type": "execute_result"
    }
   ],
   "source": [
    "result_table"
   ]
  },
  {
   "cell_type": "code",
   "execution_count": 15,
   "id": "0d65fb84",
   "metadata": {},
   "outputs": [],
   "source": [
    "#запрос для выгрузки продаж по скю\n",
    "sql = '''\n",
    "with \n",
    "\n",
    "orders AS (\n",
    "select distinct buyer_id, pav_order_id, date(created) as date\n",
    "from dwh_datamart.ops_metrics\n",
    "where date(created) between '2023-02-20' AND '2023-04-28'\n",
    "and flag_cancel = 0 and order_source IN ('iOS', 'Android')\n",
    "and retail_brand = 'lo'\n",
    "),\n",
    "\n",
    "t1 as (\n",
    "select\n",
    "  date, zit.original_id,\n",
    "  sum(zit.count_courier*zit.denominator/zit.numerator) as revenue\n",
    "from orders z\n",
    "inner join dwh_stage.utk_sess_zakaz_items zit\n",
    "on zit.pav_order_id = z.pav_order_id\n",
    "group by 1,2\n",
    ")\n",
    "\n",
    "select *, sum(revenue) over(partition by original_id) as total_sku_revenue\n",
    "from t1\n",
    "'''"
   ]
  },
  {
   "cell_type": "code",
   "execution_count": 16,
   "id": "62c33928",
   "metadata": {},
   "outputs": [],
   "source": [
    "needed_skus = pd.read_excel('C:/Users/a.al.kosheleva/analytics/kosheleva_a/files/nuts.XLSX', dtype = 'str')"
   ]
  },
  {
   "cell_type": "code",
   "execution_count": 17,
   "id": "e136c0a1",
   "metadata": {},
   "outputs": [],
   "source": [
    "filter_skus = needed_skus.original_id.to_list()"
   ]
  },
  {
   "cell_type": "code",
   "execution_count": 18,
   "id": "855723e4",
   "metadata": {},
   "outputs": [],
   "source": [
    "all_cats_pre = pd.read_sql(sql, postrge_conn)"
   ]
  },
  {
   "cell_type": "code",
   "execution_count": 19,
   "id": "dae5d7bd",
   "metadata": {},
   "outputs": [],
   "source": [
    "all_cats = all_cats_pre.query(\"original_id == @filter_skus\")"
   ]
  },
  {
   "cell_type": "code",
   "execution_count": 20,
   "id": "d1ebc964",
   "metadata": {},
   "outputs": [
    {
     "data": {
      "text/html": [
       "<div>\n",
       "<style scoped>\n",
       "    .dataframe tbody tr th:only-of-type {\n",
       "        vertical-align: middle;\n",
       "    }\n",
       "\n",
       "    .dataframe tbody tr th {\n",
       "        vertical-align: top;\n",
       "    }\n",
       "\n",
       "    .dataframe thead th {\n",
       "        text-align: right;\n",
       "    }\n",
       "</style>\n",
       "<table border=\"1\" class=\"dataframe\">\n",
       "  <thead>\n",
       "    <tr style=\"text-align: right;\">\n",
       "      <th></th>\n",
       "      <th>date</th>\n",
       "      <th>original_id</th>\n",
       "      <th>revenue</th>\n",
       "      <th>total_sku_revenue</th>\n",
       "    </tr>\n",
       "  </thead>\n",
       "  <tbody>\n",
       "    <tr>\n",
       "      <th>31381</th>\n",
       "      <td>2023-02-21</td>\n",
       "      <td>045003</td>\n",
       "      <td>1.840000</td>\n",
       "      <td>245.386667</td>\n",
       "    </tr>\n",
       "    <tr>\n",
       "      <th>31382</th>\n",
       "      <td>2023-03-06</td>\n",
       "      <td>045003</td>\n",
       "      <td>5.620000</td>\n",
       "      <td>245.386667</td>\n",
       "    </tr>\n",
       "    <tr>\n",
       "      <th>31383</th>\n",
       "      <td>2023-04-18</td>\n",
       "      <td>045003</td>\n",
       "      <td>1.913333</td>\n",
       "      <td>245.386667</td>\n",
       "    </tr>\n",
       "    <tr>\n",
       "      <th>31384</th>\n",
       "      <td>2023-03-22</td>\n",
       "      <td>045003</td>\n",
       "      <td>4.253333</td>\n",
       "      <td>245.386667</td>\n",
       "    </tr>\n",
       "    <tr>\n",
       "      <th>31385</th>\n",
       "      <td>2023-04-21</td>\n",
       "      <td>045003</td>\n",
       "      <td>2.546667</td>\n",
       "      <td>245.386667</td>\n",
       "    </tr>\n",
       "    <tr>\n",
       "      <th>...</th>\n",
       "      <td>...</td>\n",
       "      <td>...</td>\n",
       "      <td>...</td>\n",
       "      <td>...</td>\n",
       "    </tr>\n",
       "    <tr>\n",
       "      <th>1947258</th>\n",
       "      <td>2023-04-24</td>\n",
       "      <td>682537</td>\n",
       "      <td>5.000000</td>\n",
       "      <td>35.000000</td>\n",
       "    </tr>\n",
       "    <tr>\n",
       "      <th>1947259</th>\n",
       "      <td>2023-04-20</td>\n",
       "      <td>682537</td>\n",
       "      <td>2.000000</td>\n",
       "      <td>35.000000</td>\n",
       "    </tr>\n",
       "    <tr>\n",
       "      <th>1947260</th>\n",
       "      <td>2023-04-12</td>\n",
       "      <td>682537</td>\n",
       "      <td>2.000000</td>\n",
       "      <td>35.000000</td>\n",
       "    </tr>\n",
       "    <tr>\n",
       "      <th>1947261</th>\n",
       "      <td>2023-04-11</td>\n",
       "      <td>682537</td>\n",
       "      <td>1.000000</td>\n",
       "      <td>35.000000</td>\n",
       "    </tr>\n",
       "    <tr>\n",
       "      <th>1947262</th>\n",
       "      <td>2023-04-27</td>\n",
       "      <td>682537</td>\n",
       "      <td>2.000000</td>\n",
       "      <td>35.000000</td>\n",
       "    </tr>\n",
       "  </tbody>\n",
       "</table>\n",
       "<p>6935 rows × 4 columns</p>\n",
       "</div>"
      ],
      "text/plain": [
       "               date original_id   revenue  total_sku_revenue\n",
       "31381    2023-02-21      045003  1.840000         245.386667\n",
       "31382    2023-03-06      045003  5.620000         245.386667\n",
       "31383    2023-04-18      045003  1.913333         245.386667\n",
       "31384    2023-03-22      045003  4.253333         245.386667\n",
       "31385    2023-04-21      045003  2.546667         245.386667\n",
       "...             ...         ...       ...                ...\n",
       "1947258  2023-04-24      682537  5.000000          35.000000\n",
       "1947259  2023-04-20      682537  2.000000          35.000000\n",
       "1947260  2023-04-12      682537  2.000000          35.000000\n",
       "1947261  2023-04-11      682537  1.000000          35.000000\n",
       "1947262  2023-04-27      682537  2.000000          35.000000\n",
       "\n",
       "[6935 rows x 4 columns]"
      ]
     },
     "execution_count": 20,
     "metadata": {},
     "output_type": "execute_result"
    }
   ],
   "source": [
    "all_cats"
   ]
  },
  {
   "cell_type": "code",
   "execution_count": 21,
   "id": "1b1b89c5",
   "metadata": {},
   "outputs": [
    {
     "name": "stderr",
     "output_type": "stream",
     "text": [
      "C:\\Users\\AAL~1.KOS\\AppData\\Local\\Temp/ipykernel_17500/1274449376.py:1: SettingWithCopyWarning: \n",
      "A value is trying to be set on a copy of a slice from a DataFrame.\n",
      "Try using .loc[row_indexer,col_indexer] = value instead\n",
      "\n",
      "See the caveats in the documentation: https://pandas.pydata.org/pandas-docs/stable/user_guide/indexing.html#returning-a-view-versus-a-copy\n",
      "  all_cats['date'] = pd.to_datetime(all_cats['date'])\n"
     ]
    }
   ],
   "source": [
    "all_cats['date'] = pd.to_datetime(all_cats['date'])"
   ]
  },
  {
   "cell_type": "code",
   "execution_count": 101,
   "id": "4e567963",
   "metadata": {},
   "outputs": [],
   "source": [
    "#выделяем пилот и предпилот\n",
    "df_prepilot = all_cats.loc[(all_cats['date'] <= '2023-04-23')&(all_cats['date'] >= '2023-03-23')].copy()\n",
    "df_pilot = all_cats.loc[all_cats['date'] > '2023-04-23'].copy()"
   ]
  },
  {
   "cell_type": "code",
   "execution_count": 102,
   "id": "d7c46fb2",
   "metadata": {},
   "outputs": [],
   "source": [
    "df_sku_sales = df_prepilot.pivot_table(index = 'original_id', aggfunc = {'revenue':'sum'}).reset_index()"
   ]
  },
  {
   "cell_type": "code",
   "execution_count": 103,
   "id": "393ac374",
   "metadata": {},
   "outputs": [],
   "source": [
    "list_sku = df_sku_sales.loc[(df_sku_sales['revenue']>= df_sku_sales['revenue'].quantile(0.6))&(df_sku_sales['revenue']<= df_sku_sales['revenue'].quantile(0.95))]['original_id'].tolist()"
   ]
  },
  {
   "cell_type": "code",
   "execution_count": 104,
   "id": "d3a82915",
   "metadata": {},
   "outputs": [],
   "source": [
    "df_prepilot = df_prepilot.loc[df_prepilot['original_id'].isin(list_sku)].reset_index().copy()"
   ]
  },
  {
   "cell_type": "code",
   "execution_count": 105,
   "id": "9ff7793a",
   "metadata": {},
   "outputs": [],
   "source": [
    "df_pilot = df_pilot.loc[df_pilot['original_id'].isin(list_sku)].reset_index().copy()"
   ]
  },
  {
   "cell_type": "code",
   "execution_count": 106,
   "id": "c46a16a1",
   "metadata": {},
   "outputs": [
    {
     "data": {
      "text/plain": [
       "61"
      ]
     },
     "execution_count": 106,
     "metadata": {},
     "output_type": "execute_result"
    }
   ],
   "source": [
    "len(list_sku)"
   ]
  },
  {
   "cell_type": "code",
   "execution_count": 107,
   "id": "998829fb",
   "metadata": {},
   "outputs": [],
   "source": [
    "from sklearn.metrics import mean_squared_error#(y_true, y_pred"
   ]
  },
  {
   "cell_type": "code",
   "execution_count": 29,
   "id": "2ffb13ed",
   "metadata": {},
   "outputs": [],
   "source": [
    "from IPython.display import clear_output"
   ]
  },
  {
   "cell_type": "code",
   "execution_count": null,
   "id": "b41f8ce1",
   "metadata": {},
   "outputs": [],
   "source": []
  },
  {
   "cell_type": "code",
   "execution_count": 235,
   "id": "0a4fa64a",
   "metadata": {},
   "outputs": [],
   "source": [
    "#функция для подбора лучших теста и контроля\n",
    "def best_sample(df, l_sku, n_inter, n_sku):\n",
    "    iterations = n_inter #число итераций\n",
    "    var = 100000000000\n",
    "    \n",
    "    sample_test_final = []\n",
    "    sample_control_final = []\n",
    "    best_iter = 0\n",
    "\n",
    "    for i in range(iterations):\n",
    "        print(i, end = ' ')\n",
    "        clear_output(wait=True)\n",
    "        df_split = pd.DataFrame({\n",
    "            'sku':random.sample(list_sku, n_sku),\n",
    "            'ab_group':np.random.randint(0,2,n_sku)\n",
    "        })\n",
    "        sample_try_test = df_split.query('ab_group==1')['sku'].tolist() #рандомный тест\n",
    "        sample_try_control = df_split.query('ab_group==0')['sku'].tolist()#рандомный контроль\n",
    "        \n",
    "        #собираем агрегаты по датам с суммой продаж в штуках\n",
    "        test_group_check = df.loc[df['original_id'].isin(sample_try_test)] \\\n",
    "            .groupby('date') \\\n",
    "            .agg({'revenue':'sum'}).reset_index()\n",
    "        \n",
    "        control_group_check = df.loc[df['original_id'].isin(sample_try_control)] \\\n",
    "            .groupby('date') \\\n",
    "            .agg({'revenue':'sum'}).reset_index()\n",
    "        \n",
    "        df_for_diff = test_group_check.merge(control_group_check, how = 'left', on = 'date')#джойн\n",
    "        #new_var = mean_squared_error(df_for_diff.revenue_x, df_for_diff.revenue_y)**(1/2)\n",
    "        new_var = np.std(df_for_diff.revenue_x - df_for_diff.revenue_y)\n",
    "        if new_var < var:#сохраняем лучший сплит\n",
    "            var = new_var\n",
    "            sample_test_final = sample_try_test\n",
    "            sample_control_final = sample_try_control\n",
    "            best_iter = i\n",
    "        \n",
    "    return sample_try_test, sample_try_control, best_iter"
   ]
  },
  {
   "cell_type": "code",
   "execution_count": 301,
   "id": "c4d9539f",
   "metadata": {},
   "outputs": [
    {
     "name": "stdout",
     "output_type": "stream",
     "text": [
      "2999 "
     ]
    }
   ],
   "source": [
    "result = best_sample(df_prepilot, list_sku, 3000, 58)"
   ]
  },
  {
   "cell_type": "code",
   "execution_count": 302,
   "id": "1e8f943b",
   "metadata": {},
   "outputs": [],
   "source": [
    "#забираем тест и контроль из функции\n",
    "final_test = result[0]\n",
    "final_control = result[1]\n",
    "\n",
    "test_and_control = final_test + final_control"
   ]
  },
  {
   "cell_type": "code",
   "execution_count": 108,
   "id": "38591cbc",
   "metadata": {},
   "outputs": [],
   "source": [
    "final_test = ['346643',\n",
    " '434165',\n",
    " '045003',\n",
    " '060371',\n",
    " '060375',\n",
    " '122563',\n",
    " '533459',\n",
    " '369199',\n",
    " '099411',\n",
    " '517570',\n",
    " '640027',\n",
    " '591241',\n",
    " '515944',\n",
    " '448707',\n",
    " '517562',\n",
    " '317444',\n",
    " '448709',\n",
    " '099679',\n",
    " '149868',\n",
    " '060367',\n",
    " '078950',\n",
    " '354087',\n",
    " '471479',\n",
    " '519751',\n",
    " '099880',\n",
    " '354168',\n",
    " '593374',\n",
    " '610101',\n",
    " '578571',\n",
    " '481251']\n",
    "final_control = ['065236',\n",
    " '543805',\n",
    " '520163',\n",
    " '569437',\n",
    " '453027',\n",
    " '666913',\n",
    " '431488',\n",
    " '667332',\n",
    " '481250',\n",
    " '099882',\n",
    " '481252',\n",
    " '149776',\n",
    " '640298',\n",
    " '149487',\n",
    " '060374',\n",
    " '593375',\n",
    " '520555',\n",
    " '387930',\n",
    " '099410',\n",
    " '045004',\n",
    " '453208',\n",
    " '116414',\n",
    " '431490',\n",
    " '448708',\n",
    " '453845',\n",
    " '354085',\n",
    " '543923']\n",
    "\n",
    "test_and_control = final_test + final_control"
   ]
  },
  {
   "cell_type": "code",
   "execution_count": null,
   "id": "3ccf98e9",
   "metadata": {},
   "outputs": [],
   "source": []
  },
  {
   "cell_type": "code",
   "execution_count": null,
   "id": "b2fabc9c",
   "metadata": {},
   "outputs": [],
   "source": []
  },
  {
   "cell_type": "code",
   "execution_count": 109,
   "id": "1ba9ae74",
   "metadata": {},
   "outputs": [],
   "source": [
    "#фильтруем наши исходные датафреймы по скю для теста и контроля, присваиваем группы\n",
    "all_cats_final = pd.DataFrame(all_cats.query('original_id == @test_and_control')).copy()\n",
    "df_prepilot_final = pd.DataFrame(df_prepilot.query('original_id == @test_and_control')).copy()\n",
    "df_pilot_final = pd.DataFrame(df_pilot.query('original_id == @test_and_control')).copy()\n",
    "\n",
    "all_cats_final['groups'] = all_cats_final.original_id.apply(lambda x: 'test' if x in final_test else 'control')\n",
    "df_prepilot_final['groups'] = df_prepilot_final.original_id.apply(lambda x: 'test' if x in final_test else 'control')\n",
    "df_pilot_final['groups'] = df_pilot_final.original_id.apply(lambda x: 'test' if x in final_test else 'control')"
   ]
  },
  {
   "cell_type": "code",
   "execution_count": 110,
   "id": "a04e9cd7",
   "metadata": {},
   "outputs": [],
   "source": [
    "#датафрейм для визуализации\n",
    "vis_groups = all_cats_final.groupby(['groups', 'date']).agg({'revenue':'sum'}).rename(columns = {'revenue':'revenue_sum'}).reset_index()"
   ]
  },
  {
   "cell_type": "code",
   "execution_count": 111,
   "id": "e5ed6290",
   "metadata": {},
   "outputs": [],
   "source": [
    "sc = StandardScaler()"
   ]
  },
  {
   "cell_type": "code",
   "execution_count": 112,
   "id": "4b8c316e",
   "metadata": {},
   "outputs": [
    {
     "name": "stderr",
     "output_type": "stream",
     "text": [
      "C:\\Users\\AAL~1.KOS\\AppData\\Local\\Temp/ipykernel_17500/2588219708.py:5: SettingWithCopyWarning:\n",
      "\n",
      "\n",
      "A value is trying to be set on a copy of a slice from a DataFrame.\n",
      "Try using .loc[row_indexer,col_indexer] = value instead\n",
      "\n",
      "See the caveats in the documentation: https://pandas.pydata.org/pandas-docs/stable/user_guide/indexing.html#returning-a-view-versus-a-copy\n",
      "\n",
      "C:\\Users\\AAL~1.KOS\\AppData\\Local\\Temp/ipykernel_17500/2588219708.py:6: SettingWithCopyWarning:\n",
      "\n",
      "\n",
      "A value is trying to be set on a copy of a slice from a DataFrame.\n",
      "Try using .loc[row_indexer,col_indexer] = value instead\n",
      "\n",
      "See the caveats in the documentation: https://pandas.pydata.org/pandas-docs/stable/user_guide/indexing.html#returning-a-view-versus-a-copy\n",
      "\n"
     ]
    }
   ],
   "source": [
    "#стандартизируем метрики для визуализации\n",
    "vis_groups_test = vis_groups.loc[vis_groups['groups'] == 'test']\n",
    "vis_groups_control = vis_groups.loc[vis_groups['groups'] == 'control']\n",
    "\n",
    "vis_groups_test['rev_standart'] = sc.fit_transform(vis_groups_test[['revenue_sum']])\n",
    "vis_groups_control['rev_standart'] = sc.fit_transform(vis_groups_control[['revenue_sum']])    \n",
    "\n",
    "vis_final = pd.concat([vis_groups_test, vis_groups_control])"
   ]
  },
  {
   "cell_type": "code",
   "execution_count": null,
   "id": "be62de10",
   "metadata": {},
   "outputs": [],
   "source": []
  },
  {
   "cell_type": "code",
   "execution_count": 113,
   "id": "8255cb60",
   "metadata": {},
   "outputs": [
    {
     "data": {
      "text/plain": [
       "<AxesSubplot:xlabel='date', ylabel='rev_standart'>"
      ]
     },
     "execution_count": 113,
     "metadata": {},
     "output_type": "execute_result"
    },
    {
     "data": {
      "image/png": "[encoded data removed]",
      "text/plain": [
       "<Figure size 1368x432 with 1 Axes>"
      ]
     },
     "metadata": {
      "needs_background": "light"
     },
     "output_type": "display_data"
    }
   ],
   "source": [
    "f = plt.figure(figsize=(19, 6))\n",
    "sns.lineplot(data=vis_final, x=\"date\", y=\"rev_standart\", hue = 'groups', ci=None)"
   ]
  },
  {
   "cell_type": "code",
   "execution_count": null,
   "id": "1b1bea5c",
   "metadata": {},
   "outputs": [],
   "source": []
  },
  {
   "cell_type": "code",
   "execution_count": null,
   "id": "c304e2ff",
   "metadata": {},
   "outputs": [],
   "source": []
  },
  {
   "cell_type": "code",
   "execution_count": null,
   "id": "76558725",
   "metadata": {},
   "outputs": [],
   "source": []
  },
  {
   "cell_type": "code",
   "execution_count": null,
   "id": "04e36d7b",
   "metadata": {},
   "outputs": [],
   "source": []
  },
  {
   "cell_type": "code",
   "execution_count": 114,
   "id": "a67c6c5c",
   "metadata": {},
   "outputs": [],
   "source": [
    "#готовим данные для моделирования по продажам в штуках на наших группах\n",
    "mtr = 'revenue'\n",
    "corr_lim = 0, # лимит корреляции\n",
    "\n",
    "sigma = 1.5\n",
    "y_train = df_prepilot_final.loc[\n",
    "    df_prepilot_final['groups'] == 'test'\n",
    "].pivot_table(index='date', aggfunc={mtr:'sum'})[[mtr]].values\n",
    "X_train = df_prepilot_final.loc[\n",
    "    df_prepilot_final['groups'] == 'control'\n",
    "].pivot_table(index='date', aggfunc={mtr:'sum'}).reset_index()[[mtr]].values\n",
    "X_train = sm.add_constant(X_train)\n",
    "    \n",
    "y_test = df_pilot_final.loc[\n",
    "    df_pilot_final['groups'] == 'test'\n",
    "].pivot_table(index='date', aggfunc={mtr:'sum'})[[mtr]].values\n",
    "X_test = df_pilot_final.loc[\n",
    "    df_pilot_final['groups'] == 'control'\n",
    "].pivot_table(index='date', aggfunc={mtr:'sum'}).reset_index()[[mtr]].values\n",
    "X_test = sm.add_constant(X_test)\n",
    "    \n",
    "# обучаем модель\n",
    "model = sm.OLS(y_train, X_train)\n",
    "results = model.fit()"
   ]
  },
  {
   "cell_type": "code",
   "execution_count": 115,
   "id": "50644c14",
   "metadata": {},
   "outputs": [
    {
     "name": "stdout",
     "output_type": "stream",
     "text": [
      "R-squared: 0.8724, holdout 1.5 rmse (%): 0.5838\n"
     ]
    },
    {
     "data": {
      "application/vnd.plotly.v1+json": {
       "config": {
        "plotlyServerURL": "https://plot.ly"
       },
       "data": [
        {
         "hovertemplate": "data_type=fact<br>variable=ci_low<br>t=%{x}<br>value=%{y}<extra></extra>",
         "legendgroup": "fact",
         "line": {
          "color": "blue",
          "dash": "solid"
         },
         "marker": {
          "symbol": "circle"
         },
         "mode": "lines",
         "name": "fact",
         "orientation": "v",
         "showlegend": true,
         "type": "scatter",
         "x": [
          1,
          2,
          3,
          4,
          5,
          6,
          7,
          8,
          9,
          10,
          11,
          12,
          13,
          14,
          15,
          16,
          17,
          18,
          19,
          20,
          21,
          22,
          23,
          24,
          25,
          26,
          27,
          28,
          29,
          30,
          31,
          32,
          33,
          34,
          35,
          36,
          37
         ],
         "xaxis": "x",
         "y": [
          71.080061388389,
          86.63205093901712,
          112.2168392767484,
          91.13670339111991,
          -0.4787928017461809,
          65.96643007596214,
          62.98422477466946,
          74.29447186436408,
          147.06872504044006,
          173.0226108596913,
          136.35082503547235,
          39.12530299697414,
          44.370069463147246,
          18.86268285031008,
          49.75812507292599,
          56.227885780192054,
          106.24155405165718,
          102.10344034636705,
          52.3437264945959,
          25.675314008346874,
          118.43072651329007,
          256.9977252167272,
          319.6361905337335,
          215.40229413209434,
          117.32727217079119,
          60.927002070045404,
          32.60884538130088,
          28.823837065610405,
          111.2054993837103,
          118.41153600298574,
          149.62618038033034,
          113.31965393557047,
          72.73044527456128,
          67.7076490442416,
          88.0316788238795,
          96.74736892042887,
          199.56180724322448
         ],
         "yaxis": "y"
        },
        {
         "hovertemplate": "data_type=fact<br>variable=values<br>t=%{x}<br>value=%{y}<extra></extra>",
         "legendgroup": "fact",
         "line": {
          "color": "blue",
          "dash": "solid"
         },
         "marker": {
          "symbol": "circle"
         },
         "mode": "lines",
         "name": "fact",
         "orientation": "v",
         "showlegend": false,
         "type": "scatter",
         "x": [
          1,
          2,
          3,
          4,
          5,
          6,
          7,
          8,
          9,
          10,
          11,
          12,
          13,
          14,
          15,
          16,
          17,
          18,
          19,
          20,
          21,
          22,
          23,
          24,
          25,
          26,
          27,
          28,
          29,
          30,
          31,
          32,
          33,
          34,
          35,
          36,
          37
         ],
         "xaxis": "x",
         "y": [
          187.05666666666667,
          232.92666666666668,
          287.324,
          236.95466666666667,
          175.716,
          194.31,
          217.70133333333334,
          283.938,
          341.2286666666667,
          342.92533333333336,
          338.03000000000003,
          172.28733333333335,
          166.41933333333333,
          172.73333333333335,
          186.32133333333334,
          211.868,
          239.00466666666668,
          246.67266666666666,
          202.41666666666666,
          189.292,
          250.81733333333335,
          378.13866666666667,
          465.87333333333333,
          371.56266666666664,
          200.50533333333334,
          170.35999999999999,
          186.68333333333334,
          168.392,
          231.85399999999998,
          246.47466666666665,
          301.43,
          270.3546666666667,
          229.70866666666666,
          151.18533333333335,
          93.256,
          136.67466666666667,
          235.708
         ],
         "yaxis": "y"
        },
        {
         "hovertemplate": "data_type=fact<br>variable=ci_up<br>t=%{x}<br>value=%{y}<extra></extra>",
         "legendgroup": "fact",
         "line": {
          "color": "blue",
          "dash": "solid"
         },
         "marker": {
          "symbol": "circle"
         },
         "mode": "lines",
         "name": "fact",
         "orientation": "v",
         "showlegend": false,
         "type": "scatter",
         "x": [
          1,
          2,
          3,
          4,
          5,
          6,
          7,
          8,
          9,
          10,
          11,
          12,
          13,
          14,
          15,
          16,
          17,
          18,
          19,
          20,
          21,
          22,
          23,
          24,
          25,
          26,
          27,
          28,
          29,
          30,
          31,
          32,
          33,
          34,
          35,
          36,
          37
         ],
         "xaxis": "x",
         "y": [
          365.4471646991284,
          380.99915424975654,
          406.58394258748785,
          385.50380670185933,
          293.88831050899324,
          360.33353338670156,
          357.3513280854089,
          368.6615751751035,
          441.43582835117945,
          467.3897141704307,
          430.7179283462118,
          333.49240630771357,
          338.73717277388664,
          313.2297861610495,
          344.12522838366544,
          350.59498909093145,
          400.60865736239657,
          396.4705436571065,
          346.7108298053353,
          320.0424173190863,
          412.79782982402946,
          551.3648285274667,
          614.003293844473,
          509.7693974428338,
          411.69437548153064,
          355.2941053807848,
          326.97594869204033,
          323.19094037634983,
          405.57260269444976,
          412.7786393137252,
          443.9932836910698,
          407.68675724630987,
          367.09754858530073,
          362.074752354981,
          382.39878213461895,
          391.1144722311683,
          493.9289105539639
         ],
         "yaxis": "y"
        },
        {
         "hovertemplate": "data_type=forecast<br>variable=ci_low<br>t=%{x}<br>value=%{y}<extra></extra>",
         "legendgroup": "forecast",
         "line": {
          "color": "orange",
          "dash": "solid"
         },
         "marker": {
          "symbol": "circle"
         },
         "mode": "lines",
         "name": "forecast",
         "orientation": "v",
         "showlegend": true,
         "type": "scatter",
         "x": [
          1,
          2,
          3,
          4,
          5,
          6,
          7,
          8,
          9,
          10,
          11,
          12,
          13,
          14,
          15,
          16,
          17,
          18,
          19,
          20,
          21,
          22,
          23,
          24,
          25,
          26,
          27,
          28,
          29,
          30,
          31,
          32,
          33,
          34,
          35,
          36,
          37
         ],
         "xaxis": "x",
         "y": [
          71.080061388389,
          86.63205093901712,
          112.2168392767484,
          91.13670339111991,
          -0.4787928017461809,
          65.96643007596214,
          62.98422477466946,
          74.29447186436408,
          147.06872504044006,
          173.0226108596913,
          136.35082503547235,
          39.12530299697414,
          44.370069463147246,
          18.86268285031008,
          49.75812507292599,
          56.227885780192054,
          106.24155405165718,
          102.10344034636705,
          52.3437264945959,
          25.675314008346874,
          118.43072651329007,
          256.9977252167272,
          319.6361905337335,
          215.40229413209434,
          117.32727217079119,
          60.927002070045404,
          32.60884538130088,
          28.823837065610405,
          111.2054993837103,
          118.41153600298574,
          149.62618038033034,
          113.31965393557047,
          72.73044527456128,
          67.7076490442416,
          88.0316788238795,
          96.74736892042887,
          199.56180724322448
         ],
         "yaxis": "y"
        },
        {
         "hovertemplate": "data_type=forecast<br>variable=values<br>t=%{x}<br>value=%{y}<extra></extra>",
         "legendgroup": "forecast",
         "line": {
          "color": "orange",
          "dash": "solid"
         },
         "marker": {
          "symbol": "circle"
         },
         "mode": "lines",
         "name": "forecast",
         "orientation": "v",
         "showlegend": false,
         "type": "scatter",
         "x": [
          1,
          2,
          3,
          4,
          5,
          6,
          7,
          8,
          9,
          10,
          11,
          12,
          13,
          14,
          15,
          16,
          17,
          18,
          19,
          20,
          21,
          22,
          23,
          24,
          25,
          26,
          27,
          28,
          29,
          30,
          31,
          32,
          33,
          34,
          35,
          36,
          37
         ],
         "xaxis": "x",
         "y": [
          218.2636130437587,
          233.81560259438683,
          259.4003909321181,
          238.32025504648962,
          146.70475885362353,
          213.14998173133185,
          210.16777643003917,
          221.4780235197338,
          294.25227669580977,
          320.206162515061,
          283.53437669084207,
          186.30885465234385,
          191.55362111851696,
          166.0462345056798,
          196.9416767282957,
          203.41143743556177,
          253.4251057070269,
          249.28699200173676,
          199.5272781499656,
          172.85886566371659,
          265.6142781686598,
          404.18127687209693,
          466.81974218910324,
          362.58584578746405,
          264.5108238261609,
          208.11055372541512,
          179.7923970366706,
          176.00738872098012,
          258.38905103908,
          265.59508765835545,
          296.80973203570005,
          260.5032055909402,
          219.913996929931,
          214.89120069961132,
          235.21523047924921,
          243.93092057579858,
          346.7453588985942
         ],
         "yaxis": "y"
        },
        {
         "hovertemplate": "data_type=forecast<br>variable=ci_up<br>t=%{x}<br>value=%{y}<extra></extra>",
         "legendgroup": "forecast",
         "line": {
          "color": "orange",
          "dash": "solid"
         },
         "marker": {
          "symbol": "circle"
         },
         "mode": "lines",
         "name": "forecast",
         "orientation": "v",
         "showlegend": false,
         "type": "scatter",
         "x": [
          1,
          2,
          3,
          4,
          5,
          6,
          7,
          8,
          9,
          10,
          11,
          12,
          13,
          14,
          15,
          16,
          17,
          18,
          19,
          20,
          21,
          22,
          23,
          24,
          25,
          26,
          27,
          28,
          29,
          30,
          31,
          32,
          33,
          34,
          35,
          36,
          37
         ],
         "xaxis": "x",
         "y": [
          365.4471646991284,
          380.99915424975654,
          406.58394258748785,
          385.50380670185933,
          293.88831050899324,
          360.33353338670156,
          357.3513280854089,
          368.6615751751035,
          441.43582835117945,
          467.3897141704307,
          430.7179283462118,
          333.49240630771357,
          338.73717277388664,
          313.2297861610495,
          344.12522838366544,
          350.59498909093145,
          400.60865736239657,
          396.4705436571065,
          346.7108298053353,
          320.0424173190863,
          412.79782982402946,
          551.3648285274667,
          614.003293844473,
          509.7693974428338,
          411.69437548153064,
          355.2941053807848,
          326.97594869204033,
          323.19094037634983,
          405.57260269444976,
          412.7786393137252,
          443.9932836910698,
          407.68675724630987,
          367.09754858530073,
          362.074752354981,
          382.39878213461895,
          391.1144722311683,
          493.9289105539639
         ],
         "yaxis": "y"
        }
       ],
       "layout": {
        "annotations": [
         {
          "showarrow": false,
          "text": "A/A period start",
          "x": 33,
          "xanchor": "right",
          "xref": "x",
          "y": 1,
          "yanchor": "top",
          "yref": "y domain"
         }
        ],
        "legend": {
         "title": {
          "text": "data_type"
         },
         "tracegroupgap": 0
        },
        "margin": {
         "t": 60
        },
        "shapes": [
         {
          "line": {
           "color": "black",
           "dash": "dash",
           "width": 2
          },
          "opacity": 0.7,
          "type": "line",
          "x0": 33,
          "x1": 33,
          "xref": "x",
          "y0": 0,
          "y1": 1,
          "yref": "y domain"
         }
        ],
        "template": {
         "data": {
          "bar": [
           {
            "error_x": {
             "color": "#2a3f5f"
            },
            "error_y": {
             "color": "#2a3f5f"
            },
            "marker": {
             "line": {
              "color": "#E5ECF6",
              "width": 0.5
             },
             "pattern": {
              "fillmode": "overlay",
              "size": 10,
              "solidity": 0.2
             }
            },
            "type": "bar"
           }
          ],
          "barpolar": [
           {
            "marker": {
             "line": {
              "color": "#E5ECF6",
              "width": 0.5
             },
             "pattern": {
              "fillmode": "overlay",
              "size": 10,
              "solidity": 0.2
             }
            },
            "type": "barpolar"
           }
          ],
          "carpet": [
           {
            "aaxis": {
             "endlinecolor": "#2a3f5f",
             "gridcolor": "white",
             "linecolor": "white",
             "minorgridcolor": "white",
             "startlinecolor": "#2a3f5f"
            },
            "baxis": {
             "endlinecolor": "#2a3f5f",
             "gridcolor": "white",
             "linecolor": "white",
             "minorgridcolor": "white",
             "startlinecolor": "#2a3f5f"
            },
            "type": "carpet"
           }
          ],
          "choropleth": [
           {
            "colorbar": {
             "outlinewidth": 0,
             "ticks": ""
            },
            "type": "choropleth"
           }
          ],
          "contour": [
           {
            "colorbar": {
             "outlinewidth": 0,
             "ticks": ""
            },
            "colorscale": [
             [
              0,
              "#0d0887"
             ],
             [
              0.1111111111111111,
              "#46039f"
             ],
             [
              0.2222222222222222,
              "#7201a8"
             ],
             [
              0.3333333333333333,
              "#9c179e"
             ],
             [
              0.4444444444444444,
              "#bd3786"
             ],
             [
              0.5555555555555556,
              "#d8576b"
             ],
             [
              0.6666666666666666,
              "#ed7953"
             ],
             [
              0.7777777777777778,
              "#fb9f3a"
             ],
             [
              0.8888888888888888,
              "#fdca26"
             ],
             [
              1,
              "#f0f921"
             ]
            ],
            "type": "contour"
           }
          ],
          "contourcarpet": [
           {
            "colorbar": {
             "outlinewidth": 0,
             "ticks": ""
            },
            "type": "contourcarpet"
           }
          ],
          "heatmap": [
           {
            "colorbar": {
             "outlinewidth": 0,
             "ticks": ""
            },
            "colorscale": [
             [
              0,
              "#0d0887"
             ],
             [
              0.1111111111111111,
              "#46039f"
             ],
             [
              0.2222222222222222,
              "#7201a8"
             ],
             [
              0.3333333333333333,
              "#9c179e"
             ],
             [
              0.4444444444444444,
              "#bd3786"
             ],
             [
              0.5555555555555556,
              "#d8576b"
             ],
             [
              0.6666666666666666,
              "#ed7953"
             ],
             [
              0.7777777777777778,
              "#fb9f3a"
             ],
             [
              0.8888888888888888,
              "#fdca26"
             ],
             [
              1,
              "#f0f921"
             ]
            ],
            "type": "heatmap"
           }
          ],
          "heatmapgl": [
           {
            "colorbar": {
             "outlinewidth": 0,
             "ticks": ""
            },
            "colorscale": [
             [
              0,
              "#0d0887"
             ],
             [
              0.1111111111111111,
              "#46039f"
             ],
             [
              0.2222222222222222,
              "#7201a8"
             ],
             [
              0.3333333333333333,
              "#9c179e"
             ],
             [
              0.4444444444444444,
              "#bd3786"
             ],
             [
              0.5555555555555556,
              "#d8576b"
             ],
             [
              0.6666666666666666,
              "#ed7953"
             ],
             [
              0.7777777777777778,
              "#fb9f3a"
             ],
             [
              0.8888888888888888,
              "#fdca26"
             ],
             [
              1,
              "#f0f921"
             ]
            ],
            "type": "heatmapgl"
           }
          ],
          "histogram": [
           {
            "marker": {
             "pattern": {
              "fillmode": "overlay",
              "size": 10,
              "solidity": 0.2
             }
            },
            "type": "histogram"
           }
          ],
          "histogram2d": [
           {
            "colorbar": {
             "outlinewidth": 0,
             "ticks": ""
            },
            "colorscale": [
             [
              0,
              "#0d0887"
             ],
             [
              0.1111111111111111,
              "#46039f"
             ],
             [
              0.2222222222222222,
              "#7201a8"
             ],
             [
              0.3333333333333333,
              "#9c179e"
             ],
             [
              0.4444444444444444,
              "#bd3786"
             ],
             [
              0.5555555555555556,
              "#d8576b"
             ],
             [
              0.6666666666666666,
              "#ed7953"
             ],
             [
              0.7777777777777778,
              "#fb9f3a"
             ],
             [
              0.8888888888888888,
              "#fdca26"
             ],
             [
              1,
              "#f0f921"
             ]
            ],
            "type": "histogram2d"
           }
          ],
          "histogram2dcontour": [
           {
            "colorbar": {
             "outlinewidth": 0,
             "ticks": ""
            },
            "colorscale": [
             [
              0,
              "#0d0887"
             ],
             [
              0.1111111111111111,
              "#46039f"
             ],
             [
              0.2222222222222222,
              "#7201a8"
             ],
             [
              0.3333333333333333,
              "#9c179e"
             ],
             [
              0.4444444444444444,
              "#bd3786"
             ],
             [
              0.5555555555555556,
              "#d8576b"
             ],
             [
              0.6666666666666666,
              "#ed7953"
             ],
             [
              0.7777777777777778,
              "#fb9f3a"
             ],
             [
              0.8888888888888888,
              "#fdca26"
             ],
             [
              1,
              "#f0f921"
             ]
            ],
            "type": "histogram2dcontour"
           }
          ],
          "mesh3d": [
           {
            "colorbar": {
             "outlinewidth": 0,
             "ticks": ""
            },
            "type": "mesh3d"
           }
          ],
          "parcoords": [
           {
            "line": {
             "colorbar": {
              "outlinewidth": 0,
              "ticks": ""
             }
            },
            "type": "parcoords"
           }
          ],
          "pie": [
           {
            "automargin": true,
            "type": "pie"
           }
          ],
          "scatter": [
           {
            "fillpattern": {
             "fillmode": "overlay",
             "size": 10,
             "solidity": 0.2
            },
            "type": "scatter"
           }
          ],
          "scatter3d": [
           {
            "line": {
             "colorbar": {
              "outlinewidth": 0,
              "ticks": ""
             }
            },
            "marker": {
             "colorbar": {
              "outlinewidth": 0,
              "ticks": ""
             }
            },
            "type": "scatter3d"
           }
          ],
          "scattercarpet": [
           {
            "marker": {
             "colorbar": {
              "outlinewidth": 0,
              "ticks": ""
             }
            },
            "type": "scattercarpet"
           }
          ],
          "scattergeo": [
           {
            "marker": {
             "colorbar": {
              "outlinewidth": 0,
              "ticks": ""
             }
            },
            "type": "scattergeo"
           }
          ],
          "scattergl": [
           {
            "marker": {
             "colorbar": {
              "outlinewidth": 0,
              "ticks": ""
             }
            },
            "type": "scattergl"
           }
          ],
          "scattermapbox": [
           {
            "marker": {
             "colorbar": {
              "outlinewidth": 0,
              "ticks": ""
             }
            },
            "type": "scattermapbox"
           }
          ],
          "scatterpolar": [
           {
            "marker": {
             "colorbar": {
              "outlinewidth": 0,
              "ticks": ""
             }
            },
            "type": "scatterpolar"
           }
          ],
          "scatterpolargl": [
           {
            "marker": {
             "colorbar": {
              "outlinewidth": 0,
              "ticks": ""
             }
            },
            "type": "scatterpolargl"
           }
          ],
          "scatterternary": [
           {
            "marker": {
             "colorbar": {
              "outlinewidth": 0,
              "ticks": ""
             }
            },
            "type": "scatterternary"
           }
          ],
          "surface": [
           {
            "colorbar": {
             "outlinewidth": 0,
             "ticks": ""
            },
            "colorscale": [
             [
              0,
              "#0d0887"
             ],
             [
              0.1111111111111111,
              "#46039f"
             ],
             [
              0.2222222222222222,
              "#7201a8"
             ],
             [
              0.3333333333333333,
              "#9c179e"
             ],
             [
              0.4444444444444444,
              "#bd3786"
             ],
             [
              0.5555555555555556,
              "#d8576b"
             ],
             [
              0.6666666666666666,
              "#ed7953"
             ],
             [
              0.7777777777777778,
              "#fb9f3a"
             ],
             [
              0.8888888888888888,
              "#fdca26"
             ],
             [
              1,
              "#f0f921"
             ]
            ],
            "type": "surface"
           }
          ],
          "table": [
           {
            "cells": {
             "fill": {
              "color": "#EBF0F8"
             },
             "line": {
              "color": "white"
             }
            },
            "header": {
             "fill": {
              "color": "#C8D4E3"
             },
             "line": {
              "color": "white"
             }
            },
            "type": "table"
           }
          ]
         },
         "layout": {
          "annotationdefaults": {
           "arrowcolor": "#2a3f5f",
           "arrowhead": 0,
           "arrowwidth": 1
          },
          "autotypenumbers": "strict",
          "coloraxis": {
           "colorbar": {
            "outlinewidth": 0,
            "ticks": ""
           }
          },
          "colorscale": {
           "diverging": [
            [
             0,
             "#8e0152"
            ],
            [
             0.1,
             "#c51b7d"
            ],
            [
             0.2,
             "#de77ae"
            ],
            [
             0.3,
             "#f1b6da"
            ],
            [
             0.4,
             "#fde0ef"
            ],
            [
             0.5,
             "#f7f7f7"
            ],
            [
             0.6,
             "#e6f5d0"
            ],
            [
             0.7,
             "#b8e186"
            ],
            [
             0.8,
             "#7fbc41"
            ],
            [
             0.9,
             "#4d9221"
            ],
            [
             1,
             "#276419"
            ]
           ],
           "sequential": [
            [
             0,
             "#0d0887"
            ],
            [
             0.1111111111111111,
             "#46039f"
            ],
            [
             0.2222222222222222,
             "#7201a8"
            ],
            [
             0.3333333333333333,
             "#9c179e"
            ],
            [
             0.4444444444444444,
             "#bd3786"
            ],
            [
             0.5555555555555556,
             "#d8576b"
            ],
            [
             0.6666666666666666,
             "#ed7953"
            ],
            [
             0.7777777777777778,
             "#fb9f3a"
            ],
            [
             0.8888888888888888,
             "#fdca26"
            ],
            [
             1,
             "#f0f921"
            ]
           ],
           "sequentialminus": [
            [
             0,
             "#0d0887"
            ],
            [
             0.1111111111111111,
             "#46039f"
            ],
            [
             0.2222222222222222,
             "#7201a8"
            ],
            [
             0.3333333333333333,
             "#9c179e"
            ],
            [
             0.4444444444444444,
             "#bd3786"
            ],
            [
             0.5555555555555556,
             "#d8576b"
            ],
            [
             0.6666666666666666,
             "#ed7953"
            ],
            [
             0.7777777777777778,
             "#fb9f3a"
            ],
            [
             0.8888888888888888,
             "#fdca26"
            ],
            [
             1,
             "#f0f921"
            ]
           ]
          },
          "colorway": [
           "#636efa",
           "#EF553B",
           "#00cc96",
           "#ab63fa",
           "#FFA15A",
           "#19d3f3",
           "#FF6692",
           "#B6E880",
           "#FF97FF",
           "#FECB52"
          ],
          "font": {
           "color": "#2a3f5f"
          },
          "geo": {
           "bgcolor": "white",
           "lakecolor": "white",
           "landcolor": "#E5ECF6",
           "showlakes": true,
           "showland": true,
           "subunitcolor": "white"
          },
          "hoverlabel": {
           "align": "left"
          },
          "hovermode": "closest",
          "mapbox": {
           "style": "light"
          },
          "paper_bgcolor": "white",
          "plot_bgcolor": "#E5ECF6",
          "polar": {
           "angularaxis": {
            "gridcolor": "white",
            "linecolor": "white",
            "ticks": ""
           },
           "bgcolor": "#E5ECF6",
           "radialaxis": {
            "gridcolor": "white",
            "linecolor": "white",
            "ticks": ""
           }
          },
          "scene": {
           "xaxis": {
            "backgroundcolor": "#E5ECF6",
            "gridcolor": "white",
            "gridwidth": 2,
            "linecolor": "white",
            "showbackground": true,
            "ticks": "",
            "zerolinecolor": "white"
           },
           "yaxis": {
            "backgroundcolor": "#E5ECF6",
            "gridcolor": "white",
            "gridwidth": 2,
            "linecolor": "white",
            "showbackground": true,
            "ticks": "",
            "zerolinecolor": "white"
           },
           "zaxis": {
            "backgroundcolor": "#E5ECF6",
            "gridcolor": "white",
            "gridwidth": 2,
            "linecolor": "white",
            "showbackground": true,
            "ticks": "",
            "zerolinecolor": "white"
           }
          },
          "shapedefaults": {
           "line": {
            "color": "#2a3f5f"
           }
          },
          "ternary": {
           "aaxis": {
            "gridcolor": "white",
            "linecolor": "white",
            "ticks": ""
           },
           "baxis": {
            "gridcolor": "white",
            "linecolor": "white",
            "ticks": ""
           },
           "bgcolor": "#E5ECF6",
           "caxis": {
            "gridcolor": "white",
            "linecolor": "white",
            "ticks": ""
           }
          },
          "title": {
           "x": 0.05
          },
          "xaxis": {
           "automargin": true,
           "gridcolor": "white",
           "linecolor": "white",
           "ticks": "",
           "title": {
            "standoff": 15
           },
           "zerolinecolor": "white",
           "zerolinewidth": 2
          },
          "yaxis": {
           "automargin": true,
           "gridcolor": "white",
           "linecolor": "white",
           "ticks": "",
           "title": {
            "standoff": 15
           },
           "zerolinecolor": "white",
           "zerolinewidth": 2
          }
         }
        },
        "xaxis": {
         "anchor": "y",
         "domain": [
          0,
          1
         ],
         "title": {
          "text": "t"
         }
        },
        "yaxis": {
         "anchor": "x",
         "domain": [
          0,
          1
         ],
         "title": {
          "text": "value"
         }
        }
       }
      },
      "text/html": [
       "<div>                            <div id=\"15e795b1-e228-4215-ad9b-fdf7e6065367\" class=\"plotly-graph-div\" style=\"height:525px; width:100%;\"></div>            <script type=\"text/javascript\">                require([\"plotly\"], function(Plotly) {                    window.PLOTLYENV=window.PLOTLYENV || {};                                    if (document.getElementById(\"15e795b1-e228-4215-ad9b-fdf7e6065367\")) {                    Plotly.newPlot(                        \"15e795b1-e228-4215-ad9b-fdf7e6065367\",                        [{\"hovertemplate\":\"data_type=fact<br>variable=ci_low<br>t=%{x}<br>value=%{y}<extra></extra>\",\"legendgroup\":\"fact\",\"line\":{\"color\":\"blue\",\"dash\":\"solid\"},\"marker\":{\"symbol\":\"circle\"},\"mode\":\"lines\",\"name\":\"fact\",\"orientation\":\"v\",\"showlegend\":true,\"x\":[1,2,3,4,5,6,7,8,9,10,11,12,13,14,15,16,17,18,19,20,21,22,23,24,25,26,27,28,29,30,31,32,33,34,35,36,37],\"xaxis\":\"x\",\"y\":[71.080061388389,86.63205093901712,112.2168392767484,91.13670339111991,-0.4787928017461809,65.96643007596214,62.98422477466946,74.29447186436408,147.06872504044006,173.0226108596913,136.35082503547235,39.12530299697414,44.370069463147246,18.86268285031008,49.75812507292599,56.227885780192054,106.24155405165718,102.10344034636705,52.3437264945959,25.675314008346874,118.43072651329007,256.9977252167272,319.6361905337335,215.40229413209434,117.32727217079119,60.927002070045404,32.60884538130088,28.823837065610405,111.2054993837103,118.41153600298574,149.62618038033034,113.31965393557047,72.73044527456128,67.7076490442416,88.0316788238795,96.74736892042887,199.56180724322448],\"yaxis\":\"y\",\"type\":\"scatter\"},{\"hovertemplate\":\"data_type=fact<br>variable=values<br>t=%{x}<br>value=%{y}<extra></extra>\",\"legendgroup\":\"fact\",\"line\":{\"color\":\"blue\",\"dash\":\"solid\"},\"marker\":{\"symbol\":\"circle\"},\"mode\":\"lines\",\"name\":\"fact\",\"orientation\":\"v\",\"showlegend\":false,\"x\":[1,2,3,4,5,6,7,8,9,10,11,12,13,14,15,16,17,18,19,20,21,22,23,24,25,26,27,28,29,30,31,32,33,34,35,36,37],\"xaxis\":\"x\",\"y\":[187.05666666666667,232.92666666666668,287.324,236.95466666666667,175.716,194.31,217.70133333333334,283.938,341.2286666666667,342.92533333333336,338.03000000000003,172.28733333333335,166.41933333333333,172.73333333333335,186.32133333333334,211.868,239.00466666666668,246.67266666666666,202.41666666666666,189.292,250.81733333333335,378.13866666666667,465.87333333333333,371.56266666666664,200.50533333333334,170.35999999999999,186.68333333333334,168.392,231.85399999999998,246.47466666666665,301.43,270.3546666666667,229.70866666666666,151.18533333333335,93.256,136.67466666666667,235.708],\"yaxis\":\"y\",\"type\":\"scatter\"},{\"hovertemplate\":\"data_type=fact<br>variable=ci_up<br>t=%{x}<br>value=%{y}<extra></extra>\",\"legendgroup\":\"fact\",\"line\":{\"color\":\"blue\",\"dash\":\"solid\"},\"marker\":{\"symbol\":\"circle\"},\"mode\":\"lines\",\"name\":\"fact\",\"orientation\":\"v\",\"showlegend\":false,\"x\":[1,2,3,4,5,6,7,8,9,10,11,12,13,14,15,16,17,18,19,20,21,22,23,24,25,26,27,28,29,30,31,32,33,34,35,36,37],\"xaxis\":\"x\",\"y\":[365.4471646991284,380.99915424975654,406.58394258748785,385.50380670185933,293.88831050899324,360.33353338670156,357.3513280854089,368.6615751751035,441.43582835117945,467.3897141704307,430.7179283462118,333.49240630771357,338.73717277388664,313.2297861610495,344.12522838366544,350.59498909093145,400.60865736239657,396.4705436571065,346.7108298053353,320.0424173190863,412.79782982402946,551.3648285274667,614.003293844473,509.7693974428338,411.69437548153064,355.2941053807848,326.97594869204033,323.19094037634983,405.57260269444976,412.7786393137252,443.9932836910698,407.68675724630987,367.09754858530073,362.074752354981,382.39878213461895,391.1144722311683,493.9289105539639],\"yaxis\":\"y\",\"type\":\"scatter\"},{\"hovertemplate\":\"data_type=forecast<br>variable=ci_low<br>t=%{x}<br>value=%{y}<extra></extra>\",\"legendgroup\":\"forecast\",\"line\":{\"color\":\"orange\",\"dash\":\"solid\"},\"marker\":{\"symbol\":\"circle\"},\"mode\":\"lines\",\"name\":\"forecast\",\"orientation\":\"v\",\"showlegend\":true,\"x\":[1,2,3,4,5,6,7,8,9,10,11,12,13,14,15,16,17,18,19,20,21,22,23,24,25,26,27,28,29,30,31,32,33,34,35,36,37],\"xaxis\":\"x\",\"y\":[71.080061388389,86.63205093901712,112.2168392767484,91.13670339111991,-0.4787928017461809,65.96643007596214,62.98422477466946,74.29447186436408,147.06872504044006,173.0226108596913,136.35082503547235,39.12530299697414,44.370069463147246,18.86268285031008,49.75812507292599,56.227885780192054,106.24155405165718,102.10344034636705,52.3437264945959,25.675314008346874,118.43072651329007,256.9977252167272,319.6361905337335,215.40229413209434,117.32727217079119,60.927002070045404,32.60884538130088,28.823837065610405,111.2054993837103,118.41153600298574,149.62618038033034,113.31965393557047,72.73044527456128,67.7076490442416,88.0316788238795,96.74736892042887,199.56180724322448],\"yaxis\":\"y\",\"type\":\"scatter\"},{\"hovertemplate\":\"data_type=forecast<br>variable=values<br>t=%{x}<br>value=%{y}<extra></extra>\",\"legendgroup\":\"forecast\",\"line\":{\"color\":\"orange\",\"dash\":\"solid\"},\"marker\":{\"symbol\":\"circle\"},\"mode\":\"lines\",\"name\":\"forecast\",\"orientation\":\"v\",\"showlegend\":false,\"x\":[1,2,3,4,5,6,7,8,9,10,11,12,13,14,15,16,17,18,19,20,21,22,23,24,25,26,27,28,29,30,31,32,33,34,35,36,37],\"xaxis\":\"x\",\"y\":[218.2636130437587,233.81560259438683,259.4003909321181,238.32025504648962,146.70475885362353,213.14998173133185,210.16777643003917,221.4780235197338,294.25227669580977,320.206162515061,283.53437669084207,186.30885465234385,191.55362111851696,166.0462345056798,196.9416767282957,203.41143743556177,253.4251057070269,249.28699200173676,199.5272781499656,172.85886566371659,265.6142781686598,404.18127687209693,466.81974218910324,362.58584578746405,264.5108238261609,208.11055372541512,179.7923970366706,176.00738872098012,258.38905103908,265.59508765835545,296.80973203570005,260.5032055909402,219.913996929931,214.89120069961132,235.21523047924921,243.93092057579858,346.7453588985942],\"yaxis\":\"y\",\"type\":\"scatter\"},{\"hovertemplate\":\"data_type=forecast<br>variable=ci_up<br>t=%{x}<br>value=%{y}<extra></extra>\",\"legendgroup\":\"forecast\",\"line\":{\"color\":\"orange\",\"dash\":\"solid\"},\"marker\":{\"symbol\":\"circle\"},\"mode\":\"lines\",\"name\":\"forecast\",\"orientation\":\"v\",\"showlegend\":false,\"x\":[1,2,3,4,5,6,7,8,9,10,11,12,13,14,15,16,17,18,19,20,21,22,23,24,25,26,27,28,29,30,31,32,33,34,35,36,37],\"xaxis\":\"x\",\"y\":[365.4471646991284,380.99915424975654,406.58394258748785,385.50380670185933,293.88831050899324,360.33353338670156,357.3513280854089,368.6615751751035,441.43582835117945,467.3897141704307,430.7179283462118,333.49240630771357,338.73717277388664,313.2297861610495,344.12522838366544,350.59498909093145,400.60865736239657,396.4705436571065,346.7108298053353,320.0424173190863,412.79782982402946,551.3648285274667,614.003293844473,509.7693974428338,411.69437548153064,355.2941053807848,326.97594869204033,323.19094037634983,405.57260269444976,412.7786393137252,443.9932836910698,407.68675724630987,367.09754858530073,362.074752354981,382.39878213461895,391.1144722311683,493.9289105539639],\"yaxis\":\"y\",\"type\":\"scatter\"}],                        {\"template\":{\"data\":{\"histogram2dcontour\":[{\"type\":\"histogram2dcontour\",\"colorbar\":{\"outlinewidth\":0,\"ticks\":\"\"},\"colorscale\":[[0.0,\"#0d0887\"],[0.1111111111111111,\"#46039f\"],[0.2222222222222222,\"#7201a8\"],[0.3333333333333333,\"#9c179e\"],[0.4444444444444444,\"#bd3786\"],[0.5555555555555556,\"#d8576b\"],[0.6666666666666666,\"#ed7953\"],[0.7777777777777778,\"#fb9f3a\"],[0.8888888888888888,\"#fdca26\"],[1.0,\"#f0f921\"]]}],\"choropleth\":[{\"type\":\"choropleth\",\"colorbar\":{\"outlinewidth\":0,\"ticks\":\"\"}}],\"histogram2d\":[{\"type\":\"histogram2d\",\"colorbar\":{\"outlinewidth\":0,\"ticks\":\"\"},\"colorscale\":[[0.0,\"#0d0887\"],[0.1111111111111111,\"#46039f\"],[0.2222222222222222,\"#7201a8\"],[0.3333333333333333,\"#9c179e\"],[0.4444444444444444,\"#bd3786\"],[0.5555555555555556,\"#d8576b\"],[0.6666666666666666,\"#ed7953\"],[0.7777777777777778,\"#fb9f3a\"],[0.8888888888888888,\"#fdca26\"],[1.0,\"#f0f921\"]]}],\"heatmap\":[{\"type\":\"heatmap\",\"colorbar\":{\"outlinewidth\":0,\"ticks\":\"\"},\"colorscale\":[[0.0,\"#0d0887\"],[0.1111111111111111,\"#46039f\"],[0.2222222222222222,\"#7201a8\"],[0.3333333333333333,\"#9c179e\"],[0.4444444444444444,\"#bd3786\"],[0.5555555555555556,\"#d8576b\"],[0.6666666666666666,\"#ed7953\"],[0.7777777777777778,\"#fb9f3a\"],[0.8888888888888888,\"#fdca26\"],[1.0,\"#f0f921\"]]}],\"heatmapgl\":[{\"type\":\"heatmapgl\",\"colorbar\":{\"outlinewidth\":0,\"ticks\":\"\"},\"colorscale\":[[0.0,\"#0d0887\"],[0.1111111111111111,\"#46039f\"],[0.2222222222222222,\"#7201a8\"],[0.3333333333333333,\"#9c179e\"],[0.4444444444444444,\"#bd3786\"],[0.5555555555555556,\"#d8576b\"],[0.6666666666666666,\"#ed7953\"],[0.7777777777777778,\"#fb9f3a\"],[0.8888888888888888,\"#fdca26\"],[1.0,\"#f0f921\"]]}],\"contourcarpet\":[{\"type\":\"contourcarpet\",\"colorbar\":{\"outlinewidth\":0,\"ticks\":\"\"}}],\"contour\":[{\"type\":\"contour\",\"colorbar\":{\"outlinewidth\":0,\"ticks\":\"\"},\"colorscale\":[[0.0,\"#0d0887\"],[0.1111111111111111,\"#46039f\"],[0.2222222222222222,\"#7201a8\"],[0.3333333333333333,\"#9c179e\"],[0.4444444444444444,\"#bd3786\"],[0.5555555555555556,\"#d8576b\"],[0.6666666666666666,\"#ed7953\"],[0.7777777777777778,\"#fb9f3a\"],[0.8888888888888888,\"#fdca26\"],[1.0,\"#f0f921\"]]}],\"surface\":[{\"type\":\"surface\",\"colorbar\":{\"outlinewidth\":0,\"ticks\":\"\"},\"colorscale\":[[0.0,\"#0d0887\"],[0.1111111111111111,\"#46039f\"],[0.2222222222222222,\"#7201a8\"],[0.3333333333333333,\"#9c179e\"],[0.4444444444444444,\"#bd3786\"],[0.5555555555555556,\"#d8576b\"],[0.6666666666666666,\"#ed7953\"],[0.7777777777777778,\"#fb9f3a\"],[0.8888888888888888,\"#fdca26\"],[1.0,\"#f0f921\"]]}],\"mesh3d\":[{\"type\":\"mesh3d\",\"colorbar\":{\"outlinewidth\":0,\"ticks\":\"\"}}],\"scatter\":[{\"fillpattern\":{\"fillmode\":\"overlay\",\"size\":10,\"solidity\":0.2},\"type\":\"scatter\"}],\"parcoords\":[{\"type\":\"parcoords\",\"line\":{\"colorbar\":{\"outlinewidth\":0,\"ticks\":\"\"}}}],\"scatterpolargl\":[{\"type\":\"scatterpolargl\",\"marker\":{\"colorbar\":{\"outlinewidth\":0,\"ticks\":\"\"}}}],\"bar\":[{\"error_x\":{\"color\":\"#2a3f5f\"},\"error_y\":{\"color\":\"#2a3f5f\"},\"marker\":{\"line\":{\"color\":\"#E5ECF6\",\"width\":0.5},\"pattern\":{\"fillmode\":\"overlay\",\"size\":10,\"solidity\":0.2}},\"type\":\"bar\"}],\"scattergeo\":[{\"type\":\"scattergeo\",\"marker\":{\"colorbar\":{\"outlinewidth\":0,\"ticks\":\"\"}}}],\"scatterpolar\":[{\"type\":\"scatterpolar\",\"marker\":{\"colorbar\":{\"outlinewidth\":0,\"ticks\":\"\"}}}],\"histogram\":[{\"marker\":{\"pattern\":{\"fillmode\":\"overlay\",\"size\":10,\"solidity\":0.2}},\"type\":\"histogram\"}],\"scattergl\":[{\"type\":\"scattergl\",\"marker\":{\"colorbar\":{\"outlinewidth\":0,\"ticks\":\"\"}}}],\"scatter3d\":[{\"type\":\"scatter3d\",\"line\":{\"colorbar\":{\"outlinewidth\":0,\"ticks\":\"\"}},\"marker\":{\"colorbar\":{\"outlinewidth\":0,\"ticks\":\"\"}}}],\"scattermapbox\":[{\"type\":\"scattermapbox\",\"marker\":{\"colorbar\":{\"outlinewidth\":0,\"ticks\":\"\"}}}],\"scatterternary\":[{\"type\":\"scatterternary\",\"marker\":{\"colorbar\":{\"outlinewidth\":0,\"ticks\":\"\"}}}],\"scattercarpet\":[{\"type\":\"scattercarpet\",\"marker\":{\"colorbar\":{\"outlinewidth\":0,\"ticks\":\"\"}}}],\"carpet\":[{\"aaxis\":{\"endlinecolor\":\"#2a3f5f\",\"gridcolor\":\"white\",\"linecolor\":\"white\",\"minorgridcolor\":\"white\",\"startlinecolor\":\"#2a3f5f\"},\"baxis\":{\"endlinecolor\":\"#2a3f5f\",\"gridcolor\":\"white\",\"linecolor\":\"white\",\"minorgridcolor\":\"white\",\"startlinecolor\":\"#2a3f5f\"},\"type\":\"carpet\"}],\"table\":[{\"cells\":{\"fill\":{\"color\":\"#EBF0F8\"},\"line\":{\"color\":\"white\"}},\"header\":{\"fill\":{\"color\":\"#C8D4E3\"},\"line\":{\"color\":\"white\"}},\"type\":\"table\"}],\"barpolar\":[{\"marker\":{\"line\":{\"color\":\"#E5ECF6\",\"width\":0.5},\"pattern\":{\"fillmode\":\"overlay\",\"size\":10,\"solidity\":0.2}},\"type\":\"barpolar\"}],\"pie\":[{\"automargin\":true,\"type\":\"pie\"}]},\"layout\":{\"autotypenumbers\":\"strict\",\"colorway\":[\"#636efa\",\"#EF553B\",\"#00cc96\",\"#ab63fa\",\"#FFA15A\",\"#19d3f3\",\"#FF6692\",\"#B6E880\",\"#FF97FF\",\"#FECB52\"],\"font\":{\"color\":\"#2a3f5f\"},\"hovermode\":\"closest\",\"hoverlabel\":{\"align\":\"left\"},\"paper_bgcolor\":\"white\",\"plot_bgcolor\":\"#E5ECF6\",\"polar\":{\"bgcolor\":\"#E5ECF6\",\"angularaxis\":{\"gridcolor\":\"white\",\"linecolor\":\"white\",\"ticks\":\"\"},\"radialaxis\":{\"gridcolor\":\"white\",\"linecolor\":\"white\",\"ticks\":\"\"}},\"ternary\":{\"bgcolor\":\"#E5ECF6\",\"aaxis\":{\"gridcolor\":\"white\",\"linecolor\":\"white\",\"ticks\":\"\"},\"baxis\":{\"gridcolor\":\"white\",\"linecolor\":\"white\",\"ticks\":\"\"},\"caxis\":{\"gridcolor\":\"white\",\"linecolor\":\"white\",\"ticks\":\"\"}},\"coloraxis\":{\"colorbar\":{\"outlinewidth\":0,\"ticks\":\"\"}},\"colorscale\":{\"sequential\":[[0.0,\"#0d0887\"],[0.1111111111111111,\"#46039f\"],[0.2222222222222222,\"#7201a8\"],[0.3333333333333333,\"#9c179e\"],[0.4444444444444444,\"#bd3786\"],[0.5555555555555556,\"#d8576b\"],[0.6666666666666666,\"#ed7953\"],[0.7777777777777778,\"#fb9f3a\"],[0.8888888888888888,\"#fdca26\"],[1.0,\"#f0f921\"]],\"sequentialminus\":[[0.0,\"#0d0887\"],[0.1111111111111111,\"#46039f\"],[0.2222222222222222,\"#7201a8\"],[0.3333333333333333,\"#9c179e\"],[0.4444444444444444,\"#bd3786\"],[0.5555555555555556,\"#d8576b\"],[0.6666666666666666,\"#ed7953\"],[0.7777777777777778,\"#fb9f3a\"],[0.8888888888888888,\"#fdca26\"],[1.0,\"#f0f921\"]],\"diverging\":[[0,\"#8e0152\"],[0.1,\"#c51b7d\"],[0.2,\"#de77ae\"],[0.3,\"#f1b6da\"],[0.4,\"#fde0ef\"],[0.5,\"#f7f7f7\"],[0.6,\"#e6f5d0\"],[0.7,\"#b8e186\"],[0.8,\"#7fbc41\"],[0.9,\"#4d9221\"],[1,\"#276419\"]]},\"xaxis\":{\"gridcolor\":\"white\",\"linecolor\":\"white\",\"ticks\":\"\",\"title\":{\"standoff\":15},\"zerolinecolor\":\"white\",\"automargin\":true,\"zerolinewidth\":2},\"yaxis\":{\"gridcolor\":\"white\",\"linecolor\":\"white\",\"ticks\":\"\",\"title\":{\"standoff\":15},\"zerolinecolor\":\"white\",\"automargin\":true,\"zerolinewidth\":2},\"scene\":{\"xaxis\":{\"backgroundcolor\":\"#E5ECF6\",\"gridcolor\":\"white\",\"linecolor\":\"white\",\"showbackground\":true,\"ticks\":\"\",\"zerolinecolor\":\"white\",\"gridwidth\":2},\"yaxis\":{\"backgroundcolor\":\"#E5ECF6\",\"gridcolor\":\"white\",\"linecolor\":\"white\",\"showbackground\":true,\"ticks\":\"\",\"zerolinecolor\":\"white\",\"gridwidth\":2},\"zaxis\":{\"backgroundcolor\":\"#E5ECF6\",\"gridcolor\":\"white\",\"linecolor\":\"white\",\"showbackground\":true,\"ticks\":\"\",\"zerolinecolor\":\"white\",\"gridwidth\":2}},\"shapedefaults\":{\"line\":{\"color\":\"#2a3f5f\"}},\"annotationdefaults\":{\"arrowcolor\":\"#2a3f5f\",\"arrowhead\":0,\"arrowwidth\":1},\"geo\":{\"bgcolor\":\"white\",\"landcolor\":\"#E5ECF6\",\"subunitcolor\":\"white\",\"showland\":true,\"showlakes\":true,\"lakecolor\":\"white\"},\"title\":{\"x\":0.05},\"mapbox\":{\"style\":\"light\"}}},\"xaxis\":{\"anchor\":\"y\",\"domain\":[0.0,1.0],\"title\":{\"text\":\"t\"}},\"yaxis\":{\"anchor\":\"x\",\"domain\":[0.0,1.0],\"title\":{\"text\":\"value\"}},\"legend\":{\"title\":{\"text\":\"data_type\"},\"tracegroupgap\":0},\"margin\":{\"t\":60},\"shapes\":[{\"line\":{\"color\":\"black\",\"dash\":\"dash\",\"width\":2},\"opacity\":0.7,\"type\":\"line\",\"x0\":33,\"x1\":33,\"xref\":\"x\",\"y0\":0,\"y1\":1,\"yref\":\"y domain\"}],\"annotations\":[{\"showarrow\":false,\"text\":\"A/A period start\",\"x\":33,\"xanchor\":\"right\",\"xref\":\"x\",\"y\":1,\"yanchor\":\"top\",\"yref\":\"y domain\"}]},                        {\"responsive\": true}                    ).then(function(){\n",
       "                            \n",
       "var gd = document.getElementById('15e795b1-e228-4215-ad9b-fdf7e6065367');\n",
       "var x = new MutationObserver(function (mutations, observer) {{\n",
       "        var display = window.getComputedStyle(gd).display;\n",
       "        if (!display || display === 'none') {{\n",
       "            console.log([gd, 'removed!']);\n",
       "            Plotly.purge(gd);\n",
       "            observer.disconnect();\n",
       "        }}\n",
       "}});\n",
       "\n",
       "// Listen for the removal of the full notebook cells\n",
       "var notebookContainer = gd.closest('#notebook-container');\n",
       "if (notebookContainer) {{\n",
       "    x.observe(notebookContainer, {childList: true});\n",
       "}}\n",
       "\n",
       "// Listen for the clearing of the current output cell\n",
       "var outputEl = gd.closest('.output');\n",
       "if (outputEl) {{\n",
       "    x.observe(outputEl, {childList: true});\n",
       "}}\n",
       "\n",
       "                        })                };                });            </script>        </div>"
      ]
     },
     "metadata": {},
     "output_type": "display_data"
    }
   ],
   "source": [
    "    # оцениваем точность модели\n",
    "    float_rsquared = round(results.rsquared, 4)\n",
    "    series_predictions = pd.Series(results.predict(X_test))\n",
    "    series_facts = pd.Series([i[0] for i in y_test])\n",
    "    series_prepilot_predictions = pd.Series(results.predict())\n",
    "    series_prepilot_facts = pd.Series([i[0] for i in y_train])\n",
    "    rmse = mean_squared_error(series_predictions, series_facts)**(1/2)\n",
    "    rmse_prec = round(rmse / series_predictions.mean(), 4)\n",
    "    print(f'R-squared: {float_rsquared}, holdout {sigma} rmse (%): {sigma * rmse_prec}')\n",
    "\n",
    "    # визуализация точности прогнозирования\n",
    "    t_prepilot = [i + 1 for i in range(len(series_prepilot_predictions))]\n",
    "    t_pilot = [i + 1 for i in range(max(t_prepilot), max(t_prepilot) + len(series_predictions))]\n",
    "    df_pilot_pred = pd.DataFrame({\n",
    "        'data_type':'forecast',\n",
    "        'period_type':'pilot',\n",
    "        'values':series_predictions,\n",
    "        'ci_low':series_predictions - rmse * sigma,\n",
    "        'ci_up':series_predictions + rmse * sigma,\n",
    "        't':t_pilot\n",
    "    })\n",
    "    df_pilot_fact = pd.DataFrame({\n",
    "        'data_type':'fact',\n",
    "        'period_type':'pilot',\n",
    "        'values':series_facts,\n",
    "        'ci_low':series_predictions - rmse * sigma,\n",
    "        'ci_up':series_predictions + rmse * sigma,\n",
    "        't':t_pilot\n",
    "    })\n",
    "    df_prepilot_pred = pd.DataFrame({\n",
    "        'data_type':'forecast',\n",
    "        'period_type':'prepilot',\n",
    "        'values':series_prepilot_predictions,\n",
    "        'ci_low':series_prepilot_predictions - rmse * sigma,\n",
    "        'ci_up':series_prepilot_predictions + rmse * sigma,\n",
    "        't':t_prepilot\n",
    "    })\n",
    "    df_prepilot_fact = pd.DataFrame({\n",
    "        'data_type':'fact',\n",
    "        'period_type':'prepilot',\n",
    "        'values':series_prepilot_facts,\n",
    "        'ci_low':series_prepilot_predictions - rmse * sigma,\n",
    "        'ci_up':series_prepilot_predictions + rmse * sigma,\n",
    "        't':t_prepilot\n",
    "    })\n",
    "    df_results = pd.concat([df_prepilot_fact, df_prepilot_pred, df_pilot_fact, df_pilot_pred])\n",
    "    fig = px.line(\n",
    "        df_results, \n",
    "        x=\"t\", \n",
    "        y=['ci_low', \"values\", 'ci_up'], \n",
    "        color='data_type',\n",
    "        color_discrete_sequence=[\"blue\", \"orange\"]\n",
    "    )\n",
    "    fig.add_vline(\n",
    "        x=min(t_pilot), \n",
    "        line_width=2, \n",
    "        line_dash=\"dash\", \n",
    "        line_color=\"black\", \n",
    "        opacity=0.7,\n",
    "        annotation_text=\"A/A period start\", \n",
    "        annotation_position=\"top left\"\n",
    "    )\n",
    "    fig.show()"
   ]
  },
  {
   "cell_type": "code",
   "execution_count": 116,
   "id": "151d919e",
   "metadata": {},
   "outputs": [
    {
     "data": {
      "text/plain": [
       "1260.6967075831844"
      ]
     },
     "execution_count": 116,
     "metadata": {},
     "output_type": "execute_result"
    }
   ],
   "source": [
    "series_predictions.sum()"
   ]
  },
  {
   "cell_type": "code",
   "execution_count": 117,
   "id": "55c532e4",
   "metadata": {},
   "outputs": [
    {
     "data": {
      "text/plain": [
       "846.5326666666666"
      ]
     },
     "execution_count": 117,
     "metadata": {},
     "output_type": "execute_result"
    }
   ],
   "source": [
    "series_facts.sum()"
   ]
  },
  {
   "cell_type": "code",
   "execution_count": 118,
   "id": "392d232b",
   "metadata": {},
   "outputs": [
    {
     "data": {
      "text/plain": [
       "48.924755916076236"
      ]
     },
     "execution_count": 118,
     "metadata": {},
     "output_type": "execute_result"
    }
   ],
   "source": [
    "series_predictions.sum()/series_facts.sum()*100-100"
   ]
  },
  {
   "cell_type": "code",
   "execution_count": 119,
   "id": "9cceac0c",
   "metadata": {},
   "outputs": [
    {
     "data": {
      "text/plain": [
       "0    219.913997\n",
       "1    214.891201\n",
       "2    235.215230\n",
       "3    243.930921\n",
       "4    346.745359\n",
       "dtype: float64"
      ]
     },
     "execution_count": 119,
     "metadata": {},
     "output_type": "execute_result"
    }
   ],
   "source": [
    "series_predictions"
   ]
  },
  {
   "cell_type": "code",
   "execution_count": 120,
   "id": "b48ed1e4",
   "metadata": {},
   "outputs": [
    {
     "data": {
      "text/plain": [
       "Timestamp('2023-04-23 00:00:00')"
      ]
     },
     "execution_count": 120,
     "metadata": {},
     "output_type": "execute_result"
    }
   ],
   "source": [
    "df_prepilot_final.date.max()"
   ]
  },
  {
   "cell_type": "code",
   "execution_count": 121,
   "id": "df5bf3ce",
   "metadata": {},
   "outputs": [
    {
     "data": {
      "text/plain": [
       "Timestamp('2023-04-24 00:00:00')"
      ]
     },
     "execution_count": 121,
     "metadata": {},
     "output_type": "execute_result"
    }
   ],
   "source": [
    "df_pilot_final.date.min()"
   ]
  },
  {
   "cell_type": "code",
   "execution_count": null,
   "id": "e9292f88",
   "metadata": {},
   "outputs": [],
   "source": []
  },
  {
   "cell_type": "code",
   "execution_count": null,
   "id": "5a6ccd9f",
   "metadata": {},
   "outputs": [],
   "source": []
  },
  {
   "cell_type": "code",
   "execution_count": null,
   "id": "76c598b0",
   "metadata": {},
   "outputs": [],
   "source": []
  },
  {
   "cell_type": "code",
   "execution_count": null,
   "id": "2167bb9d",
   "metadata": {},
   "outputs": [],
   "source": [
    "#скрипт с регрессией"
   ]
  },
  {
   "cell_type": "code",
   "execution_count": 145,
   "id": "d8c707d7",
   "metadata": {},
   "outputs": [],
   "source": [
    "for_lin_regr = pd.DataFrame(all_cats_final.groupby('date').revenue.sum()).reset_index()"
   ]
  },
  {
   "cell_type": "code",
   "execution_count": 146,
   "id": "dd0457b8",
   "metadata": {},
   "outputs": [],
   "source": [
    "import plotly.express as px"
   ]
  },
  {
   "cell_type": "code",
   "execution_count": 147,
   "id": "266516ea",
   "metadata": {},
   "outputs": [],
   "source": [
    "import statsmodels.api as sm\n",
    "import statsmodels.formula.api as smf\n",
    "from scipy import stats"
   ]
  },
  {
   "cell_type": "code",
   "execution_count": 148,
   "id": "e10bb9b0",
   "metadata": {},
   "outputs": [
    {
     "data": {
      "text/plain": [
       "68"
      ]
     },
     "execution_count": 148,
     "metadata": {},
     "output_type": "execute_result"
    }
   ],
   "source": [
    "len(for_lin_regr['date'])"
   ]
  },
  {
   "cell_type": "code",
   "execution_count": 150,
   "id": "7d9a97b6",
   "metadata": {},
   "outputs": [],
   "source": [
    "for_lin_regr = for_lin_regr.reset_index()"
   ]
  },
  {
   "cell_type": "code",
   "execution_count": 151,
   "id": "236f6fa9",
   "metadata": {},
   "outputs": [],
   "source": [
    "X = for_lin_regr['index']\n",
    "y = for_lin_regr['revenue']"
   ]
  },
  {
   "cell_type": "code",
   "execution_count": 152,
   "id": "64060c9c",
   "metadata": {},
   "outputs": [
    {
     "name": "stdout",
     "output_type": "stream",
     "text": [
      "                                 OLS Regression Results                                \n",
      "=======================================================================================\n",
      "Dep. Variable:                revenue   R-squared (uncentered):                   0.757\n",
      "Model:                            OLS   Adj. R-squared (uncentered):              0.753\n",
      "Method:                 Least Squares   F-statistic:                              208.3\n",
      "Date:                Wed, 21 Jun 2023   Prob (F-statistic):                    3.05e-22\n",
      "Time:                        16:15:57   Log-Likelihood:                         -468.19\n",
      "No. Observations:                  68   AIC:                                      938.4\n",
      "Df Residuals:                      67   BIC:                                      940.6\n",
      "Df Model:                           1                                                  \n",
      "Covariance Type:            nonrobust                                                  \n",
      "==============================================================================\n",
      "                 coef    std err          t      P>|t|      [0.025      0.975]\n",
      "------------------------------------------------------------------------------\n",
      "index         10.7436      0.744     14.434      0.000       9.258      12.229\n",
      "==============================================================================\n",
      "Omnibus:                        7.830   Durbin-Watson:                   0.207\n",
      "Prob(Omnibus):                  0.020   Jarque-Bera (JB):                3.849\n",
      "Skew:                          -0.348   Prob(JB):                        0.146\n",
      "Kurtosis:                       2.065   Cond. No.                         1.00\n",
      "==============================================================================\n",
      "\n",
      "Notes:\n",
      "[1] R² is computed without centering (uncentered) since the model does not contain a constant.\n",
      "[2] Standard Errors assume that the covariance matrix of the errors is correctly specified.\n"
     ]
    }
   ],
   "source": [
    "model_linal = sm.OLS(y, X)\n",
    "result = model_linal.fit()\n",
    "print(result.summary())"
   ]
  },
  {
   "cell_type": "code",
   "execution_count": 153,
   "id": "e0d4071f",
   "metadata": {},
   "outputs": [],
   "source": [
    "for_lin_regr['revenue_predict'] = result.predict(for_lin_regr['revenue'])"
   ]
  },
  {
   "cell_type": "code",
   "execution_count": 154,
   "id": "a1b1b5fc",
   "metadata": {},
   "outputs": [
    {
     "data": {
      "text/html": [
       "<div>\n",
       "<style scoped>\n",
       "    .dataframe tbody tr th:only-of-type {\n",
       "        vertical-align: middle;\n",
       "    }\n",
       "\n",
       "    .dataframe tbody tr th {\n",
       "        vertical-align: top;\n",
       "    }\n",
       "\n",
       "    .dataframe thead th {\n",
       "        text-align: right;\n",
       "    }\n",
       "</style>\n",
       "<table border=\"1\" class=\"dataframe\">\n",
       "  <thead>\n",
       "    <tr style=\"text-align: right;\">\n",
       "      <th></th>\n",
       "      <th>level_0</th>\n",
       "      <th>index</th>\n",
       "      <th>date</th>\n",
       "      <th>revenue</th>\n",
       "      <th>revenue_predict</th>\n",
       "    </tr>\n",
       "  </thead>\n",
       "  <tbody>\n",
       "    <tr>\n",
       "      <th>0</th>\n",
       "      <td>0</td>\n",
       "      <td>0</td>\n",
       "      <td>2023-02-20</td>\n",
       "      <td>382.782667</td>\n",
       "      <td>4112.467813</td>\n",
       "    </tr>\n",
       "    <tr>\n",
       "      <th>1</th>\n",
       "      <td>1</td>\n",
       "      <td>1</td>\n",
       "      <td>2023-02-21</td>\n",
       "      <td>439.439333</td>\n",
       "      <td>4721.164963</td>\n",
       "    </tr>\n",
       "    <tr>\n",
       "      <th>2</th>\n",
       "      <td>2</td>\n",
       "      <td>2</td>\n",
       "      <td>2023-02-22</td>\n",
       "      <td>505.005333</td>\n",
       "      <td>5425.580518</td>\n",
       "    </tr>\n",
       "    <tr>\n",
       "      <th>3</th>\n",
       "      <td>3</td>\n",
       "      <td>3</td>\n",
       "      <td>2023-02-23</td>\n",
       "      <td>386.907333</td>\n",
       "      <td>4156.781625</td>\n",
       "    </tr>\n",
       "    <tr>\n",
       "      <th>4</th>\n",
       "      <td>4</td>\n",
       "      <td>4</td>\n",
       "      <td>2023-02-24</td>\n",
       "      <td>351.510667</td>\n",
       "      <td>3776.493631</td>\n",
       "    </tr>\n",
       "    <tr>\n",
       "      <th>...</th>\n",
       "      <td>...</td>\n",
       "      <td>...</td>\n",
       "      <td>...</td>\n",
       "      <td>...</td>\n",
       "      <td>...</td>\n",
       "    </tr>\n",
       "    <tr>\n",
       "      <th>63</th>\n",
       "      <td>63</td>\n",
       "      <td>63</td>\n",
       "      <td>2023-04-24</td>\n",
       "      <td>456.883333</td>\n",
       "      <td>4908.576501</td>\n",
       "    </tr>\n",
       "    <tr>\n",
       "      <th>64</th>\n",
       "      <td>64</td>\n",
       "      <td>64</td>\n",
       "      <td>2023-04-25</td>\n",
       "      <td>379.125333</td>\n",
       "      <td>4073.174849</td>\n",
       "    </tr>\n",
       "    <tr>\n",
       "      <th>65</th>\n",
       "      <td>65</td>\n",
       "      <td>65</td>\n",
       "      <td>2023-04-26</td>\n",
       "      <td>347.377333</td>\n",
       "      <td>3732.086708</td>\n",
       "    </tr>\n",
       "    <tr>\n",
       "      <th>66</th>\n",
       "      <td>66</td>\n",
       "      <td>66</td>\n",
       "      <td>2023-04-27</td>\n",
       "      <td>393.879333</td>\n",
       "      <td>4231.686076</td>\n",
       "    </tr>\n",
       "    <tr>\n",
       "      <th>67</th>\n",
       "      <td>67</td>\n",
       "      <td>67</td>\n",
       "      <td>2023-04-28</td>\n",
       "      <td>596.064000</td>\n",
       "      <td>6403.879350</td>\n",
       "    </tr>\n",
       "  </tbody>\n",
       "</table>\n",
       "<p>68 rows × 5 columns</p>\n",
       "</div>"
      ],
      "text/plain": [
       "    level_0  index       date     revenue  revenue_predict\n",
       "0         0      0 2023-02-20  382.782667      4112.467813\n",
       "1         1      1 2023-02-21  439.439333      4721.164963\n",
       "2         2      2 2023-02-22  505.005333      5425.580518\n",
       "3         3      3 2023-02-23  386.907333      4156.781625\n",
       "4         4      4 2023-02-24  351.510667      3776.493631\n",
       "..      ...    ...        ...         ...              ...\n",
       "63       63     63 2023-04-24  456.883333      4908.576501\n",
       "64       64     64 2023-04-25  379.125333      4073.174849\n",
       "65       65     65 2023-04-26  347.377333      3732.086708\n",
       "66       66     66 2023-04-27  393.879333      4231.686076\n",
       "67       67     67 2023-04-28  596.064000      6403.879350\n",
       "\n",
       "[68 rows x 5 columns]"
      ]
     },
     "execution_count": 154,
     "metadata": {},
     "output_type": "execute_result"
    }
   ],
   "source": [
    "for_lin_regr"
   ]
  },
  {
   "cell_type": "code",
   "execution_count": 155,
   "id": "1227a01f",
   "metadata": {},
   "outputs": [],
   "source": [
    "from sklearn.metrics import mean_absolute_error, mean_absolute_percentage_error"
   ]
  },
  {
   "cell_type": "code",
   "execution_count": 156,
   "id": "e943c3a5",
   "metadata": {},
   "outputs": [],
   "source": [
    "def error(y_true,y_pred):\n",
    "    print(mean_absolute_error(y_true,y_pred))\n",
    "    print(mean_absolute_percentage_error(y_true,y_pred))"
   ]
  },
  {
   "cell_type": "code",
   "execution_count": 157,
   "id": "c2e60d57",
   "metadata": {},
   "outputs": [
    {
     "name": "stdout",
     "output_type": "stream",
     "text": [
      "4519.208459066906\n",
      "9.743610333951164\n"
     ]
    }
   ],
   "source": [
    "error(for_lin_regr.revenue, for_lin_regr.revenue_predict)"
   ]
  },
  {
   "cell_type": "code",
   "execution_count": null,
   "id": "c704696e",
   "metadata": {},
   "outputs": [],
   "source": []
  }
 ],
 "metadata": {
  "kernelspec": {
   "display_name": "Python 3 (ipykernel)",
   "language": "python",
   "name": "python3"
  },
  "language_info": {
   "codemirror_mode": {
    "name": "ipython",
    "version": 3
   },
   "file_extension": ".py",
   "mimetype": "text/x-python",
   "name": "python",
   "nbconvert_exporter": "python",
   "pygments_lexer": "ipython3",
   "version": "3.9.7"
  }
 },
 "nbformat": 4,
 "nbformat_minor": 5
}
