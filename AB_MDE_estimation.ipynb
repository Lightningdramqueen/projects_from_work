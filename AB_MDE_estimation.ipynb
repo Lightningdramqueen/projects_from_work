{
 "cells": [
  {
   "cell_type": "markdown",
   "id": "10a8e4c5-a569-4193-b779-57f6242a0ac2",
   "metadata": {},
   "source": [
    "### Данный ноутбук предназначен только для расчёта MDE по произвольным метрикам, которых нет в платформе.\n",
    "\n",
    "### Для остальных (стандартных) метрик предлагается использовать [дашборд](https://metabase.sbmt.io/dashboard/2786-mde?%25D0%25BC%25D0%25B5%25D1%2582%25D1%2580%25D0%25B8%25D0%25BA%25D0%25B0=GMV%20пользователя%20по%20всем%20его%20заказам&%25D1%2587%25D0%25B8%25D1%2581%25D0%25BB%25D0%25B8%25D1%2582%25D0%25B5%25D0%25BB%25D1%258C=(%5CW%7C%5E)gmv_per_user(%5CW%7C%24)&%25D0%25B7%25D0%25BD%25D0%25B0%25D0%25BC%25D0%25B5%25D0%25BD%25D0%25B0%25D1%2582%25D0%25B5%25D0%25BB%25D1%258C=(%5CW%7C%5E)all_ones(%5CW%7C%24)&%25D1%2583%25D1%2580%25D0%25BE%25D0%25B2%25D0%25B5%25D0%25BD%25D1%258C_%25D0%25B7%25D0%25BD%25D0%25B0%25D1%2587%25D0%25B8%25D0%25BC%25D0%25BE%25D1%2581%25D1%2582%25D0%25B8_(alpha)=5%25&%25D0%25BC%25D0%25BE%25D1%2589%25D0%25BD%25D0%25BE%25D1%2581%25D1%2582%25D1%258C_%25D0%25BA%25D1%2580%25D0%25B8%25D1%2582%25D0%25B5%25D1%2580%25D0%25B8%25D1%258F=80%25&%25D0%25B4%25D0%25BB%25D0%25B8%25D1%2582%25D0%25B5%25D0%25BB%25D1%258C%25D0%25BD%25D0%25BE%25D1%2581%25D1%2582%25D1%258C_(%25D0%25BD%25D0%25B5%25D0%25B4%25D0%25B5%25D0%25BB%25D1%258C)=2&%25D0%25B4%25D0%25BE%25D0%25BB%25D1%258F_%25D0%25BA%25D0%25BE%25D0%25BD%25D1%2582%25D1%2580%25D0%25BE%25D0%25BB%25D1%258C%25D0%25BD%25D0%25BE%25D0%25B9_%25D0%25B3%25D1%2580%25D1%2583%25D0%25BF%25D0%25BF%25D1%258B_(%2525)=50&%25D0%25B4%25D0%25BE%25D0%25BB%25D1%258F_%25D1%2582%25D0%25B5%25D1%2581%25D1%2582%25D0%25BE%25D0%25B2%25D0%25BE%25D0%25B9_%25D0%25B3%25D1%2580%25D1%2583%25D0%25BF%25D0%25BF%25D1%258B_(%2525)=50&%25D1%2582%25D0%25B8%25D0%25BF_%25D0%25BF%25D0%25BE%25D0%25BB%25D1%258C%25D0%25B7%25D0%25BE%25D0%25B2%25D0%25B0%25D1%2582%25D0%25B5%25D0%25BB%25D1%258F=anonymous_id&tenant=sbermarket&%25D0%25B4%25D0%25B0%25D1%2582%25D0%25B0_(%25D0%25BA%25D0%25BE%25D0%25BD%25D0%25B5%25D1%2586_%25D0%25B8%25D0%25BD%25D1%2582%25D0%25B5%25D1%2580%25D0%25B2%25D0%25B0%25D0%25BB%25D0%25B0)=2023-12-01) (его описание на [вики](https://wiki.sbmt.io/pages/viewpage.action?pageId=3113159399))"
   ]
  },
  {
   "cell_type": "markdown",
   "id": "be5f5c63",
   "metadata": {
    "toc": true
   },
   "source": [
    "<h1>Table of Contents<span class=\"tocSkip\"></span></h1>\n",
    "<div class=\"toc\"><ul class=\"toc-item\"><li><span><a href=\"#Imports\" data-toc-modified-id=\"Imports-1\"><span class=\"toc-item-num\">1&nbsp;&nbsp;</span>Imports</a></span></li><li><span><a href=\"#Funcs\" data-toc-modified-id=\"Funcs-2\"><span class=\"toc-item-num\">2&nbsp;&nbsp;</span>Funcs</a></span></li><li><span><a href=\"#Сбор-данных\" data-toc-modified-id=\"Сбор-данных-3\"><span class=\"toc-item-num\">3&nbsp;&nbsp;</span>Сбор данных</a></span></li><li><span><a href=\"#Оценка-MDE/мощности/traffic-size-ratio-метрик-на-примере-AOV\" data-toc-modified-id=\"Оценка-MDE/мощности/traffic-size-ratio-метрик-на-примере-AOV-4\"><span class=\"toc-item-num\">4&nbsp;&nbsp;</span>Оценка MDE/мощности/traffic size ratio метрик на примере AOV</a></span><ul class=\"toc-item\"><li><span><a href=\"#В-соответствие-с-методологией-подсчета-AOV,-выделим-пользователей-с-orders-&gt;-0\" data-toc-modified-id=\"В-соответствие-с-методологией-подсчета-AOV,-выделим-пользователей-с-orders->-0-4.1\"><span class=\"toc-item-num\">4.1&nbsp;&nbsp;</span>В соответствие с методологией подсчета AOV, выделим пользователей с orders &gt; 0</a></span></li><li><span><a href=\"#Если-в-эксперименте-вы-будете-использовать-не-весь-траффик,-а-только-x%-от-всего,-то-нужно-выделить-подвыборку-соответствующего-размера\" data-toc-modified-id=\"Если-в-эксперименте-вы-будете-использовать-не-весь-траффик,-а-только-x%-от-всего,-то-нужно-выделить-подвыборку-соответствующего-размера-4.2\"><span class=\"toc-item-num\">4.2&nbsp;&nbsp;</span>Если в эксперименте вы будете использовать не весь траффик, а только x% от всего, то нужно выделить подвыборку соответствующего размера</a></span></li><li><span><a href=\"#Выделим-первую-группу\" data-toc-modified-id=\"Выделим-первую-группу-4.3\"><span class=\"toc-item-num\">4.3&nbsp;&nbsp;</span>Выделим первую группу</a></span></li><li><span><a href=\"#Оценим-sd-&amp;-estimate-ratio-метрики-в-тестовой-группе\" data-toc-modified-id=\"Оценим-sd-&amp;-estimate-ratio-метрики-в-тестовой-группе-4.4\"><span class=\"toc-item-num\">4.4&nbsp;&nbsp;</span>Оценим sd &amp; estimate ratio метрики в тестовой группе</a></span></li><li><span><a href=\"#Оценим-MDE-на-данной-выборке\" data-toc-modified-id=\"Оценим-MDE-на-данной-выборке-4.5\"><span class=\"toc-item-num\">4.5&nbsp;&nbsp;</span>Оценим MDE на данной выборке</a></span></li><li><span><a href=\"#Оценим-мощность-для-фиксированного-эффекта\" data-toc-modified-id=\"Оценим-мощность-для-фиксированного-эффекта-4.6\"><span class=\"toc-item-num\">4.6&nbsp;&nbsp;</span>Оценим мощность для фиксированного эффекта</a></span></li><li><span><a href=\"#Оценим-необходимое-количество-наблюдений-для-фиксации-заданного-эффекта-на-заданной-alpha-с-заданной-мощностью\" data-toc-modified-id=\"Оценим-необходимое-количество-наблюдений-для-фиксации-заданного-эффекта-на-заданной-alpha-с-заданной-мощностью-4.7\"><span class=\"toc-item-num\">4.7&nbsp;&nbsp;</span>Оценим необходимое количество наблюдений для фиксации заданного эффекта на заданной alpha с заданной мощностью</a></span></li></ul></li><li><span><a href=\"#Оценка-MDE/мощности/traffic-size-average-метрик-на-примере-GMV-per-user\" data-toc-modified-id=\"Оценка-MDE/мощности/traffic-size-average-метрик-на-примере-GMV-per-user-5\"><span class=\"toc-item-num\">5&nbsp;&nbsp;</span>Оценка MDE/мощности/traffic size average метрик на примере GMV per user</a></span><ul class=\"toc-item\"><li><span><a href=\"#Если-в-эксперименте-вы-будете-использовать-не-весь-траффик,-а-только-x%-от-всего,-то-нужно-выделить-подвыборку-соответствующего-размера\" data-toc-modified-id=\"Если-в-эксперименте-вы-будете-использовать-не-весь-траффик,-а-только-x%-от-всего,-то-нужно-выделить-подвыборку-соответствующего-размера-5.1\"><span class=\"toc-item-num\">5.1&nbsp;&nbsp;</span>Если в эксперименте вы будете использовать не весь траффик, а только x% от всего, то нужно выделить подвыборку соответствующего размера</a></span></li><li><span><a href=\"#Выделим-первую-группу\" data-toc-modified-id=\"Выделим-первую-группу-5.2\"><span class=\"toc-item-num\">5.2&nbsp;&nbsp;</span>Выделим первую группу</a></span></li><li><span><a href=\"#sd-и-sample-estimate\" data-toc-modified-id=\"sd-и-sample-estimate-5.3\"><span class=\"toc-item-num\">5.3&nbsp;&nbsp;</span>sd и sample estimate</a></span></li><li><span><a href=\"#Оценим-MDE-на-данной-выборке\" data-toc-modified-id=\"Оценим-MDE-на-данной-выборке-5.4\"><span class=\"toc-item-num\">5.4&nbsp;&nbsp;</span>Оценим MDE на данной выборке</a></span></li><li><span><a href=\"#Оценим-мощность-для-фиксированного-эффекта\" data-toc-modified-id=\"Оценим-мощность-для-фиксированного-эффекта-5.5\"><span class=\"toc-item-num\">5.5&nbsp;&nbsp;</span>Оценим мощность для фиксированного эффекта</a></span></li><li><span><a href=\"#Оценим-необходимое-количество-наблюдений-для-фиксации-заданного-эффекта-на-заданной-alpha-с-заданной-мощностью\" data-toc-modified-id=\"Оценим-необходимое-количество-наблюдений-для-фиксации-заданного-эффекта-на-заданной-alpha-с-заданной-мощностью-5.6\"><span class=\"toc-item-num\">5.6&nbsp;&nbsp;</span>Оценим необходимое количество наблюдений для фиксации заданного эффекта на заданной alpha с заданной мощностью</a></span></li></ul></li></ul></div>"
   ]
  },
  {
   "cell_type": "markdown",
   "id": "9e155a45",
   "metadata": {},
   "source": [
    "## Imports"
   ]
  },
  {
   "cell_type": "code",
   "execution_count": 1,
   "id": "5485ea86",
   "metadata": {},
   "outputs": [],
   "source": [
    "import os\n",
    "import pathlib\n",
    "\n",
    "import numpy as np\n",
    "import pandas as pd\n",
    "import sqlalchemy as sa\n",
    "import statsmodels.api as sm\n",
    "import statsmodels.stats.api as sms\n",
    "from dotenv import dotenv_values\n",
    "from scipy.stats import ttest_ind\n",
    "from statsmodels.stats.power import tt_ind_solve_power\n",
    "from tqdm import tqdm\n",
    "from datetime import datetime, timedelta\n",
    "from typing import Tuple"
   ]
  },
  {
   "cell_type": "code",
   "execution_count": 2,
   "id": "8e2da774-66af-4e0e-959e-5c075687229f",
   "metadata": {},
   "outputs": [],
   "source": [
    "os.environ[\"OMP_NUM_THREADS\"] = \"8\"\n",
    "os.environ[\"MKL_NUM_THREADS\"] = \"8\"\n",
    "os.environ[\"OPENBLAS_NUM_THREADS\"] = \"8\""
   ]
  },
  {
   "cell_type": "code",
   "execution_count": 3,
   "id": "0aeb6807-345a-42f5-97e2-3da192985d11",
   "metadata": {},
   "outputs": [],
   "source": [
    "config = dotenv_values(\"/home/jovyan/.env\") \n",
    "\n",
    "def get_query_clickhouse(q: str) -> pd.DataFrame:\n",
    "    \"\"\"\n",
    "    Function to import credentials and run query\n",
    "    \"\"\"\n",
    "    ch_host = config['CH_HOST']\n",
    "    ch_cert = config['CH_CERT']\n",
    "    ch_port = config['CH_PORT']\n",
    "    ch_db   = config['CH_READ_DB']\n",
    "    ch_user = config['CH_READ_USER']\n",
    "    ch_pass = config['CH_READ_PASS']\n",
    "    \n",
    "    engine = sa.create_engine(\n",
    "        f\"clickhouse+native://{ch_user}:\"\n",
    "        f\"{ch_pass}@{ch_host}:\"\n",
    "        f\"{ch_port}/{ch_db}?secure=True\"\n",
    "    )\n",
    "    return pd.read_sql_query(q, con=engine)"
   ]
  },
  {
   "cell_type": "code",
   "execution_count": 4,
   "id": "47373d56-29e7-43e1-9b28-a8f32e64d962",
   "metadata": {},
   "outputs": [],
   "source": [
    "metrics_data_table = \"cdm.ab__metrics_data\"\n",
    "platform = 'ios'\n",
    "alpha = 0.05 # alpha, для которой считаем MDE\n",
    "power = 0.8 # мощность, для которой считаем MDE\n",
    "test_fraction = 0.5 # Тест-контроль 50 на 50"
   ]
  },
  {
   "cell_type": "markdown",
   "id": "a5236282",
   "metadata": {},
   "source": [
    "## Funcs"
   ]
  },
  {
   "cell_type": "code",
   "execution_count": 5,
   "id": "c498e2cf",
   "metadata": {},
   "outputs": [],
   "source": [
    "def collect_data(start_date: datetime.date, end_date: datetime.date,\n",
    "                 metrics_data_table: str, platform: str) -> pd.DataFrame:\n",
    "    q = f\"\"\"\n",
    "        select \n",
    "            anonymous_id, \n",
    "            orders,\n",
    "            gmv_per_user\n",
    "        from \n",
    "            {metrics_data_table}\n",
    "        where \n",
    "        toDate(date_msk) between toDate('{start_date}') and toDate('{end_date}')  \n",
    "        and platform='{platform}'\n",
    "        \"\"\"\n",
    "    return get_query_clickhouse(q)"
   ]
  },
  {
   "cell_type": "code",
   "execution_count": 6,
   "id": "43658d33",
   "metadata": {},
   "outputs": [],
   "source": [
    "def deltamethod(x: np.array, y: np.array,\n",
    "                independent: bool = False, bc: bool = False) -> Tuple[float, float]:\n",
    "    n = len(x)\n",
    "    mux = np.mean(x)\n",
    "    muy = np.mean(y)\n",
    "    \n",
    "    v11 = np.var(y,ddof=1)\n",
    "    v22 = np.var(x,ddof=1)\n",
    "    \n",
    "    if independent == True:\n",
    "        v12 = 0\n",
    "    else: \n",
    "        v12 = np.cov(x,y)[0][1]\n",
    "    \n",
    "    est = muy / mux\n",
    "    \n",
    "    if bc == True:\n",
    "        est = est + muy/mux**3*v22/n - 1/mux**2*v12/n\n",
    "    sd = (v11 / mux**2) - (2 * muy / mux**3 * v12) + (muy**2 / mux**4 * v22)\n",
    "    sd = np.sqrt(sd)\n",
    "    return est, sd"
   ]
  },
  {
   "cell_type": "markdown",
   "id": "b28dc286",
   "metadata": {},
   "source": [
    "## Сбор данных"
   ]
  },
  {
   "cell_type": "code",
   "execution_count": 7,
   "id": "6855e7bf",
   "metadata": {},
   "outputs": [],
   "source": [
    "# соберем данные за две недели\n",
    "start_date = \"2023-11-13\"\n",
    "end_date = \"2023-11-26\""
   ]
  },
  {
   "cell_type": "code",
   "execution_count": 8,
   "id": "7b7ecc09",
   "metadata": {},
   "outputs": [
    {
     "ename": "KeyError",
     "evalue": "'CH_HOST'",
     "output_type": "error",
     "traceback": [
      "\u001b[0;31m---------------------------------------------------------------------------\u001b[0m",
      "\u001b[0;31mKeyError\u001b[0m                                  Traceback (most recent call last)",
      "\u001b[0;32m<timed exec>\u001b[0m in \u001b[0;36m<module>\u001b[0;34m\u001b[0m\n",
      "\u001b[0;32m/tmp/ipykernel_110/3294269849.py\u001b[0m in \u001b[0;36mcollect_data\u001b[0;34m(start_date, end_date, metrics_data_table, platform)\u001b[0m\n\u001b[1;32m     12\u001b[0m         \u001b[0;32mand\u001b[0m \u001b[0mplatform\u001b[0m\u001b[0;34m=\u001b[0m\u001b[0;34m'{platform}'\u001b[0m\u001b[0;34m\u001b[0m\u001b[0;34m\u001b[0m\u001b[0m\n\u001b[1;32m     13\u001b[0m         \"\"\"\n\u001b[0;32m---> 14\u001b[0;31m     \u001b[0;32mreturn\u001b[0m \u001b[0mget_query_clickhouse\u001b[0m\u001b[0;34m(\u001b[0m\u001b[0mq\u001b[0m\u001b[0;34m)\u001b[0m\u001b[0;34m\u001b[0m\u001b[0;34m\u001b[0m\u001b[0m\n\u001b[0m",
      "\u001b[0;32m/tmp/ipykernel_110/3208397710.py\u001b[0m in \u001b[0;36mget_query_clickhouse\u001b[0;34m(q)\u001b[0m\n\u001b[1;32m      5\u001b[0m     \u001b[0mFunction\u001b[0m \u001b[0mto\u001b[0m \u001b[0;32mimport\u001b[0m \u001b[0mcredentials\u001b[0m \u001b[0;32mand\u001b[0m \u001b[0mrun\u001b[0m \u001b[0mquery\u001b[0m\u001b[0;34m\u001b[0m\u001b[0;34m\u001b[0m\u001b[0m\n\u001b[1;32m      6\u001b[0m     \"\"\"\n\u001b[0;32m----> 7\u001b[0;31m     \u001b[0mch_host\u001b[0m \u001b[0;34m=\u001b[0m \u001b[0mconfig\u001b[0m\u001b[0;34m[\u001b[0m\u001b[0;34m'CH_HOST'\u001b[0m\u001b[0;34m]\u001b[0m\u001b[0;34m\u001b[0m\u001b[0;34m\u001b[0m\u001b[0m\n\u001b[0m\u001b[1;32m      8\u001b[0m     \u001b[0mch_cert\u001b[0m \u001b[0;34m=\u001b[0m \u001b[0mconfig\u001b[0m\u001b[0;34m[\u001b[0m\u001b[0;34m'CH_CERT'\u001b[0m\u001b[0;34m]\u001b[0m\u001b[0;34m\u001b[0m\u001b[0;34m\u001b[0m\u001b[0m\n\u001b[1;32m      9\u001b[0m     \u001b[0mch_port\u001b[0m \u001b[0;34m=\u001b[0m \u001b[0mconfig\u001b[0m\u001b[0;34m[\u001b[0m\u001b[0;34m'CH_PORT'\u001b[0m\u001b[0;34m]\u001b[0m\u001b[0;34m\u001b[0m\u001b[0;34m\u001b[0m\u001b[0m\n",
      "\u001b[0;31mKeyError\u001b[0m: 'CH_HOST'"
     ]
    }
   ],
   "source": [
    "%%time\n",
    "ios_data = collect_data(start_date, end_date, metrics_data_table, platform)"
   ]
  },
  {
   "cell_type": "code",
   "execution_count": 9,
   "id": "5c3b2f93",
   "metadata": {},
   "outputs": [
    {
     "data": {
      "text/html": [
       "<div>\n",
       "<style scoped>\n",
       "    .dataframe tbody tr th:only-of-type {\n",
       "        vertical-align: middle;\n",
       "    }\n",
       "\n",
       "    .dataframe tbody tr th {\n",
       "        vertical-align: top;\n",
       "    }\n",
       "\n",
       "    .dataframe thead th {\n",
       "        text-align: right;\n",
       "    }\n",
       "</style>\n",
       "<table border=\"1\" class=\"dataframe\">\n",
       "  <thead>\n",
       "    <tr style=\"text-align: right;\">\n",
       "      <th></th>\n",
       "      <th>anonymous_id</th>\n",
       "      <th>orders</th>\n",
       "      <th>gmv_per_user</th>\n",
       "    </tr>\n",
       "  </thead>\n",
       "  <tbody>\n",
       "    <tr>\n",
       "      <th>0</th>\n",
       "      <td>0000081a-4472-4552-b281-552cc2b0cb65</td>\n",
       "      <td>0</td>\n",
       "      <td>0.0</td>\n",
       "    </tr>\n",
       "  </tbody>\n",
       "</table>\n",
       "</div>"
      ],
      "text/plain": [
       "                           anonymous_id  orders  gmv_per_user\n",
       "0  0000081a-4472-4552-b281-552cc2b0cb65       0           0.0"
      ]
     },
     "execution_count": 9,
     "metadata": {},
     "output_type": "execute_result"
    }
   ],
   "source": [
    "ios_data = ios_data.groupby(\"anonymous_id\").sum().reset_index()\n",
    "ios_data.head(1)"
   ]
  },
  {
   "cell_type": "markdown",
   "id": "45cb215c",
   "metadata": {},
   "source": [
    "## Оценка MDE/мощности/traffic size ratio метрик на примере AOV"
   ]
  },
  {
   "cell_type": "markdown",
   "id": "79c3928c",
   "metadata": {},
   "source": [
    "### В соответствие с методологией подсчета AOV, выделим пользователей с orders > 0"
   ]
  },
  {
   "cell_type": "code",
   "execution_count": 10,
   "id": "4c448325",
   "metadata": {},
   "outputs": [],
   "source": [
    "aov_data = ios_data[ios_data[\"orders\"]>0]"
   ]
  },
  {
   "cell_type": "code",
   "execution_count": 11,
   "id": "76d013d4",
   "metadata": {},
   "outputs": [
    {
     "data": {
      "text/html": [
       "<div>\n",
       "<style scoped>\n",
       "    .dataframe tbody tr th:only-of-type {\n",
       "        vertical-align: middle;\n",
       "    }\n",
       "\n",
       "    .dataframe tbody tr th {\n",
       "        vertical-align: top;\n",
       "    }\n",
       "\n",
       "    .dataframe thead th {\n",
       "        text-align: right;\n",
       "    }\n",
       "</style>\n",
       "<table border=\"1\" class=\"dataframe\">\n",
       "  <thead>\n",
       "    <tr style=\"text-align: right;\">\n",
       "      <th></th>\n",
       "      <th>anonymous_id</th>\n",
       "      <th>orders</th>\n",
       "      <th>gmv_per_user</th>\n",
       "    </tr>\n",
       "  </thead>\n",
       "  <tbody>\n",
       "    <tr>\n",
       "      <th>1</th>\n",
       "      <td>00001aa9-366b-4d52-addb-6fc2a6712d9b</td>\n",
       "      <td>1</td>\n",
       "      <td>4851.791813</td>\n",
       "    </tr>\n",
       "  </tbody>\n",
       "</table>\n",
       "</div>"
      ],
      "text/plain": [
       "                           anonymous_id  orders  gmv_per_user\n",
       "1  00001aa9-366b-4d52-addb-6fc2a6712d9b       1   4851.791813"
      ]
     },
     "execution_count": 11,
     "metadata": {},
     "output_type": "execute_result"
    }
   ],
   "source": [
    "aov_data.head(1)"
   ]
  },
  {
   "cell_type": "markdown",
   "id": "53158882",
   "metadata": {},
   "source": [
    "### Если в эксперименте вы будете использовать не весь траффик, а только x% от всего, то нужно выделить подвыборку соответствующего размера"
   ]
  },
  {
   "cell_type": "code",
   "execution_count": 12,
   "id": "89ff8fbb",
   "metadata": {},
   "outputs": [],
   "source": [
    "### для 50% трафика нужно раскомментить :)\n",
    "\n",
    "# aov_data = aov_data.sample(frac=0.5)"
   ]
  },
  {
   "cell_type": "markdown",
   "id": "2e239ee8",
   "metadata": {},
   "source": [
    "### Выделим первую группу\n",
    " assumption: тест и контроль делятся 50/50"
   ]
  },
  {
   "cell_type": "code",
   "execution_count": 13,
   "id": "1536db0f",
   "metadata": {},
   "outputs": [],
   "source": [
    "aov_test_observations = aov_data.sample(frac=test_fraction)"
   ]
  },
  {
   "cell_type": "markdown",
   "id": "911a0366",
   "metadata": {},
   "source": [
    "### Оценим sd & estimate ratio метрики в тестовой группе"
   ]
  },
  {
   "cell_type": "code",
   "execution_count": 14,
   "id": "eb56ddc4",
   "metadata": {},
   "outputs": [],
   "source": [
    "# выделим числитель метрики в по-юзерной гранулярности\n",
    "num = aov_test_observations.gmv_per_user.to_numpy()\n",
    "# и знаменатель\n",
    "denum = aov_test_observations.orders.to_numpy()"
   ]
  },
  {
   "cell_type": "code",
   "execution_count": 15,
   "id": "dafb3898",
   "metadata": {},
   "outputs": [
    {
     "data": {
      "text/plain": [
       "255034"
      ]
     },
     "execution_count": 15,
     "metadata": {},
     "output_type": "execute_result"
    }
   ],
   "source": [
    "num.shape[0]"
   ]
  },
  {
   "cell_type": "code",
   "execution_count": 16,
   "id": "58f579cf",
   "metadata": {},
   "outputs": [],
   "source": [
    "# считаем выборочную оценку метрики и ее sd\n",
    "est_aov, sd_aov = deltamethod(denum, num, independent=False, bc=True)"
   ]
  },
  {
   "cell_type": "code",
   "execution_count": 17,
   "id": "14cb6aad",
   "metadata": {},
   "outputs": [
    {
     "name": "stdout",
     "output_type": "stream",
     "text": [
      "Выборочная оценка = 2270.707\n",
      "\t std = 3368.4014\n"
     ]
    }
   ],
   "source": [
    "print(f\"Выборочная оценка = {est_aov:.8}\\n\\t std = {sd_aov:.8}\")"
   ]
  },
  {
   "cell_type": "markdown",
   "id": "dac5c2e0",
   "metadata": {},
   "source": [
    "### Оценим MDE на данной выборке"
   ]
  },
  {
   "cell_type": "code",
   "execution_count": 18,
   "id": "855baa1d",
   "metadata": {},
   "outputs": [],
   "source": [
    "lift_aov = 0.0075 # размер эффекта в %, для которого оцениваем мощность\n",
    "ratio = (1-test_fraction) / (test_fraction) # пропорция контроль/тест\n",
    "nobs_test = aov_test_observations.shape[0] # количество наблюдений (юзеров) в тесте"
   ]
  },
  {
   "cell_type": "code",
   "execution_count": 19,
   "id": "a5e46463",
   "metadata": {},
   "outputs": [],
   "source": [
    "effect_size_aov = tt_ind_solve_power(power=power, nobs1=nobs_test, alpha=alpha, ratio=ratio)"
   ]
  },
  {
   "cell_type": "markdown",
   "id": "cbb8d3c8",
   "metadata": {},
   "source": [
    "$eff\\_size = mde_{aov} * \\dfrac{est_{aov}}{sd_{aov}}$"
   ]
  },
  {
   "cell_type": "code",
   "execution_count": 20,
   "id": "05a225bc",
   "metadata": {},
   "outputs": [],
   "source": [
    "mde_aov = effect_size_aov * sd_aov/est_aov"
   ]
  },
  {
   "cell_type": "code",
   "execution_count": 21,
   "id": "d9704766",
   "metadata": {},
   "outputs": [
    {
     "name": "stdout",
     "output_type": "stream",
     "text": [
      "MDE в % равно 1.16386503%\n"
     ]
    }
   ],
   "source": [
    "# в процентах\n",
    "print(f\"MDE в % равно {mde_aov:.8%}\")"
   ]
  },
  {
   "cell_type": "code",
   "execution_count": 22,
   "id": "22dbd6d6",
   "metadata": {},
   "outputs": [
    {
     "name": "stdout",
     "output_type": "stream",
     "text": [
      "MDE в абсолютных значениях равно 26.427965\n"
     ]
    }
   ],
   "source": [
    "# в абсолютных значениях\n",
    "print(f\"MDE в абсолютных значениях равно {mde_aov*est_aov:.8}\")"
   ]
  },
  {
   "cell_type": "markdown",
   "id": "e176de88",
   "metadata": {},
   "source": [
    "### Оценим мощность для фиксированного эффекта"
   ]
  },
  {
   "cell_type": "code",
   "execution_count": 23,
   "id": "8e92c2b9",
   "metadata": {},
   "outputs": [],
   "source": [
    "eff_size_aov = lift_aov * est_aov/sd_aov"
   ]
  },
  {
   "cell_type": "code",
   "execution_count": 24,
   "id": "017eac26",
   "metadata": {},
   "outputs": [],
   "source": [
    "power_aov = tt_ind_solve_power(effect_size=eff_size_aov, nobs1=nobs_test, alpha=alpha, ratio=ratio)"
   ]
  },
  {
   "cell_type": "code",
   "execution_count": 25,
   "id": "33a5bbbe",
   "metadata": {},
   "outputs": [
    {
     "name": "stdout",
     "output_type": "stream",
     "text": [
      "Мощность теста для эффекта в 0.7500% равна 0.438679\n"
     ]
    }
   ],
   "source": [
    "# мощность для эффекта в 0.75% (lift_aov)\n",
    "print(f\"Мощность теста для эффекта в {lift_aov:.4%} равна {power_aov:.6}\")"
   ]
  },
  {
   "cell_type": "markdown",
   "id": "01a5f297",
   "metadata": {},
   "source": [
    "### Оценим необходимое количество наблюдений для фиксации заданного эффекта на заданной alpha с заданной мощностью"
   ]
  },
  {
   "cell_type": "code",
   "execution_count": 26,
   "id": "25af71c5",
   "metadata": {},
   "outputs": [],
   "source": [
    "eff_size_aov = lift_aov * est_aov/sd_aov"
   ]
  },
  {
   "cell_type": "code",
   "execution_count": 27,
   "id": "e1092544",
   "metadata": {},
   "outputs": [],
   "source": [
    "nobs_aov_test = tt_ind_solve_power(effect_size=eff_size_aov, power=power, alpha=alpha, ratio=ratio)"
   ]
  },
  {
   "cell_type": "code",
   "execution_count": 28,
   "id": "6ea76509",
   "metadata": {},
   "outputs": [],
   "source": [
    "# ratio = nobs_control/nobs_test\n",
    "nobs_aov_control = nobs_aov_test*ratio"
   ]
  },
  {
   "cell_type": "code",
   "execution_count": 29,
   "id": "9625e24c",
   "metadata": {},
   "outputs": [
    {
     "name": "stdout",
     "output_type": "stream",
     "text": [
      "\n",
      "Всего необходимо наблюдений: 1,228,203.225\n",
      "Наблюдений в тестовой группе: 614,101.612\n",
      "Наблюдений в контрольной группе: 614,101.612\n"
     ]
    }
   ],
   "source": [
    "# всего нужно наблюдений, наблюдений в тестовой группе, в контрольной\n",
    "print(f\"\"\"\n",
    "Всего необходимо наблюдений: {round(nobs_aov_control + nobs_aov_test, 3):,}\n",
    "Наблюдений в тестовой группе: {round(nobs_aov_test, 3):,}\n",
    "Наблюдений в контрольной группе: {round(nobs_aov_control, 3):,}\"\"\")"
   ]
  },
  {
   "cell_type": "markdown",
   "id": "94a599d5",
   "metadata": {},
   "source": [
    "## Оценка MDE/мощности/traffic size average метрик на примере GMV per user"
   ]
  },
  {
   "cell_type": "code",
   "execution_count": 30,
   "id": "b7d1f200",
   "metadata": {},
   "outputs": [],
   "source": [
    "gmv_data = ios_data.copy()"
   ]
  },
  {
   "cell_type": "markdown",
   "id": "20ec767c",
   "metadata": {},
   "source": [
    "### Если в эксперименте вы будете использовать не весь траффик, а только x% от всего, то нужно выделить подвыборку соответствующего размера"
   ]
  },
  {
   "cell_type": "code",
   "execution_count": 31,
   "id": "3cf775ea",
   "metadata": {},
   "outputs": [],
   "source": [
    "# для 50% трафика нужно раскомментить :)\n",
    "# gmv_data = gmv_data.sample(frac=0.5)"
   ]
  },
  {
   "cell_type": "markdown",
   "id": "f43bcdf3",
   "metadata": {},
   "source": [
    "### Выделим первую группу\n",
    " assumption: тест и контроль делятся 50/50"
   ]
  },
  {
   "cell_type": "code",
   "execution_count": 32,
   "id": "9d242896-a7e9-40b8-8146-c72d67a3c482",
   "metadata": {},
   "outputs": [],
   "source": [
    "test_fraction = 0.5 # Тест-контроль 50 на 50\n",
    "lift_gmv = 0.0075 # размер эффекта в %, для которого оцениваем мощность"
   ]
  },
  {
   "cell_type": "code",
   "execution_count": 33,
   "id": "d0f15a3c",
   "metadata": {},
   "outputs": [],
   "source": [
    "gmv_test_observations = gmv_data.sample(frac=test_fraction)"
   ]
  },
  {
   "cell_type": "markdown",
   "id": "92bf5954",
   "metadata": {},
   "source": [
    "### sd и sample estimate"
   ]
  },
  {
   "cell_type": "code",
   "execution_count": 34,
   "id": "608eae67",
   "metadata": {},
   "outputs": [],
   "source": [
    "sd_gmv = gmv_test_observations.gmv_per_user.std()\n",
    "est_gmv = gmv_test_observations.gmv_per_user.mean()"
   ]
  },
  {
   "cell_type": "code",
   "execution_count": 35,
   "id": "36eeeecd",
   "metadata": {},
   "outputs": [
    {
     "data": {
      "text/plain": [
       "(4780.305628221135, 1863.2985806939664)"
      ]
     },
     "execution_count": 35,
     "metadata": {},
     "output_type": "execute_result"
    }
   ],
   "source": [
    "sd_gmv, est_gmv"
   ]
  },
  {
   "cell_type": "markdown",
   "id": "24233cb0",
   "metadata": {},
   "source": [
    "### Оценим MDE на данной выборке"
   ]
  },
  {
   "cell_type": "code",
   "execution_count": 36,
   "id": "e945f67a",
   "metadata": {},
   "outputs": [],
   "source": [
    "nobs_test = gmv_test_observations.shape[0] # количество наблюдений (юзеров) в тесте"
   ]
  },
  {
   "cell_type": "code",
   "execution_count": 37,
   "id": "05ebf35e",
   "metadata": {},
   "outputs": [],
   "source": [
    "effect_size_gmv = tt_ind_solve_power(power=power, nobs1=nobs_test, alpha=alpha, ratio=ratio)"
   ]
  },
  {
   "cell_type": "code",
   "execution_count": 38,
   "id": "293697f6",
   "metadata": {},
   "outputs": [],
   "source": [
    "mde_gmv = effect_size_gmv * sd_gmv/est_gmv"
   ]
  },
  {
   "cell_type": "code",
   "execution_count": 39,
   "id": "695bf96a",
   "metadata": {},
   "outputs": [
    {
     "name": "stdout",
     "output_type": "stream",
     "text": [
      "MDE в % равно 1.32284554%\n"
     ]
    }
   ],
   "source": [
    "# в процентах\n",
    "print(f\"MDE в % равно {mde_gmv:.8%}\")"
   ]
  },
  {
   "cell_type": "code",
   "execution_count": 40,
   "id": "2453df9b",
   "metadata": {},
   "outputs": [
    {
     "name": "stdout",
     "output_type": "stream",
     "text": [
      "MDE в абсолютных значениях равно 24.648562\n"
     ]
    }
   ],
   "source": [
    "# в абсолютных значениях\n",
    "print(f\"MDE в абсолютных значениях равно {mde_gmv*est_gmv:.8}\")"
   ]
  },
  {
   "cell_type": "markdown",
   "id": "613ffa9b",
   "metadata": {},
   "source": [
    "### Оценим мощность для фиксированного эффекта"
   ]
  },
  {
   "cell_type": "code",
   "execution_count": 41,
   "id": "9ef82aae",
   "metadata": {},
   "outputs": [],
   "source": [
    "eff_size_gmv = lift_gmv * est_gmv/sd_gmv"
   ]
  },
  {
   "cell_type": "code",
   "execution_count": 42,
   "id": "5316b292",
   "metadata": {},
   "outputs": [],
   "source": [
    "power_gmv = tt_ind_solve_power(effect_size=eff_size_gmv, nobs1=nobs_test, alpha=alpha, ratio=ratio)"
   ]
  },
  {
   "cell_type": "code",
   "execution_count": 43,
   "id": "77a9a4c3",
   "metadata": {},
   "outputs": [
    {
     "name": "stdout",
     "output_type": "stream",
     "text": [
      "Мощность теста для эффекта в 0.7500% равна 0.355306\n"
     ]
    }
   ],
   "source": [
    "# мощность для эффекта в 0.75% (lift_aov)\n",
    "print(f\"Мощность теста для эффекта в {lift_gmv:.4%} равна {power_gmv:.6}\")"
   ]
  },
  {
   "cell_type": "markdown",
   "id": "c3579613",
   "metadata": {},
   "source": [
    "### Оценим необходимое количество наблюдений для фиксации заданного эффекта на заданной alpha с заданной мощностью"
   ]
  },
  {
   "cell_type": "code",
   "execution_count": 44,
   "id": "92559a4b",
   "metadata": {},
   "outputs": [],
   "source": [
    "eff_size_gmv = lift_gmv * est_gmv/sd_gmv"
   ]
  },
  {
   "cell_type": "code",
   "execution_count": 45,
   "id": "0206b32d",
   "metadata": {},
   "outputs": [],
   "source": [
    "nobs_gmv_test = tt_ind_solve_power(effect_size=eff_size_gmv, power=power, alpha=alpha, ratio=ratio)"
   ]
  },
  {
   "cell_type": "code",
   "execution_count": 46,
   "id": "d19bf384",
   "metadata": {},
   "outputs": [],
   "source": [
    "# ratio = nobs_control/nobs_test\n",
    "nobs_gmv_control = nobs_gmv_test*ratio"
   ]
  },
  {
   "cell_type": "code",
   "execution_count": 47,
   "id": "51dd6eef",
   "metadata": {},
   "outputs": [
    {
     "name": "stdout",
     "output_type": "stream",
     "text": [
      "\n",
      "Всего необходимо наблюдений: 3,673,590.4\n",
      "Наблюдений в тестовой группе: 1,836,795.2\n",
      "Наблюдений в контрольной группе: 1,836,795.2\n"
     ]
    }
   ],
   "source": [
    "# всего нужно наблюдений, наблюдений в тестовой группе, в контрольной\n",
    "print(f\"\"\"\n",
    "Всего необходимо наблюдений: {round(nobs_gmv_control + nobs_gmv_test, 1):,}\n",
    "Наблюдений в тестовой группе: {round(nobs_gmv_test, 1):,}\n",
    "Наблюдений в контрольной группе: {round(nobs_gmv_control, 1):,}\"\"\")"
   ]
  },
  {
   "cell_type": "code",
   "execution_count": null,
   "id": "87cec291-0efe-4295-9c04-a751c81ab9bf",
   "metadata": {},
   "outputs": [],
   "source": []
  }
 ],
 "metadata": {
  "kernelspec": {
   "display_name": "Python 3 (ipykernel)",
   "language": "python",
   "name": "python3"
  },
  "language_info": {
   "codemirror_mode": {
    "name": "ipython",
    "version": 3
   },
   "file_extension": ".py",
   "mimetype": "text/x-python",
   "name": "python",
   "nbconvert_exporter": "python",
   "pygments_lexer": "ipython3",
   "version": "3.9.6"
  },
  "toc": {
   "base_numbering": 1,
   "nav_menu": {},
   "number_sections": true,
   "sideBar": true,
   "skip_h1_title": false,
   "title_cell": "Table of Contents",
   "title_sidebar": "Contents",
   "toc_cell": true,
   "toc_position": {},
   "toc_section_display": true,
   "toc_window_display": false
  }
 },
 "nbformat": 4,
 "nbformat_minor": 5
}
