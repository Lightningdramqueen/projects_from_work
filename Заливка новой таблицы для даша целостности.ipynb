{
 "cells": [
  {
   "cell_type": "code",
   "execution_count": 27,
   "metadata": {},
   "outputs": [],
   "source": [
    "import pandas as pd\n",
    "import sys\n",
    "sys.path.append('/home/jovyan')\n",
    "from connectors import read_sql_query\n",
    "from tqdm import tqdm\n"
   ]
  },
  {
   "cell_type": "code",
   "execution_count": 29,
   "metadata": {},
   "outputs": [
    {
     "name": "stderr",
     "output_type": "stream",
     "text": [
      "  0%|          | 0/2 [00:00<?, ?it/s]"
     ]
    },
    {
     "name": "stdout",
     "output_type": "stream",
     "text": [
      "2023-11-01\n"
     ]
    },
    {
     "name": "stderr",
     "output_type": "stream",
     "text": [
      " 50%|█████     | 1/2 [00:36<00:36, 36.87s/it]"
     ]
    },
    {
     "name": "stdout",
     "output_type": "stream",
     "text": [
      "2023-11-02\n"
     ]
    },
    {
     "name": "stderr",
     "output_type": "stream",
     "text": [
      "100%|██████████| 2/2 [01:04<00:00, 32.33s/it]\n"
     ]
    }
   ],
   "source": [
    "for date in tqdm(pd.date_range(start='2023-11-01', end='2023-11-02')):\n",
    "    print(date.strftime(\"%Y-%m-%d\"))\n",
    "    read_sql_query(f'''\n",
    "    INSERT INTO sandbox.content_rc_metrics_for_dash\n",
    "     with \n",
    "    toDate('{date}') as date_,\n",
    "    li as (\n",
    "    select \n",
    "        shipment_number, \n",
    "        brand_id, \n",
    "        b.name as brand_name, \n",
    "        product_name, --продукт\n",
    "        master_category_id,\n",
    "        dictGet('dict.ods__product_hub__master_category', 'name', toUInt64(master_category_id)) as master_category,\n",
    "        dictGet('dict.ods__product_hub__master_category', 'parent_id', toUInt64(master_category_id)) AS parent_category_id,\n",
    "        dictGet('dict.ods__product_hub__master_category', 'name', toUInt64(parent_category_id)) AS master_category_2,\n",
    "        dictGet('dict.ods__product_hub__master_category', 'parent_id', toUInt64(parent_category_id)) AS master_category_3_id,\n",
    "        dictGet('dict.ods__product_hub__master_category', 'name', toUInt64(master_category_3_id)) AS master_category_3,\n",
    "        countIf(sku, is_replacement = 0 and quantity > 0 ) as initial_sku,\n",
    "        countIf(sku, sku_status in  ('replaced', 'cancelled')) as rc_count_sku,\n",
    "        countIf(sku, sku_status in ('cancelled'))  as canc_count_sku,\n",
    "        countIf(sku, sku_status in ('replaced'))  as repl_count_sku,\n",
    "        sumIf(quantity,  is_replacement = 0) as initial_items,\n",
    "        sumIf(found_quantity,  sku_status not in  ('replaced', 'cancelled')) as final_items,\n",
    "        sum(weight_added_items) as weight_added_items,\n",
    "        sum(weight_deleted_items) as weight_deleted_items\n",
    "\n",
    "        from sandbox.damage_orders_items i \n",
    "        left join ods.product_hub__product p \n",
    "            on toUInt64(i.sku) = p.product_sku\n",
    "        left join ods.product_hub__brand b\n",
    "            on p.brand_id = b.id \n",
    "        where dt = date_\n",
    "        group by 1,2,3,4,5,6,7,8,9,10)\n",
    "\n",
    "\n",
    "        select \n",
    "            toDate(shipped_at) as date,\n",
    "            shipment_id,\n",
    "            master_category,\n",
    "            product_name,\n",
    "            brand_name,\n",
    "            master_category_2,\n",
    "            master_category_3,\n",
    "            city,\n",
    "            store_name,\n",
    "            express_delivery,\n",
    "            retailer_name,\n",
    "            brand_tenant,\n",
    "            initial_sku, --изначальное кол-во скю\n",
    "            rc_count_sku, --замены+отмены скю\n",
    "            canc_count_sku, --отмененные скю\n",
    "            repl_count_sku, --замененные скю\n",
    "            initial_items, --изначальное кол-во штук\n",
    "            if(type_delivery = 'scan_pay_go', initial_items, final_items) as final_items, --итоговое кол-во штук\n",
    "            weight_added_items, --добавленное кол-во штук\n",
    "            if(type_delivery = 'scan_pay_go', 0, weight_deleted_items) as weight_deleted_items, --удаленное кол-во штук\n",
    "            sum(initial_items) over(partition by shipment_number) as initial_items_sum, --сумма всех изначальных товаров\n",
    "            sum(weight_added_items) over(partition by shipment_number) as weight_added_items_sum, --сумма всех добавленных товаров в заказе\n",
    "            sum(weight_deleted_items) over(partition by shipment_number) as weight_deleted_items_sum --сумма всех удаленных товаров в заказе\n",
    "        from li \n",
    "        inner join (select \n",
    "\n",
    "                                        s.shipment_id as shipment_id, \n",
    "                                        s.shipment_number as shipment_number,\n",
    "                                        shipped_at,\n",
    "                                        s.store_id as store_id,\n",
    "                                        store_name, \n",
    "                                        retailer_id,\n",
    "                                        retailer_name,\n",
    "                                        type_store_delivery, \n",
    "                                        type_delivery,\n",
    "                                        dictGet('analytics.stores_dict', 'express_delivery', toUInt64(store_id)) AS express_delivery,\n",
    "                                        s.city_name as city,\n",
    "                                        multiIf(api_client_id = 0 and tenant_id not in ('sbermarket', 'smbusiness'), tenant_id||'_wl'\n",
    "                                    , coalesce(ic.name, tenant_id)) brand_tenant\n",
    "                                    from analytics.bi_shipments_financial s\n",
    "                                    left join analytics.int_channels ic on ic.id = dictGet('analytics.int_api_clients_dict', 'channel_id', toUInt64(s.api_client_id))\n",
    "                                    where toDate(shipped_at) = date_\n",
    "                                    and shipment_state = 'shipped'\n",
    "                                ) sh \n",
    "                        on li.shipment_number = sh.shipment_number\n",
    "\n",
    "\n",
    "    ''')"
   ]
  }
 ],
 "metadata": {
  "kernelspec": {
   "display_name": "Python 3 (ipykernel)",
   "language": "python",
   "name": "python3"
  },
  "language_info": {
   "codemirror_mode": {
    "name": "ipython",
    "version": 3
   },
   "file_extension": ".py",
   "mimetype": "text/x-python",
   "name": "python",
   "nbconvert_exporter": "python",
   "pygments_lexer": "ipython3",
   "version": "3.9.6"
  }
 },
 "nbformat": 4,
 "nbformat_minor": 2
}
