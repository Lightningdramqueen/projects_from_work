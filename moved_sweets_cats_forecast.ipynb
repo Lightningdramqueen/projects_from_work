{
 "cells": [
  {
   "cell_type": "code",
   "execution_count": 3,
   "metadata": {},
   "outputs": [
    {
     "data": {
      "text/html": [
       "<style>.container { width:95% !important; }</style>"
      ],
      "text/plain": [
       "<IPython.core.display.HTML object>"
      ]
     },
     "metadata": {},
     "output_type": "display_data"
    }
   ],
   "source": [
    "import pandas as pd\n",
    "import numpy as np\n",
    "import pyodbc\n",
    "import json\n",
    "#from google.cloud import bigquery\n",
    "from pandas.io import gbq\n",
    "from datetime import datetime\n",
    "from sqlalchemy.ext.declarative import declarative_base\n",
    "from sqlalchemy import Table, create_engine\n",
    "from sqlalchemy.orm import sessionmaker\n",
    "\n",
    "\n",
    "from statsmodels.stats.weightstats import ztest as ztest\n",
    "from statsmodels.stats.stattools import durbin_watson\n",
    "import sqlalchemy\n",
    "\n",
    "from IPython.core.display import display, HTML\n",
    "display(HTML(\"<style>.container { width:95% !important; }</style>\"))\n",
    "\n",
    "import matplotlib.pyplot as plt\n",
    "%matplotlib inline\n",
    "import random\n",
    "import statsmodels.api as sm\n",
    "from sklearn.metrics import mean_squared_error\n",
    "\n",
    "\n",
    "import seaborn as sns\n",
    "import plotly.express as px\n",
    "\n",
    "import scipy \n",
    "from scipy.stats import iqr\n",
    "from scipy.stats import norm\n",
    "from scipy.stats import t\n",
    "from scipy import stats\n",
    "\n",
    "import math"
   ]
  },
  {
   "cell_type": "code",
   "execution_count": 45,
   "metadata": {},
   "outputs": [],
   "source": [
    "moved_cats = pd.read_excel('/home/a.kosheleva/moved_sweet_cats_2.xlsx', engine= 'openpyxl')"
   ]
  },
  {
   "cell_type": "code",
   "execution_count": 46,
   "metadata": {},
   "outputs": [
    {
     "data": {
      "text/html": [
       "<div>\n",
       "<style scoped>\n",
       "    .dataframe tbody tr th:only-of-type {\n",
       "        vertical-align: middle;\n",
       "    }\n",
       "\n",
       "    .dataframe tbody tr th {\n",
       "        vertical-align: top;\n",
       "    }\n",
       "\n",
       "    .dataframe thead th {\n",
       "        text-align: right;\n",
       "    }\n",
       "</style>\n",
       "<table border=\"1\" class=\"dataframe\">\n",
       "  <thead>\n",
       "    <tr style=\"text-align: right;\">\n",
       "      <th></th>\n",
       "      <th>date</th>\n",
       "      <th>value</th>\n",
       "      <th>period</th>\n",
       "      <th>category</th>\n",
       "    </tr>\n",
       "  </thead>\n",
       "  <tbody>\n",
       "    <tr>\n",
       "      <th>0</th>\n",
       "      <td>2022-10-01</td>\n",
       "      <td>6.612336e+06</td>\n",
       "      <td>pre_pilot</td>\n",
       "      <td>sweets</td>\n",
       "    </tr>\n",
       "    <tr>\n",
       "      <th>1</th>\n",
       "      <td>2022-10-02</td>\n",
       "      <td>6.071246e+06</td>\n",
       "      <td>pre_pilot</td>\n",
       "      <td>sweets</td>\n",
       "    </tr>\n",
       "    <tr>\n",
       "      <th>2</th>\n",
       "      <td>2022-10-03</td>\n",
       "      <td>5.950962e+06</td>\n",
       "      <td>pre_pilot</td>\n",
       "      <td>sweets</td>\n",
       "    </tr>\n",
       "    <tr>\n",
       "      <th>3</th>\n",
       "      <td>2022-10-04</td>\n",
       "      <td>6.274467e+06</td>\n",
       "      <td>pre_pilot</td>\n",
       "      <td>sweets</td>\n",
       "    </tr>\n",
       "    <tr>\n",
       "      <th>4</th>\n",
       "      <td>2022-10-05</td>\n",
       "      <td>5.813274e+06</td>\n",
       "      <td>pre_pilot</td>\n",
       "      <td>sweets</td>\n",
       "    </tr>\n",
       "  </tbody>\n",
       "</table>\n",
       "</div>"
      ],
      "text/plain": [
       "         date         value     period category\n",
       "0  2022-10-01  6.612336e+06  pre_pilot   sweets\n",
       "1  2022-10-02  6.071246e+06  pre_pilot   sweets\n",
       "2  2022-10-03  5.950962e+06  pre_pilot   sweets\n",
       "3  2022-10-04  6.274467e+06  pre_pilot   sweets\n",
       "4  2022-10-05  5.813274e+06  pre_pilot   sweets"
      ]
     },
     "execution_count": 46,
     "metadata": {},
     "output_type": "execute_result"
    }
   ],
   "source": [
    "moved_cats.head()"
   ]
  },
  {
   "cell_type": "code",
   "execution_count": 47,
   "metadata": {},
   "outputs": [],
   "source": [
    "df_prepilot = moved_cats[moved_cats['period'] == 'pre_pilot']\n",
    "df_pilot = moved_cats[moved_cats['period'] == 'pilot']"
   ]
  },
  {
   "cell_type": "code",
   "execution_count": 48,
   "metadata": {},
   "outputs": [
    {
     "data": {
      "text/html": [
       "<div>\n",
       "<style scoped>\n",
       "    .dataframe tbody tr th:only-of-type {\n",
       "        vertical-align: middle;\n",
       "    }\n",
       "\n",
       "    .dataframe tbody tr th {\n",
       "        vertical-align: top;\n",
       "    }\n",
       "\n",
       "    .dataframe thead th {\n",
       "        text-align: right;\n",
       "    }\n",
       "</style>\n",
       "<table border=\"1\" class=\"dataframe\">\n",
       "  <thead>\n",
       "    <tr style=\"text-align: right;\">\n",
       "      <th></th>\n",
       "      <th>date</th>\n",
       "      <th>value</th>\n",
       "      <th>period</th>\n",
       "      <th>category</th>\n",
       "    </tr>\n",
       "  </thead>\n",
       "  <tbody>\n",
       "    <tr>\n",
       "      <th>37</th>\n",
       "      <td>2022-11-07</td>\n",
       "      <td>5.480441e+06</td>\n",
       "      <td>pilot</td>\n",
       "      <td>sweets</td>\n",
       "    </tr>\n",
       "    <tr>\n",
       "      <th>38</th>\n",
       "      <td>2022-11-08</td>\n",
       "      <td>5.052774e+06</td>\n",
       "      <td>pilot</td>\n",
       "      <td>sweets</td>\n",
       "    </tr>\n",
       "    <tr>\n",
       "      <th>39</th>\n",
       "      <td>2022-11-09</td>\n",
       "      <td>5.531690e+06</td>\n",
       "      <td>pilot</td>\n",
       "      <td>sweets</td>\n",
       "    </tr>\n",
       "    <tr>\n",
       "      <th>40</th>\n",
       "      <td>2022-11-10</td>\n",
       "      <td>5.947663e+06</td>\n",
       "      <td>pilot</td>\n",
       "      <td>sweets</td>\n",
       "    </tr>\n",
       "    <tr>\n",
       "      <th>41</th>\n",
       "      <td>2022-11-11</td>\n",
       "      <td>7.245025e+06</td>\n",
       "      <td>pilot</td>\n",
       "      <td>sweets</td>\n",
       "    </tr>\n",
       "    <tr>\n",
       "      <th>42</th>\n",
       "      <td>2022-11-12</td>\n",
       "      <td>6.923377e+06</td>\n",
       "      <td>pilot</td>\n",
       "      <td>sweets</td>\n",
       "    </tr>\n",
       "    <tr>\n",
       "      <th>43</th>\n",
       "      <td>2022-11-13</td>\n",
       "      <td>5.748137e+06</td>\n",
       "      <td>pilot</td>\n",
       "      <td>sweets</td>\n",
       "    </tr>\n",
       "    <tr>\n",
       "      <th>81</th>\n",
       "      <td>2022-11-07</td>\n",
       "      <td>4.919751e+06</td>\n",
       "      <td>pilot</td>\n",
       "      <td>other_cats</td>\n",
       "    </tr>\n",
       "    <tr>\n",
       "      <th>82</th>\n",
       "      <td>2022-11-08</td>\n",
       "      <td>4.693106e+06</td>\n",
       "      <td>pilot</td>\n",
       "      <td>other_cats</td>\n",
       "    </tr>\n",
       "    <tr>\n",
       "      <th>83</th>\n",
       "      <td>2022-11-09</td>\n",
       "      <td>4.784316e+06</td>\n",
       "      <td>pilot</td>\n",
       "      <td>other_cats</td>\n",
       "    </tr>\n",
       "    <tr>\n",
       "      <th>84</th>\n",
       "      <td>2022-11-10</td>\n",
       "      <td>5.291418e+06</td>\n",
       "      <td>pilot</td>\n",
       "      <td>other_cats</td>\n",
       "    </tr>\n",
       "    <tr>\n",
       "      <th>85</th>\n",
       "      <td>2022-11-11</td>\n",
       "      <td>6.380754e+06</td>\n",
       "      <td>pilot</td>\n",
       "      <td>other_cats</td>\n",
       "    </tr>\n",
       "    <tr>\n",
       "      <th>86</th>\n",
       "      <td>2022-11-12</td>\n",
       "      <td>6.346908e+06</td>\n",
       "      <td>pilot</td>\n",
       "      <td>other_cats</td>\n",
       "    </tr>\n",
       "    <tr>\n",
       "      <th>87</th>\n",
       "      <td>2022-11-13</td>\n",
       "      <td>5.119254e+06</td>\n",
       "      <td>pilot</td>\n",
       "      <td>other_cats</td>\n",
       "    </tr>\n",
       "  </tbody>\n",
       "</table>\n",
       "</div>"
      ],
      "text/plain": [
       "          date         value period    category\n",
       "37  2022-11-07  5.480441e+06  pilot      sweets\n",
       "38  2022-11-08  5.052774e+06  pilot      sweets\n",
       "39  2022-11-09  5.531690e+06  pilot      sweets\n",
       "40  2022-11-10  5.947663e+06  pilot      sweets\n",
       "41  2022-11-11  7.245025e+06  pilot      sweets\n",
       "42  2022-11-12  6.923377e+06  pilot      sweets\n",
       "43  2022-11-13  5.748137e+06  pilot      sweets\n",
       "81  2022-11-07  4.919751e+06  pilot  other_cats\n",
       "82  2022-11-08  4.693106e+06  pilot  other_cats\n",
       "83  2022-11-09  4.784316e+06  pilot  other_cats\n",
       "84  2022-11-10  5.291418e+06  pilot  other_cats\n",
       "85  2022-11-11  6.380754e+06  pilot  other_cats\n",
       "86  2022-11-12  6.346908e+06  pilot  other_cats\n",
       "87  2022-11-13  5.119254e+06  pilot  other_cats"
      ]
     },
     "execution_count": 48,
     "metadata": {},
     "output_type": "execute_result"
    }
   ],
   "source": [
    "df_pilot"
   ]
  },
  {
   "cell_type": "code",
   "execution_count": 49,
   "metadata": {},
   "outputs": [],
   "source": [
    "l_test = ['sweets']\n",
    "l_contrl = ['other_cats']"
   ]
  },
  {
   "cell_type": "code",
   "execution_count": 50,
   "metadata": {},
   "outputs": [],
   "source": [
    "def forecast_for_ab(df_prepilot, df_pilot, mtr = 'value', corr_lim = 0, control_share = 0.1, sigma = 1.5):\n",
    "        y_train = df_prepilot.loc[\n",
    "        df_prepilot['category'].isin(l_test)\n",
    "        ].pivot_table(index='date', aggfunc={mtr:'sum'})[[mtr]].values\n",
    "        X_train = df_prepilot.loc[\n",
    "            df_prepilot['category'].isin(l_contrl)\n",
    "        ].pivot_table(index='date', aggfunc={mtr:'sum'}).reset_index()[[mtr]].values\n",
    "        X_train = sm.add_constant(X_train)\n",
    "        y_test = df_pilot.loc[\n",
    "            df_pilot['category'].isin(l_test)\n",
    "        ].pivot_table(index='date', aggfunc={mtr:'sum'})[[mtr]].values\n",
    "        X_test = df_pilot.loc[\n",
    "            df_pilot['category'].isin(l_contrl)\n",
    "        ].pivot_table(index='date', aggfunc={mtr:'sum'}).reset_index()[[mtr]].values\n",
    "        X_test = sm.add_constant(X_test)\n",
    "\n",
    "        # обучаем модель\n",
    "        model = sm.OLS(y_train, X_train)\n",
    "        results = model.fit()\n",
    "\n",
    "        # оцениваем точность модели\n",
    "        float_rsquared = round(results.rsquared, 4)\n",
    "        series_predictions = pd.Series(results.predict(X_test))\n",
    "        series_facts = pd.Series([i[0] for i in y_test])\n",
    "        series_prepilot_predictions = pd.Series(results.predict())\n",
    "        series_prepilot_facts = pd.Series([i[0] for i in y_train])\n",
    "        rmse = mean_squared_error(series_predictions, series_facts)**(1/2)\n",
    "        rmse_prec = round(rmse / series_predictions.mean(), 4)\n",
    "        print(f'R-squared: {float_rsquared}, holdout {sigma} rmse (%): {sigma * rmse_prec}')\n",
    "        print(f'Control group size: {len(l_contrl)}, Test group size: {len(l_test)}')\n",
    "        # визуализация точности прогнозирования\n",
    "        t_prepilot = [i + 1 for i in range(len(series_prepilot_predictions))]\n",
    "        t_pilot = [i + 1 for i in range(max(t_prepilot), max(t_prepilot) + len(series_predictions))]\n",
    "        df_pilot_pred = pd.DataFrame({\n",
    "            'data_type':'forecast',\n",
    "            'period_type':'pilot',\n",
    "            'values':series_predictions,\n",
    "            'ci_low':series_predictions - rmse * sigma,\n",
    "            'ci_up':series_predictions + rmse * sigma,\n",
    "            't':t_pilot\n",
    "        })\n",
    "        df_pilot_fact = pd.DataFrame({\n",
    "            'data_type':'fact',\n",
    "            'period_type':'pilot',\n",
    "            'values':series_facts,\n",
    "            'ci_low':series_predictions - rmse * sigma,\n",
    "            'ci_up':series_predictions + rmse * sigma,\n",
    "            't':t_pilot\n",
    "        })\n",
    "        df_prepilot_pred = pd.DataFrame({\n",
    "            'data_type':'forecast',\n",
    "            'period_type':'prepilot',\n",
    "            'values':series_prepilot_predictions,\n",
    "            'ci_low':series_prepilot_predictions - rmse * sigma,\n",
    "            'ci_up':series_prepilot_predictions + rmse * sigma,\n",
    "            't':t_prepilot\n",
    "        })\n",
    "        df_prepilot_fact = pd.DataFrame({\n",
    "            'data_type':'fact',\n",
    "            'period_type':'prepilot',\n",
    "            'values':series_prepilot_facts,\n",
    "            'ci_low':series_prepilot_predictions - rmse * sigma,\n",
    "            'ci_up':series_prepilot_predictions + rmse * sigma,\n",
    "            't':t_prepilot\n",
    "        })\n",
    "        df_results = df_prepilot_fact.append(df_prepilot_pred).append(df_pilot_fact).append(df_pilot_pred)\n",
    "        fig = px.line(\n",
    "            df_results, \n",
    "            x=\"t\", \n",
    "            y=['ci_low', \"values\", 'ci_up'], \n",
    "            color='data_type',\n",
    "            color_discrete_sequence=[\"blue\", \"orange\"]\n",
    "        )\n",
    "        fig.add_vline(\n",
    "            x=min(t_pilot), \n",
    "            line_width=2, \n",
    "            line_dash=\"dash\", \n",
    "            line_color=\"black\", \n",
    "            opacity=0.7,\n",
    "            annotation_text=\"A/A period start\", \n",
    "            annotation_position=\"top left\"\n",
    "        )\n",
    "        fig.show()"
   ]
  },
  {
   "cell_type": "code",
   "execution_count": 51,
   "metadata": {},
   "outputs": [
    {
     "name": "stdout",
     "output_type": "stream",
     "text": [
      "R-squared: 0.9003, holdout 1.5 rmse (%): 0.07995\n",
      "Control group size: 1, Test group size: 1\n"
     ]
    },
    {
     "data": {
      "application/vnd.plotly.v1+json": {
       "config": {
        "plotlyServerURL": "https://plot.ly"
       },
       "data": [
        {
         "hovertemplate": "data_type=fact<br>variable=ci_low<br>t=%{x}<br>value=%{y}<extra></extra>",
         "legendgroup": "fact",
         "line": {
          "color": "blue",
          "dash": "solid"
         },
         "marker": {
          "symbol": "circle"
         },
         "mode": "lines",
         "name": "fact",
         "orientation": "v",
         "showlegend": true,
         "type": "scatter",
         "x": [
          1,
          2,
          3,
          4,
          5,
          6,
          7,
          8,
          9,
          10,
          11,
          12,
          13,
          14,
          15,
          16,
          17,
          18,
          19,
          20,
          21,
          22,
          23,
          24,
          25,
          26,
          27,
          28,
          29,
          30,
          31,
          32,
          33,
          34,
          35,
          36,
          37,
          38,
          39,
          40,
          41,
          42,
          43,
          44
         ],
         "xaxis": "x",
         "y": [
          6260193.50773175,
          5558357.788855574,
          5360066.404037545,
          5208671.657287991,
          5472836.1307817865,
          5891231.8329182295,
          6134959.121326938,
          6182898.221467035,
          5734283.692343175,
          5519497.906039989,
          5325961.810381217,
          5221944.904191304,
          5314765.043548753,
          6117901.490372726,
          6612589.174058684,
          6084375.664649555,
          4952350.987791888,
          4978757.229276122,
          4808131.335640483,
          5501361.180824965,
          5966157.147866895,
          6468165.279731579,
          5980978.036008321,
          4303005.749111468,
          4957732.491093946,
          4961256.267556845,
          5269725.607454096,
          5962678.0857560625,
          6092762.66775387,
          5438947.665446476,
          4013645.327477306,
          3620331.2882580077,
          3942461.0634409375,
          5949065.48053583,
          6330871.835364182,
          5495032.515854998,
          5552558.014681054,
          4824622.832733572,
          4598670.753084068,
          4689601.813116705,
          5195152.962211941,
          6281158.5339115495,
          6247416.046538409,
          5023515.524098596
         ],
         "yaxis": "y"
        },
        {
         "hovertemplate": "data_type=fact<br>variable=values<br>t=%{x}<br>value=%{y}<extra></extra>",
         "legendgroup": "fact",
         "line": {
          "color": "blue",
          "dash": "solid"
         },
         "marker": {
          "symbol": "circle"
         },
         "mode": "lines",
         "name": "fact",
         "orientation": "v",
         "showlegend": false,
         "type": "scatter",
         "x": [
          1,
          2,
          3,
          4,
          5,
          6,
          7,
          8,
          9,
          10,
          11,
          12,
          13,
          14,
          15,
          16,
          17,
          18,
          19,
          20,
          21,
          22,
          23,
          24,
          25,
          26,
          27,
          28,
          29,
          30,
          31,
          32,
          33,
          34,
          35,
          36,
          37,
          38,
          39,
          40,
          41,
          42,
          43,
          44
         ],
         "xaxis": "x",
         "y": [
          6612335.50596932,
          6071245.78990567,
          5950961.77613801,
          6274466.9446802,
          5813274.04129919,
          5947139.34267445,
          6302353.97833237,
          6367353.68387788,
          6152624.38465043,
          5354150.96293104,
          5518933.83662776,
          5581485.46738734,
          5810475.72367662,
          6449534.78088468,
          7254822.95365806,
          6394329.46621614,
          5212277.59704104,
          5308703.1521228,
          5018567.81403352,
          6010202.33973369,
          6347085.09206334,
          6889773.06916736,
          6517389.11372097,
          4826746.68818115,
          5652597.35455379,
          5479113.53034391,
          5830586.59865367,
          6515152.30939899,
          6760878.13234189,
          5957445.82551023,
          4420585.16127207,
          3998740.80601676,
          4502275.52061953,
          6546819.85059701,
          7206947.29199534,
          6161017.14983293,
          6447697.66647842,
          5480440.69880487,
          5052773.61817338,
          5531690.27152633,
          5947662.75281011,
          7245024.89218384,
          6923377.03433391,
          5748137.1419149
         ],
         "yaxis": "y"
        },
        {
         "hovertemplate": "data_type=fact<br>variable=ci_up<br>t=%{x}<br>value=%{y}<extra></extra>",
         "legendgroup": "fact",
         "line": {
          "color": "blue",
          "dash": "solid"
         },
         "marker": {
          "symbol": "circle"
         },
         "mode": "lines",
         "name": "fact",
         "orientation": "v",
         "showlegend": false,
         "type": "scatter",
         "x": [
          1,
          2,
          3,
          4,
          5,
          6,
          7,
          8,
          9,
          10,
          11,
          12,
          13,
          14,
          15,
          16,
          17,
          18,
          19,
          20,
          21,
          22,
          23,
          24,
          25,
          26,
          27,
          28,
          29,
          30,
          31,
          32,
          33,
          34,
          35,
          36,
          37,
          38,
          39,
          40,
          41,
          42,
          43,
          44
         ],
         "xaxis": "x",
         "y": [
          7174765.458849049,
          6472929.739972874,
          6274638.355154845,
          6123243.60840529,
          6387408.081899086,
          6805803.784035529,
          7049531.072444238,
          7097470.172584334,
          6648855.643460475,
          6434069.857157288,
          6240533.761498516,
          6136516.8553086035,
          6229336.994666052,
          7032473.441490025,
          7527161.125175984,
          6998947.615766855,
          5866922.938909188,
          5893329.180393421,
          5722703.286757782,
          6415933.131942265,
          6880729.098984195,
          7382737.230848879,
          6895549.98712562,
          5217577.7002287675,
          5872304.442211245,
          5875828.218674145,
          6184297.558571395,
          6877250.036873362,
          7007334.618871169,
          6353519.616563776,
          4928217.278594606,
          4534903.239375307,
          4857033.014558237,
          6863637.43165313,
          7245443.786481481,
          6409604.466972297,
          6467129.965798354,
          5739194.783850872,
          5513242.704201368,
          5604173.764234005,
          6109724.913329241,
          7195730.485028849,
          7161987.997655708,
          5938087.475215895
         ],
         "yaxis": "y"
        },
        {
         "hovertemplate": "data_type=forecast<br>variable=ci_low<br>t=%{x}<br>value=%{y}<extra></extra>",
         "legendgroup": "forecast",
         "line": {
          "color": "orange",
          "dash": "solid"
         },
         "marker": {
          "symbol": "circle"
         },
         "mode": "lines",
         "name": "forecast",
         "orientation": "v",
         "showlegend": true,
         "type": "scatter",
         "x": [
          1,
          2,
          3,
          4,
          5,
          6,
          7,
          8,
          9,
          10,
          11,
          12,
          13,
          14,
          15,
          16,
          17,
          18,
          19,
          20,
          21,
          22,
          23,
          24,
          25,
          26,
          27,
          28,
          29,
          30,
          31,
          32,
          33,
          34,
          35,
          36,
          37,
          38,
          39,
          40,
          41,
          42,
          43,
          44
         ],
         "xaxis": "x",
         "y": [
          6260193.50773175,
          5558357.788855574,
          5360066.404037545,
          5208671.657287991,
          5472836.1307817865,
          5891231.8329182295,
          6134959.121326938,
          6182898.221467035,
          5734283.692343175,
          5519497.906039989,
          5325961.810381217,
          5221944.904191304,
          5314765.043548753,
          6117901.490372726,
          6612589.174058684,
          6084375.664649555,
          4952350.987791888,
          4978757.229276122,
          4808131.335640483,
          5501361.180824965,
          5966157.147866895,
          6468165.279731579,
          5980978.036008321,
          4303005.749111468,
          4957732.491093946,
          4961256.267556845,
          5269725.607454096,
          5962678.0857560625,
          6092762.66775387,
          5438947.665446476,
          4013645.327477306,
          3620331.2882580077,
          3942461.0634409375,
          5949065.48053583,
          6330871.835364182,
          5495032.515854998,
          5552558.014681054,
          4824622.832733572,
          4598670.753084068,
          4689601.813116705,
          5195152.962211941,
          6281158.5339115495,
          6247416.046538409,
          5023515.524098596
         ],
         "yaxis": "y"
        },
        {
         "hovertemplate": "data_type=forecast<br>variable=values<br>t=%{x}<br>value=%{y}<extra></extra>",
         "legendgroup": "forecast",
         "line": {
          "color": "orange",
          "dash": "solid"
         },
         "marker": {
          "symbol": "circle"
         },
         "mode": "lines",
         "name": "forecast",
         "orientation": "v",
         "showlegend": false,
         "type": "scatter",
         "x": [
          1,
          2,
          3,
          4,
          5,
          6,
          7,
          8,
          9,
          10,
          11,
          12,
          13,
          14,
          15,
          16,
          17,
          18,
          19,
          20,
          21,
          22,
          23,
          24,
          25,
          26,
          27,
          28,
          29,
          30,
          31,
          32,
          33,
          34,
          35,
          36,
          37,
          38,
          39,
          40,
          41,
          42,
          43,
          44
         ],
         "xaxis": "x",
         "y": [
          6717479.483290399,
          6015643.764414224,
          5817352.379596195,
          5665957.63284664,
          5930122.106340436,
          6348517.808476879,
          6592245.096885588,
          6640184.197025685,
          6191569.667901825,
          5976783.881598638,
          5783247.785939867,
          5679230.879749954,
          5772051.019107402,
          6575187.4659313755,
          7069875.149617334,
          6541661.640208205,
          5409636.963350538,
          5436043.204834771,
          5265417.311199132,
          5958647.156383615,
          6423443.123425545,
          6925451.255290229,
          6438264.0115669705,
          4760291.724670118,
          5415018.466652595,
          5418542.243115495,
          5727011.583012746,
          6419964.061314712,
          6550048.643312519,
          5896233.641005126,
          4470931.303035956,
          4077617.2638166575,
          4399747.038999587,
          6406351.45609448,
          6788157.810922831,
          5952318.491413647,
          6009843.990239704,
          5281908.808292222,
          5055956.728642718,
          5146887.788675355,
          5652438.937770591,
          6738444.509470199,
          6704702.022097059,
          5480801.499657245
         ],
         "yaxis": "y"
        },
        {
         "hovertemplate": "data_type=forecast<br>variable=ci_up<br>t=%{x}<br>value=%{y}<extra></extra>",
         "legendgroup": "forecast",
         "line": {
          "color": "orange",
          "dash": "solid"
         },
         "marker": {
          "symbol": "circle"
         },
         "mode": "lines",
         "name": "forecast",
         "orientation": "v",
         "showlegend": false,
         "type": "scatter",
         "x": [
          1,
          2,
          3,
          4,
          5,
          6,
          7,
          8,
          9,
          10,
          11,
          12,
          13,
          14,
          15,
          16,
          17,
          18,
          19,
          20,
          21,
          22,
          23,
          24,
          25,
          26,
          27,
          28,
          29,
          30,
          31,
          32,
          33,
          34,
          35,
          36,
          37,
          38,
          39,
          40,
          41,
          42,
          43,
          44
         ],
         "xaxis": "x",
         "y": [
          7174765.458849049,
          6472929.739972874,
          6274638.355154845,
          6123243.60840529,
          6387408.081899086,
          6805803.784035529,
          7049531.072444238,
          7097470.172584334,
          6648855.643460475,
          6434069.857157288,
          6240533.761498516,
          6136516.8553086035,
          6229336.994666052,
          7032473.441490025,
          7527161.125175984,
          6998947.615766855,
          5866922.938909188,
          5893329.180393421,
          5722703.286757782,
          6415933.131942265,
          6880729.098984195,
          7382737.230848879,
          6895549.98712562,
          5217577.7002287675,
          5872304.442211245,
          5875828.218674145,
          6184297.558571395,
          6877250.036873362,
          7007334.618871169,
          6353519.616563776,
          4928217.278594606,
          4534903.239375307,
          4857033.014558237,
          6863637.43165313,
          7245443.786481481,
          6409604.466972297,
          6467129.965798354,
          5739194.783850872,
          5513242.704201368,
          5604173.764234005,
          6109724.913329241,
          7195730.485028849,
          7161987.997655708,
          5938087.475215895
         ],
         "yaxis": "y"
        }
       ],
       "layout": {
        "annotations": [
         {
          "showarrow": false,
          "text": "A/A period start",
          "x": 38,
          "xanchor": "right",
          "xref": "x",
          "y": 1,
          "yanchor": "top",
          "yref": "y domain"
         }
        ],
        "legend": {
         "title": {
          "text": "data_type"
         },
         "tracegroupgap": 0
        },
        "margin": {
         "t": 60
        },
        "shapes": [
         {
          "line": {
           "color": "black",
           "dash": "dash",
           "width": 2
          },
          "opacity": 0.7,
          "type": "line",
          "x0": 38,
          "x1": 38,
          "xref": "x",
          "y0": 0,
          "y1": 1,
          "yref": "y domain"
         }
        ],
        "template": {
         "data": {
          "bar": [
           {
            "error_x": {
             "color": "#2a3f5f"
            },
            "error_y": {
             "color": "#2a3f5f"
            },
            "marker": {
             "line": {
              "color": "#E5ECF6",
              "width": 0.5
             },
             "pattern": {
              "fillmode": "overlay",
              "size": 10,
              "solidity": 0.2
             }
            },
            "type": "bar"
           }
          ],
          "barpolar": [
           {
            "marker": {
             "line": {
              "color": "#E5ECF6",
              "width": 0.5
             },
             "pattern": {
              "fillmode": "overlay",
              "size": 10,
              "solidity": 0.2
             }
            },
            "type": "barpolar"
           }
          ],
          "carpet": [
           {
            "aaxis": {
             "endlinecolor": "#2a3f5f",
             "gridcolor": "white",
             "linecolor": "white",
             "minorgridcolor": "white",
             "startlinecolor": "#2a3f5f"
            },
            "baxis": {
             "endlinecolor": "#2a3f5f",
             "gridcolor": "white",
             "linecolor": "white",
             "minorgridcolor": "white",
             "startlinecolor": "#2a3f5f"
            },
            "type": "carpet"
           }
          ],
          "choropleth": [
           {
            "colorbar": {
             "outlinewidth": 0,
             "ticks": ""
            },
            "type": "choropleth"
           }
          ],
          "contour": [
           {
            "colorbar": {
             "outlinewidth": 0,
             "ticks": ""
            },
            "colorscale": [
             [
              0,
              "#0d0887"
             ],
             [
              0.1111111111111111,
              "#46039f"
             ],
             [
              0.2222222222222222,
              "#7201a8"
             ],
             [
              0.3333333333333333,
              "#9c179e"
             ],
             [
              0.4444444444444444,
              "#bd3786"
             ],
             [
              0.5555555555555556,
              "#d8576b"
             ],
             [
              0.6666666666666666,
              "#ed7953"
             ],
             [
              0.7777777777777778,
              "#fb9f3a"
             ],
             [
              0.8888888888888888,
              "#fdca26"
             ],
             [
              1,
              "#f0f921"
             ]
            ],
            "type": "contour"
           }
          ],
          "contourcarpet": [
           {
            "colorbar": {
             "outlinewidth": 0,
             "ticks": ""
            },
            "type": "contourcarpet"
           }
          ],
          "heatmap": [
           {
            "colorbar": {
             "outlinewidth": 0,
             "ticks": ""
            },
            "colorscale": [
             [
              0,
              "#0d0887"
             ],
             [
              0.1111111111111111,
              "#46039f"
             ],
             [
              0.2222222222222222,
              "#7201a8"
             ],
             [
              0.3333333333333333,
              "#9c179e"
             ],
             [
              0.4444444444444444,
              "#bd3786"
             ],
             [
              0.5555555555555556,
              "#d8576b"
             ],
             [
              0.6666666666666666,
              "#ed7953"
             ],
             [
              0.7777777777777778,
              "#fb9f3a"
             ],
             [
              0.8888888888888888,
              "#fdca26"
             ],
             [
              1,
              "#f0f921"
             ]
            ],
            "type": "heatmap"
           }
          ],
          "heatmapgl": [
           {
            "colorbar": {
             "outlinewidth": 0,
             "ticks": ""
            },
            "colorscale": [
             [
              0,
              "#0d0887"
             ],
             [
              0.1111111111111111,
              "#46039f"
             ],
             [
              0.2222222222222222,
              "#7201a8"
             ],
             [
              0.3333333333333333,
              "#9c179e"
             ],
             [
              0.4444444444444444,
              "#bd3786"
             ],
             [
              0.5555555555555556,
              "#d8576b"
             ],
             [
              0.6666666666666666,
              "#ed7953"
             ],
             [
              0.7777777777777778,
              "#fb9f3a"
             ],
             [
              0.8888888888888888,
              "#fdca26"
             ],
             [
              1,
              "#f0f921"
             ]
            ],
            "type": "heatmapgl"
           }
          ],
          "histogram": [
           {
            "marker": {
             "pattern": {
              "fillmode": "overlay",
              "size": 10,
              "solidity": 0.2
             }
            },
            "type": "histogram"
           }
          ],
          "histogram2d": [
           {
            "colorbar": {
             "outlinewidth": 0,
             "ticks": ""
            },
            "colorscale": [
             [
              0,
              "#0d0887"
             ],
             [
              0.1111111111111111,
              "#46039f"
             ],
             [
              0.2222222222222222,
              "#7201a8"
             ],
             [
              0.3333333333333333,
              "#9c179e"
             ],
             [
              0.4444444444444444,
              "#bd3786"
             ],
             [
              0.5555555555555556,
              "#d8576b"
             ],
             [
              0.6666666666666666,
              "#ed7953"
             ],
             [
              0.7777777777777778,
              "#fb9f3a"
             ],
             [
              0.8888888888888888,
              "#fdca26"
             ],
             [
              1,
              "#f0f921"
             ]
            ],
            "type": "histogram2d"
           }
          ],
          "histogram2dcontour": [
           {
            "colorbar": {
             "outlinewidth": 0,
             "ticks": ""
            },
            "colorscale": [
             [
              0,
              "#0d0887"
             ],
             [
              0.1111111111111111,
              "#46039f"
             ],
             [
              0.2222222222222222,
              "#7201a8"
             ],
             [
              0.3333333333333333,
              "#9c179e"
             ],
             [
              0.4444444444444444,
              "#bd3786"
             ],
             [
              0.5555555555555556,
              "#d8576b"
             ],
             [
              0.6666666666666666,
              "#ed7953"
             ],
             [
              0.7777777777777778,
              "#fb9f3a"
             ],
             [
              0.8888888888888888,
              "#fdca26"
             ],
             [
              1,
              "#f0f921"
             ]
            ],
            "type": "histogram2dcontour"
           }
          ],
          "mesh3d": [
           {
            "colorbar": {
             "outlinewidth": 0,
             "ticks": ""
            },
            "type": "mesh3d"
           }
          ],
          "parcoords": [
           {
            "line": {
             "colorbar": {
              "outlinewidth": 0,
              "ticks": ""
             }
            },
            "type": "parcoords"
           }
          ],
          "pie": [
           {
            "automargin": true,
            "type": "pie"
           }
          ],
          "scatter": [
           {
            "fillpattern": {
             "fillmode": "overlay",
             "size": 10,
             "solidity": 0.2
            },
            "type": "scatter"
           }
          ],
          "scatter3d": [
           {
            "line": {
             "colorbar": {
              "outlinewidth": 0,
              "ticks": ""
             }
            },
            "marker": {
             "colorbar": {
              "outlinewidth": 0,
              "ticks": ""
             }
            },
            "type": "scatter3d"
           }
          ],
          "scattercarpet": [
           {
            "marker": {
             "colorbar": {
              "outlinewidth": 0,
              "ticks": ""
             }
            },
            "type": "scattercarpet"
           }
          ],
          "scattergeo": [
           {
            "marker": {
             "colorbar": {
              "outlinewidth": 0,
              "ticks": ""
             }
            },
            "type": "scattergeo"
           }
          ],
          "scattergl": [
           {
            "marker": {
             "colorbar": {
              "outlinewidth": 0,
              "ticks": ""
             }
            },
            "type": "scattergl"
           }
          ],
          "scattermapbox": [
           {
            "marker": {
             "colorbar": {
              "outlinewidth": 0,
              "ticks": ""
             }
            },
            "type": "scattermapbox"
           }
          ],
          "scatterpolar": [
           {
            "marker": {
             "colorbar": {
              "outlinewidth": 0,
              "ticks": ""
             }
            },
            "type": "scatterpolar"
           }
          ],
          "scatterpolargl": [
           {
            "marker": {
             "colorbar": {
              "outlinewidth": 0,
              "ticks": ""
             }
            },
            "type": "scatterpolargl"
           }
          ],
          "scatterternary": [
           {
            "marker": {
             "colorbar": {
              "outlinewidth": 0,
              "ticks": ""
             }
            },
            "type": "scatterternary"
           }
          ],
          "surface": [
           {
            "colorbar": {
             "outlinewidth": 0,
             "ticks": ""
            },
            "colorscale": [
             [
              0,
              "#0d0887"
             ],
             [
              0.1111111111111111,
              "#46039f"
             ],
             [
              0.2222222222222222,
              "#7201a8"
             ],
             [
              0.3333333333333333,
              "#9c179e"
             ],
             [
              0.4444444444444444,
              "#bd3786"
             ],
             [
              0.5555555555555556,
              "#d8576b"
             ],
             [
              0.6666666666666666,
              "#ed7953"
             ],
             [
              0.7777777777777778,
              "#fb9f3a"
             ],
             [
              0.8888888888888888,
              "#fdca26"
             ],
             [
              1,
              "#f0f921"
             ]
            ],
            "type": "surface"
           }
          ],
          "table": [
           {
            "cells": {
             "fill": {
              "color": "#EBF0F8"
             },
             "line": {
              "color": "white"
             }
            },
            "header": {
             "fill": {
              "color": "#C8D4E3"
             },
             "line": {
              "color": "white"
             }
            },
            "type": "table"
           }
          ]
         },
         "layout": {
          "annotationdefaults": {
           "arrowcolor": "#2a3f5f",
           "arrowhead": 0,
           "arrowwidth": 1
          },
          "autotypenumbers": "strict",
          "coloraxis": {
           "colorbar": {
            "outlinewidth": 0,
            "ticks": ""
           }
          },
          "colorscale": {
           "diverging": [
            [
             0,
             "#8e0152"
            ],
            [
             0.1,
             "#c51b7d"
            ],
            [
             0.2,
             "#de77ae"
            ],
            [
             0.3,
             "#f1b6da"
            ],
            [
             0.4,
             "#fde0ef"
            ],
            [
             0.5,
             "#f7f7f7"
            ],
            [
             0.6,
             "#e6f5d0"
            ],
            [
             0.7,
             "#b8e186"
            ],
            [
             0.8,
             "#7fbc41"
            ],
            [
             0.9,
             "#4d9221"
            ],
            [
             1,
             "#276419"
            ]
           ],
           "sequential": [
            [
             0,
             "#0d0887"
            ],
            [
             0.1111111111111111,
             "#46039f"
            ],
            [
             0.2222222222222222,
             "#7201a8"
            ],
            [
             0.3333333333333333,
             "#9c179e"
            ],
            [
             0.4444444444444444,
             "#bd3786"
            ],
            [
             0.5555555555555556,
             "#d8576b"
            ],
            [
             0.6666666666666666,
             "#ed7953"
            ],
            [
             0.7777777777777778,
             "#fb9f3a"
            ],
            [
             0.8888888888888888,
             "#fdca26"
            ],
            [
             1,
             "#f0f921"
            ]
           ],
           "sequentialminus": [
            [
             0,
             "#0d0887"
            ],
            [
             0.1111111111111111,
             "#46039f"
            ],
            [
             0.2222222222222222,
             "#7201a8"
            ],
            [
             0.3333333333333333,
             "#9c179e"
            ],
            [
             0.4444444444444444,
             "#bd3786"
            ],
            [
             0.5555555555555556,
             "#d8576b"
            ],
            [
             0.6666666666666666,
             "#ed7953"
            ],
            [
             0.7777777777777778,
             "#fb9f3a"
            ],
            [
             0.8888888888888888,
             "#fdca26"
            ],
            [
             1,
             "#f0f921"
            ]
           ]
          },
          "colorway": [
           "#636efa",
           "#EF553B",
           "#00cc96",
           "#ab63fa",
           "#FFA15A",
           "#19d3f3",
           "#FF6692",
           "#B6E880",
           "#FF97FF",
           "#FECB52"
          ],
          "font": {
           "color": "#2a3f5f"
          },
          "geo": {
           "bgcolor": "white",
           "lakecolor": "white",
           "landcolor": "#E5ECF6",
           "showlakes": true,
           "showland": true,
           "subunitcolor": "white"
          },
          "hoverlabel": {
           "align": "left"
          },
          "hovermode": "closest",
          "mapbox": {
           "style": "light"
          },
          "paper_bgcolor": "white",
          "plot_bgcolor": "#E5ECF6",
          "polar": {
           "angularaxis": {
            "gridcolor": "white",
            "linecolor": "white",
            "ticks": ""
           },
           "bgcolor": "#E5ECF6",
           "radialaxis": {
            "gridcolor": "white",
            "linecolor": "white",
            "ticks": ""
           }
          },
          "scene": {
           "xaxis": {
            "backgroundcolor": "#E5ECF6",
            "gridcolor": "white",
            "gridwidth": 2,
            "linecolor": "white",
            "showbackground": true,
            "ticks": "",
            "zerolinecolor": "white"
           },
           "yaxis": {
            "backgroundcolor": "#E5ECF6",
            "gridcolor": "white",
            "gridwidth": 2,
            "linecolor": "white",
            "showbackground": true,
            "ticks": "",
            "zerolinecolor": "white"
           },
           "zaxis": {
            "backgroundcolor": "#E5ECF6",
            "gridcolor": "white",
            "gridwidth": 2,
            "linecolor": "white",
            "showbackground": true,
            "ticks": "",
            "zerolinecolor": "white"
           }
          },
          "shapedefaults": {
           "line": {
            "color": "#2a3f5f"
           }
          },
          "ternary": {
           "aaxis": {
            "gridcolor": "white",
            "linecolor": "white",
            "ticks": ""
           },
           "baxis": {
            "gridcolor": "white",
            "linecolor": "white",
            "ticks": ""
           },
           "bgcolor": "#E5ECF6",
           "caxis": {
            "gridcolor": "white",
            "linecolor": "white",
            "ticks": ""
           }
          },
          "title": {
           "x": 0.05
          },
          "xaxis": {
           "automargin": true,
           "gridcolor": "white",
           "linecolor": "white",
           "ticks": "",
           "title": {
            "standoff": 15
           },
           "zerolinecolor": "white",
           "zerolinewidth": 2
          },
          "yaxis": {
           "automargin": true,
           "gridcolor": "white",
           "linecolor": "white",
           "ticks": "",
           "title": {
            "standoff": 15
           },
           "zerolinecolor": "white",
           "zerolinewidth": 2
          }
         }
        },
        "xaxis": {
         "anchor": "y",
         "domain": [
          0,
          1
         ],
         "title": {
          "text": "t"
         }
        },
        "yaxis": {
         "anchor": "x",
         "domain": [
          0,
          1
         ],
         "title": {
          "text": "value"
         }
        }
       }
      },
      "text/html": [
       "<div>                            <div id=\"8ae25707-13cf-4cc1-9e30-e43958366f33\" class=\"plotly-graph-div\" style=\"height:525px; width:100%;\"></div>            <script type=\"text/javascript\">                require([\"plotly\"], function(Plotly) {                    window.PLOTLYENV=window.PLOTLYENV || {};                                    if (document.getElementById(\"8ae25707-13cf-4cc1-9e30-e43958366f33\")) {                    Plotly.newPlot(                        \"8ae25707-13cf-4cc1-9e30-e43958366f33\",                        [{\"hovertemplate\":\"data_type=fact<br>variable=ci_low<br>t=%{x}<br>value=%{y}<extra></extra>\",\"legendgroup\":\"fact\",\"line\":{\"color\":\"blue\",\"dash\":\"solid\"},\"marker\":{\"symbol\":\"circle\"},\"mode\":\"lines\",\"name\":\"fact\",\"orientation\":\"v\",\"showlegend\":true,\"x\":[1,2,3,4,5,6,7,8,9,10,11,12,13,14,15,16,17,18,19,20,21,22,23,24,25,26,27,28,29,30,31,32,33,34,35,36,37,38,39,40,41,42,43,44],\"xaxis\":\"x\",\"y\":[6260193.50773175,5558357.788855574,5360066.404037545,5208671.657287991,5472836.1307817865,5891231.8329182295,6134959.121326938,6182898.221467035,5734283.692343175,5519497.906039989,5325961.810381217,5221944.904191304,5314765.043548753,6117901.490372726,6612589.174058684,6084375.664649555,4952350.987791888,4978757.229276122,4808131.335640483,5501361.180824965,5966157.147866895,6468165.279731579,5980978.036008321,4303005.749111468,4957732.491093946,4961256.267556845,5269725.607454096,5962678.0857560625,6092762.66775387,5438947.665446476,4013645.327477306,3620331.2882580077,3942461.0634409375,5949065.48053583,6330871.835364182,5495032.515854998,5552558.014681054,4824622.832733572,4598670.753084068,4689601.813116705,5195152.962211941,6281158.5339115495,6247416.046538409,5023515.524098596],\"yaxis\":\"y\",\"type\":\"scatter\"},{\"hovertemplate\":\"data_type=fact<br>variable=values<br>t=%{x}<br>value=%{y}<extra></extra>\",\"legendgroup\":\"fact\",\"line\":{\"color\":\"blue\",\"dash\":\"solid\"},\"marker\":{\"symbol\":\"circle\"},\"mode\":\"lines\",\"name\":\"fact\",\"orientation\":\"v\",\"showlegend\":false,\"x\":[1,2,3,4,5,6,7,8,9,10,11,12,13,14,15,16,17,18,19,20,21,22,23,24,25,26,27,28,29,30,31,32,33,34,35,36,37,38,39,40,41,42,43,44],\"xaxis\":\"x\",\"y\":[6612335.50596932,6071245.78990567,5950961.77613801,6274466.9446802,5813274.04129919,5947139.34267445,6302353.97833237,6367353.68387788,6152624.38465043,5354150.96293104,5518933.83662776,5581485.46738734,5810475.72367662,6449534.78088468,7254822.95365806,6394329.46621614,5212277.59704104,5308703.1521228,5018567.81403352,6010202.33973369,6347085.09206334,6889773.06916736,6517389.11372097,4826746.68818115,5652597.35455379,5479113.53034391,5830586.59865367,6515152.30939899,6760878.13234189,5957445.82551023,4420585.16127207,3998740.80601676,4502275.52061953,6546819.85059701,7206947.29199534,6161017.14983293,6447697.66647842,5480440.69880487,5052773.61817338,5531690.27152633,5947662.75281011,7245024.89218384,6923377.03433391,5748137.1419149],\"yaxis\":\"y\",\"type\":\"scatter\"},{\"hovertemplate\":\"data_type=fact<br>variable=ci_up<br>t=%{x}<br>value=%{y}<extra></extra>\",\"legendgroup\":\"fact\",\"line\":{\"color\":\"blue\",\"dash\":\"solid\"},\"marker\":{\"symbol\":\"circle\"},\"mode\":\"lines\",\"name\":\"fact\",\"orientation\":\"v\",\"showlegend\":false,\"x\":[1,2,3,4,5,6,7,8,9,10,11,12,13,14,15,16,17,18,19,20,21,22,23,24,25,26,27,28,29,30,31,32,33,34,35,36,37,38,39,40,41,42,43,44],\"xaxis\":\"x\",\"y\":[7174765.458849049,6472929.739972874,6274638.355154845,6123243.60840529,6387408.081899086,6805803.784035529,7049531.072444238,7097470.172584334,6648855.643460475,6434069.857157288,6240533.761498516,6136516.8553086035,6229336.994666052,7032473.441490025,7527161.125175984,6998947.615766855,5866922.938909188,5893329.180393421,5722703.286757782,6415933.131942265,6880729.098984195,7382737.230848879,6895549.98712562,5217577.7002287675,5872304.442211245,5875828.218674145,6184297.558571395,6877250.036873362,7007334.618871169,6353519.616563776,4928217.278594606,4534903.239375307,4857033.014558237,6863637.43165313,7245443.786481481,6409604.466972297,6467129.965798354,5739194.783850872,5513242.704201368,5604173.764234005,6109724.913329241,7195730.485028849,7161987.997655708,5938087.475215895],\"yaxis\":\"y\",\"type\":\"scatter\"},{\"hovertemplate\":\"data_type=forecast<br>variable=ci_low<br>t=%{x}<br>value=%{y}<extra></extra>\",\"legendgroup\":\"forecast\",\"line\":{\"color\":\"orange\",\"dash\":\"solid\"},\"marker\":{\"symbol\":\"circle\"},\"mode\":\"lines\",\"name\":\"forecast\",\"orientation\":\"v\",\"showlegend\":true,\"x\":[1,2,3,4,5,6,7,8,9,10,11,12,13,14,15,16,17,18,19,20,21,22,23,24,25,26,27,28,29,30,31,32,33,34,35,36,37,38,39,40,41,42,43,44],\"xaxis\":\"x\",\"y\":[6260193.50773175,5558357.788855574,5360066.404037545,5208671.657287991,5472836.1307817865,5891231.8329182295,6134959.121326938,6182898.221467035,5734283.692343175,5519497.906039989,5325961.810381217,5221944.904191304,5314765.043548753,6117901.490372726,6612589.174058684,6084375.664649555,4952350.987791888,4978757.229276122,4808131.335640483,5501361.180824965,5966157.147866895,6468165.279731579,5980978.036008321,4303005.749111468,4957732.491093946,4961256.267556845,5269725.607454096,5962678.0857560625,6092762.66775387,5438947.665446476,4013645.327477306,3620331.2882580077,3942461.0634409375,5949065.48053583,6330871.835364182,5495032.515854998,5552558.014681054,4824622.832733572,4598670.753084068,4689601.813116705,5195152.962211941,6281158.5339115495,6247416.046538409,5023515.524098596],\"yaxis\":\"y\",\"type\":\"scatter\"},{\"hovertemplate\":\"data_type=forecast<br>variable=values<br>t=%{x}<br>value=%{y}<extra></extra>\",\"legendgroup\":\"forecast\",\"line\":{\"color\":\"orange\",\"dash\":\"solid\"},\"marker\":{\"symbol\":\"circle\"},\"mode\":\"lines\",\"name\":\"forecast\",\"orientation\":\"v\",\"showlegend\":false,\"x\":[1,2,3,4,5,6,7,8,9,10,11,12,13,14,15,16,17,18,19,20,21,22,23,24,25,26,27,28,29,30,31,32,33,34,35,36,37,38,39,40,41,42,43,44],\"xaxis\":\"x\",\"y\":[6717479.483290399,6015643.764414224,5817352.379596195,5665957.63284664,5930122.106340436,6348517.808476879,6592245.096885588,6640184.197025685,6191569.667901825,5976783.881598638,5783247.785939867,5679230.879749954,5772051.019107402,6575187.4659313755,7069875.149617334,6541661.640208205,5409636.963350538,5436043.204834771,5265417.311199132,5958647.156383615,6423443.123425545,6925451.255290229,6438264.0115669705,4760291.724670118,5415018.466652595,5418542.243115495,5727011.583012746,6419964.061314712,6550048.643312519,5896233.641005126,4470931.303035956,4077617.2638166575,4399747.038999587,6406351.45609448,6788157.810922831,5952318.491413647,6009843.990239704,5281908.808292222,5055956.728642718,5146887.788675355,5652438.937770591,6738444.509470199,6704702.022097059,5480801.499657245],\"yaxis\":\"y\",\"type\":\"scatter\"},{\"hovertemplate\":\"data_type=forecast<br>variable=ci_up<br>t=%{x}<br>value=%{y}<extra></extra>\",\"legendgroup\":\"forecast\",\"line\":{\"color\":\"orange\",\"dash\":\"solid\"},\"marker\":{\"symbol\":\"circle\"},\"mode\":\"lines\",\"name\":\"forecast\",\"orientation\":\"v\",\"showlegend\":false,\"x\":[1,2,3,4,5,6,7,8,9,10,11,12,13,14,15,16,17,18,19,20,21,22,23,24,25,26,27,28,29,30,31,32,33,34,35,36,37,38,39,40,41,42,43,44],\"xaxis\":\"x\",\"y\":[7174765.458849049,6472929.739972874,6274638.355154845,6123243.60840529,6387408.081899086,6805803.784035529,7049531.072444238,7097470.172584334,6648855.643460475,6434069.857157288,6240533.761498516,6136516.8553086035,6229336.994666052,7032473.441490025,7527161.125175984,6998947.615766855,5866922.938909188,5893329.180393421,5722703.286757782,6415933.131942265,6880729.098984195,7382737.230848879,6895549.98712562,5217577.7002287675,5872304.442211245,5875828.218674145,6184297.558571395,6877250.036873362,7007334.618871169,6353519.616563776,4928217.278594606,4534903.239375307,4857033.014558237,6863637.43165313,7245443.786481481,6409604.466972297,6467129.965798354,5739194.783850872,5513242.704201368,5604173.764234005,6109724.913329241,7195730.485028849,7161987.997655708,5938087.475215895],\"yaxis\":\"y\",\"type\":\"scatter\"}],                        {\"template\":{\"data\":{\"histogram2dcontour\":[{\"type\":\"histogram2dcontour\",\"colorbar\":{\"outlinewidth\":0,\"ticks\":\"\"},\"colorscale\":[[0.0,\"#0d0887\"],[0.1111111111111111,\"#46039f\"],[0.2222222222222222,\"#7201a8\"],[0.3333333333333333,\"#9c179e\"],[0.4444444444444444,\"#bd3786\"],[0.5555555555555556,\"#d8576b\"],[0.6666666666666666,\"#ed7953\"],[0.7777777777777778,\"#fb9f3a\"],[0.8888888888888888,\"#fdca26\"],[1.0,\"#f0f921\"]]}],\"choropleth\":[{\"type\":\"choropleth\",\"colorbar\":{\"outlinewidth\":0,\"ticks\":\"\"}}],\"histogram2d\":[{\"type\":\"histogram2d\",\"colorbar\":{\"outlinewidth\":0,\"ticks\":\"\"},\"colorscale\":[[0.0,\"#0d0887\"],[0.1111111111111111,\"#46039f\"],[0.2222222222222222,\"#7201a8\"],[0.3333333333333333,\"#9c179e\"],[0.4444444444444444,\"#bd3786\"],[0.5555555555555556,\"#d8576b\"],[0.6666666666666666,\"#ed7953\"],[0.7777777777777778,\"#fb9f3a\"],[0.8888888888888888,\"#fdca26\"],[1.0,\"#f0f921\"]]}],\"heatmap\":[{\"type\":\"heatmap\",\"colorbar\":{\"outlinewidth\":0,\"ticks\":\"\"},\"colorscale\":[[0.0,\"#0d0887\"],[0.1111111111111111,\"#46039f\"],[0.2222222222222222,\"#7201a8\"],[0.3333333333333333,\"#9c179e\"],[0.4444444444444444,\"#bd3786\"],[0.5555555555555556,\"#d8576b\"],[0.6666666666666666,\"#ed7953\"],[0.7777777777777778,\"#fb9f3a\"],[0.8888888888888888,\"#fdca26\"],[1.0,\"#f0f921\"]]}],\"heatmapgl\":[{\"type\":\"heatmapgl\",\"colorbar\":{\"outlinewidth\":0,\"ticks\":\"\"},\"colorscale\":[[0.0,\"#0d0887\"],[0.1111111111111111,\"#46039f\"],[0.2222222222222222,\"#7201a8\"],[0.3333333333333333,\"#9c179e\"],[0.4444444444444444,\"#bd3786\"],[0.5555555555555556,\"#d8576b\"],[0.6666666666666666,\"#ed7953\"],[0.7777777777777778,\"#fb9f3a\"],[0.8888888888888888,\"#fdca26\"],[1.0,\"#f0f921\"]]}],\"contourcarpet\":[{\"type\":\"contourcarpet\",\"colorbar\":{\"outlinewidth\":0,\"ticks\":\"\"}}],\"contour\":[{\"type\":\"contour\",\"colorbar\":{\"outlinewidth\":0,\"ticks\":\"\"},\"colorscale\":[[0.0,\"#0d0887\"],[0.1111111111111111,\"#46039f\"],[0.2222222222222222,\"#7201a8\"],[0.3333333333333333,\"#9c179e\"],[0.4444444444444444,\"#bd3786\"],[0.5555555555555556,\"#d8576b\"],[0.6666666666666666,\"#ed7953\"],[0.7777777777777778,\"#fb9f3a\"],[0.8888888888888888,\"#fdca26\"],[1.0,\"#f0f921\"]]}],\"surface\":[{\"type\":\"surface\",\"colorbar\":{\"outlinewidth\":0,\"ticks\":\"\"},\"colorscale\":[[0.0,\"#0d0887\"],[0.1111111111111111,\"#46039f\"],[0.2222222222222222,\"#7201a8\"],[0.3333333333333333,\"#9c179e\"],[0.4444444444444444,\"#bd3786\"],[0.5555555555555556,\"#d8576b\"],[0.6666666666666666,\"#ed7953\"],[0.7777777777777778,\"#fb9f3a\"],[0.8888888888888888,\"#fdca26\"],[1.0,\"#f0f921\"]]}],\"mesh3d\":[{\"type\":\"mesh3d\",\"colorbar\":{\"outlinewidth\":0,\"ticks\":\"\"}}],\"scatter\":[{\"fillpattern\":{\"fillmode\":\"overlay\",\"size\":10,\"solidity\":0.2},\"type\":\"scatter\"}],\"parcoords\":[{\"type\":\"parcoords\",\"line\":{\"colorbar\":{\"outlinewidth\":0,\"ticks\":\"\"}}}],\"scatterpolargl\":[{\"type\":\"scatterpolargl\",\"marker\":{\"colorbar\":{\"outlinewidth\":0,\"ticks\":\"\"}}}],\"bar\":[{\"error_x\":{\"color\":\"#2a3f5f\"},\"error_y\":{\"color\":\"#2a3f5f\"},\"marker\":{\"line\":{\"color\":\"#E5ECF6\",\"width\":0.5},\"pattern\":{\"fillmode\":\"overlay\",\"size\":10,\"solidity\":0.2}},\"type\":\"bar\"}],\"scattergeo\":[{\"type\":\"scattergeo\",\"marker\":{\"colorbar\":{\"outlinewidth\":0,\"ticks\":\"\"}}}],\"scatterpolar\":[{\"type\":\"scatterpolar\",\"marker\":{\"colorbar\":{\"outlinewidth\":0,\"ticks\":\"\"}}}],\"histogram\":[{\"marker\":{\"pattern\":{\"fillmode\":\"overlay\",\"size\":10,\"solidity\":0.2}},\"type\":\"histogram\"}],\"scattergl\":[{\"type\":\"scattergl\",\"marker\":{\"colorbar\":{\"outlinewidth\":0,\"ticks\":\"\"}}}],\"scatter3d\":[{\"type\":\"scatter3d\",\"line\":{\"colorbar\":{\"outlinewidth\":0,\"ticks\":\"\"}},\"marker\":{\"colorbar\":{\"outlinewidth\":0,\"ticks\":\"\"}}}],\"scattermapbox\":[{\"type\":\"scattermapbox\",\"marker\":{\"colorbar\":{\"outlinewidth\":0,\"ticks\":\"\"}}}],\"scatterternary\":[{\"type\":\"scatterternary\",\"marker\":{\"colorbar\":{\"outlinewidth\":0,\"ticks\":\"\"}}}],\"scattercarpet\":[{\"type\":\"scattercarpet\",\"marker\":{\"colorbar\":{\"outlinewidth\":0,\"ticks\":\"\"}}}],\"carpet\":[{\"aaxis\":{\"endlinecolor\":\"#2a3f5f\",\"gridcolor\":\"white\",\"linecolor\":\"white\",\"minorgridcolor\":\"white\",\"startlinecolor\":\"#2a3f5f\"},\"baxis\":{\"endlinecolor\":\"#2a3f5f\",\"gridcolor\":\"white\",\"linecolor\":\"white\",\"minorgridcolor\":\"white\",\"startlinecolor\":\"#2a3f5f\"},\"type\":\"carpet\"}],\"table\":[{\"cells\":{\"fill\":{\"color\":\"#EBF0F8\"},\"line\":{\"color\":\"white\"}},\"header\":{\"fill\":{\"color\":\"#C8D4E3\"},\"line\":{\"color\":\"white\"}},\"type\":\"table\"}],\"barpolar\":[{\"marker\":{\"line\":{\"color\":\"#E5ECF6\",\"width\":0.5},\"pattern\":{\"fillmode\":\"overlay\",\"size\":10,\"solidity\":0.2}},\"type\":\"barpolar\"}],\"pie\":[{\"automargin\":true,\"type\":\"pie\"}]},\"layout\":{\"autotypenumbers\":\"strict\",\"colorway\":[\"#636efa\",\"#EF553B\",\"#00cc96\",\"#ab63fa\",\"#FFA15A\",\"#19d3f3\",\"#FF6692\",\"#B6E880\",\"#FF97FF\",\"#FECB52\"],\"font\":{\"color\":\"#2a3f5f\"},\"hovermode\":\"closest\",\"hoverlabel\":{\"align\":\"left\"},\"paper_bgcolor\":\"white\",\"plot_bgcolor\":\"#E5ECF6\",\"polar\":{\"bgcolor\":\"#E5ECF6\",\"angularaxis\":{\"gridcolor\":\"white\",\"linecolor\":\"white\",\"ticks\":\"\"},\"radialaxis\":{\"gridcolor\":\"white\",\"linecolor\":\"white\",\"ticks\":\"\"}},\"ternary\":{\"bgcolor\":\"#E5ECF6\",\"aaxis\":{\"gridcolor\":\"white\",\"linecolor\":\"white\",\"ticks\":\"\"},\"baxis\":{\"gridcolor\":\"white\",\"linecolor\":\"white\",\"ticks\":\"\"},\"caxis\":{\"gridcolor\":\"white\",\"linecolor\":\"white\",\"ticks\":\"\"}},\"coloraxis\":{\"colorbar\":{\"outlinewidth\":0,\"ticks\":\"\"}},\"colorscale\":{\"sequential\":[[0.0,\"#0d0887\"],[0.1111111111111111,\"#46039f\"],[0.2222222222222222,\"#7201a8\"],[0.3333333333333333,\"#9c179e\"],[0.4444444444444444,\"#bd3786\"],[0.5555555555555556,\"#d8576b\"],[0.6666666666666666,\"#ed7953\"],[0.7777777777777778,\"#fb9f3a\"],[0.8888888888888888,\"#fdca26\"],[1.0,\"#f0f921\"]],\"sequentialminus\":[[0.0,\"#0d0887\"],[0.1111111111111111,\"#46039f\"],[0.2222222222222222,\"#7201a8\"],[0.3333333333333333,\"#9c179e\"],[0.4444444444444444,\"#bd3786\"],[0.5555555555555556,\"#d8576b\"],[0.6666666666666666,\"#ed7953\"],[0.7777777777777778,\"#fb9f3a\"],[0.8888888888888888,\"#fdca26\"],[1.0,\"#f0f921\"]],\"diverging\":[[0,\"#8e0152\"],[0.1,\"#c51b7d\"],[0.2,\"#de77ae\"],[0.3,\"#f1b6da\"],[0.4,\"#fde0ef\"],[0.5,\"#f7f7f7\"],[0.6,\"#e6f5d0\"],[0.7,\"#b8e186\"],[0.8,\"#7fbc41\"],[0.9,\"#4d9221\"],[1,\"#276419\"]]},\"xaxis\":{\"gridcolor\":\"white\",\"linecolor\":\"white\",\"ticks\":\"\",\"title\":{\"standoff\":15},\"zerolinecolor\":\"white\",\"automargin\":true,\"zerolinewidth\":2},\"yaxis\":{\"gridcolor\":\"white\",\"linecolor\":\"white\",\"ticks\":\"\",\"title\":{\"standoff\":15},\"zerolinecolor\":\"white\",\"automargin\":true,\"zerolinewidth\":2},\"scene\":{\"xaxis\":{\"backgroundcolor\":\"#E5ECF6\",\"gridcolor\":\"white\",\"linecolor\":\"white\",\"showbackground\":true,\"ticks\":\"\",\"zerolinecolor\":\"white\",\"gridwidth\":2},\"yaxis\":{\"backgroundcolor\":\"#E5ECF6\",\"gridcolor\":\"white\",\"linecolor\":\"white\",\"showbackground\":true,\"ticks\":\"\",\"zerolinecolor\":\"white\",\"gridwidth\":2},\"zaxis\":{\"backgroundcolor\":\"#E5ECF6\",\"gridcolor\":\"white\",\"linecolor\":\"white\",\"showbackground\":true,\"ticks\":\"\",\"zerolinecolor\":\"white\",\"gridwidth\":2}},\"shapedefaults\":{\"line\":{\"color\":\"#2a3f5f\"}},\"annotationdefaults\":{\"arrowcolor\":\"#2a3f5f\",\"arrowhead\":0,\"arrowwidth\":1},\"geo\":{\"bgcolor\":\"white\",\"landcolor\":\"#E5ECF6\",\"subunitcolor\":\"white\",\"showland\":true,\"showlakes\":true,\"lakecolor\":\"white\"},\"title\":{\"x\":0.05},\"mapbox\":{\"style\":\"light\"}}},\"xaxis\":{\"anchor\":\"y\",\"domain\":[0.0,1.0],\"title\":{\"text\":\"t\"}},\"yaxis\":{\"anchor\":\"x\",\"domain\":[0.0,1.0],\"title\":{\"text\":\"value\"}},\"legend\":{\"title\":{\"text\":\"data_type\"},\"tracegroupgap\":0},\"margin\":{\"t\":60},\"shapes\":[{\"line\":{\"color\":\"black\",\"dash\":\"dash\",\"width\":2},\"opacity\":0.7,\"type\":\"line\",\"x0\":38,\"x1\":38,\"xref\":\"x\",\"y0\":0,\"y1\":1,\"yref\":\"y domain\"}],\"annotations\":[{\"showarrow\":false,\"text\":\"A/A period start\",\"x\":38,\"xanchor\":\"right\",\"xref\":\"x\",\"y\":1,\"yanchor\":\"top\",\"yref\":\"y domain\"}]},                        {\"responsive\": true}                    ).then(function(){\n",
       "                            \n",
       "var gd = document.getElementById('8ae25707-13cf-4cc1-9e30-e43958366f33');\n",
       "var x = new MutationObserver(function (mutations, observer) {{\n",
       "        var display = window.getComputedStyle(gd).display;\n",
       "        if (!display || display === 'none') {{\n",
       "            console.log([gd, 'removed!']);\n",
       "            Plotly.purge(gd);\n",
       "            observer.disconnect();\n",
       "        }}\n",
       "}});\n",
       "\n",
       "// Listen for the removal of the full notebook cells\n",
       "var notebookContainer = gd.closest('#notebook-container');\n",
       "if (notebookContainer) {{\n",
       "    x.observe(notebookContainer, {childList: true});\n",
       "}}\n",
       "\n",
       "// Listen for the clearing of the current output cell\n",
       "var outputEl = gd.closest('.output');\n",
       "if (outputEl) {{\n",
       "    x.observe(outputEl, {childList: true});\n",
       "}}\n",
       "\n",
       "                        })                };                });            </script>        </div>"
      ]
     },
     "metadata": {},
     "output_type": "display_data"
    }
   ],
   "source": [
    "df_revenue_forecast = forecast_for_ab(df_prepilot, df_pilot, mtr = 'value')"
   ]
  },
  {
   "cell_type": "code",
   "execution_count": null,
   "metadata": {},
   "outputs": [],
   "source": []
  }
 ],
 "metadata": {
  "kernelspec": {
   "display_name": "Python 3",
   "language": "python",
   "name": "python3"
  },
  "language_info": {
   "codemirror_mode": {
    "name": "ipython",
    "version": 3
   },
   "file_extension": ".py",
   "mimetype": "text/x-python",
   "name": "python",
   "nbconvert_exporter": "python",
   "pygments_lexer": "ipython3",
   "version": "3.6.9"
  }
 },
 "nbformat": 4,
 "nbformat_minor": 4
}
