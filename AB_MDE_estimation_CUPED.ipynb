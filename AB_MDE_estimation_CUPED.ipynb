{
 "cells": [
  {
   "cell_type": "markdown",
   "id": "be5f5c63",
   "metadata": {
    "toc": true
   },
   "source": [
    "<h1>Table of Contents<span class=\"tocSkip\"></span></h1>\n",
    "<div class=\"toc\"><ul class=\"toc-item\"><li><span><a href=\"#Imports\" data-toc-modified-id=\"Imports-1\"><span class=\"toc-item-num\">1&nbsp;&nbsp;</span>Imports</a></span></li><li><span><a href=\"#Funcs\" data-toc-modified-id=\"Funcs-2\"><span class=\"toc-item-num\">2&nbsp;&nbsp;</span>Funcs</a></span></li><li><span><a href=\"#Сбор-данных\" data-toc-modified-id=\"Сбор-данных-3\"><span class=\"toc-item-num\">3&nbsp;&nbsp;</span>Сбор данных</a></span></li><li><span><a href=\"#Оценка-MDE/мощности/traffic-size-average-метрик-на-примере-GMV-per-user-с-CUPED\" data-toc-modified-id=\"Оценка-MDE/мощности/traffic-size-average-метрик-на-примере-GMV-per-user-с-CUPED-4\"><span class=\"toc-item-num\">4&nbsp;&nbsp;</span>Оценка MDE/мощности/traffic size average метрик на примере GMV per user с CUPED</a></span><ul class=\"toc-item\"><li><span><a href=\"#Если-в-эксперименте-вы-будете-использовать-не-весь-траффик,-а-только-x%-от-всего,-то-нужно-выделить-подвыборку-соответствующего-размера\" data-toc-modified-id=\"Если-в-эксперименте-вы-будете-использовать-не-весь-траффик,-а-только-x%-от-всего,-то-нужно-выделить-подвыборку-соответствующего-размера-4.1\"><span class=\"toc-item-num\">4.1&nbsp;&nbsp;</span>Если в эксперименте вы будете использовать не весь траффик, а только x% от всего, то нужно выделить подвыборку соответствующего размера</a></span></li><li><span><a href=\"#Применим-CUPED\" data-toc-modified-id=\"Применим-CUPED-4.2\"><span class=\"toc-item-num\">4.2&nbsp;&nbsp;</span>Применим CUPED</a></span></li><li><span><a href=\"#Выделим-первую-группу\" data-toc-modified-id=\"Выделим-первую-группу-4.3\"><span class=\"toc-item-num\">4.3&nbsp;&nbsp;</span>Выделим первую группу</a></span></li><li><span><a href=\"#sd-и-sample-estimate\" data-toc-modified-id=\"sd-и-sample-estimate-4.4\"><span class=\"toc-item-num\">4.4&nbsp;&nbsp;</span>sd и sample estimate</a></span></li><li><span><a href=\"#Оценим-MDE-на-данной-выборке\" data-toc-modified-id=\"Оценим-MDE-на-данной-выборке-4.5\"><span class=\"toc-item-num\">4.5&nbsp;&nbsp;</span>Оценим MDE на данной выборке</a></span></li><li><span><a href=\"#Оценим-мощность-для-фиксированного-эффекта\" data-toc-modified-id=\"Оценим-мощность-для-фиксированного-эффекта-4.6\"><span class=\"toc-item-num\">4.6&nbsp;&nbsp;</span>Оценим мощность для фиксированного эффекта</a></span></li><li><span><a href=\"#Оценим-необходимое-количество-наблюдений-для-фиксации-заданного-эффекта-на-заданной-alpha-с-заданной-мощностью\" data-toc-modified-id=\"Оценим-необходимое-количество-наблюдений-для-фиксации-заданного-эффекта-на-заданной-alpha-с-заданной-мощностью-4.7\"><span class=\"toc-item-num\">4.7&nbsp;&nbsp;</span>Оценим необходимое количество наблюдений для фиксации заданного эффекта на заданной alpha с заданной мощностью</a></span></li></ul></li></ul></div>"
   ]
  },
  {
   "cell_type": "markdown",
   "id": "9e155a45",
   "metadata": {},
   "source": [
    "## Imports"
   ]
  },
  {
   "cell_type": "code",
   "execution_count": 1,
   "id": "7e89670d",
   "metadata": {},
   "outputs": [],
   "source": [
    "import os\n",
    "import pathlib\n",
    "\n",
    "import numpy as np\n",
    "import pandas as pd\n",
    "import sqlalchemy as sa\n",
    "import statsmodels.api as sm\n",
    "import statsmodels.stats.api as sms\n",
    "from dotenv import dotenv_values\n",
    "from scipy.stats import ttest_ind\n",
    "from statsmodels.stats.power import tt_ind_solve_power\n",
    "from tqdm import tqdm\n",
    "from datetime import datetime, timedelta"
   ]
  },
  {
   "cell_type": "code",
   "execution_count": 2,
   "id": "5485ea86",
   "metadata": {},
   "outputs": [],
   "source": [
    "os.environ[\"OMP_NUM_THREADS\"] = \"8\"\n",
    "os.environ[\"MKL_NUM_THREADS\"] = \"8\"\n",
    "os.environ[\"OPENBLAS_NUM_THREADS\"] = \"8\""
   ]
  },
  {
   "cell_type": "code",
   "execution_count": 3,
   "id": "7ee7c3cf-7686-4d61-a61a-19fb52503c72",
   "metadata": {},
   "outputs": [],
   "source": [
    "config = dotenv_values(\"/home/jovyan/.env\") \n",
    "\n",
    "def get_query_clickhouse(q: str) -> pd.DataFrame:\n",
    "    \"\"\"\n",
    "    Function to import credentials and run query\n",
    "    \"\"\"\n",
    "    ch_host = config['CH_HOST']\n",
    "    ch_cert = config['CH_CERT']\n",
    "    ch_port = config['CH_PORT']\n",
    "    ch_db   = config['CH_READ_DB']\n",
    "    ch_user = config['CH_READ_USER']\n",
    "    ch_pass = config['CH_READ_PASS']\n",
    "    \n",
    "    engine = sa.create_engine(\n",
    "        f\"clickhouse+native://{ch_user}:\"\n",
    "        f\"{ch_pass}@{ch_host}:\"\n",
    "        f\"{ch_port}/{ch_db}?secure=True\"\n",
    "    )\n",
    "    return pd.read_sql_query(q, con=engine)"
   ]
  },
  {
   "cell_type": "code",
   "execution_count": 4,
   "id": "d0eb4e00-3bf0-4feb-af1a-1729d87fa45b",
   "metadata": {},
   "outputs": [],
   "source": [
    "metrics_data_table = \"cdm.ab__metrics_data\"\n",
    "platform = 'ios'\n",
    "alpha = 0.05 # alpha, для которой считаем MDE\n",
    "power = 0.8 # мощность, для которой считаем MDE\n",
    "test_fraction = 0.5 # Тест-контроль 50 на 50"
   ]
  },
  {
   "cell_type": "markdown",
   "id": "a5236282",
   "metadata": {},
   "source": [
    "## Funcs"
   ]
  },
  {
   "cell_type": "code",
   "execution_count": 5,
   "id": "c498e2cf",
   "metadata": {},
   "outputs": [],
   "source": [
    "def collect_data(start_date: datetime.date, end_date: datetime.date,\n",
    "                 metrics_data_table: str, platform: str) -> pd.DataFrame:\n",
    "    q = f\"\"\"\n",
    "        select \n",
    "            anonymous_id, \n",
    "            orders,\n",
    "            gmv_per_user\n",
    "        from \n",
    "            {metrics_data_table}\n",
    "        where \n",
    "        toDate(date_msk) between toDate('{start_date}') and toDate('{end_date}')  \n",
    "        and platform='{platform}'\n",
    "        \"\"\"\n",
    "    return get_query_clickhouse(q)"
   ]
  },
  {
   "cell_type": "markdown",
   "id": "b28dc286",
   "metadata": {},
   "source": [
    "## Сбор данных"
   ]
  },
  {
   "cell_type": "code",
   "execution_count": 6,
   "id": "6855e7bf",
   "metadata": {},
   "outputs": [
    {
     "name": "stdout",
     "output_type": "stream",
     "text": [
      "CPU times: user 13.9 s, sys: 1.96 s, total: 15.9 s\n",
      "Wall time: 16.2 s\n"
     ]
    }
   ],
   "source": [
    "%%time\n",
    "# соберем экспериментальные данные\n",
    "exp_start_date = \"2023-11-29\"\n",
    "exp_end_date = \"2023-12-12\"\n",
    "\n",
    "exp_ios_data = collect_data(exp_start_date, exp_end_date, metrics_data_table, platform)"
   ]
  },
  {
   "cell_type": "code",
   "execution_count": 7,
   "id": "cab456e0",
   "metadata": {},
   "outputs": [
    {
     "name": "stdout",
     "output_type": "stream",
     "text": [
      "CPU times: user 10.7 s, sys: 3.05 s, total: 13.8 s\n",
      "Wall time: 14.2 s\n"
     ]
    }
   ],
   "source": [
    "%%time\n",
    "# соберем исторические данные (за ту же длительность)\n",
    "obs_start_date = \"2023-11-15\"\n",
    "obs_end_date = \"2023-11-28\"\n",
    "\n",
    "obs_ios_data = collect_data(obs_start_date, obs_end_date, metrics_data_table, platform)"
   ]
  },
  {
   "cell_type": "code",
   "execution_count": 8,
   "id": "5c3b2f93",
   "metadata": {},
   "outputs": [],
   "source": [
    "obs_ios_data = obs_ios_data.groupby(\"anonymous_id\").sum().reset_index()\n",
    "exp_ios_data = exp_ios_data.groupby(\"anonymous_id\").sum().reset_index()"
   ]
  },
  {
   "cell_type": "markdown",
   "id": "94a599d5",
   "metadata": {},
   "source": [
    "## Оценка MDE/мощности/traffic size average метрик на примере GMV per user с CUPED"
   ]
  },
  {
   "cell_type": "code",
   "execution_count": 9,
   "id": "b7d1f200",
   "metadata": {},
   "outputs": [],
   "source": [
    "exp_gmv_data = exp_ios_data.copy()\n",
    "obs_gmv_data = obs_ios_data.rename({\"gmv_per_user\": \"CUPED_X\"}, axis=1)"
   ]
  },
  {
   "cell_type": "markdown",
   "id": "20ec767c",
   "metadata": {},
   "source": [
    "### Если в эксперименте вы будете использовать не весь траффик, а только x% от всего, то нужно выделить подвыборку соответствующего размера"
   ]
  },
  {
   "cell_type": "code",
   "execution_count": 10,
   "id": "3cf775ea",
   "metadata": {},
   "outputs": [],
   "source": [
    "# для 50% трафика нужно раскомментить :)\n",
    "# gmv_data = gmv_data.sample(frac=0.5)"
   ]
  },
  {
   "cell_type": "markdown",
   "id": "3a7dc345",
   "metadata": {},
   "source": [
    "### Применим CUPED"
   ]
  },
  {
   "cell_type": "code",
   "execution_count": 11,
   "id": "095efb54",
   "metadata": {},
   "outputs": [],
   "source": [
    "# объединим экспериментальные и исторические данные в один датасет\n",
    "gmv_data = exp_gmv_data.merge(obs_gmv_data[[\"anonymous_id\", \"CUPED_X\"]], how=\"left\", on=\"anonymous_id\")"
   ]
  },
  {
   "cell_type": "code",
   "execution_count": 12,
   "id": "31df83be",
   "metadata": {},
   "outputs": [
    {
     "name": "stdout",
     "output_type": "stream",
     "text": [
      "Пользователей без истории 37.5723%\n"
     ]
    }
   ],
   "source": [
    "# обработаем юзеров без истории\n",
    "gmv_data[\"missing_CUPED\"] = 0\n",
    "gmv_data.loc[gmv_data[\"CUPED_X\"].isna(), \"missing_CUPED\"] = 1\n",
    "gmv_data = gmv_data.fillna(0)\n",
    "print(f\"Пользователей без истории {gmv_data.missing_CUPED.mean():.4%}\")"
   ]
  },
  {
   "cell_type": "code",
   "execution_count": 13,
   "id": "c02b6fa3",
   "metadata": {},
   "outputs": [],
   "source": [
    "# в соответствие с процедурой CUPED'a случайным образом выделим тестовую и контрольную группы\n",
    "gmv_data[\"treatment\"] = np.random.choice([0,1], size=gmv_data.shape[0])"
   ]
  },
  {
   "cell_type": "code",
   "execution_count": 14,
   "id": "7f22abbe",
   "metadata": {},
   "outputs": [],
   "source": [
    "# применим CUPED, получив по итогу пост-cuped метрику CUPED_GMV\n",
    "y_control = gmv_data.query(\"treatment==0\")[\"gmv_per_user\"]\n",
    "X_cov_control = gmv_data.query(\"treatment==0\")[[\"CUPED_X\", \"missing_CUPED\"]]\n",
    "y_hat = sm.OLS(y_control, X_cov_control).fit().predict(gmv_data[[\"CUPED_X\", \"missing_CUPED\"]])\n",
    "gmv_data[\"CUPED_GMV\"] = gmv_data[\"gmv_per_user\"] - y_hat"
   ]
  },
  {
   "cell_type": "code",
   "execution_count": 15,
   "id": "039b7af1",
   "metadata": {},
   "outputs": [
    {
     "name": "stdout",
     "output_type": "stream",
     "text": [
      "\n",
      "Исходная дисперсия = 5342.2058\n",
      "Дисперсия после cuped = 4056.955\n",
      "Уменьшение на 24.058%\n"
     ]
    }
   ],
   "source": [
    "# зафиксируем снижение дисперсии\n",
    "print(f\"\"\"\n",
    "Исходная дисперсия = {gmv_data.gmv_per_user.std():.8}\n",
    "Дисперсия после cuped = {gmv_data.CUPED_GMV.std():.8}\n",
    "Уменьшение на {1-gmv_data.CUPED_GMV.std()/gmv_data.gmv_per_user.std():.3%}\"\"\")"
   ]
  },
  {
   "cell_type": "markdown",
   "id": "f43bcdf3",
   "metadata": {},
   "source": [
    "### Выделим первую группу\n",
    " assumption: тест и контроль делятся 50/50"
   ]
  },
  {
   "cell_type": "code",
   "execution_count": 16,
   "id": "d0f15a3c",
   "metadata": {},
   "outputs": [],
   "source": [
    "gmv_test_observations = gmv_data.sample(frac=test_fraction)"
   ]
  },
  {
   "cell_type": "markdown",
   "id": "92bf5954",
   "metadata": {},
   "source": [
    "### sd и sample estimate\n",
    "Заметим, что est_gmv мы оцениваем по метрики без CUPED. Это делается так, поскольку est_gmv мы используем только для получения размера эффекта, а CUPED не изменяет размер эффекта."
   ]
  },
  {
   "cell_type": "code",
   "execution_count": 17,
   "id": "608eae67",
   "metadata": {},
   "outputs": [],
   "source": [
    "sd_gmv = gmv_test_observations.CUPED_GMV.std() # считаем по метрике CUPED_GMV\n",
    "est_gmv = gmv_test_observations.gmv_per_user.mean() # считаем по дефолтной метрике, потому что размер эффекта не изменится"
   ]
  },
  {
   "cell_type": "code",
   "execution_count": 18,
   "id": "36eeeecd",
   "metadata": {},
   "outputs": [
    {
     "data": {
      "text/plain": [
       "(4054.115726716741, 2036.2528089426496)"
      ]
     },
     "execution_count": 18,
     "metadata": {},
     "output_type": "execute_result"
    }
   ],
   "source": [
    "sd_gmv, est_gmv"
   ]
  },
  {
   "cell_type": "markdown",
   "id": "24233cb0",
   "metadata": {},
   "source": [
    "### Оценим MDE на данной выборке"
   ]
  },
  {
   "cell_type": "code",
   "execution_count": 19,
   "id": "e945f67a",
   "metadata": {},
   "outputs": [],
   "source": [
    "ratio = (1-test_fraction) / (test_fraction) # пропорция контроль/тест\n",
    "nobs_test = gmv_test_observations.shape[0] # количество наблюдений (юзеров) в тесте"
   ]
  },
  {
   "cell_type": "code",
   "execution_count": 20,
   "id": "05ebf35e",
   "metadata": {},
   "outputs": [],
   "source": [
    "effect_size_gmv = tt_ind_solve_power(power=power, nobs1=nobs_test, alpha=alpha, ratio=ratio)"
   ]
  },
  {
   "cell_type": "code",
   "execution_count": 21,
   "id": "92cb7711",
   "metadata": {},
   "outputs": [],
   "source": [
    "# eff_size = mde_lift * est_gmv / sd_gmv"
   ]
  },
  {
   "cell_type": "code",
   "execution_count": 22,
   "id": "293697f6",
   "metadata": {},
   "outputs": [],
   "source": [
    "mde_gmv = effect_size_gmv * sd_gmv/est_gmv"
   ]
  },
  {
   "cell_type": "code",
   "execution_count": 23,
   "id": "695bf96a",
   "metadata": {},
   "outputs": [
    {
     "name": "stdout",
     "output_type": "stream",
     "text": [
      "MDE в % равно 1.00006719%\n"
     ]
    }
   ],
   "source": [
    "# в процентах\n",
    "print(f\"MDE в % равно {mde_gmv:.8%}\")"
   ]
  },
  {
   "cell_type": "code",
   "execution_count": 24,
   "id": "2453df9b",
   "metadata": {},
   "outputs": [
    {
     "name": "stdout",
     "output_type": "stream",
     "text": [
      "MDE в абсолютных значениях равно 20.363896\n"
     ]
    }
   ],
   "source": [
    "# в абсолютных значениях\n",
    "print(f\"MDE в абсолютных значениях равно {mde_gmv*est_gmv:.8}\")"
   ]
  },
  {
   "cell_type": "markdown",
   "id": "613ffa9b",
   "metadata": {},
   "source": [
    "### Оценим мощность для фиксированного эффекта"
   ]
  },
  {
   "cell_type": "code",
   "execution_count": 25,
   "id": "093edee7",
   "metadata": {},
   "outputs": [],
   "source": [
    "ratio = (1-test_fraction) / (test_fraction) # пропорция контроль/тест\n",
    "lift_gmv = 0.0075 # размер эффекта в %, для которого оцениваем мощность\n",
    "nobs_test = gmv_test_observations.shape[0] # количество наблюдений (юзеров) в тесте"
   ]
  },
  {
   "cell_type": "code",
   "execution_count": 26,
   "id": "9ef82aae",
   "metadata": {},
   "outputs": [],
   "source": [
    "eff_size_gmv = lift_gmv * est_gmv/sd_gmv"
   ]
  },
  {
   "cell_type": "code",
   "execution_count": 27,
   "id": "5316b292",
   "metadata": {},
   "outputs": [],
   "source": [
    "power_gmv = tt_ind_solve_power(effect_size=eff_size_gmv, nobs1=nobs_test, alpha=alpha, ratio=ratio)"
   ]
  },
  {
   "cell_type": "code",
   "execution_count": 28,
   "id": "77a9a4c3",
   "metadata": {},
   "outputs": [
    {
     "name": "stdout",
     "output_type": "stream",
     "text": [
      "Мощность теста для эффекта в 0.7500% равна 0.556153\n"
     ]
    }
   ],
   "source": [
    "# мощность для эффекта в 0.75% (lift_aov)\n",
    "print(f\"Мощность теста для эффекта в {lift_gmv:.4%} равна {power_gmv:.6}\")"
   ]
  },
  {
   "cell_type": "markdown",
   "id": "c3579613",
   "metadata": {},
   "source": [
    "### Оценим необходимое количество наблюдений для фиксации заданного эффекта на заданной alpha с заданной мощностью"
   ]
  },
  {
   "cell_type": "code",
   "execution_count": 29,
   "id": "92559a4b",
   "metadata": {},
   "outputs": [],
   "source": [
    "eff_size_gmv = lift_gmv * est_gmv/sd_gmv"
   ]
  },
  {
   "cell_type": "code",
   "execution_count": 30,
   "id": "0206b32d",
   "metadata": {},
   "outputs": [],
   "source": [
    "nobs_gmv_test = tt_ind_solve_power(effect_size=eff_size_gmv, power=power, alpha=alpha, ratio=ratio)"
   ]
  },
  {
   "cell_type": "code",
   "execution_count": 31,
   "id": "d19bf384",
   "metadata": {},
   "outputs": [],
   "source": [
    "# ratio = nobs_control/nobs_test\n",
    "nobs_gmv_control = nobs_gmv_test*ratio"
   ]
  },
  {
   "cell_type": "code",
   "execution_count": 32,
   "id": "d97bc55c",
   "metadata": {},
   "outputs": [
    {
     "name": "stdout",
     "output_type": "stream",
     "text": [
      "\n",
      "Всего необходимо наблюдений: 2,212,449.4\n",
      "Наблюдений в тестовой группе: 1,106,224.7\n",
      "Наблюдений в контрольной группе: 1,106,224.7\n"
     ]
    }
   ],
   "source": [
    "# всего нужно наблюдений, наблюдений в тестовой группе, в контрольной\n",
    "print(f\"\"\"\n",
    "Всего необходимо наблюдений: {round(nobs_gmv_control + nobs_gmv_test, 1):,}\n",
    "Наблюдений в тестовой группе: {round(nobs_gmv_test, 1):,}\n",
    "Наблюдений в контрольной группе: {round(nobs_gmv_control, 1):,}\"\"\")"
   ]
  },
  {
   "cell_type": "code",
   "execution_count": null,
   "id": "51815a68-d0d9-4028-a35b-a122582bed42",
   "metadata": {},
   "outputs": [],
   "source": []
  }
 ],
 "metadata": {
  "kernelspec": {
   "display_name": "abpl",
   "language": "python",
   "name": "abpl"
  },
  "language_info": {
   "codemirror_mode": {
    "name": "ipython",
    "version": 3
   },
   "file_extension": ".py",
   "mimetype": "text/x-python",
   "name": "python",
   "nbconvert_exporter": "python",
   "pygments_lexer": "ipython3",
   "version": "3.8.10"
  },
  "toc": {
   "base_numbering": 1,
   "nav_menu": {},
   "number_sections": true,
   "sideBar": true,
   "skip_h1_title": false,
   "title_cell": "Table of Contents",
   "title_sidebar": "Contents",
   "toc_cell": true,
   "toc_position": {},
   "toc_section_display": true,
   "toc_window_display": false
  }
 },
 "nbformat": 4,
 "nbformat_minor": 5
}
